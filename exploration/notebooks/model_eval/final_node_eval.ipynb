{
 "cells": [
  {
   "cell_type": "markdown",
   "metadata": {},
   "source": [
    "# Setup"
   ]
  },
  {
   "cell_type": "code",
   "execution_count": 1,
   "metadata": {},
   "outputs": [],
   "source": [
    "import pickle\n",
    "import sys\n",
    "\n",
    "import matplotlib.pyplot as plt\n",
    "import seaborn as sns\n",
    "import numpy as np\n",
    "import pandas as pd\n",
    "import plotly.express as px\n",
    "import torch\n",
    "from sklearn.metrics import roc_auc_score\n",
    "from torch_geometric import seed_everything\n",
    "from tqdm import tqdm\n",
    "from collections import defaultdict\n",
    "\n",
    "\n",
    "sys.path.append(\"../../..\")\n",
    "from src.models import final_model, prediction_utils, training_utils\n",
    "\n",
    "data_folder = \"../../../data/processed/graph_data_nohubs/merged_types/split_dataset/\"\n",
    "feature_folder = \"../../../data/processed/feature_data/\"\n",
    "reports_folder = \"../../../reports/node_eval/final_eval/\"\n",
    "figs_folder = \"../../../reports/figs_p_tesis/\"\n",
    "models_folder = \"../../../models/final_model/\"\n",
    "\n",
    "seed = 4\n",
    "seed_everything(4)\n",
    "sns.set_theme()\n",
    "sns.set_context(\"paper\")\n",
    "\n",
    "prediction_mode = False"
   ]
  },
  {
   "cell_type": "markdown",
   "metadata": {},
   "source": [
    "Cargo los datos y pesos del modelo, genero los encodings para hacer predicciones"
   ]
  },
  {
   "cell_type": "code",
   "execution_count": 222,
   "metadata": {},
   "outputs": [],
   "source": [
    "node_df = pd.read_csv(data_folder + f\"seed_{seed}/tensor_df.csv\", index_col=0).set_index(\"node_index\", drop=True)\n",
    "dataset, node_map = training_utils.load_data(data_folder + f\"seed_{seed}/\", load_test=True)\n",
    "test_data = dataset[2]\n",
    "\n",
    "# Armo los dataframes con la referencia de qué enlaces se usaron para propagar\n",
    "mapped_dataset = prediction_utils.MappedDataset(test_data, node_map, (\"gene_protein\", \"gda\", \"disease\"))\n",
    "mapped_df = mapped_dataset.dataframe\n",
    "mapped_df = mapped_df.rename(columns={x: x.replace(\"_source\", \"\").replace(\"_target\", \"\") for x in mapped_df.columns})\n",
    "\n",
    "#si solo voy a cargar los resultados no necesito ocupar memoria con esto\n",
    "if prediction_mode:\n",
    "# load data\n",
    "    with open(f\"{models_folder}training_parameters.pickle\", \"rb\") as handle:\n",
    "        params = pickle.load(handle)\n",
    "\n",
    "    # initialize features in test data\n",
    "    test_data = training_utils.initialize_features(test_data, params[\"feature_type\"], params[\"feature_dim\"], feature_folder)\n",
    "\n",
    "    # load model\n",
    "    weights_path = models_folder + f\"seeds/final_model_{seed}.pth\"\n",
    "    weights = torch.load(weights_path)\n",
    "    model = final_model.Model(test_data.metadata(), [(\"gene_protein\", \"gda\", \"disease\")])\n",
    "    model.load_state_dict(weights)\n",
    "\n",
    "    encodings_dict = training_utils.get_encodings(model, test_data)\n",
    "    predictor = prediction_utils.Predictor(node_df, encodings_dict)\n",
    "else:\n",
    "    disease_rank_info = pd.read_csv(reports_folder+\"rank_info.csv\",index_col=0)\n",
    "    disease_rank_results = pd.read_csv(reports_folder+\"rank_results.csv\",index_col=0)\n",
    "    hitrate_df = pd.read_csv(reports_folder+\"hitrate_results.csv\",index_col=0)\n",
    "    hitrate_df.columns = hitrate_df.columns.map(int)\n",
    "    gene_mrr_df = pd.read_csv(reports_folder+\"gene_mrr.csv\",index_col=0)\n",
    "    \n",
    "\n",
    "\n",
    "diseases = node_df[(node_df.node_type == \"disease\")&(node_df.node_source == \"disgenet\")]\n",
    "genes = node_df[(node_df.node_type == \"gene_protein\")&(node_df.node_source != \"signor\")].index.values"
   ]
  },
  {
   "cell_type": "markdown",
   "metadata": {},
   "source": [
    "Separo en enlaces vistos y no vistos. Los enlaces vistos son los que el modelo ya usó en train-val, ya sea como enlaces de propagación o como supervisión. Los no vistos son los enlaces de supervisión que quedaron en el conjunto de test (para este análisis solo me interesan los de etiqueta positiva).\n",
    "\n",
    "Para simplificar, aprovecho que todos los enlaces de propagación y supervisión de train-val, pasan a ser enlaces de propagación de test. Esto es por el tipo de split que usé (transductivo)"
   ]
  },
  {
   "cell_type": "code",
   "execution_count": 3,
   "metadata": {},
   "outputs": [],
   "source": [
    "seen_edges = mapped_df[(mapped_df.edge_type == \"message_passing\")][[\"gene_protein\",\"disease\"]]\n",
    "new_edges = mapped_df[(mapped_df.edge_type == \"supervision\") & (mapped_df.label == 1) ][[\"gene_protein\",\"disease\"]]"
   ]
  },
  {
   "cell_type": "markdown",
   "metadata": {},
   "source": [
    "Cargo los enlaces de la sub-red de enfermedades, porque quiero ver el grado d-d que tienen algunos nodos al evaluar. No puedo verlo directamente del grafo original porque al hacer el split se dividen también los enlaces d-d y el grado que tienen para propagar puede ser diferente."
   ]
  },
  {
   "cell_type": "code",
   "execution_count": 4,
   "metadata": {},
   "outputs": [],
   "source": [
    "disgenet_edges = mapped_df[(mapped_df.edge_type == \"message_passing\") | (mapped_df.label == 1)]\n",
    "mapped_dd = prediction_utils.MappedDataset(test_data,node_map,(\"disease\",\"disease_disease\",\"disease\"))\n",
    "mapped_dd_df = mapped_dd.dataframe\n",
    "\n",
    "diseases_in_dd_propagation = list(set(mapped_dd_df[mapped_dd_df.edge_type == \"message_passing\"][[\"disease_source\",\"disease_target\"]].values.flatten()))\n",
    "dd_propagation_degree = pd.DataFrame(mapped_dd_df.set_index(\"disease_source\").loc[diseases_in_dd_propagation].reset_index().disease_source.value_counts()).rename(columns={\"disease_source\":\"degree_dd_prop\"})"
   ]
  },
  {
   "cell_type": "markdown",
   "metadata": {},
   "source": [
    "# Modo 1-vs-all"
   ]
  },
  {
   "cell_type": "markdown",
   "metadata": {},
   "source": [
    "Ordeno todos los genes del grafo vs una enfermedad (y viceversa para el caso gen->enf).\n",
    "Tomo todos los genes no asociados como etiquetas negativas, en lugar de solo usar las etiquetas negativas que había generado antes. Hago todas las evaluaciones y después lo separo en casos.\n",
    "\n",
    "**El problema:**\n",
    "\n",
    "Si el número de nodos es > 15000, buscar rankear cosas en el top 10 va a ser muuuuy difícil. Me estoy guíando con lo que ví en otros papers y tomando varios rangos, el rango más grande abarca aprox el 10% de los nodos disponibles para ordenar.\n",
    "\n",
    "Con los rangos que puse estamos viendo en porcentajes el top: 0.05, 0.3%, 0.5%, 1.7%, 2.8%, 5%, 8.6% .\n",
    "\n",
    "**Hit Rate vs Recall:**\n",
    "\n",
    "Como recall depende mucho de la cantidad de items para recuperar, evalue en terminos de hit rate. \n",
    "\n",
    "El problema con recall es que si, supongamos que me importan los top 10, si un nodo tiene 50 positivos, la cota superior de recall es 0.2.\n",
    "Tome k hasta 40, para calcular hit rate en ese rango, similar al paper de PGCN pero con un rango más amplio y hit rate en lugar de recall.\n",
    "\n",
    "**Influencia del grado en el ranking:**\n",
    "\n",
    "Quiero ver que tanto está molestando esto. La idea es la siguiente: en los rankings de M nodos aleatorios, un nodo de grado alto tiene 1/(num nodos) chances de aparecer. Pero en la lista completa aparece si o si! Si el modelo está priorizando demasiado los nodos de grado alto, va a molestar muchiiiisimo más en este contexto que en el otro.\n",
    "\n",
    "Para ver esto voy a tratar de medir el MRR vs grado de todos los genes para esta evaluación"
   ]
  },
  {
   "cell_type": "code",
   "execution_count": null,
   "metadata": {},
   "outputs": [],
   "source": [
    "#Separo las enfermedades que tienen datos para evaluar\n",
    "eval_diseases = new_edges.disease.unique()\n",
    "\n",
    "#registro el número de labels positivas para predecir que tenia la enfermedad, esto es para después separar en casos\n",
    "#lo ordeno según eval_diseases \n",
    "num_positive_labels = new_edges.disease.value_counts().loc[eval_diseases].values\n",
    "num_propagation_edges = np.zeros(len(eval_diseases))\n",
    "\n",
    "#registro en que puesto cae la primer asociación positiva que aparece en el ranking, esto me sirve para calcular varias métricas (incluida hit rate)\n",
    "first_positive_rank = np.zeros(len(eval_diseases))\n",
    "\n",
    "#Rangos de evaluación de AUC y top_k\n",
    "eval_rangos = [10,50,100,300,500,1000,1500,1700]\n",
    "k_rangos = 50\n",
    "\n",
    "full_auc_results = np.zeros(len(eval_diseases))\n",
    "auc_results = np.zeros((len(eval_rangos), len(eval_diseases)))\n",
    "hitrate_results = np.zeros((k_rangos, len(eval_diseases)))\n",
    "gene_reciprocal_rank = defaultdict(lambda: {'sum': 0, 'count': 0})\n",
    "\n",
    "for idx, disease in enumerate(tqdm(eval_diseases)):\n",
    "    positive_edges = new_edges.loc[(new_edges.disease == disease),\"gene_protein\"].values\n",
    "\n",
    "    #sacamos los enlaces de propagación del ranking y registro cuantos eran\n",
    "    to_remove = seen_edges[seen_edges.disease == disease].gene_protein.values\n",
    "    num_propagation_edges[idx] = len(to_remove)\n",
    "\n",
    "    #separo en casos: nodo con enlaces conocidos o nodo \"nuevo\"\n",
    "    if len(to_remove) > 0:\n",
    "        targets = node_df[(node_df.node_type == \"gene_protein\")&(node_df.node_source != \"signor\")].drop(to_remove).index.values\n",
    "        ranked_index, ranked_scores = predictor.prioritize_one_vs_all(disease,targets)\n",
    "    else:\n",
    "        targets = node_df[(node_df.node_type == \"gene_protein\")&(node_df.node_source != \"signor\")].index.values\n",
    "        ranked_index, ranked_scores = predictor.prioritize_one_vs_all(disease,targets)\n",
    "\n",
    "    # genero una mascara que dice en que indices hay un nodo positivo y registro el primer indice\n",
    "    label_array = np.in1d(ranked_index, positive_edges)\n",
    "    first_positive_index = np.nonzero(label_array)[0][0] + 1\n",
    "    first_positive_rank[idx] = first_positive_index\n",
    "\n",
    "    # Calculo el Reciprocal Rank de los genes en todas las listas\n",
    "    reciprocal_rank_dict = {gene.item(): 1/rank for rank, gene in enumerate(ranked_index, start=1)}\n",
    "\n",
    "    for gene, reciprocal_rank in reciprocal_rank_dict.items():\n",
    "        gene_reciprocal_rank[gene]['sum'] += reciprocal_rank\n",
    "        gene_reciprocal_rank[gene]['count'] += 1\n",
    "    \n",
    "    #Calculo el AUC total\n",
    "    full_auc_results[idx] = roc_auc_score(label_array,ranked_scores)\n",
    "\n",
    "    # Calculo el AUC @k para diferentes valores. Si el primer true positive es un puesto mayor a k, el AUC por definición es 0.\n",
    "    for i,k in enumerate(eval_rangos):\n",
    "        k_labels = label_array[:k]\n",
    "        k_scores = ranked_scores[:k]\n",
    "\n",
    "        #Si no entró ningun verdadero positivo a la lista el modelo funcionó mal, AUC = 0\n",
    "        if first_positive_index > k:\n",
    "            auc_results[i,idx] = 0\n",
    "        else:\n",
    "            #Si los top k son todas etiquetas positivas sklearn no puede calcular AUC. \n",
    "            #Como el modelo funcionó perfecto en este caso le ponemos AUC = 1\n",
    "            #Caso contrario, calculamos AUC como siempre\n",
    "            if all(k_labels):\n",
    "                auc_results[i,idx] = 1\n",
    "            else:\n",
    "                auc_results[i,idx] = roc_auc_score(k_labels,k_scores)\n",
    "\n",
    "    # Calculo el hitrate @ k\n",
    "    for k in range(k_rangos):\n",
    "        if first_positive_index <= k:\n",
    "            hitrate_results[k,idx] = 1\n",
    "        else:\n",
    "            hitrate_results[k,idx] = 0\n",
    "\n",
    "#Tomo el MRR de los genes que participaron\n",
    "average_reciprocal_rank = {gene: stats['sum'] / stats['count'] for gene, stats in gene_reciprocal_rank.items()}        "
   ]
  },
  {
   "cell_type": "code",
   "execution_count": null,
   "metadata": {},
   "outputs": [],
   "source": [
    "hitrate_df = pd.DataFrame(hitrate_results.T,index=eval_diseases)\n",
    "hitrate_df.to_csv(reports_folder+\"hitrate_results.csv\")\n",
    "\n",
    "gene_mrr_df = pd.DataFrame.from_dict(average_reciprocal_rank,orient=\"index\",columns=[\"MRR\"])\n",
    "gene_mrr_df.index.name = \"node_index\"\n",
    "gene_mrr_df.to_csv(reports_folder+\"gene_mrr.csv\")"
   ]
  },
  {
   "cell_type": "code",
   "execution_count": null,
   "metadata": {},
   "outputs": [],
   "source": [
    "disease_rank_info = pd.DataFrame(np.array([num_positive_labels,first_positive_rank,num_propagation_edges]).T, columns = [\"num_positive_labels\",\"first_positive_rank\",\"num_propagation_edges\"], index=eval_diseases)\n",
    "disease_rank_info = disease_rank_info.merge(node_df[[\"node_name\",\"degree_gda\",\"degree_dd\"]], left_index=True, right_index=True, how=\"left\")\n",
    "disease_rank_info = disease_rank_info.merge(dd_propagation_degree, right_index=True,left_index=True, how=\"left\").fillna(0)\n",
    "\n",
    "disease_rank_results = pd.DataFrame(np.array(auc_results).T, columns = [\"auc_\"+str(k) for k in eval_rangos], index=eval_diseases)\n",
    "disease_rank_results[\"auc_full\"] = full_auc_results\n",
    "\n",
    "disease_rank_info.to_csv(reports_folder+\"rank_info.csv\")\n",
    "disease_rank_results.to_csv(reports_folder+\"rank_results.csv\")"
   ]
  },
  {
   "cell_type": "markdown",
   "metadata": {},
   "source": [
    "# Análisis de HitRate"
   ]
  },
  {
   "cell_type": "markdown",
   "metadata": {},
   "source": [
    "Separo en tres casos según niveles de info disponibles para el modelo:\n",
    "\n",
    "- La curva naranja son las enfermedades con enlaces GDA de propagación.\n",
    "\n",
    "- Las curvas verde y celeste son enfermedades sin enlaces GDA de propagación.\n",
    "\n",
    "- La diferencia entre la curva celeste y la verde es que las enfermedades de la curva verde no forman parte de la red D-D: no tienen enlaces enfermedad-enfermedad ni descripción de texto. Las de la curva celeste sí están en la red D-D.\n"
   ]
  },
  {
   "cell_type": "code",
   "execution_count": 24,
   "metadata": {},
   "outputs": [
    {
     "data": {
      "image/png": "[encoded data removed]",
      "text/plain": [
       "<Figure size 500x400 with 1 Axes>"
      ]
     },
     "metadata": {},
     "output_type": "display_data"
    }
   ],
   "source": [
    "max_range = 50\n",
    "\n",
    "new_diseases = disease_rank_info[(disease_rank_info.num_propagation_edges == 0)&(disease_rank_info.degree_dd_prop != 0)].index.values\n",
    "new_diseases_nofeat = disease_rank_info[(disease_rank_info.num_propagation_edges == 0) & (disease_rank_info.degree_dd == 0)].index.values\n",
    "gda_prop_diseases = disease_rank_info[disease_rank_info.num_propagation_edges != 0].index.values\n",
    "\n",
    "plt.figure(figsize=(5,4))\n",
    "plt.plot([*range(max_range)],hitrate_df[[*range(max_range)]].loc[new_diseases].mean().values, label=\"Grado GDA = 0\")\n",
    "plt.plot([*range(max_range)],hitrate_df[[*range(max_range)]].loc[gda_prop_diseases].mean().values, label=\"Grado GDA > 0\")\n",
    "plt.plot([*range(max_range)],hitrate_df[[*range(max_range)]].loc[new_diseases_nofeat].mean().values, label=\"Grado GDA y DD = 0\")\n",
    "plt.title(\"Hit Rate @K Promedio (Nodos Enfermedad)\")\n",
    "plt.xlabel(\"K\")\n",
    "plt.ylabel(\"Hit Rate\")\n",
    "plt.legend()\n",
    "\n",
    "plt.savefig(figs_folder+\"hitrate_curves.png\", format=\"png\", dpi=300,bbox_inches='tight')\n"
   ]
  },
  {
   "cell_type": "markdown",
   "metadata": {},
   "source": [
    "# Análisis de MRR vs grado de genes"
   ]
  },
  {
   "cell_type": "code",
   "execution_count": 223,
   "metadata": {},
   "outputs": [
    {
     "data": {
      "text/html": [
       "<div>\n",
       "<style scoped>\n",
       "    .dataframe tbody tr th:only-of-type {\n",
       "        vertical-align: middle;\n",
       "    }\n",
       "\n",
       "    .dataframe tbody tr th {\n",
       "        vertical-align: top;\n",
       "    }\n",
       "\n",
       "    .dataframe thead th {\n",
       "        text-align: right;\n",
       "    }\n",
       "</style>\n",
       "<table border=\"1\" class=\"dataframe\">\n",
       "  <thead>\n",
       "    <tr style=\"text-align: right;\">\n",
       "      <th></th>\n",
       "      <th>MRR</th>\n",
       "      <th>num_propagation_edges</th>\n",
       "    </tr>\n",
       "    <tr>\n",
       "      <th>node_index</th>\n",
       "      <th></th>\n",
       "      <th></th>\n",
       "    </tr>\n",
       "  </thead>\n",
       "  <tbody>\n",
       "    <tr>\n",
       "      <th>4570</th>\n",
       "      <td>0.000243</td>\n",
       "      <td>0.0</td>\n",
       "    </tr>\n",
       "    <tr>\n",
       "      <th>12111</th>\n",
       "      <td>0.000216</td>\n",
       "      <td>0.0</td>\n",
       "    </tr>\n",
       "    <tr>\n",
       "      <th>2839</th>\n",
       "      <td>0.000221</td>\n",
       "      <td>0.0</td>\n",
       "    </tr>\n",
       "    <tr>\n",
       "      <th>10312</th>\n",
       "      <td>0.000167</td>\n",
       "      <td>0.0</td>\n",
       "    </tr>\n",
       "    <tr>\n",
       "      <th>16353</th>\n",
       "      <td>0.000195</td>\n",
       "      <td>0.0</td>\n",
       "    </tr>\n",
       "    <tr>\n",
       "      <th>...</th>\n",
       "      <td>...</td>\n",
       "      <td>...</td>\n",
       "    </tr>\n",
       "    <tr>\n",
       "      <th>10697</th>\n",
       "      <td>0.003337</td>\n",
       "      <td>216.0</td>\n",
       "    </tr>\n",
       "    <tr>\n",
       "      <th>14317</th>\n",
       "      <td>0.002741</td>\n",
       "      <td>219.0</td>\n",
       "    </tr>\n",
       "    <tr>\n",
       "      <th>7870</th>\n",
       "      <td>0.001626</td>\n",
       "      <td>250.0</td>\n",
       "    </tr>\n",
       "    <tr>\n",
       "      <th>13851</th>\n",
       "      <td>0.001748</td>\n",
       "      <td>259.0</td>\n",
       "    </tr>\n",
       "    <tr>\n",
       "      <th>14290</th>\n",
       "      <td>0.002537</td>\n",
       "      <td>304.0</td>\n",
       "    </tr>\n",
       "  </tbody>\n",
       "</table>\n",
       "<p>17312 rows × 2 columns</p>\n",
       "</div>"
      ],
      "text/plain": [
       "                 MRR  num_propagation_edges\n",
       "node_index                                 \n",
       "4570        0.000243                    0.0\n",
       "12111       0.000216                    0.0\n",
       "2839        0.000221                    0.0\n",
       "10312       0.000167                    0.0\n",
       "16353       0.000195                    0.0\n",
       "...              ...                    ...\n",
       "10697       0.003337                  216.0\n",
       "14317       0.002741                  219.0\n",
       "7870        0.001626                  250.0\n",
       "13851       0.001748                  259.0\n",
       "14290       0.002537                  304.0\n",
       "\n",
       "[17312 rows x 2 columns]"
      ]
     },
     "execution_count": 223,
     "metadata": {},
     "output_type": "execute_result"
    }
   ],
   "source": [
    "num_propagation_edges = seen_edges.gene_protein.value_counts().rename(\"num_propagation_edges\")\n",
    "gene_mrr_df = gene_mrr_df.merge(num_propagation_edges, left_index=True,right_index=True,how=\"left\").fillna(0)\n",
    "gene_mrr_df.sort_values(by=\"num_propagation_edges\")"
   ]
  },
  {
   "cell_type": "code",
   "execution_count": 224,
   "metadata": {},
   "outputs": [],
   "source": [
    "gene_mrr_df[\"MRR\"] = 1/gene_mrr_df[\"MRR\"]"
   ]
  },
  {
   "cell_type": "code",
   "execution_count": 116,
   "metadata": {},
   "outputs": [],
   "source": [
    "def group_by_size(data_df,bin_col,num_groups,max_log):\n",
    "    df = data_df.copy()\n",
    "    spacing = np.linspace(1,max_log,num=num_groups).round().astype(int)\n",
    "    bins = np.digitize(df[bin_col].values, spacing)\n",
    "    df[\"bins\"] = bins\n",
    "    \n",
    "    mean_s = df.groupby(\"bins\").mean().round(2).rename(columns={old:str(old)+\"_mean\" for old in df.columns.values})\n",
    "    std = df.groupby(\"bins\").std().round(2).rename(columns={old:str(old)+\"_std\" for old in df.columns.values}).fillna(0)\n",
    "\n",
    "    result = pd.concat([mean_s,std], axis=1)\n",
    "    return result"
   ]
  },
  {
   "cell_type": "code",
   "execution_count": 233,
   "metadata": {},
   "outputs": [
    {
     "name": "stderr",
     "output_type": "stream",
     "text": [
      "/tmp/ipykernel_23975/1712969923.py:3: SettingWithCopyWarning: \n",
      "A value is trying to be set on a copy of a slice from a DataFrame.\n",
      "Try using .loc[row_indexer,col_indexer] = value instead\n",
      "\n",
      "See the caveats in the documentation: https://pandas.pydata.org/pandas-docs/stable/user_guide/indexing.html#returning-a-view-versus-a-copy\n",
      "  gene_mrr_df[\"bins\"] = bins\n"
     ]
    },
    {
     "data": {
      "image/png": "[encoded data removed]",
      "text/plain": [
       "<Figure size 500x400 with 1 Axes>"
      ]
     },
     "metadata": {},
     "output_type": "display_data"
    },
    {
     "data": {
      "text/plain": [
       "<Figure size 640x480 with 0 Axes>"
      ]
     },
     "metadata": {},
     "output_type": "display_data"
    }
   ],
   "source": [
    "spacing = [1,5,10,50,100]\n",
    "bins = np.digitize(gene_mrr_df[\"num_propagation_edges\"].values, spacing)\n",
    "gene_mrr_df[\"bins\"] = bins\n",
    "\n",
    "mean_s = gene_mrr_df[[\"MRR\",\"bins\",\"num_propagation_edges\"]].groupby(\"bins\").mean().round(2).rename(columns={old:str(old)+\"_mean\" for old in gene_mrr_df.columns.values})\n",
    "std = gene_mrr_df[[\"MRR\",\"bins\"]].groupby(\"bins\").std().round(2).rename(columns={old:str(old)+\"_std\" for old in gene_mrr_df.columns.values}).fillna(0)\n",
    "count = gene_mrr_df[[\"MRR\",\"bins\"]].groupby(\"bins\").count().rename(columns={old:\"count\" for old in gene_mrr_df.columns.values}).fillna(0)\n",
    "result = pd.concat([mean_s,std,count], axis=1)\n",
    "\n",
    "plt.figure(figsize=(5,4))\n",
    "plt.xscale(\"log\")\n",
    "sns.scatterplot(result, x=\"num_propagation_edges_mean\",y=\"MRR_mean\",size=\"count\",alpha=1,zorder=2,sizes=(10,200))\n",
    "plt.errorbar(result[\"num_propagation_edges_mean\"], result[\"MRR_mean\"], yerr=result[\"MRR_std\"], fmt=' ', color='black',alpha=0.5, capsize=5,zorder=1)\n",
    "plt.xlabel(\"Grado de propagación GDA\")\n",
    "plt.ylabel(\"Puesto promedio\")\n",
    "plt.title(\"Grado de propagación vs puesto promedio - genes\")\n",
    "plt.legend(title=\"Num. nodos\")\n",
    "\n",
    "plt.show()\n",
    "plt.savefig(figs_folder+\"rank_vs_k.png\",format=\"png\", dpi=300,bbox_inches='tight')"
   ]
  },
  {
   "cell_type": "markdown",
   "metadata": {},
   "source": [
    "# Tablas "
   ]
  },
  {
   "cell_type": "code",
   "execution_count": 236,
   "metadata": {},
   "outputs": [
    {
     "data": {
      "text/plain": [
       "auc_10      0.134512\n",
       "auc_50      0.252410\n",
       "auc_100     0.318598\n",
       "auc_300     0.445414\n",
       "auc_500     0.512418\n",
       "auc_1000    0.589985\n",
       "auc_1500    0.627693\n",
       "auc_1700    0.639312\n",
       "auc_full    0.832122\n",
       "dtype: float64"
      ]
     },
     "execution_count": 236,
     "metadata": {},
     "output_type": "execute_result"
    }
   ],
   "source": [
    "disease_rank_results.mean()"
   ]
  }
 ],
 "metadata": {
  "kernelspec": {
   "display_name": "venv",
   "language": "python",
   "name": "python3"
  },
  "language_info": {
   "codemirror_mode": {
    "name": "ipython",
    "version": 3
   },
   "file_extension": ".py",
   "mimetype": "text/x-python",
   "name": "python",
   "nbconvert_exporter": "python",
   "pygments_lexer": "ipython3",
   "version": "3.10.12"
  }
 },
 "nbformat": 4,
 "nbformat_minor": 2
}
