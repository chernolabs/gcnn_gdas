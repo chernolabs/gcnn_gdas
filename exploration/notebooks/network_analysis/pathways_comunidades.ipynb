{
 "cells": [
  {
   "cell_type": "markdown",
   "metadata": {},
   "source": [
    "# Setup"
   ]
  },
  {
   "cell_type": "code",
   "execution_count": 2,
   "metadata": {},
   "outputs": [],
   "source": [
    "import pandas as pd \n",
    "from statsmodels.stats import multitest\n",
    "import matplotlib.pyplot as plt\n",
    "\n",
    "import plotly.express as px\n",
    "import plotly.io as pio\n",
    "import seaborn as sns"
   ]
  },
  {
   "cell_type": "code",
   "execution_count": 3,
   "metadata": {},
   "outputs": [],
   "source": [
    "#esto es para forzar a plt a poner fondos blancos en las figuras aunque el tema del notebook sea oscuro\n",
    "#plt.rcParams['axes.facecolor'] = 'white'\n",
    "#plt.rcParams['figure.facecolor'] = 'white'\n",
    "cmap = plt.get_cmap(\"tab10\")\n",
    "pio.templates.default = \"seaborn\"\n",
    "\n",
    "sns.set_style(\"darkgrid\", rc={'xtick.bottom': True})"
   ]
  },
  {
   "cell_type": "code",
   "execution_count": 39,
   "metadata": {},
   "outputs": [],
   "source": [
    "data_processed = \"../../../data/processed/\"\n",
    "graph_data = data_processed + \"graph_data_nohubs/\"\n",
    "reports = \"../../../reports/reports_nohubs/\"\n",
    "\n",
    "graph_node_data = pd.read_csv(graph_data+\"nohub_graph_node_data.csv\")\n",
    "infomap_pathways = pd.read_csv(reports+\"analisis_red_genes/infomap_pathways.csv\", index_col=[0,1])\n",
    "louvain_pathways = pd.read_csv(reports+\"analisis_red_genes/louvain_pathways.csv\", index_col=[0,1])\n",
    "\n",
    "cols = [\"comunidad\",\"tamaño\",\"mean_sim_lsa_0\",\"entropia_0\",\"top_monogram\",\"top_5_monogram\",\"top_monogram_score\",\"top_5_monogram_score\"]\n",
    "infomap_summary = pd.read_pickle(reports+\"infomap_summary.pkl\")[cols]\n",
    "louvain_summary = pd.read_pickle(reports+\"louvain_summary.pkl\")[cols]"
   ]
  },
  {
   "cell_type": "markdown",
   "metadata": {},
   "source": [
    "# Corrección FDR"
   ]
  },
  {
   "cell_type": "markdown",
   "metadata": {},
   "source": [
    "Corrijo los pvalores con FDR. Genero una columna que me dice si se rechazó la hipótesis nula para ese par cluster-pathway o no. Me quedo con las filas que tienen \"reject\" = True, es decir, se rechazó la hipótesis nula. Para esos pares cluster,pathway, tengo el odds ratio que me dice que tan significativa es la correlación entre ellos. Además, por la corrección FDR, se que entre esos pares tengo un 5% de falsos positivos."
   ]
  },
  {
   "cell_type": "code",
   "execution_count": 40,
   "metadata": {},
   "outputs": [],
   "source": [
    "infomap_pathways[\"pvalue\"] = multitest.fdrcorrection(infomap_pathways.pvalue.values)[1]\n",
    "infomap_pathways[\"reject\"] = multitest.fdrcorrection(infomap_pathways.pvalue.values)[0] \n",
    "\n",
    "louvain_pathways[\"pvalue\"] = multitest.fdrcorrection(louvain_pathways.pvalue.values)[1]\n",
    "louvain_pathways[\"reject\"] = multitest.fdrcorrection(louvain_pathways.pvalue.values)[0]"
   ]
  },
  {
   "cell_type": "code",
   "execution_count": 56,
   "metadata": {},
   "outputs": [],
   "source": [
    "infomap_results = infomap_pathways[infomap_pathways.reject].drop(columns=\"reject\")\n",
    "louvain_results = louvain_pathways[louvain_pathways.reject].drop(columns=\"reject\")"
   ]
  },
  {
   "cell_type": "markdown",
   "metadata": {},
   "source": [
    "# Exploro ejemplos"
   ]
  },
  {
   "cell_type": "markdown",
   "metadata": {},
   "source": [
    "Encontré pathways significativos para todos los clusters?"
   ]
  },
  {
   "cell_type": "code",
   "execution_count": 100,
   "metadata": {},
   "outputs": [
    {
     "name": "stdout",
     "output_type": "stream",
     "text": [
      "Encontré 861 infomap y 200 louvain\n",
      "75% infomap, 68% louvain\n"
     ]
    }
   ],
   "source": [
    "encontrados_infomap = len(infomap_results.reset_index().cluster.unique())\n",
    "encontrados_louvain = len(louvain_results.reset_index().cluster.unique())\n",
    "tot_infomap = len(infomap_summary)\n",
    "tot_louvain = len(louvain_summary)\n",
    "\n",
    "print(f\"Encontré {encontrados_infomap} infomap y {encontrados_louvain} louvain\")\n",
    "print(f\"{round((encontrados_infomap*100)/tot_infomap)}% infomap, {round((encontrados_louvain*100)/tot_louvain)}% louvain\")"
   ]
  },
  {
   "cell_type": "markdown",
   "metadata": {},
   "source": [
    "Cuantos pathways tienen asociados esos clusters?"
   ]
  },
  {
   "cell_type": "code",
   "execution_count": 139,
   "metadata": {},
   "outputs": [
    {
     "data": {
      "text/html": [
       "<div>\n",
       "<style scoped>\n",
       "    .dataframe tbody tr th:only-of-type {\n",
       "        vertical-align: middle;\n",
       "    }\n",
       "\n",
       "    .dataframe tbody tr th {\n",
       "        vertical-align: top;\n",
       "    }\n",
       "\n",
       "    .dataframe thead th {\n",
       "        text-align: right;\n",
       "    }\n",
       "</style>\n",
       "<table border=\"1\" class=\"dataframe\">\n",
       "  <thead>\n",
       "    <tr style=\"text-align: right;\">\n",
       "      <th></th>\n",
       "      <th>num_pathways</th>\n",
       "    </tr>\n",
       "    <tr>\n",
       "      <th>cluster</th>\n",
       "      <th></th>\n",
       "    </tr>\n",
       "  </thead>\n",
       "  <tbody>\n",
       "    <tr>\n",
       "      <th>130</th>\n",
       "      <td>149</td>\n",
       "    </tr>\n",
       "    <tr>\n",
       "      <th>15</th>\n",
       "      <td>134</td>\n",
       "    </tr>\n",
       "    <tr>\n",
       "      <th>25</th>\n",
       "      <td>132</td>\n",
       "    </tr>\n",
       "    <tr>\n",
       "      <th>17</th>\n",
       "      <td>123</td>\n",
       "    </tr>\n",
       "    <tr>\n",
       "      <th>143</th>\n",
       "      <td>120</td>\n",
       "    </tr>\n",
       "    <tr>\n",
       "      <th>...</th>\n",
       "      <td>...</td>\n",
       "    </tr>\n",
       "    <tr>\n",
       "      <th>543</th>\n",
       "      <td>1</td>\n",
       "    </tr>\n",
       "    <tr>\n",
       "      <th>542</th>\n",
       "      <td>1</td>\n",
       "    </tr>\n",
       "    <tr>\n",
       "      <th>784</th>\n",
       "      <td>1</td>\n",
       "    </tr>\n",
       "    <tr>\n",
       "      <th>937</th>\n",
       "      <td>1</td>\n",
       "    </tr>\n",
       "    <tr>\n",
       "      <th>562</th>\n",
       "      <td>1</td>\n",
       "    </tr>\n",
       "  </tbody>\n",
       "</table>\n",
       "<p>861 rows × 1 columns</p>\n",
       "</div>"
      ],
      "text/plain": [
       "         num_pathways\n",
       "cluster              \n",
       "130               149\n",
       "15                134\n",
       "25                132\n",
       "17                123\n",
       "143               120\n",
       "...               ...\n",
       "543                 1\n",
       "542                 1\n",
       "784                 1\n",
       "937                 1\n",
       "562                 1\n",
       "\n",
       "[861 rows x 1 columns]"
      ]
     },
     "execution_count": 139,
     "metadata": {},
     "output_type": "execute_result"
    },
    {
     "data": {
      "image/png": "[encoded data removed]",
      "text/plain": [
       "<Figure size 432x288 with 1 Axes>"
      ]
     },
     "metadata": {},
     "output_type": "display_data"
    }
   ],
   "source": [
    "infomap_num_pathways = infomap_results.groupby(\"cluster\").count().sort_values(by=\"pvalue\",ascending=False).drop(columns=\"odds_ratio\").rename(columns={\"pvalue\":\"num_pathways\"})\n",
    "infomap_num_pathways.hist()\n",
    "infomap_num_pathways"
   ]
  },
  {
   "cell_type": "code",
   "execution_count": 136,
   "metadata": {},
   "outputs": [
    {
     "data": {
      "application/vnd.plotly.v1+json": {
       "config": {
        "plotlyServerURL": "https://plot.ly"
       },
       "data": [
        {
         "alignmentgroup": "True",
         "bingroup": "x",
         "hovertemplate": "num_pathways=%{x}<br>count=%{y}<extra></extra>",
         "legendgroup": "",
         "marker": {
          "color": "rgb(76,114,176)",
          "pattern": {
           "shape": ""
          }
         },
         "name": "",
         "offsetgroup": "",
         "orientation": "v",
         "showlegend": false,
         "type": "histogram",
         "x": [
          170,
          163,
          158,
          151,
          145,
          135,
          132,
          125,
          119,
          117,
          116,
          95,
          92,
          84,
          83,
          81,
          78,
          73,
          72,
          69,
          68,
          66,
          65,
          64,
          64,
          63,
          60,
          54,
          52,
          51,
          51,
          47,
          40,
          39,
          38,
          37,
          34,
          34,
          32,
          30,
          29,
          29,
          28,
          28,
          27,
          27,
          26,
          25,
          25,
          24,
          21,
          20,
          18,
          17,
          16,
          15,
          15,
          15,
          14,
          14,
          14,
          14,
          13,
          13,
          13,
          13,
          13,
          13,
          13,
          12,
          12,
          11,
          11,
          11,
          10,
          10,
          10,
          9,
          9,
          8,
          8,
          8,
          8,
          8,
          7,
          7,
          7,
          6,
          6,
          5,
          5,
          5,
          5,
          5,
          5,
          5,
          5,
          5,
          4,
          4,
          4,
          4,
          4,
          4,
          4,
          4,
          4,
          4,
          4,
          4,
          4,
          3,
          3,
          3,
          3,
          3,
          3,
          3,
          3,
          3,
          3,
          3,
          3,
          3,
          3,
          3,
          3,
          3,
          3,
          2,
          2,
          2,
          2,
          2,
          2,
          2,
          2,
          2,
          2,
          2,
          2,
          2,
          2,
          2,
          2,
          2,
          2,
          2,
          2,
          2,
          2,
          1,
          1,
          1,
          1,
          1,
          1,
          1,
          1,
          1,
          1,
          1,
          1,
          1,
          1,
          1,
          1,
          1,
          1,
          1,
          1,
          1,
          1,
          1,
          1,
          1,
          1,
          1,
          1,
          1,
          1,
          1,
          1,
          1,
          1,
          1,
          1,
          1,
          1,
          1,
          1,
          1,
          1,
          1,
          1,
          1,
          1,
          1,
          1,
          1
         ],
         "xaxis": "x",
         "yaxis": "y"
        }
       ],
       "layout": {
        "barmode": "relative",
        "legend": {
         "tracegroupgap": 0
        },
        "margin": {
         "t": 60
        },
        "template": {
         "data": {
          "bar": [
           {
            "error_x": {
             "color": "rgb(36,36,36)"
            },
            "error_y": {
             "color": "rgb(36,36,36)"
            },
            "marker": {
             "line": {
              "color": "rgb(234,234,242)",
              "width": 0.5
             },
             "pattern": {
              "fillmode": "overlay",
              "size": 10,
              "solidity": 0.2
             }
            },
            "type": "bar"
           }
          ],
          "barpolar": [
           {
            "marker": {
             "line": {
              "color": "rgb(234,234,242)",
              "width": 0.5
             },
             "pattern": {
              "fillmode": "overlay",
              "size": 10,
              "solidity": 0.2
             }
            },
            "type": "barpolar"
           }
          ],
          "carpet": [
           {
            "aaxis": {
             "endlinecolor": "rgb(36,36,36)",
             "gridcolor": "white",
             "linecolor": "white",
             "minorgridcolor": "white",
             "startlinecolor": "rgb(36,36,36)"
            },
            "baxis": {
             "endlinecolor": "rgb(36,36,36)",
             "gridcolor": "white",
             "linecolor": "white",
             "minorgridcolor": "white",
             "startlinecolor": "rgb(36,36,36)"
            },
            "type": "carpet"
           }
          ],
          "choropleth": [
           {
            "colorbar": {
             "outlinewidth": 0,
             "tickcolor": "rgb(36,36,36)",
             "ticklen": 8,
             "ticks": "outside",
             "tickwidth": 2
            },
            "type": "choropleth"
           }
          ],
          "contour": [
           {
            "colorbar": {
             "outlinewidth": 0,
             "tickcolor": "rgb(36,36,36)",
             "ticklen": 8,
             "ticks": "outside",
             "tickwidth": 2
            },
            "colorscale": [
             [
              0,
              "rgb(2,4,25)"
             ],
             [
              0.06274509803921569,
              "rgb(24,15,41)"
             ],
             [
              0.12549019607843137,
              "rgb(47,23,57)"
             ],
             [
              0.18823529411764706,
              "rgb(71,28,72)"
             ],
             [
              0.25098039215686274,
              "rgb(97,30,82)"
             ],
             [
              0.3137254901960784,
              "rgb(123,30,89)"
             ],
             [
              0.3764705882352941,
              "rgb(150,27,91)"
             ],
             [
              0.4392156862745098,
              "rgb(177,22,88)"
             ],
             [
              0.5019607843137255,
              "rgb(203,26,79)"
             ],
             [
              0.5647058823529412,
              "rgb(223,47,67)"
             ],
             [
              0.6274509803921569,
              "rgb(236,76,61)"
             ],
             [
              0.6901960784313725,
              "rgb(242,107,73)"
             ],
             [
              0.7529411764705882,
              "rgb(244,135,95)"
             ],
             [
              0.8156862745098039,
              "rgb(245,162,122)"
             ],
             [
              0.8784313725490196,
              "rgb(246,188,153)"
             ],
             [
              0.9411764705882353,
              "rgb(247,212,187)"
             ],
             [
              1,
              "rgb(250,234,220)"
             ]
            ],
            "type": "contour"
           }
          ],
          "contourcarpet": [
           {
            "colorbar": {
             "outlinewidth": 0,
             "tickcolor": "rgb(36,36,36)",
             "ticklen": 8,
             "ticks": "outside",
             "tickwidth": 2
            },
            "type": "contourcarpet"
           }
          ],
          "heatmap": [
           {
            "colorbar": {
             "outlinewidth": 0,
             "tickcolor": "rgb(36,36,36)",
             "ticklen": 8,
             "ticks": "outside",
             "tickwidth": 2
            },
            "colorscale": [
             [
              0,
              "rgb(2,4,25)"
             ],
             [
              0.06274509803921569,
              "rgb(24,15,41)"
             ],
             [
              0.12549019607843137,
              "rgb(47,23,57)"
             ],
             [
              0.18823529411764706,
              "rgb(71,28,72)"
             ],
             [
              0.25098039215686274,
              "rgb(97,30,82)"
             ],
             [
              0.3137254901960784,
              "rgb(123,30,89)"
             ],
             [
              0.3764705882352941,
              "rgb(150,27,91)"
             ],
             [
              0.4392156862745098,
              "rgb(177,22,88)"
             ],
             [
              0.5019607843137255,
              "rgb(203,26,79)"
             ],
             [
              0.5647058823529412,
              "rgb(223,47,67)"
             ],
             [
              0.6274509803921569,
              "rgb(236,76,61)"
             ],
             [
              0.6901960784313725,
              "rgb(242,107,73)"
             ],
             [
              0.7529411764705882,
              "rgb(244,135,95)"
             ],
             [
              0.8156862745098039,
              "rgb(245,162,122)"
             ],
             [
              0.8784313725490196,
              "rgb(246,188,153)"
             ],
             [
              0.9411764705882353,
              "rgb(247,212,187)"
             ],
             [
              1,
              "rgb(250,234,220)"
             ]
            ],
            "type": "heatmap"
           }
          ],
          "heatmapgl": [
           {
            "colorbar": {
             "outlinewidth": 0,
             "tickcolor": "rgb(36,36,36)",
             "ticklen": 8,
             "ticks": "outside",
             "tickwidth": 2
            },
            "colorscale": [
             [
              0,
              "rgb(2,4,25)"
             ],
             [
              0.06274509803921569,
              "rgb(24,15,41)"
             ],
             [
              0.12549019607843137,
              "rgb(47,23,57)"
             ],
             [
              0.18823529411764706,
              "rgb(71,28,72)"
             ],
             [
              0.25098039215686274,
              "rgb(97,30,82)"
             ],
             [
              0.3137254901960784,
              "rgb(123,30,89)"
             ],
             [
              0.3764705882352941,
              "rgb(150,27,91)"
             ],
             [
              0.4392156862745098,
              "rgb(177,22,88)"
             ],
             [
              0.5019607843137255,
              "rgb(203,26,79)"
             ],
             [
              0.5647058823529412,
              "rgb(223,47,67)"
             ],
             [
              0.6274509803921569,
              "rgb(236,76,61)"
             ],
             [
              0.6901960784313725,
              "rgb(242,107,73)"
             ],
             [
              0.7529411764705882,
              "rgb(244,135,95)"
             ],
             [
              0.8156862745098039,
              "rgb(245,162,122)"
             ],
             [
              0.8784313725490196,
              "rgb(246,188,153)"
             ],
             [
              0.9411764705882353,
              "rgb(247,212,187)"
             ],
             [
              1,
              "rgb(250,234,220)"
             ]
            ],
            "type": "heatmapgl"
           }
          ],
          "histogram": [
           {
            "marker": {
             "pattern": {
              "fillmode": "overlay",
              "size": 10,
              "solidity": 0.2
             }
            },
            "type": "histogram"
           }
          ],
          "histogram2d": [
           {
            "colorbar": {
             "outlinewidth": 0,
             "tickcolor": "rgb(36,36,36)",
             "ticklen": 8,
             "ticks": "outside",
             "tickwidth": 2
            },
            "colorscale": [
             [
              0,
              "rgb(2,4,25)"
             ],
             [
              0.06274509803921569,
              "rgb(24,15,41)"
             ],
             [
              0.12549019607843137,
              "rgb(47,23,57)"
             ],
             [
              0.18823529411764706,
              "rgb(71,28,72)"
             ],
             [
              0.25098039215686274,
              "rgb(97,30,82)"
             ],
             [
              0.3137254901960784,
              "rgb(123,30,89)"
             ],
             [
              0.3764705882352941,
              "rgb(150,27,91)"
             ],
             [
              0.4392156862745098,
              "rgb(177,22,88)"
             ],
             [
              0.5019607843137255,
              "rgb(203,26,79)"
             ],
             [
              0.5647058823529412,
              "rgb(223,47,67)"
             ],
             [
              0.6274509803921569,
              "rgb(236,76,61)"
             ],
             [
              0.6901960784313725,
              "rgb(242,107,73)"
             ],
             [
              0.7529411764705882,
              "rgb(244,135,95)"
             ],
             [
              0.8156862745098039,
              "rgb(245,162,122)"
             ],
             [
              0.8784313725490196,
              "rgb(246,188,153)"
             ],
             [
              0.9411764705882353,
              "rgb(247,212,187)"
             ],
             [
              1,
              "rgb(250,234,220)"
             ]
            ],
            "type": "histogram2d"
           }
          ],
          "histogram2dcontour": [
           {
            "colorbar": {
             "outlinewidth": 0,
             "tickcolor": "rgb(36,36,36)",
             "ticklen": 8,
             "ticks": "outside",
             "tickwidth": 2
            },
            "colorscale": [
             [
              0,
              "rgb(2,4,25)"
             ],
             [
              0.06274509803921569,
              "rgb(24,15,41)"
             ],
             [
              0.12549019607843137,
              "rgb(47,23,57)"
             ],
             [
              0.18823529411764706,
              "rgb(71,28,72)"
             ],
             [
              0.25098039215686274,
              "rgb(97,30,82)"
             ],
             [
              0.3137254901960784,
              "rgb(123,30,89)"
             ],
             [
              0.3764705882352941,
              "rgb(150,27,91)"
             ],
             [
              0.4392156862745098,
              "rgb(177,22,88)"
             ],
             [
              0.5019607843137255,
              "rgb(203,26,79)"
             ],
             [
              0.5647058823529412,
              "rgb(223,47,67)"
             ],
             [
              0.6274509803921569,
              "rgb(236,76,61)"
             ],
             [
              0.6901960784313725,
              "rgb(242,107,73)"
             ],
             [
              0.7529411764705882,
              "rgb(244,135,95)"
             ],
             [
              0.8156862745098039,
              "rgb(245,162,122)"
             ],
             [
              0.8784313725490196,
              "rgb(246,188,153)"
             ],
             [
              0.9411764705882353,
              "rgb(247,212,187)"
             ],
             [
              1,
              "rgb(250,234,220)"
             ]
            ],
            "type": "histogram2dcontour"
           }
          ],
          "mesh3d": [
           {
            "colorbar": {
             "outlinewidth": 0,
             "tickcolor": "rgb(36,36,36)",
             "ticklen": 8,
             "ticks": "outside",
             "tickwidth": 2
            },
            "type": "mesh3d"
           }
          ],
          "parcoords": [
           {
            "line": {
             "colorbar": {
              "outlinewidth": 0,
              "tickcolor": "rgb(36,36,36)",
              "ticklen": 8,
              "ticks": "outside",
              "tickwidth": 2
             }
            },
            "type": "parcoords"
           }
          ],
          "pie": [
           {
            "automargin": true,
            "type": "pie"
           }
          ],
          "scatter": [
           {
            "fillpattern": {
             "fillmode": "overlay",
             "size": 10,
             "solidity": 0.2
            },
            "type": "scatter"
           }
          ],
          "scatter3d": [
           {
            "line": {
             "colorbar": {
              "outlinewidth": 0,
              "tickcolor": "rgb(36,36,36)",
              "ticklen": 8,
              "ticks": "outside",
              "tickwidth": 2
             }
            },
            "marker": {
             "colorbar": {
              "outlinewidth": 0,
              "tickcolor": "rgb(36,36,36)",
              "ticklen": 8,
              "ticks": "outside",
              "tickwidth": 2
             }
            },
            "type": "scatter3d"
           }
          ],
          "scattercarpet": [
           {
            "marker": {
             "colorbar": {
              "outlinewidth": 0,
              "tickcolor": "rgb(36,36,36)",
              "ticklen": 8,
              "ticks": "outside",
              "tickwidth": 2
             }
            },
            "type": "scattercarpet"
           }
          ],
          "scattergeo": [
           {
            "marker": {
             "colorbar": {
              "outlinewidth": 0,
              "tickcolor": "rgb(36,36,36)",
              "ticklen": 8,
              "ticks": "outside",
              "tickwidth": 2
             }
            },
            "type": "scattergeo"
           }
          ],
          "scattergl": [
           {
            "marker": {
             "colorbar": {
              "outlinewidth": 0,
              "tickcolor": "rgb(36,36,36)",
              "ticklen": 8,
              "ticks": "outside",
              "tickwidth": 2
             }
            },
            "type": "scattergl"
           }
          ],
          "scattermapbox": [
           {
            "marker": {
             "colorbar": {
              "outlinewidth": 0,
              "tickcolor": "rgb(36,36,36)",
              "ticklen": 8,
              "ticks": "outside",
              "tickwidth": 2
             }
            },
            "type": "scattermapbox"
           }
          ],
          "scatterpolar": [
           {
            "marker": {
             "colorbar": {
              "outlinewidth": 0,
              "tickcolor": "rgb(36,36,36)",
              "ticklen": 8,
              "ticks": "outside",
              "tickwidth": 2
             }
            },
            "type": "scatterpolar"
           }
          ],
          "scatterpolargl": [
           {
            "marker": {
             "colorbar": {
              "outlinewidth": 0,
              "tickcolor": "rgb(36,36,36)",
              "ticklen": 8,
              "ticks": "outside",
              "tickwidth": 2
             }
            },
            "type": "scatterpolargl"
           }
          ],
          "scatterternary": [
           {
            "marker": {
             "colorbar": {
              "outlinewidth": 0,
              "tickcolor": "rgb(36,36,36)",
              "ticklen": 8,
              "ticks": "outside",
              "tickwidth": 2
             }
            },
            "type": "scatterternary"
           }
          ],
          "surface": [
           {
            "colorbar": {
             "outlinewidth": 0,
             "tickcolor": "rgb(36,36,36)",
             "ticklen": 8,
             "ticks": "outside",
             "tickwidth": 2
            },
            "colorscale": [
             [
              0,
              "rgb(2,4,25)"
             ],
             [
              0.06274509803921569,
              "rgb(24,15,41)"
             ],
             [
              0.12549019607843137,
              "rgb(47,23,57)"
             ],
             [
              0.18823529411764706,
              "rgb(71,28,72)"
             ],
             [
              0.25098039215686274,
              "rgb(97,30,82)"
             ],
             [
              0.3137254901960784,
              "rgb(123,30,89)"
             ],
             [
              0.3764705882352941,
              "rgb(150,27,91)"
             ],
             [
              0.4392156862745098,
              "rgb(177,22,88)"
             ],
             [
              0.5019607843137255,
              "rgb(203,26,79)"
             ],
             [
              0.5647058823529412,
              "rgb(223,47,67)"
             ],
             [
              0.6274509803921569,
              "rgb(236,76,61)"
             ],
             [
              0.6901960784313725,
              "rgb(242,107,73)"
             ],
             [
              0.7529411764705882,
              "rgb(244,135,95)"
             ],
             [
              0.8156862745098039,
              "rgb(245,162,122)"
             ],
             [
              0.8784313725490196,
              "rgb(246,188,153)"
             ],
             [
              0.9411764705882353,
              "rgb(247,212,187)"
             ],
             [
              1,
              "rgb(250,234,220)"
             ]
            ],
            "type": "surface"
           }
          ],
          "table": [
           {
            "cells": {
             "fill": {
              "color": "rgb(231,231,240)"
             },
             "line": {
              "color": "white"
             }
            },
            "header": {
             "fill": {
              "color": "rgb(183,183,191)"
             },
             "line": {
              "color": "white"
             }
            },
            "type": "table"
           }
          ]
         },
         "layout": {
          "annotationdefaults": {
           "arrowcolor": "rgb(67,103,167)"
          },
          "autotypenumbers": "strict",
          "coloraxis": {
           "colorbar": {
            "outlinewidth": 0,
            "tickcolor": "rgb(36,36,36)",
            "ticklen": 8,
            "ticks": "outside",
            "tickwidth": 2
           }
          },
          "colorscale": {
           "sequential": [
            [
             0,
             "rgb(2,4,25)"
            ],
            [
             0.06274509803921569,
             "rgb(24,15,41)"
            ],
            [
             0.12549019607843137,
             "rgb(47,23,57)"
            ],
            [
             0.18823529411764706,
             "rgb(71,28,72)"
            ],
            [
             0.25098039215686274,
             "rgb(97,30,82)"
            ],
            [
             0.3137254901960784,
             "rgb(123,30,89)"
            ],
            [
             0.3764705882352941,
             "rgb(150,27,91)"
            ],
            [
             0.4392156862745098,
             "rgb(177,22,88)"
            ],
            [
             0.5019607843137255,
             "rgb(203,26,79)"
            ],
            [
             0.5647058823529412,
             "rgb(223,47,67)"
            ],
            [
             0.6274509803921569,
             "rgb(236,76,61)"
            ],
            [
             0.6901960784313725,
             "rgb(242,107,73)"
            ],
            [
             0.7529411764705882,
             "rgb(244,135,95)"
            ],
            [
             0.8156862745098039,
             "rgb(245,162,122)"
            ],
            [
             0.8784313725490196,
             "rgb(246,188,153)"
            ],
            [
             0.9411764705882353,
             "rgb(247,212,187)"
            ],
            [
             1,
             "rgb(250,234,220)"
            ]
           ],
           "sequentialminus": [
            [
             0,
             "rgb(2,4,25)"
            ],
            [
             0.06274509803921569,
             "rgb(24,15,41)"
            ],
            [
             0.12549019607843137,
             "rgb(47,23,57)"
            ],
            [
             0.18823529411764706,
             "rgb(71,28,72)"
            ],
            [
             0.25098039215686274,
             "rgb(97,30,82)"
            ],
            [
             0.3137254901960784,
             "rgb(123,30,89)"
            ],
            [
             0.3764705882352941,
             "rgb(150,27,91)"
            ],
            [
             0.4392156862745098,
             "rgb(177,22,88)"
            ],
            [
             0.5019607843137255,
             "rgb(203,26,79)"
            ],
            [
             0.5647058823529412,
             "rgb(223,47,67)"
            ],
            [
             0.6274509803921569,
             "rgb(236,76,61)"
            ],
            [
             0.6901960784313725,
             "rgb(242,107,73)"
            ],
            [
             0.7529411764705882,
             "rgb(244,135,95)"
            ],
            [
             0.8156862745098039,
             "rgb(245,162,122)"
            ],
            [
             0.8784313725490196,
             "rgb(246,188,153)"
            ],
            [
             0.9411764705882353,
             "rgb(247,212,187)"
            ],
            [
             1,
             "rgb(250,234,220)"
            ]
           ]
          },
          "colorway": [
           "rgb(76,114,176)",
           "rgb(221,132,82)",
           "rgb(85,168,104)",
           "rgb(196,78,82)",
           "rgb(129,114,179)",
           "rgb(147,120,96)",
           "rgb(218,139,195)",
           "rgb(140,140,140)",
           "rgb(204,185,116)",
           "rgb(100,181,205)"
          ],
          "font": {
           "color": "rgb(36,36,36)"
          },
          "geo": {
           "bgcolor": "white",
           "lakecolor": "white",
           "landcolor": "rgb(234,234,242)",
           "showlakes": true,
           "showland": true,
           "subunitcolor": "white"
          },
          "hoverlabel": {
           "align": "left"
          },
          "hovermode": "closest",
          "paper_bgcolor": "white",
          "plot_bgcolor": "rgb(234,234,242)",
          "polar": {
           "angularaxis": {
            "gridcolor": "white",
            "linecolor": "white",
            "showgrid": true,
            "ticks": ""
           },
           "bgcolor": "rgb(234,234,242)",
           "radialaxis": {
            "gridcolor": "white",
            "linecolor": "white",
            "showgrid": true,
            "ticks": ""
           }
          },
          "scene": {
           "xaxis": {
            "backgroundcolor": "rgb(234,234,242)",
            "gridcolor": "white",
            "gridwidth": 2,
            "linecolor": "white",
            "showbackground": true,
            "showgrid": true,
            "ticks": "",
            "zerolinecolor": "white"
           },
           "yaxis": {
            "backgroundcolor": "rgb(234,234,242)",
            "gridcolor": "white",
            "gridwidth": 2,
            "linecolor": "white",
            "showbackground": true,
            "showgrid": true,
            "ticks": "",
            "zerolinecolor": "white"
           },
           "zaxis": {
            "backgroundcolor": "rgb(234,234,242)",
            "gridcolor": "white",
            "gridwidth": 2,
            "linecolor": "white",
            "showbackground": true,
            "showgrid": true,
            "ticks": "",
            "zerolinecolor": "white"
           }
          },
          "shapedefaults": {
           "fillcolor": "rgb(67,103,167)",
           "line": {
            "width": 0
           },
           "opacity": 0.5
          },
          "ternary": {
           "aaxis": {
            "gridcolor": "white",
            "linecolor": "white",
            "showgrid": true,
            "ticks": ""
           },
           "baxis": {
            "gridcolor": "white",
            "linecolor": "white",
            "showgrid": true,
            "ticks": ""
           },
           "bgcolor": "rgb(234,234,242)",
           "caxis": {
            "gridcolor": "white",
            "linecolor": "white",
            "showgrid": true,
            "ticks": ""
           }
          },
          "xaxis": {
           "automargin": true,
           "gridcolor": "white",
           "linecolor": "white",
           "showgrid": true,
           "ticks": "",
           "title": {
            "standoff": 15
           },
           "zerolinecolor": "white"
          },
          "yaxis": {
           "automargin": true,
           "gridcolor": "white",
           "linecolor": "white",
           "showgrid": true,
           "ticks": "",
           "title": {
            "standoff": 15
           },
           "zerolinecolor": "white"
          }
         }
        },
        "xaxis": {
         "anchor": "y",
         "domain": [
          0,
          1
         ],
         "title": {
          "text": "num_pathways"
         }
        },
        "yaxis": {
         "anchor": "x",
         "domain": [
          0,
          1
         ],
         "title": {
          "text": "count"
         }
        }
       }
      }
     },
     "metadata": {},
     "output_type": "display_data"
    }
   ],
   "source": [
    "louvain_num_pathways = louvain_results.groupby(\"cluster\").count().sort_values(by=\"pvalue\",ascending=False).drop(columns=\"odds_ratio\").rename(columns={\"pvalue\":\"num_pathways\"})\n",
    "louvain_num_pathways\n",
    "fig = px.histogram(louvain_num_pathways,x=\"num_pathways\")\n",
    "fig.show()"
   ]
  },
  {
   "cell_type": "markdown",
   "metadata": {},
   "source": [
    "Todos los pathways tienen asociadas comunidades? cuantas?"
   ]
  },
  {
   "cell_type": "code",
   "execution_count": 121,
   "metadata": {},
   "outputs": [
    {
     "name": "stdout",
     "output_type": "stream",
     "text": [
      "Encontré 1529 infomap y 1108 louvain\n",
      "76% infomap, 55% louvain\n"
     ]
    }
   ],
   "source": [
    "encontrados_infomap = len(infomap_results.reset_index().pathway.unique())\n",
    "encontrados_louvain = len(louvain_results.reset_index().pathway.unique())\n",
    "tot_pathways = 2017\n",
    "\n",
    "print(f\"Encontré {encontrados_infomap} infomap y {encontrados_louvain} louvain\")\n",
    "print(f\"{round((encontrados_infomap*100)/tot_pathways)}% infomap, {round((encontrados_louvain*100)/tot_pathways)}% louvain\")"
   ]
  },
  {
   "cell_type": "code",
   "execution_count": 126,
   "metadata": {},
   "outputs": [
    {
     "name": "stdout",
     "output_type": "stream",
     "text": [
      "76% tiene algún cluster asociado (de cualquier particion)\n"
     ]
    }
   ],
   "source": [
    "encontrados_infomap = set(infomap_results.reset_index().pathway.unique())\n",
    "encontrados_louvain = set(louvain_results.reset_index().pathway.unique())\n",
    "\n",
    "encontrados_ambos = encontrados_infomap|encontrados_louvain\n",
    "porc = (len(encontrados_ambos)*100/tot_pathways)\n",
    "print(f\"{round(porc)}% tiene algún cluster asociado (de cualquier particion)\")"
   ]
  },
  {
   "cell_type": "markdown",
   "metadata": {},
   "source": [
    "# Ejemplos"
   ]
  },
  {
   "cell_type": "markdown",
   "metadata": {},
   "source": [
    "## Infomap"
   ]
  },
  {
   "cell_type": "code",
   "execution_count": 288,
   "metadata": {},
   "outputs": [
    {
     "data": {
      "text/html": [
       "<div>\n",
       "<style scoped>\n",
       "    .dataframe tbody tr th:only-of-type {\n",
       "        vertical-align: middle;\n",
       "    }\n",
       "\n",
       "    .dataframe tbody tr th {\n",
       "        vertical-align: top;\n",
       "    }\n",
       "\n",
       "    .dataframe thead th {\n",
       "        text-align: right;\n",
       "    }\n",
       "</style>\n",
       "<table border=\"1\" class=\"dataframe\">\n",
       "  <thead>\n",
       "    <tr style=\"text-align: right;\">\n",
       "      <th></th>\n",
       "      <th>odds_ratio</th>\n",
       "      <th>pvalue</th>\n",
       "    </tr>\n",
       "    <tr>\n",
       "      <th>pathway</th>\n",
       "      <th></th>\n",
       "      <th></th>\n",
       "    </tr>\n",
       "  </thead>\n",
       "  <tbody>\n",
       "    <tr>\n",
       "      <th>35554</th>\n",
       "      <td>1384.800000</td>\n",
       "      <td>0.000086</td>\n",
       "    </tr>\n",
       "    <tr>\n",
       "      <th>35433</th>\n",
       "      <td>104.539394</td>\n",
       "      <td>0.003311</td>\n",
       "    </tr>\n",
       "  </tbody>\n",
       "</table>\n",
       "</div>"
      ],
      "text/plain": [
       "          odds_ratio    pvalue\n",
       "pathway                       \n",
       "35554    1384.800000  0.000086\n",
       "35433     104.539394  0.003311"
      ]
     },
     "execution_count": 288,
     "metadata": {},
     "output_type": "execute_result"
    }
   ],
   "source": [
    "cluster = 289\n",
    "pathways = infomap_results.loc[cluster].sort_values(by=\"odds_ratio\",ascending=False).index.values\n",
    "infomap_results.loc[cluster].sort_values(by=\"odds_ratio\",ascending=False)"
   ]
  },
  {
   "cell_type": "code",
   "execution_count": 289,
   "metadata": {},
   "outputs": [
    {
     "data": {
      "text/html": [
       "<div>\n",
       "<style scoped>\n",
       "    .dataframe tbody tr th:only-of-type {\n",
       "        vertical-align: middle;\n",
       "    }\n",
       "\n",
       "    .dataframe tbody tr th {\n",
       "        vertical-align: top;\n",
       "    }\n",
       "\n",
       "    .dataframe thead th {\n",
       "        text-align: right;\n",
       "    }\n",
       "</style>\n",
       "<table border=\"1\" class=\"dataframe\">\n",
       "  <thead>\n",
       "    <tr style=\"text-align: right;\">\n",
       "      <th></th>\n",
       "      <th>comunidad</th>\n",
       "      <th>tamaño</th>\n",
       "      <th>mean_sim_lsa_0</th>\n",
       "      <th>entropia_0</th>\n",
       "      <th>top_monogram</th>\n",
       "      <th>top_5_monogram</th>\n",
       "      <th>top_monogram_score</th>\n",
       "      <th>top_5_monogram_score</th>\n",
       "    </tr>\n",
       "  </thead>\n",
       "  <tbody>\n",
       "    <tr>\n",
       "      <th>186</th>\n",
       "      <td>289</td>\n",
       "      <td>17</td>\n",
       "      <td>0.49</td>\n",
       "      <td>0.46</td>\n",
       "      <td>neurofibromatosis</td>\n",
       "      <td>[neurofibromatosis, schwannomas, au, lait, nf1]</td>\n",
       "      <td>0.7</td>\n",
       "      <td>[0.7, 0.32, 0.2, 0.2, 0.2]</td>\n",
       "    </tr>\n",
       "  </tbody>\n",
       "</table>\n",
       "</div>"
      ],
      "text/plain": [
       "     comunidad  tamaño  mean_sim_lsa_0  entropia_0       top_monogram  \\\n",
       "186        289      17            0.49        0.46  neurofibromatosis   \n",
       "\n",
       "                                      top_5_monogram top_monogram_score  \\\n",
       "186  [neurofibromatosis, schwannomas, au, lait, nf1]                0.7   \n",
       "\n",
       "           top_5_monogram_score  \n",
       "186  [0.7, 0.32, 0.2, 0.2, 0.2]  "
      ]
     },
     "execution_count": 289,
     "metadata": {},
     "output_type": "execute_result"
    }
   ],
   "source": [
    "infomap_summary[infomap_summary.comunidad == cluster]"
   ]
  },
  {
   "cell_type": "code",
   "execution_count": 290,
   "metadata": {},
   "outputs": [
    {
     "data": {
      "text/html": [
       "<div>\n",
       "<style scoped>\n",
       "    .dataframe tbody tr th:only-of-type {\n",
       "        vertical-align: middle;\n",
       "    }\n",
       "\n",
       "    .dataframe tbody tr th {\n",
       "        vertical-align: top;\n",
       "    }\n",
       "\n",
       "    .dataframe thead th {\n",
       "        text-align: right;\n",
       "    }\n",
       "</style>\n",
       "<table border=\"1\" class=\"dataframe\">\n",
       "  <thead>\n",
       "    <tr style=\"text-align: right;\">\n",
       "      <th></th>\n",
       "      <th>node_index</th>\n",
       "      <th>node_id</th>\n",
       "      <th>node_name</th>\n",
       "      <th>node_type</th>\n",
       "      <th>node_source</th>\n",
       "      <th>comunidades_infomap</th>\n",
       "      <th>comunidades_louvain</th>\n",
       "      <th>degree_gda</th>\n",
       "      <th>degree_pp</th>\n",
       "      <th>degree_dd</th>\n",
       "    </tr>\n",
       "  </thead>\n",
       "  <tbody>\n",
       "    <tr>\n",
       "      <th>13430</th>\n",
       "      <td>14200</td>\n",
       "      <td>7039_7245_18975_21061_8075</td>\n",
       "      <td>neurofibromatosis</td>\n",
       "      <td>bert_group</td>\n",
       "      <td>primekg</td>\n",
       "      <td>289.0</td>\n",
       "      <td>28.0</td>\n",
       "      <td>0.0</td>\n",
       "      <td>0.0</td>\n",
       "      <td>20.0</td>\n",
       "    </tr>\n",
       "    <tr>\n",
       "      <th>19165</th>\n",
       "      <td>20255</td>\n",
       "      <td>C0027831</td>\n",
       "      <td>Neurofibromatosis 1</td>\n",
       "      <td>disease</td>\n",
       "      <td>disgenet</td>\n",
       "      <td>289.0</td>\n",
       "      <td>28.0</td>\n",
       "      <td>2.0</td>\n",
       "      <td>0.0</td>\n",
       "      <td>1.0</td>\n",
       "    </tr>\n",
       "    <tr>\n",
       "      <th>23274</th>\n",
       "      <td>5393</td>\n",
       "      <td>24517_14299</td>\n",
       "      <td>schwannomatosis</td>\n",
       "      <td>bert_group</td>\n",
       "      <td>primekg</td>\n",
       "      <td>289.0</td>\n",
       "      <td>28.0</td>\n",
       "      <td>0.0</td>\n",
       "      <td>0.0</td>\n",
       "      <td>3.0</td>\n",
       "    </tr>\n",
       "    <tr>\n",
       "      <th>23275</th>\n",
       "      <td>31999</td>\n",
       "      <td>C3810283</td>\n",
       "      <td>SCHWANNOMATOSIS 2</td>\n",
       "      <td>disease</td>\n",
       "      <td>disgenet</td>\n",
       "      <td>289.0</td>\n",
       "      <td>28.0</td>\n",
       "      <td>1.0</td>\n",
       "      <td>0.0</td>\n",
       "      <td>1.0</td>\n",
       "    </tr>\n",
       "    <tr>\n",
       "      <th>23276</th>\n",
       "      <td>32514</td>\n",
       "      <td>C4048809</td>\n",
       "      <td>SCHWANNOMATOSIS 1</td>\n",
       "      <td>disease</td>\n",
       "      <td>disgenet</td>\n",
       "      <td>289.0</td>\n",
       "      <td>28.0</td>\n",
       "      <td>3.0</td>\n",
       "      <td>0.0</td>\n",
       "      <td>1.0</td>\n",
       "    </tr>\n",
       "    <tr>\n",
       "      <th>28508</th>\n",
       "      <td>25967</td>\n",
       "      <td>C0917817</td>\n",
       "      <td>Neurofibromatosis 3</td>\n",
       "      <td>disease</td>\n",
       "      <td>disgenet</td>\n",
       "      <td>289.0</td>\n",
       "      <td>28.0</td>\n",
       "      <td>5.0</td>\n",
       "      <td>0.0</td>\n",
       "      <td>1.0</td>\n",
       "    </tr>\n",
       "    <tr>\n",
       "      <th>28509</th>\n",
       "      <td>21861</td>\n",
       "      <td>C0162678</td>\n",
       "      <td>Neurofibromatoses</td>\n",
       "      <td>disease</td>\n",
       "      <td>disgenet</td>\n",
       "      <td>289.0</td>\n",
       "      <td>28.0</td>\n",
       "      <td>1.0</td>\n",
       "      <td>0.0</td>\n",
       "      <td>1.0</td>\n",
       "    </tr>\n",
       "    <tr>\n",
       "      <th>28513</th>\n",
       "      <td>30683</td>\n",
       "      <td>C3150928</td>\n",
       "      <td>NF1 Microdeletion Syndrome</td>\n",
       "      <td>disease</td>\n",
       "      <td>disgenet</td>\n",
       "      <td>289.0</td>\n",
       "      <td>28.0</td>\n",
       "      <td>2.0</td>\n",
       "      <td>0.0</td>\n",
       "      <td>1.0</td>\n",
       "    </tr>\n",
       "    <tr>\n",
       "      <th>28514</th>\n",
       "      <td>27303</td>\n",
       "      <td>C1834235</td>\n",
       "      <td>NEUROFIBROMATOSIS, FAMILIAL SPINAL</td>\n",
       "      <td>disease</td>\n",
       "      <td>disgenet</td>\n",
       "      <td>289.0</td>\n",
       "      <td>28.0</td>\n",
       "      <td>1.0</td>\n",
       "      <td>0.0</td>\n",
       "      <td>1.0</td>\n",
       "    </tr>\n",
       "    <tr>\n",
       "      <th>28519</th>\n",
       "      <td>26661</td>\n",
       "      <td>C1335929</td>\n",
       "      <td>Schwannomatosis</td>\n",
       "      <td>disease</td>\n",
       "      <td>disgenet</td>\n",
       "      <td>289.0</td>\n",
       "      <td>28.0</td>\n",
       "      <td>4.0</td>\n",
       "      <td>0.0</td>\n",
       "      <td>1.0</td>\n",
       "    </tr>\n",
       "    <tr>\n",
       "      <th>28521</th>\n",
       "      <td>26064</td>\n",
       "      <td>C1136043</td>\n",
       "      <td>Schwannoma, Acoustic, Bilateral</td>\n",
       "      <td>disease</td>\n",
       "      <td>disgenet</td>\n",
       "      <td>289.0</td>\n",
       "      <td>28.0</td>\n",
       "      <td>1.0</td>\n",
       "      <td>0.0</td>\n",
       "      <td>1.0</td>\n",
       "    </tr>\n",
       "    <tr>\n",
       "      <th>28522</th>\n",
       "      <td>26063</td>\n",
       "      <td>C1136042</td>\n",
       "      <td>Neuroma, Acoustic, Bilateral</td>\n",
       "      <td>disease</td>\n",
       "      <td>disgenet</td>\n",
       "      <td>289.0</td>\n",
       "      <td>28.0</td>\n",
       "      <td>1.0</td>\n",
       "      <td>0.0</td>\n",
       "      <td>1.0</td>\n",
       "    </tr>\n",
       "    <tr>\n",
       "      <th>28524</th>\n",
       "      <td>30360</td>\n",
       "      <td>C2931480</td>\n",
       "      <td>Neurofibromatosis, Type 3, mixed central and p...</td>\n",
       "      <td>disease</td>\n",
       "      <td>disgenet</td>\n",
       "      <td>289.0</td>\n",
       "      <td>28.0</td>\n",
       "      <td>4.0</td>\n",
       "      <td>0.0</td>\n",
       "      <td>1.0</td>\n",
       "    </tr>\n",
       "    <tr>\n",
       "      <th>28526</th>\n",
       "      <td>26062</td>\n",
       "      <td>C1136041</td>\n",
       "      <td>Familial Acoustic Neuroma</td>\n",
       "      <td>disease</td>\n",
       "      <td>disgenet</td>\n",
       "      <td>289.0</td>\n",
       "      <td>28.0</td>\n",
       "      <td>1.0</td>\n",
       "      <td>0.0</td>\n",
       "      <td>1.0</td>\n",
       "    </tr>\n",
       "    <tr>\n",
       "      <th>28528</th>\n",
       "      <td>20256</td>\n",
       "      <td>C0027832</td>\n",
       "      <td>Neurofibromatosis 2</td>\n",
       "      <td>disease</td>\n",
       "      <td>disgenet</td>\n",
       "      <td>289.0</td>\n",
       "      <td>28.0</td>\n",
       "      <td>1.0</td>\n",
       "      <td>0.0</td>\n",
       "      <td>1.0</td>\n",
       "    </tr>\n",
       "    <tr>\n",
       "      <th>31888</th>\n",
       "      <td>28840</td>\n",
       "      <td>C1861975</td>\n",
       "      <td>Cafe au lait spots, multiple</td>\n",
       "      <td>disease</td>\n",
       "      <td>disgenet</td>\n",
       "      <td>289.0</td>\n",
       "      <td>28.0</td>\n",
       "      <td>0.0</td>\n",
       "      <td>0.0</td>\n",
       "      <td>1.0</td>\n",
       "    </tr>\n",
       "    <tr>\n",
       "      <th>31890</th>\n",
       "      <td>22126</td>\n",
       "      <td>C0220695</td>\n",
       "      <td>Neurofibromatosis, type 4, of Riccardi</td>\n",
       "      <td>disease</td>\n",
       "      <td>disgenet</td>\n",
       "      <td>289.0</td>\n",
       "      <td>28.0</td>\n",
       "      <td>0.0</td>\n",
       "      <td>0.0</td>\n",
       "      <td>1.0</td>\n",
       "    </tr>\n",
       "  </tbody>\n",
       "</table>\n",
       "</div>"
      ],
      "text/plain": [
       "       node_index                     node_id  \\\n",
       "13430       14200  7039_7245_18975_21061_8075   \n",
       "19165       20255                    C0027831   \n",
       "23274        5393                 24517_14299   \n",
       "23275       31999                    C3810283   \n",
       "23276       32514                    C4048809   \n",
       "28508       25967                    C0917817   \n",
       "28509       21861                    C0162678   \n",
       "28513       30683                    C3150928   \n",
       "28514       27303                    C1834235   \n",
       "28519       26661                    C1335929   \n",
       "28521       26064                    C1136043   \n",
       "28522       26063                    C1136042   \n",
       "28524       30360                    C2931480   \n",
       "28526       26062                    C1136041   \n",
       "28528       20256                    C0027832   \n",
       "31888       28840                    C1861975   \n",
       "31890       22126                    C0220695   \n",
       "\n",
       "                                               node_name   node_type  \\\n",
       "13430                                  neurofibromatosis  bert_group   \n",
       "19165                                Neurofibromatosis 1     disease   \n",
       "23274                                    schwannomatosis  bert_group   \n",
       "23275                                  SCHWANNOMATOSIS 2     disease   \n",
       "23276                                  SCHWANNOMATOSIS 1     disease   \n",
       "28508                                Neurofibromatosis 3     disease   \n",
       "28509                                  Neurofibromatoses     disease   \n",
       "28513                         NF1 Microdeletion Syndrome     disease   \n",
       "28514                 NEUROFIBROMATOSIS, FAMILIAL SPINAL     disease   \n",
       "28519                                    Schwannomatosis     disease   \n",
       "28521                    Schwannoma, Acoustic, Bilateral     disease   \n",
       "28522                       Neuroma, Acoustic, Bilateral     disease   \n",
       "28524  Neurofibromatosis, Type 3, mixed central and p...     disease   \n",
       "28526                          Familial Acoustic Neuroma     disease   \n",
       "28528                                Neurofibromatosis 2     disease   \n",
       "31888                       Cafe au lait spots, multiple     disease   \n",
       "31890             Neurofibromatosis, type 4, of Riccardi     disease   \n",
       "\n",
       "      node_source  comunidades_infomap  comunidades_louvain  degree_gda  \\\n",
       "13430     primekg                289.0                 28.0         0.0   \n",
       "19165    disgenet                289.0                 28.0         2.0   \n",
       "23274     primekg                289.0                 28.0         0.0   \n",
       "23275    disgenet                289.0                 28.0         1.0   \n",
       "23276    disgenet                289.0                 28.0         3.0   \n",
       "28508    disgenet                289.0                 28.0         5.0   \n",
       "28509    disgenet                289.0                 28.0         1.0   \n",
       "28513    disgenet                289.0                 28.0         2.0   \n",
       "28514    disgenet                289.0                 28.0         1.0   \n",
       "28519    disgenet                289.0                 28.0         4.0   \n",
       "28521    disgenet                289.0                 28.0         1.0   \n",
       "28522    disgenet                289.0                 28.0         1.0   \n",
       "28524    disgenet                289.0                 28.0         4.0   \n",
       "28526    disgenet                289.0                 28.0         1.0   \n",
       "28528    disgenet                289.0                 28.0         1.0   \n",
       "31888    disgenet                289.0                 28.0         0.0   \n",
       "31890    disgenet                289.0                 28.0         0.0   \n",
       "\n",
       "       degree_pp  degree_dd  \n",
       "13430        0.0       20.0  \n",
       "19165        0.0        1.0  \n",
       "23274        0.0        3.0  \n",
       "23275        0.0        1.0  \n",
       "23276        0.0        1.0  \n",
       "28508        0.0        1.0  \n",
       "28509        0.0        1.0  \n",
       "28513        0.0        1.0  \n",
       "28514        0.0        1.0  \n",
       "28519        0.0        1.0  \n",
       "28521        0.0        1.0  \n",
       "28522        0.0        1.0  \n",
       "28524        0.0        1.0  \n",
       "28526        0.0        1.0  \n",
       "28528        0.0        1.0  \n",
       "31888        0.0        1.0  \n",
       "31890        0.0        1.0  "
      ]
     },
     "execution_count": 290,
     "metadata": {},
     "output_type": "execute_result"
    }
   ],
   "source": [
    "graph_node_data[graph_node_data.comunidades_infomap == cluster]"
   ]
  },
  {
   "cell_type": "code",
   "execution_count": 291,
   "metadata": {},
   "outputs": [
    {
     "data": {
      "text/html": [
       "<div>\n",
       "<style scoped>\n",
       "    .dataframe tbody tr th:only-of-type {\n",
       "        vertical-align: middle;\n",
       "    }\n",
       "\n",
       "    .dataframe tbody tr th {\n",
       "        vertical-align: top;\n",
       "    }\n",
       "\n",
       "    .dataframe thead th {\n",
       "        text-align: right;\n",
       "    }\n",
       "</style>\n",
       "<table border=\"1\" class=\"dataframe\">\n",
       "  <thead>\n",
       "    <tr style=\"text-align: right;\">\n",
       "      <th></th>\n",
       "      <th>node_id</th>\n",
       "      <th>node_name</th>\n",
       "      <th>node_type</th>\n",
       "      <th>node_source</th>\n",
       "      <th>comunidades_infomap</th>\n",
       "      <th>comunidades_louvain</th>\n",
       "      <th>degree_gda</th>\n",
       "      <th>degree_pp</th>\n",
       "      <th>degree_dd</th>\n",
       "    </tr>\n",
       "    <tr>\n",
       "      <th>node_index</th>\n",
       "      <th></th>\n",
       "      <th></th>\n",
       "      <th></th>\n",
       "      <th></th>\n",
       "      <th></th>\n",
       "      <th></th>\n",
       "      <th></th>\n",
       "      <th></th>\n",
       "      <th></th>\n",
       "    </tr>\n",
       "  </thead>\n",
       "  <tbody>\n",
       "    <tr>\n",
       "      <th>35554</th>\n",
       "      <td>R-HSA-6802953</td>\n",
       "      <td>RAS signaling downstream of NF1 loss-of-functi...</td>\n",
       "      <td>pathway</td>\n",
       "      <td>primekg_REACTOME</td>\n",
       "      <td>NaN</td>\n",
       "      <td>NaN</td>\n",
       "      <td>0.0</td>\n",
       "      <td>7.0</td>\n",
       "      <td>0.0</td>\n",
       "    </tr>\n",
       "    <tr>\n",
       "      <th>35433</th>\n",
       "      <td>R-HSA-5658442</td>\n",
       "      <td>Regulation of RAS by GAPs</td>\n",
       "      <td>pathway</td>\n",
       "      <td>primekg_REACTOME</td>\n",
       "      <td>NaN</td>\n",
       "      <td>NaN</td>\n",
       "      <td>0.0</td>\n",
       "      <td>68.0</td>\n",
       "      <td>0.0</td>\n",
       "    </tr>\n",
       "  </tbody>\n",
       "</table>\n",
       "</div>"
      ],
      "text/plain": [
       "                  node_id                                          node_name  \\\n",
       "node_index                                                                     \n",
       "35554       R-HSA-6802953  RAS signaling downstream of NF1 loss-of-functi...   \n",
       "35433       R-HSA-5658442                          Regulation of RAS by GAPs   \n",
       "\n",
       "           node_type       node_source  comunidades_infomap  \\\n",
       "node_index                                                    \n",
       "35554        pathway  primekg_REACTOME                  NaN   \n",
       "35433        pathway  primekg_REACTOME                  NaN   \n",
       "\n",
       "            comunidades_louvain  degree_gda  degree_pp  degree_dd  \n",
       "node_index                                                         \n",
       "35554                       NaN         0.0        7.0        0.0  \n",
       "35433                       NaN         0.0       68.0        0.0  "
      ]
     },
     "execution_count": 291,
     "metadata": {},
     "output_type": "execute_result"
    }
   ],
   "source": [
    "graph_node_data.set_index(\"node_index\").loc[pathways]"
   ]
  },
  {
   "cell_type": "markdown",
   "metadata": {},
   "source": [
    "Armar un pipeline \"keyword\" -> cluster -> wordcloud, pathways"
   ]
  },
  {
   "cell_type": "markdown",
   "metadata": {},
   "source": [
    "## Louvain"
   ]
  },
  {
   "cell_type": "code",
   "execution_count": 277,
   "metadata": {},
   "outputs": [
    {
     "data": {
      "text/html": [
       "<div>\n",
       "<style scoped>\n",
       "    .dataframe tbody tr th:only-of-type {\n",
       "        vertical-align: middle;\n",
       "    }\n",
       "\n",
       "    .dataframe tbody tr th {\n",
       "        vertical-align: top;\n",
       "    }\n",
       "\n",
       "    .dataframe thead th {\n",
       "        text-align: right;\n",
       "    }\n",
       "</style>\n",
       "<table border=\"1\" class=\"dataframe\">\n",
       "  <thead>\n",
       "    <tr style=\"text-align: right;\">\n",
       "      <th></th>\n",
       "      <th>odds_ratio</th>\n",
       "      <th>pvalue</th>\n",
       "    </tr>\n",
       "    <tr>\n",
       "      <th>pathway</th>\n",
       "      <th></th>\n",
       "      <th></th>\n",
       "    </tr>\n",
       "  </thead>\n",
       "  <tbody>\n",
       "    <tr>\n",
       "      <th>36112</th>\n",
       "      <td>inf</td>\n",
       "      <td>0.004476</td>\n",
       "    </tr>\n",
       "    <tr>\n",
       "      <th>36061</th>\n",
       "      <td>inf</td>\n",
       "      <td>0.000208</td>\n",
       "    </tr>\n",
       "    <tr>\n",
       "      <th>36031</th>\n",
       "      <td>inf</td>\n",
       "      <td>0.000208</td>\n",
       "    </tr>\n",
       "    <tr>\n",
       "      <th>36030</th>\n",
       "      <td>inf</td>\n",
       "      <td>0.004476</td>\n",
       "    </tr>\n",
       "    <tr>\n",
       "      <th>36029</th>\n",
       "      <td>inf</td>\n",
       "      <td>0.000208</td>\n",
       "    </tr>\n",
       "    <tr>\n",
       "      <th>...</th>\n",
       "      <td>...</td>\n",
       "      <td>...</td>\n",
       "    </tr>\n",
       "    <tr>\n",
       "      <th>36212</th>\n",
       "      <td>4.895217</td>\n",
       "      <td>0.001288</td>\n",
       "    </tr>\n",
       "    <tr>\n",
       "      <th>36203</th>\n",
       "      <td>4.305569</td>\n",
       "      <td>0.004769</td>\n",
       "    </tr>\n",
       "    <tr>\n",
       "      <th>35909</th>\n",
       "      <td>4.259820</td>\n",
       "      <td>0.001002</td>\n",
       "    </tr>\n",
       "    <tr>\n",
       "      <th>35804</th>\n",
       "      <td>4.067662</td>\n",
       "      <td>0.003826</td>\n",
       "    </tr>\n",
       "    <tr>\n",
       "      <th>35548</th>\n",
       "      <td>2.986656</td>\n",
       "      <td>0.000076</td>\n",
       "    </tr>\n",
       "  </tbody>\n",
       "</table>\n",
       "<p>163 rows × 2 columns</p>\n",
       "</div>"
      ],
      "text/plain": [
       "         odds_ratio    pvalue\n",
       "pathway                      \n",
       "36112           inf  0.004476\n",
       "36061           inf  0.000208\n",
       "36031           inf  0.000208\n",
       "36030           inf  0.004476\n",
       "36029           inf  0.000208\n",
       "...             ...       ...\n",
       "36212      4.895217  0.001288\n",
       "36203      4.305569  0.004769\n",
       "35909      4.259820  0.001002\n",
       "35804      4.067662  0.003826\n",
       "35548      2.986656  0.000076\n",
       "\n",
       "[163 rows x 2 columns]"
      ]
     },
     "execution_count": 277,
     "metadata": {},
     "output_type": "execute_result"
    }
   ],
   "source": [
    "cluster = 28\n",
    "pathways = louvain_results.loc[cluster].sort_values(by=\"odds_ratio\",ascending=False).index.values\n",
    "louvain_results.loc[cluster].sort_values(by=\"odds_ratio\",ascending=False)"
   ]
  },
  {
   "cell_type": "code",
   "execution_count": 278,
   "metadata": {},
   "outputs": [
    {
     "data": {
      "text/html": [
       "<div>\n",
       "<style scoped>\n",
       "    .dataframe tbody tr th:only-of-type {\n",
       "        vertical-align: middle;\n",
       "    }\n",
       "\n",
       "    .dataframe tbody tr th {\n",
       "        vertical-align: top;\n",
       "    }\n",
       "\n",
       "    .dataframe thead th {\n",
       "        text-align: right;\n",
       "    }\n",
       "</style>\n",
       "<table border=\"1\" class=\"dataframe\">\n",
       "  <thead>\n",
       "    <tr style=\"text-align: right;\">\n",
       "      <th></th>\n",
       "      <th>comunidad</th>\n",
       "      <th>tamaño</th>\n",
       "      <th>mean_sim_lsa_0</th>\n",
       "      <th>entropia_0</th>\n",
       "      <th>top_monogram</th>\n",
       "      <th>top_5_monogram</th>\n",
       "      <th>top_monogram_score</th>\n",
       "      <th>top_5_monogram_score</th>\n",
       "    </tr>\n",
       "  </thead>\n",
       "  <tbody>\n",
       "    <tr>\n",
       "      <th>29</th>\n",
       "      <td>28</td>\n",
       "      <td>177</td>\n",
       "      <td>0.19</td>\n",
       "      <td>0.67</td>\n",
       "      <td>tumor</td>\n",
       "      <td>[tumor, astrocytoma, neoplasm, malignant, cell]</td>\n",
       "      <td>0.41</td>\n",
       "      <td>[0.41, 0.36, 0.27, 0.24, 0.23]</td>\n",
       "    </tr>\n",
       "  </tbody>\n",
       "</table>\n",
       "</div>"
      ],
      "text/plain": [
       "    comunidad  tamaño  mean_sim_lsa_0  entropia_0 top_monogram  \\\n",
       "29         28     177            0.19        0.67        tumor   \n",
       "\n",
       "                                     top_5_monogram top_monogram_score  \\\n",
       "29  [tumor, astrocytoma, neoplasm, malignant, cell]               0.41   \n",
       "\n",
       "              top_5_monogram_score  \n",
       "29  [0.41, 0.36, 0.27, 0.24, 0.23]  "
      ]
     },
     "execution_count": 278,
     "metadata": {},
     "output_type": "execute_result"
    }
   ],
   "source": [
    "louvain_summary[louvain_summary.comunidad == cluster]"
   ]
  },
  {
   "cell_type": "code",
   "execution_count": 279,
   "metadata": {},
   "outputs": [
    {
     "data": {
      "text/html": [
       "<div>\n",
       "<style scoped>\n",
       "    .dataframe tbody tr th:only-of-type {\n",
       "        vertical-align: middle;\n",
       "    }\n",
       "\n",
       "    .dataframe tbody tr th {\n",
       "        vertical-align: top;\n",
       "    }\n",
       "\n",
       "    .dataframe thead th {\n",
       "        text-align: right;\n",
       "    }\n",
       "</style>\n",
       "<table border=\"1\" class=\"dataframe\">\n",
       "  <thead>\n",
       "    <tr style=\"text-align: right;\">\n",
       "      <th></th>\n",
       "      <th>node_index</th>\n",
       "      <th>node_id</th>\n",
       "      <th>node_name</th>\n",
       "      <th>node_type</th>\n",
       "      <th>node_source</th>\n",
       "      <th>comunidades_infomap</th>\n",
       "      <th>comunidades_louvain</th>\n",
       "      <th>degree_gda</th>\n",
       "      <th>degree_pp</th>\n",
       "      <th>degree_dd</th>\n",
       "    </tr>\n",
       "  </thead>\n",
       "  <tbody>\n",
       "    <tr>\n",
       "      <th>163</th>\n",
       "      <td>27001</td>\n",
       "      <td>C1621958</td>\n",
       "      <td>Glioblastoma Multiforme</td>\n",
       "      <td>disease</td>\n",
       "      <td>disgenet</td>\n",
       "      <td>217.0</td>\n",
       "      <td>28.0</td>\n",
       "      <td>111.0</td>\n",
       "      <td>0.0</td>\n",
       "      <td>7.0</td>\n",
       "    </tr>\n",
       "    <tr>\n",
       "      <th>549</th>\n",
       "      <td>21959</td>\n",
       "      <td>C0205944</td>\n",
       "      <td>Sarcoma, Epithelioid</td>\n",
       "      <td>disease</td>\n",
       "      <td>disgenet</td>\n",
       "      <td>464.0</td>\n",
       "      <td>28.0</td>\n",
       "      <td>14.0</td>\n",
       "      <td>0.0</td>\n",
       "      <td>1.0</td>\n",
       "    </tr>\n",
       "    <tr>\n",
       "      <th>3796</th>\n",
       "      <td>18771</td>\n",
       "      <td>C0006118</td>\n",
       "      <td>Brain Neoplasms</td>\n",
       "      <td>disease</td>\n",
       "      <td>disgenet</td>\n",
       "      <td>110.0</td>\n",
       "      <td>28.0</td>\n",
       "      <td>39.0</td>\n",
       "      <td>0.0</td>\n",
       "      <td>16.0</td>\n",
       "    </tr>\n",
       "    <tr>\n",
       "      <th>3813</th>\n",
       "      <td>21627</td>\n",
       "      <td>C0153633</td>\n",
       "      <td>Malignant neoplasm of brain</td>\n",
       "      <td>disease</td>\n",
       "      <td>disgenet</td>\n",
       "      <td>110.0</td>\n",
       "      <td>28.0</td>\n",
       "      <td>38.0</td>\n",
       "      <td>0.0</td>\n",
       "      <td>5.0</td>\n",
       "    </tr>\n",
       "    <tr>\n",
       "      <th>3821</th>\n",
       "      <td>25020</td>\n",
       "      <td>C0677866</td>\n",
       "      <td>Brain Stem Neoplasms</td>\n",
       "      <td>disease</td>\n",
       "      <td>disgenet</td>\n",
       "      <td>57.0</td>\n",
       "      <td>28.0</td>\n",
       "      <td>4.0</td>\n",
       "      <td>0.0</td>\n",
       "      <td>3.0</td>\n",
       "    </tr>\n",
       "    <tr>\n",
       "      <th>...</th>\n",
       "      <td>...</td>\n",
       "      <td>...</td>\n",
       "      <td>...</td>\n",
       "      <td>...</td>\n",
       "      <td>...</td>\n",
       "      <td>...</td>\n",
       "      <td>...</td>\n",
       "      <td>...</td>\n",
       "      <td>...</td>\n",
       "      <td>...</td>\n",
       "    </tr>\n",
       "    <tr>\n",
       "      <th>35743</th>\n",
       "      <td>26402</td>\n",
       "      <td>C1321427</td>\n",
       "      <td>Epithelioid Malignant Peripheral Nerve Sheath ...</td>\n",
       "      <td>disease</td>\n",
       "      <td>disgenet</td>\n",
       "      <td>465.0</td>\n",
       "      <td>28.0</td>\n",
       "      <td>0.0</td>\n",
       "      <td>0.0</td>\n",
       "      <td>1.0</td>\n",
       "    </tr>\n",
       "    <tr>\n",
       "      <th>35744</th>\n",
       "      <td>26730</td>\n",
       "      <td>C1370658</td>\n",
       "      <td>Intraneural perineurioma</td>\n",
       "      <td>disease</td>\n",
       "      <td>disgenet</td>\n",
       "      <td>444.0</td>\n",
       "      <td>28.0</td>\n",
       "      <td>0.0</td>\n",
       "      <td>0.0</td>\n",
       "      <td>2.0</td>\n",
       "    </tr>\n",
       "    <tr>\n",
       "      <th>35772</th>\n",
       "      <td>26145</td>\n",
       "      <td>C1263886</td>\n",
       "      <td>Neoplasm of frontal lobe</td>\n",
       "      <td>disease</td>\n",
       "      <td>disgenet</td>\n",
       "      <td>110.0</td>\n",
       "      <td>28.0</td>\n",
       "      <td>0.0</td>\n",
       "      <td>0.0</td>\n",
       "      <td>1.0</td>\n",
       "    </tr>\n",
       "    <tr>\n",
       "      <th>35773</th>\n",
       "      <td>26146</td>\n",
       "      <td>C1263887</td>\n",
       "      <td>Neoplasm of temporal lobe</td>\n",
       "      <td>disease</td>\n",
       "      <td>disgenet</td>\n",
       "      <td>110.0</td>\n",
       "      <td>28.0</td>\n",
       "      <td>0.0</td>\n",
       "      <td>0.0</td>\n",
       "      <td>1.0</td>\n",
       "    </tr>\n",
       "    <tr>\n",
       "      <th>35783</th>\n",
       "      <td>32199</td>\n",
       "      <td>C3898569</td>\n",
       "      <td>Low Grade Astrocytic Tumor</td>\n",
       "      <td>disease</td>\n",
       "      <td>disgenet</td>\n",
       "      <td>218.0</td>\n",
       "      <td>28.0</td>\n",
       "      <td>0.0</td>\n",
       "      <td>0.0</td>\n",
       "      <td>2.0</td>\n",
       "    </tr>\n",
       "  </tbody>\n",
       "</table>\n",
       "<p>177 rows × 10 columns</p>\n",
       "</div>"
      ],
      "text/plain": [
       "       node_index   node_id  \\\n",
       "163         27001  C1621958   \n",
       "549         21959  C0205944   \n",
       "3796        18771  C0006118   \n",
       "3813        21627  C0153633   \n",
       "3821        25020  C0677866   \n",
       "...           ...       ...   \n",
       "35743       26402  C1321427   \n",
       "35744       26730  C1370658   \n",
       "35772       26145  C1263886   \n",
       "35773       26146  C1263887   \n",
       "35783       32199  C3898569   \n",
       "\n",
       "                                               node_name node_type  \\\n",
       "163                              Glioblastoma Multiforme   disease   \n",
       "549                                 Sarcoma, Epithelioid   disease   \n",
       "3796                                     Brain Neoplasms   disease   \n",
       "3813                         Malignant neoplasm of brain   disease   \n",
       "3821                                Brain Stem Neoplasms   disease   \n",
       "...                                                  ...       ...   \n",
       "35743  Epithelioid Malignant Peripheral Nerve Sheath ...   disease   \n",
       "35744                           Intraneural perineurioma   disease   \n",
       "35772                           Neoplasm of frontal lobe   disease   \n",
       "35773                          Neoplasm of temporal lobe   disease   \n",
       "35783                         Low Grade Astrocytic Tumor   disease   \n",
       "\n",
       "      node_source  comunidades_infomap  comunidades_louvain  degree_gda  \\\n",
       "163      disgenet                217.0                 28.0       111.0   \n",
       "549      disgenet                464.0                 28.0        14.0   \n",
       "3796     disgenet                110.0                 28.0        39.0   \n",
       "3813     disgenet                110.0                 28.0        38.0   \n",
       "3821     disgenet                 57.0                 28.0         4.0   \n",
       "...           ...                  ...                  ...         ...   \n",
       "35743    disgenet                465.0                 28.0         0.0   \n",
       "35744    disgenet                444.0                 28.0         0.0   \n",
       "35772    disgenet                110.0                 28.0         0.0   \n",
       "35773    disgenet                110.0                 28.0         0.0   \n",
       "35783    disgenet                218.0                 28.0         0.0   \n",
       "\n",
       "       degree_pp  degree_dd  \n",
       "163          0.0        7.0  \n",
       "549          0.0        1.0  \n",
       "3796         0.0       16.0  \n",
       "3813         0.0        5.0  \n",
       "3821         0.0        3.0  \n",
       "...          ...        ...  \n",
       "35743        0.0        1.0  \n",
       "35744        0.0        2.0  \n",
       "35772        0.0        1.0  \n",
       "35773        0.0        1.0  \n",
       "35783        0.0        2.0  \n",
       "\n",
       "[177 rows x 10 columns]"
      ]
     },
     "execution_count": 279,
     "metadata": {},
     "output_type": "execute_result"
    }
   ],
   "source": [
    "graph_node_data[graph_node_data.comunidades_louvain == cluster]"
   ]
  },
  {
   "cell_type": "code",
   "execution_count": 280,
   "metadata": {},
   "outputs": [
    {
     "data": {
      "text/html": [
       "<div>\n",
       "<style scoped>\n",
       "    .dataframe tbody tr th:only-of-type {\n",
       "        vertical-align: middle;\n",
       "    }\n",
       "\n",
       "    .dataframe tbody tr th {\n",
       "        vertical-align: top;\n",
       "    }\n",
       "\n",
       "    .dataframe thead th {\n",
       "        text-align: right;\n",
       "    }\n",
       "</style>\n",
       "<table border=\"1\" class=\"dataframe\">\n",
       "  <thead>\n",
       "    <tr style=\"text-align: right;\">\n",
       "      <th></th>\n",
       "      <th>node_id</th>\n",
       "      <th>node_name</th>\n",
       "      <th>node_type</th>\n",
       "      <th>node_source</th>\n",
       "      <th>comunidades_infomap</th>\n",
       "      <th>comunidades_louvain</th>\n",
       "      <th>degree_gda</th>\n",
       "      <th>degree_pp</th>\n",
       "      <th>degree_dd</th>\n",
       "    </tr>\n",
       "    <tr>\n",
       "      <th>node_index</th>\n",
       "      <th></th>\n",
       "      <th></th>\n",
       "      <th></th>\n",
       "      <th></th>\n",
       "      <th></th>\n",
       "      <th></th>\n",
       "      <th></th>\n",
       "      <th></th>\n",
       "      <th></th>\n",
       "    </tr>\n",
       "  </thead>\n",
       "  <tbody>\n",
       "    <tr>\n",
       "      <th>36112</th>\n",
       "      <td>R-HSA-9670615</td>\n",
       "      <td>Defective Inhibition of DNA Recombination at T...</td>\n",
       "      <td>pathway</td>\n",
       "      <td>primekg_REACTOME</td>\n",
       "      <td>NaN</td>\n",
       "      <td>NaN</td>\n",
       "      <td>0.0</td>\n",
       "      <td>2.0</td>\n",
       "      <td>0.0</td>\n",
       "    </tr>\n",
       "    <tr>\n",
       "      <th>36061</th>\n",
       "      <td>R-HSA-9649913</td>\n",
       "      <td>RAS GTPase cycle mutants</td>\n",
       "      <td>pathway</td>\n",
       "      <td>primekg_REACTOME</td>\n",
       "      <td>NaN</td>\n",
       "      <td>NaN</td>\n",
       "      <td>0.0</td>\n",
       "      <td>3.0</td>\n",
       "      <td>0.0</td>\n",
       "    </tr>\n",
       "    <tr>\n",
       "      <th>36031</th>\n",
       "      <td>R-HSA-9632700</td>\n",
       "      <td>Evasion of Oxidative Stress Induced Senescence...</td>\n",
       "      <td>pathway</td>\n",
       "      <td>primekg_REACTOME</td>\n",
       "      <td>NaN</td>\n",
       "      <td>NaN</td>\n",
       "      <td>0.0</td>\n",
       "      <td>3.0</td>\n",
       "      <td>0.0</td>\n",
       "    </tr>\n",
       "    <tr>\n",
       "      <th>36030</th>\n",
       "      <td>R-HSA-9632697</td>\n",
       "      <td>Evasion of Oxidative Stress Induced Senescence...</td>\n",
       "      <td>pathway</td>\n",
       "      <td>primekg_REACTOME</td>\n",
       "      <td>NaN</td>\n",
       "      <td>NaN</td>\n",
       "      <td>0.0</td>\n",
       "      <td>2.0</td>\n",
       "      <td>0.0</td>\n",
       "    </tr>\n",
       "    <tr>\n",
       "      <th>36029</th>\n",
       "      <td>R-HSA-9630794</td>\n",
       "      <td>Evasion of Oncogene Induced Senescence Due to ...</td>\n",
       "      <td>pathway</td>\n",
       "      <td>primekg_REACTOME</td>\n",
       "      <td>NaN</td>\n",
       "      <td>NaN</td>\n",
       "      <td>0.0</td>\n",
       "      <td>3.0</td>\n",
       "      <td>0.0</td>\n",
       "    </tr>\n",
       "    <tr>\n",
       "      <th>...</th>\n",
       "      <td>...</td>\n",
       "      <td>...</td>\n",
       "      <td>...</td>\n",
       "      <td>...</td>\n",
       "      <td>...</td>\n",
       "      <td>...</td>\n",
       "      <td>...</td>\n",
       "      <td>...</td>\n",
       "      <td>...</td>\n",
       "    </tr>\n",
       "    <tr>\n",
       "      <th>36212</th>\n",
       "      <td>R-HSA-983231</td>\n",
       "      <td>Factors involved in megakaryocyte development ...</td>\n",
       "      <td>pathway</td>\n",
       "      <td>primekg_REACTOME</td>\n",
       "      <td>NaN</td>\n",
       "      <td>NaN</td>\n",
       "      <td>0.0</td>\n",
       "      <td>109.0</td>\n",
       "      <td>0.0</td>\n",
       "    </tr>\n",
       "    <tr>\n",
       "      <th>36203</th>\n",
       "      <td>R-HSA-977225</td>\n",
       "      <td>Amyloid fiber formation</td>\n",
       "      <td>pathway</td>\n",
       "      <td>primekg_REACTOME</td>\n",
       "      <td>NaN</td>\n",
       "      <td>NaN</td>\n",
       "      <td>0.0</td>\n",
       "      <td>110.0</td>\n",
       "      <td>0.0</td>\n",
       "    </tr>\n",
       "    <tr>\n",
       "      <th>35909</th>\n",
       "      <td>R-HSA-9018519</td>\n",
       "      <td>Estrogen-dependent gene expression</td>\n",
       "      <td>pathway</td>\n",
       "      <td>primekg_REACTOME</td>\n",
       "      <td>NaN</td>\n",
       "      <td>NaN</td>\n",
       "      <td>0.0</td>\n",
       "      <td>149.0</td>\n",
       "      <td>0.0</td>\n",
       "    </tr>\n",
       "    <tr>\n",
       "      <th>35804</th>\n",
       "      <td>R-HSA-8939236</td>\n",
       "      <td>RUNX1 regulates transcription of genes involve...</td>\n",
       "      <td>pathway</td>\n",
       "      <td>primekg_REACTOME</td>\n",
       "      <td>NaN</td>\n",
       "      <td>NaN</td>\n",
       "      <td>0.0</td>\n",
       "      <td>129.0</td>\n",
       "      <td>0.0</td>\n",
       "    </tr>\n",
       "    <tr>\n",
       "      <th>35548</th>\n",
       "      <td>R-HSA-6798695</td>\n",
       "      <td>Neutrophil degranulation</td>\n",
       "      <td>pathway</td>\n",
       "      <td>primekg_REACTOME</td>\n",
       "      <td>NaN</td>\n",
       "      <td>NaN</td>\n",
       "      <td>0.0</td>\n",
       "      <td>478.0</td>\n",
       "      <td>0.0</td>\n",
       "    </tr>\n",
       "  </tbody>\n",
       "</table>\n",
       "<p>163 rows × 9 columns</p>\n",
       "</div>"
      ],
      "text/plain": [
       "                  node_id                                          node_name  \\\n",
       "node_index                                                                     \n",
       "36112       R-HSA-9670615  Defective Inhibition of DNA Recombination at T...   \n",
       "36061       R-HSA-9649913                           RAS GTPase cycle mutants   \n",
       "36031       R-HSA-9632700  Evasion of Oxidative Stress Induced Senescence...   \n",
       "36030       R-HSA-9632697  Evasion of Oxidative Stress Induced Senescence...   \n",
       "36029       R-HSA-9630794  Evasion of Oncogene Induced Senescence Due to ...   \n",
       "...                   ...                                                ...   \n",
       "36212        R-HSA-983231  Factors involved in megakaryocyte development ...   \n",
       "36203        R-HSA-977225                            Amyloid fiber formation   \n",
       "35909       R-HSA-9018519                 Estrogen-dependent gene expression   \n",
       "35804       R-HSA-8939236  RUNX1 regulates transcription of genes involve...   \n",
       "35548       R-HSA-6798695                           Neutrophil degranulation   \n",
       "\n",
       "           node_type       node_source  comunidades_infomap  \\\n",
       "node_index                                                    \n",
       "36112        pathway  primekg_REACTOME                  NaN   \n",
       "36061        pathway  primekg_REACTOME                  NaN   \n",
       "36031        pathway  primekg_REACTOME                  NaN   \n",
       "36030        pathway  primekg_REACTOME                  NaN   \n",
       "36029        pathway  primekg_REACTOME                  NaN   \n",
       "...              ...               ...                  ...   \n",
       "36212        pathway  primekg_REACTOME                  NaN   \n",
       "36203        pathway  primekg_REACTOME                  NaN   \n",
       "35909        pathway  primekg_REACTOME                  NaN   \n",
       "35804        pathway  primekg_REACTOME                  NaN   \n",
       "35548        pathway  primekg_REACTOME                  NaN   \n",
       "\n",
       "            comunidades_louvain  degree_gda  degree_pp  degree_dd  \n",
       "node_index                                                         \n",
       "36112                       NaN         0.0        2.0        0.0  \n",
       "36061                       NaN         0.0        3.0        0.0  \n",
       "36031                       NaN         0.0        3.0        0.0  \n",
       "36030                       NaN         0.0        2.0        0.0  \n",
       "36029                       NaN         0.0        3.0        0.0  \n",
       "...                         ...         ...        ...        ...  \n",
       "36212                       NaN         0.0      109.0        0.0  \n",
       "36203                       NaN         0.0      110.0        0.0  \n",
       "35909                       NaN         0.0      149.0        0.0  \n",
       "35804                       NaN         0.0      129.0        0.0  \n",
       "35548                       NaN         0.0      478.0        0.0  \n",
       "\n",
       "[163 rows x 9 columns]"
      ]
     },
     "execution_count": 280,
     "metadata": {},
     "output_type": "execute_result"
    }
   ],
   "source": [
    "graph_node_data.set_index(\"node_index\").loc[pathways]"
   ]
  }
 ],
 "metadata": {
  "kernelspec": {
   "display_name": "Python 3.10.6 64-bit",
   "language": "python",
   "name": "python3"
  },
  "language_info": {
   "codemirror_mode": {
    "name": "ipython",
    "version": 3
   },
   "file_extension": ".py",
   "mimetype": "text/x-python",
   "name": "python",
   "nbconvert_exporter": "python",
   "pygments_lexer": "ipython3",
   "version": "3.10.6"
  },
  "orig_nbformat": 4,
  "vscode": {
   "interpreter": {
    "hash": "916dbcbb3f70747c44a77c7bcd40155683ae19c65e1c03b4aa3499c5328201f1"
   }
  }
 },
 "nbformat": 4,
 "nbformat_minor": 2
}
