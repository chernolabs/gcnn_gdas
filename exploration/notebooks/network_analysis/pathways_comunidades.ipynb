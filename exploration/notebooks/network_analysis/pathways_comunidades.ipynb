{
 "cells": [
  {
   "cell_type": "markdown",
   "metadata": {},
   "source": [
    "# Setup"
   ]
  },
  {
   "cell_type": "code",
   "execution_count": 1,
   "metadata": {},
   "outputs": [],
   "source": [
    "import pandas as pd \n",
    "from statsmodels.stats import multitest\n",
    "import matplotlib.pyplot as plt\n",
    "\n",
    "import plotly.express as px\n",
    "import plotly.io as pio\n",
    "import seaborn as sns\n",
    "import numpy as np"
   ]
  },
  {
   "cell_type": "code",
   "execution_count": 2,
   "metadata": {},
   "outputs": [],
   "source": [
    "#esto es para forzar a plt a poner fondos blancos en las figuras aunque el tema del notebook sea oscuro\n",
    "#plt.rcParams['axes.facecolor'] = 'white'\n",
    "#plt.rcParams['figure.facecolor'] = 'white'\n",
    "cmap = plt.get_cmap(\"tab10\")\n",
    "pio.templates.default = \"seaborn\"\n",
    "\n",
    "sns.set_style(\"darkgrid\", rc={'xtick.bottom': True})"
   ]
  },
  {
   "cell_type": "code",
   "execution_count": 3,
   "metadata": {},
   "outputs": [],
   "source": [
    "data_processed = \"../../../data/processed/\"\n",
    "graph_data = data_processed + \"graph_data_nohubs/\"\n",
    "reports = \"../../../reports/reports_nohubs/\"\n",
    "\n",
    "graph_node_data = pd.read_csv(graph_data+\"nohub_graph_node_data.csv\")\n",
    "infomap_pathways = pd.read_csv(reports+\"analisis_red_genes/infomap_pathways.csv\", index_col=[0,1])\n",
    "louvain_pathways = pd.read_csv(reports+\"analisis_red_genes/louvain_pathways.csv\", index_col=[0,1])\n",
    "\n",
    "cols = [\"comunidad\",\"tamaño\",\"mean_sim_lsa_0\",\"entropia_0\",\"top_monogram\",\"top_5_monogram\",\"top_monogram_score\",\"top_5_monogram_score\"]\n",
    "infomap_summary = pd.read_pickle(reports+\"infomap_summary.pkl\")[cols]\n",
    "louvain_summary = pd.read_pickle(reports+\"louvain_summary.pkl\")[cols]"
   ]
  },
  {
   "cell_type": "markdown",
   "metadata": {},
   "source": [
    "# Corrección FDR"
   ]
  },
  {
   "cell_type": "markdown",
   "metadata": {},
   "source": [
    "Corrijo los pvalores con FDR. Genero una columna que me dice si se rechazó la hipótesis nula para ese par cluster-pathway o no. Me quedo con las filas que tienen \"reject\" = True, es decir, se rechazó la hipótesis nula. Para esos pares cluster,pathway, tengo el odds ratio que me dice que tan significativa es la correlación entre ellos. Además, por la corrección FDR, se que entre esos pares tengo un 5% de falsos positivos."
   ]
  },
  {
   "cell_type": "code",
   "execution_count": 4,
   "metadata": {},
   "outputs": [],
   "source": [
    "infomap_pathways[\"pvalue\"] = multitest.fdrcorrection(infomap_pathways.pvalue.values)[1]\n",
    "infomap_pathways[\"reject\"] = multitest.fdrcorrection(infomap_pathways.pvalue.values)[0] \n",
    "\n",
    "louvain_pathways[\"pvalue\"] = multitest.fdrcorrection(louvain_pathways.pvalue.values)[1]\n",
    "louvain_pathways[\"reject\"] = multitest.fdrcorrection(louvain_pathways.pvalue.values)[0]"
   ]
  },
  {
   "cell_type": "code",
   "execution_count": 5,
   "metadata": {},
   "outputs": [],
   "source": [
    "infomap_results = infomap_pathways[infomap_pathways.reject].drop(columns=\"reject\")\n",
    "louvain_results = louvain_pathways[louvain_pathways.reject].drop(columns=\"reject\")"
   ]
  },
  {
   "cell_type": "markdown",
   "metadata": {},
   "source": [
    "# Exploro ejemplos"
   ]
  },
  {
   "cell_type": "markdown",
   "metadata": {},
   "source": [
    "Encontré pathways significativos para todos los clusters?"
   ]
  },
  {
   "cell_type": "code",
   "execution_count": 9,
   "metadata": {},
   "outputs": [
    {
     "name": "stdout",
     "output_type": "stream",
     "text": [
      "Encontré 861 infomap y 200 louvain\n",
      "75% infomap, 68% louvain\n"
     ]
    }
   ],
   "source": [
    "encontrados_infomap = len(infomap_results.reset_index().cluster.unique())\n",
    "encontrados_louvain = len(louvain_results.reset_index().cluster.unique())\n",
    "tot_infomap = len(infomap_summary)\n",
    "tot_louvain = len(louvain_summary)\n",
    "\n",
    "print(f\"Encontré {encontrados_infomap} infomap y {encontrados_louvain} louvain\")\n",
    "print(f\"{round((encontrados_infomap*100)/tot_infomap)}% infomap, {round((encontrados_louvain*100)/tot_louvain)}% louvain\")"
   ]
  },
  {
   "cell_type": "markdown",
   "metadata": {},
   "source": [
    "Cuantos pathways tienen asociados esos clusters?"
   ]
  },
  {
   "cell_type": "code",
   "execution_count": 10,
   "metadata": {},
   "outputs": [
    {
     "data": {
      "text/html": [
       "<div>\n",
       "<style scoped>\n",
       "    .dataframe tbody tr th:only-of-type {\n",
       "        vertical-align: middle;\n",
       "    }\n",
       "\n",
       "    .dataframe tbody tr th {\n",
       "        vertical-align: top;\n",
       "    }\n",
       "\n",
       "    .dataframe thead th {\n",
       "        text-align: right;\n",
       "    }\n",
       "</style>\n",
       "<table border=\"1\" class=\"dataframe\">\n",
       "  <thead>\n",
       "    <tr style=\"text-align: right;\">\n",
       "      <th></th>\n",
       "      <th>num_pathways</th>\n",
       "    </tr>\n",
       "    <tr>\n",
       "      <th>cluster</th>\n",
       "      <th></th>\n",
       "    </tr>\n",
       "  </thead>\n",
       "  <tbody>\n",
       "    <tr>\n",
       "      <th>130</th>\n",
       "      <td>149</td>\n",
       "    </tr>\n",
       "    <tr>\n",
       "      <th>15</th>\n",
       "      <td>134</td>\n",
       "    </tr>\n",
       "    <tr>\n",
       "      <th>25</th>\n",
       "      <td>132</td>\n",
       "    </tr>\n",
       "    <tr>\n",
       "      <th>17</th>\n",
       "      <td>123</td>\n",
       "    </tr>\n",
       "    <tr>\n",
       "      <th>143</th>\n",
       "      <td>120</td>\n",
       "    </tr>\n",
       "    <tr>\n",
       "      <th>...</th>\n",
       "      <td>...</td>\n",
       "    </tr>\n",
       "    <tr>\n",
       "      <th>543</th>\n",
       "      <td>1</td>\n",
       "    </tr>\n",
       "    <tr>\n",
       "      <th>542</th>\n",
       "      <td>1</td>\n",
       "    </tr>\n",
       "    <tr>\n",
       "      <th>784</th>\n",
       "      <td>1</td>\n",
       "    </tr>\n",
       "    <tr>\n",
       "      <th>937</th>\n",
       "      <td>1</td>\n",
       "    </tr>\n",
       "    <tr>\n",
       "      <th>562</th>\n",
       "      <td>1</td>\n",
       "    </tr>\n",
       "  </tbody>\n",
       "</table>\n",
       "<p>861 rows × 1 columns</p>\n",
       "</div>"
      ],
      "text/plain": [
       "         num_pathways\n",
       "cluster              \n",
       "130               149\n",
       "15                134\n",
       "25                132\n",
       "17                123\n",
       "143               120\n",
       "...               ...\n",
       "543                 1\n",
       "542                 1\n",
       "784                 1\n",
       "937                 1\n",
       "562                 1\n",
       "\n",
       "[861 rows x 1 columns]"
      ]
     },
     "execution_count": 10,
     "metadata": {},
     "output_type": "execute_result"
    },
    {
     "data": {
      "image/png": "[encoded data removed]",
      "text/plain": [
       "<Figure size 432x288 with 1 Axes>"
      ]
     },
     "metadata": {},
     "output_type": "display_data"
    }
   ],
   "source": [
    "infomap_num_pathways = infomap_results.groupby(\"cluster\").count().sort_values(by=\"pvalue\",ascending=False).drop(columns=\"odds_ratio\").rename(columns={\"pvalue\":\"num_pathways\"})\n",
    "infomap_num_pathways.hist()\n",
    "infomap_num_pathways"
   ]
  },
  {
   "cell_type": "code",
   "execution_count": 11,
   "metadata": {},
   "outputs": [
    {
     "data": {
      "text/plain": [
       "num_pathways\n",
       "1               173\n",
       "2               102\n",
       "3                76\n",
       "4                53\n",
       "5                51\n",
       "               ... \n",
       "70                1\n",
       "71                1\n",
       "73                1\n",
       "74                1\n",
       "149               1\n",
       "Length: 92, dtype: int64"
      ]
     },
     "execution_count": 11,
     "metadata": {},
     "output_type": "execute_result"
    }
   ],
   "source": [
    "infomap_num_pathways.value_counts()"
   ]
  },
  {
   "cell_type": "code",
   "execution_count": 12,
   "metadata": {},
   "outputs": [
    {
     "data": {
      "text/plain": [
       "Text(0.5, 1.0, 'Num pathways encontrados por cluster - Infomap')"
      ]
     },
     "execution_count": 12,
     "metadata": {},
     "output_type": "execute_result"
    },
    {
     "data": {
      "image/png": "[encoded data removed]",
      "text/plain": [
       "<Figure size 432x288 with 1 Axes>"
      ]
     },
     "metadata": {},
     "output_type": "display_data"
    }
   ],
   "source": [
    "plt.hist(infomap_num_pathways.values, bins=np.round(np.linspace(0,150,30)), range=(0,40))\n",
    "plt.title(\"Num pathways encontrados por cluster - Infomap\")"
   ]
  },
  {
   "cell_type": "code",
   "execution_count": 13,
   "metadata": {},
   "outputs": [
    {
     "data": {
      "application/vnd.plotly.v1+json": {
       "config": {
        "plotlyServerURL": "https://plot.ly"
       },
       "data": [
        {
         "alignmentgroup": "True",
         "bingroup": "x",
         "hovertemplate": "num_pathways=%{x}<br>count=%{y}<extra></extra>",
         "legendgroup": "",
         "marker": {
          "color": "rgb(76,114,176)",
          "pattern": {
           "shape": ""
          }
         },
         "name": "",
         "offsetgroup": "",
         "orientation": "v",
         "showlegend": false,
         "type": "histogram",
         "x": [
          170,
          163,
          158,
          151,
          145,
          135,
          132,
          125,
          119,
          117,
          116,
          95,
          92,
          84,
          83,
          81,
          78,
          73,
          72,
          69,
          68,
          66,
          65,
          64,
          64,
          63,
          60,
          54,
          52,
          51,
          51,
          47,
          40,
          39,
          38,
          37,
          34,
          34,
          32,
          30,
          29,
          29,
          28,
          28,
          27,
          27,
          26,
          25,
          25,
          24,
          21,
          20,
          18,
          17,
          16,
          15,
          15,
          15,
          14,
          14,
          14,
          14,
          13,
          13,
          13,
          13,
          13,
          13,
          13,
          12,
          12,
          11,
          11,
          11,
          10,
          10,
          10,
          9,
          9,
          8,
          8,
          8,
          8,
          8,
          7,
          7,
          7,
          6,
          6,
          5,
          5,
          5,
          5,
          5,
          5,
          5,
          5,
          5,
          4,
          4,
          4,
          4,
          4,
          4,
          4,
          4,
          4,
          4,
          4,
          4,
          4,
          3,
          3,
          3,
          3,
          3,
          3,
          3,
          3,
          3,
          3,
          3,
          3,
          3,
          3,
          3,
          3,
          3,
          3,
          2,
          2,
          2,
          2,
          2,
          2,
          2,
          2,
          2,
          2,
          2,
          2,
          2,
          2,
          2,
          2,
          2,
          2,
          2,
          2,
          2,
          2,
          1,
          1,
          1,
          1,
          1,
          1,
          1,
          1,
          1,
          1,
          1,
          1,
          1,
          1,
          1,
          1,
          1,
          1,
          1,
          1,
          1,
          1,
          1,
          1,
          1,
          1,
          1,
          1,
          1,
          1,
          1,
          1,
          1,
          1,
          1,
          1,
          1,
          1,
          1,
          1,
          1,
          1,
          1,
          1,
          1,
          1,
          1,
          1,
          1
         ],
         "xaxis": "x",
         "yaxis": "y"
        }
       ],
       "layout": {
        "barmode": "relative",
        "legend": {
         "tracegroupgap": 0
        },
        "margin": {
         "t": 60
        },
        "template": {
         "data": {
          "bar": [
           {
            "error_x": {
             "color": "rgb(36,36,36)"
            },
            "error_y": {
             "color": "rgb(36,36,36)"
            },
            "marker": {
             "line": {
              "color": "rgb(234,234,242)",
              "width": 0.5
             },
             "pattern": {
              "fillmode": "overlay",
              "size": 10,
              "solidity": 0.2
             }
            },
            "type": "bar"
           }
          ],
          "barpolar": [
           {
            "marker": {
             "line": {
              "color": "rgb(234,234,242)",
              "width": 0.5
             },
             "pattern": {
              "fillmode": "overlay",
              "size": 10,
              "solidity": 0.2
             }
            },
            "type": "barpolar"
           }
          ],
          "carpet": [
           {
            "aaxis": {
             "endlinecolor": "rgb(36,36,36)",
             "gridcolor": "white",
             "linecolor": "white",
             "minorgridcolor": "white",
             "startlinecolor": "rgb(36,36,36)"
            },
            "baxis": {
             "endlinecolor": "rgb(36,36,36)",
             "gridcolor": "white",
             "linecolor": "white",
             "minorgridcolor": "white",
             "startlinecolor": "rgb(36,36,36)"
            },
            "type": "carpet"
           }
          ],
          "choropleth": [
           {
            "colorbar": {
             "outlinewidth": 0,
             "tickcolor": "rgb(36,36,36)",
             "ticklen": 8,
             "ticks": "outside",
             "tickwidth": 2
            },
            "type": "choropleth"
           }
          ],
          "contour": [
           {
            "colorbar": {
             "outlinewidth": 0,
             "tickcolor": "rgb(36,36,36)",
             "ticklen": 8,
             "ticks": "outside",
             "tickwidth": 2
            },
            "colorscale": [
             [
              0,
              "rgb(2,4,25)"
             ],
             [
              0.06274509803921569,
              "rgb(24,15,41)"
             ],
             [
              0.12549019607843137,
              "rgb(47,23,57)"
             ],
             [
              0.18823529411764706,
              "rgb(71,28,72)"
             ],
             [
              0.25098039215686274,
              "rgb(97,30,82)"
             ],
             [
              0.3137254901960784,
              "rgb(123,30,89)"
             ],
             [
              0.3764705882352941,
              "rgb(150,27,91)"
             ],
             [
              0.4392156862745098,
              "rgb(177,22,88)"
             ],
             [
              0.5019607843137255,
              "rgb(203,26,79)"
             ],
             [
              0.5647058823529412,
              "rgb(223,47,67)"
             ],
             [
              0.6274509803921569,
              "rgb(236,76,61)"
             ],
             [
              0.6901960784313725,
              "rgb(242,107,73)"
             ],
             [
              0.7529411764705882,
              "rgb(244,135,95)"
             ],
             [
              0.8156862745098039,
              "rgb(245,162,122)"
             ],
             [
              0.8784313725490196,
              "rgb(246,188,153)"
             ],
             [
              0.9411764705882353,
              "rgb(247,212,187)"
             ],
             [
              1,
              "rgb(250,234,220)"
             ]
            ],
            "type": "contour"
           }
          ],
          "contourcarpet": [
           {
            "colorbar": {
             "outlinewidth": 0,
             "tickcolor": "rgb(36,36,36)",
             "ticklen": 8,
             "ticks": "outside",
             "tickwidth": 2
            },
            "type": "contourcarpet"
           }
          ],
          "heatmap": [
           {
            "colorbar": {
             "outlinewidth": 0,
             "tickcolor": "rgb(36,36,36)",
             "ticklen": 8,
             "ticks": "outside",
             "tickwidth": 2
            },
            "colorscale": [
             [
              0,
              "rgb(2,4,25)"
             ],
             [
              0.06274509803921569,
              "rgb(24,15,41)"
             ],
             [
              0.12549019607843137,
              "rgb(47,23,57)"
             ],
             [
              0.18823529411764706,
              "rgb(71,28,72)"
             ],
             [
              0.25098039215686274,
              "rgb(97,30,82)"
             ],
             [
              0.3137254901960784,
              "rgb(123,30,89)"
             ],
             [
              0.3764705882352941,
              "rgb(150,27,91)"
             ],
             [
              0.4392156862745098,
              "rgb(177,22,88)"
             ],
             [
              0.5019607843137255,
              "rgb(203,26,79)"
             ],
             [
              0.5647058823529412,
              "rgb(223,47,67)"
             ],
             [
              0.6274509803921569,
              "rgb(236,76,61)"
             ],
             [
              0.6901960784313725,
              "rgb(242,107,73)"
             ],
             [
              0.7529411764705882,
              "rgb(244,135,95)"
             ],
             [
              0.8156862745098039,
              "rgb(245,162,122)"
             ],
             [
              0.8784313725490196,
              "rgb(246,188,153)"
             ],
             [
              0.9411764705882353,
              "rgb(247,212,187)"
             ],
             [
              1,
              "rgb(250,234,220)"
             ]
            ],
            "type": "heatmap"
           }
          ],
          "heatmapgl": [
           {
            "colorbar": {
             "outlinewidth": 0,
             "tickcolor": "rgb(36,36,36)",
             "ticklen": 8,
             "ticks": "outside",
             "tickwidth": 2
            },
            "colorscale": [
             [
              0,
              "rgb(2,4,25)"
             ],
             [
              0.06274509803921569,
              "rgb(24,15,41)"
             ],
             [
              0.12549019607843137,
              "rgb(47,23,57)"
             ],
             [
              0.18823529411764706,
              "rgb(71,28,72)"
             ],
             [
              0.25098039215686274,
              "rgb(97,30,82)"
             ],
             [
              0.3137254901960784,
              "rgb(123,30,89)"
             ],
             [
              0.3764705882352941,
              "rgb(150,27,91)"
             ],
             [
              0.4392156862745098,
              "rgb(177,22,88)"
             ],
             [
              0.5019607843137255,
              "rgb(203,26,79)"
             ],
             [
              0.5647058823529412,
              "rgb(223,47,67)"
             ],
             [
              0.6274509803921569,
              "rgb(236,76,61)"
             ],
             [
              0.6901960784313725,
              "rgb(242,107,73)"
             ],
             [
              0.7529411764705882,
              "rgb(244,135,95)"
             ],
             [
              0.8156862745098039,
              "rgb(245,162,122)"
             ],
             [
              0.8784313725490196,
              "rgb(246,188,153)"
             ],
             [
              0.9411764705882353,
              "rgb(247,212,187)"
             ],
             [
              1,
              "rgb(250,234,220)"
             ]
            ],
            "type": "heatmapgl"
           }
          ],
          "histogram": [
           {
            "marker": {
             "pattern": {
              "fillmode": "overlay",
              "size": 10,
              "solidity": 0.2
             }
            },
            "type": "histogram"
           }
          ],
          "histogram2d": [
           {
            "colorbar": {
             "outlinewidth": 0,
             "tickcolor": "rgb(36,36,36)",
             "ticklen": 8,
             "ticks": "outside",
             "tickwidth": 2
            },
            "colorscale": [
             [
              0,
              "rgb(2,4,25)"
             ],
             [
              0.06274509803921569,
              "rgb(24,15,41)"
             ],
             [
              0.12549019607843137,
              "rgb(47,23,57)"
             ],
             [
              0.18823529411764706,
              "rgb(71,28,72)"
             ],
             [
              0.25098039215686274,
              "rgb(97,30,82)"
             ],
             [
              0.3137254901960784,
              "rgb(123,30,89)"
             ],
             [
              0.3764705882352941,
              "rgb(150,27,91)"
             ],
             [
              0.4392156862745098,
              "rgb(177,22,88)"
             ],
             [
              0.5019607843137255,
              "rgb(203,26,79)"
             ],
             [
              0.5647058823529412,
              "rgb(223,47,67)"
             ],
             [
              0.6274509803921569,
              "rgb(236,76,61)"
             ],
             [
              0.6901960784313725,
              "rgb(242,107,73)"
             ],
             [
              0.7529411764705882,
              "rgb(244,135,95)"
             ],
             [
              0.8156862745098039,
              "rgb(245,162,122)"
             ],
             [
              0.8784313725490196,
              "rgb(246,188,153)"
             ],
             [
              0.9411764705882353,
              "rgb(247,212,187)"
             ],
             [
              1,
              "rgb(250,234,220)"
             ]
            ],
            "type": "histogram2d"
           }
          ],
          "histogram2dcontour": [
           {
            "colorbar": {
             "outlinewidth": 0,
             "tickcolor": "rgb(36,36,36)",
             "ticklen": 8,
             "ticks": "outside",
             "tickwidth": 2
            },
            "colorscale": [
             [
              0,
              "rgb(2,4,25)"
             ],
             [
              0.06274509803921569,
              "rgb(24,15,41)"
             ],
             [
              0.12549019607843137,
              "rgb(47,23,57)"
             ],
             [
              0.18823529411764706,
              "rgb(71,28,72)"
             ],
             [
              0.25098039215686274,
              "rgb(97,30,82)"
             ],
             [
              0.3137254901960784,
              "rgb(123,30,89)"
             ],
             [
              0.3764705882352941,
              "rgb(150,27,91)"
             ],
             [
              0.4392156862745098,
              "rgb(177,22,88)"
             ],
             [
              0.5019607843137255,
              "rgb(203,26,79)"
             ],
             [
              0.5647058823529412,
              "rgb(223,47,67)"
             ],
             [
              0.6274509803921569,
              "rgb(236,76,61)"
             ],
             [
              0.6901960784313725,
              "rgb(242,107,73)"
             ],
             [
              0.7529411764705882,
              "rgb(244,135,95)"
             ],
             [
              0.8156862745098039,
              "rgb(245,162,122)"
             ],
             [
              0.8784313725490196,
              "rgb(246,188,153)"
             ],
             [
              0.9411764705882353,
              "rgb(247,212,187)"
             ],
             [
              1,
              "rgb(250,234,220)"
             ]
            ],
            "type": "histogram2dcontour"
           }
          ],
          "mesh3d": [
           {
            "colorbar": {
             "outlinewidth": 0,
             "tickcolor": "rgb(36,36,36)",
             "ticklen": 8,
             "ticks": "outside",
             "tickwidth": 2
            },
            "type": "mesh3d"
           }
          ],
          "parcoords": [
           {
            "line": {
             "colorbar": {
              "outlinewidth": 0,
              "tickcolor": "rgb(36,36,36)",
              "ticklen": 8,
              "ticks": "outside",
              "tickwidth": 2
             }
            },
            "type": "parcoords"
           }
          ],
          "pie": [
           {
            "automargin": true,
            "type": "pie"
           }
          ],
          "scatter": [
           {
            "fillpattern": {
             "fillmode": "overlay",
             "size": 10,
             "solidity": 0.2
            },
            "type": "scatter"
           }
          ],
          "scatter3d": [
           {
            "line": {
             "colorbar": {
              "outlinewidth": 0,
              "tickcolor": "rgb(36,36,36)",
              "ticklen": 8,
              "ticks": "outside",
              "tickwidth": 2
             }
            },
            "marker": {
             "colorbar": {
              "outlinewidth": 0,
              "tickcolor": "rgb(36,36,36)",
              "ticklen": 8,
              "ticks": "outside",
              "tickwidth": 2
             }
            },
            "type": "scatter3d"
           }
          ],
          "scattercarpet": [
           {
            "marker": {
             "colorbar": {
              "outlinewidth": 0,
              "tickcolor": "rgb(36,36,36)",
              "ticklen": 8,
              "ticks": "outside",
              "tickwidth": 2
             }
            },
            "type": "scattercarpet"
           }
          ],
          "scattergeo": [
           {
            "marker": {
             "colorbar": {
              "outlinewidth": 0,
              "tickcolor": "rgb(36,36,36)",
              "ticklen": 8,
              "ticks": "outside",
              "tickwidth": 2
             }
            },
            "type": "scattergeo"
           }
          ],
          "scattergl": [
           {
            "marker": {
             "colorbar": {
              "outlinewidth": 0,
              "tickcolor": "rgb(36,36,36)",
              "ticklen": 8,
              "ticks": "outside",
              "tickwidth": 2
             }
            },
            "type": "scattergl"
           }
          ],
          "scattermapbox": [
           {
            "marker": {
             "colorbar": {
              "outlinewidth": 0,
              "tickcolor": "rgb(36,36,36)",
              "ticklen": 8,
              "ticks": "outside",
              "tickwidth": 2
             }
            },
            "type": "scattermapbox"
           }
          ],
          "scatterpolar": [
           {
            "marker": {
             "colorbar": {
              "outlinewidth": 0,
              "tickcolor": "rgb(36,36,36)",
              "ticklen": 8,
              "ticks": "outside",
              "tickwidth": 2
             }
            },
            "type": "scatterpolar"
           }
          ],
          "scatterpolargl": [
           {
            "marker": {
             "colorbar": {
              "outlinewidth": 0,
              "tickcolor": "rgb(36,36,36)",
              "ticklen": 8,
              "ticks": "outside",
              "tickwidth": 2
             }
            },
            "type": "scatterpolargl"
           }
          ],
          "scatterternary": [
           {
            "marker": {
             "colorbar": {
              "outlinewidth": 0,
              "tickcolor": "rgb(36,36,36)",
              "ticklen": 8,
              "ticks": "outside",
              "tickwidth": 2
             }
            },
            "type": "scatterternary"
           }
          ],
          "surface": [
           {
            "colorbar": {
             "outlinewidth": 0,
             "tickcolor": "rgb(36,36,36)",
             "ticklen": 8,
             "ticks": "outside",
             "tickwidth": 2
            },
            "colorscale": [
             [
              0,
              "rgb(2,4,25)"
             ],
             [
              0.06274509803921569,
              "rgb(24,15,41)"
             ],
             [
              0.12549019607843137,
              "rgb(47,23,57)"
             ],
             [
              0.18823529411764706,
              "rgb(71,28,72)"
             ],
             [
              0.25098039215686274,
              "rgb(97,30,82)"
             ],
             [
              0.3137254901960784,
              "rgb(123,30,89)"
             ],
             [
              0.3764705882352941,
              "rgb(150,27,91)"
             ],
             [
              0.4392156862745098,
              "rgb(177,22,88)"
             ],
             [
              0.5019607843137255,
              "rgb(203,26,79)"
             ],
             [
              0.5647058823529412,
              "rgb(223,47,67)"
             ],
             [
              0.6274509803921569,
              "rgb(236,76,61)"
             ],
             [
              0.6901960784313725,
              "rgb(242,107,73)"
             ],
             [
              0.7529411764705882,
              "rgb(244,135,95)"
             ],
             [
              0.8156862745098039,
              "rgb(245,162,122)"
             ],
             [
              0.8784313725490196,
              "rgb(246,188,153)"
             ],
             [
              0.9411764705882353,
              "rgb(247,212,187)"
             ],
             [
              1,
              "rgb(250,234,220)"
             ]
            ],
            "type": "surface"
           }
          ],
          "table": [
           {
            "cells": {
             "fill": {
              "color": "rgb(231,231,240)"
             },
             "line": {
              "color": "white"
             }
            },
            "header": {
             "fill": {
              "color": "rgb(183,183,191)"
             },
             "line": {
              "color": "white"
             }
            },
            "type": "table"
           }
          ]
         },
         "layout": {
          "annotationdefaults": {
           "arrowcolor": "rgb(67,103,167)"
          },
          "autotypenumbers": "strict",
          "coloraxis": {
           "colorbar": {
            "outlinewidth": 0,
            "tickcolor": "rgb(36,36,36)",
            "ticklen": 8,
            "ticks": "outside",
            "tickwidth": 2
           }
          },
          "colorscale": {
           "sequential": [
            [
             0,
             "rgb(2,4,25)"
            ],
            [
             0.06274509803921569,
             "rgb(24,15,41)"
            ],
            [
             0.12549019607843137,
             "rgb(47,23,57)"
            ],
            [
             0.18823529411764706,
             "rgb(71,28,72)"
            ],
            [
             0.25098039215686274,
             "rgb(97,30,82)"
            ],
            [
             0.3137254901960784,
             "rgb(123,30,89)"
            ],
            [
             0.3764705882352941,
             "rgb(150,27,91)"
            ],
            [
             0.4392156862745098,
             "rgb(177,22,88)"
            ],
            [
             0.5019607843137255,
             "rgb(203,26,79)"
            ],
            [
             0.5647058823529412,
             "rgb(223,47,67)"
            ],
            [
             0.6274509803921569,
             "rgb(236,76,61)"
            ],
            [
             0.6901960784313725,
             "rgb(242,107,73)"
            ],
            [
             0.7529411764705882,
             "rgb(244,135,95)"
            ],
            [
             0.8156862745098039,
             "rgb(245,162,122)"
            ],
            [
             0.8784313725490196,
             "rgb(246,188,153)"
            ],
            [
             0.9411764705882353,
             "rgb(247,212,187)"
            ],
            [
             1,
             "rgb(250,234,220)"
            ]
           ],
           "sequentialminus": [
            [
             0,
             "rgb(2,4,25)"
            ],
            [
             0.06274509803921569,
             "rgb(24,15,41)"
            ],
            [
             0.12549019607843137,
             "rgb(47,23,57)"
            ],
            [
             0.18823529411764706,
             "rgb(71,28,72)"
            ],
            [
             0.25098039215686274,
             "rgb(97,30,82)"
            ],
            [
             0.3137254901960784,
             "rgb(123,30,89)"
            ],
            [
             0.3764705882352941,
             "rgb(150,27,91)"
            ],
            [
             0.4392156862745098,
             "rgb(177,22,88)"
            ],
            [
             0.5019607843137255,
             "rgb(203,26,79)"
            ],
            [
             0.5647058823529412,
             "rgb(223,47,67)"
            ],
            [
             0.6274509803921569,
             "rgb(236,76,61)"
            ],
            [
             0.6901960784313725,
             "rgb(242,107,73)"
            ],
            [
             0.7529411764705882,
             "rgb(244,135,95)"
            ],
            [
             0.8156862745098039,
             "rgb(245,162,122)"
            ],
            [
             0.8784313725490196,
             "rgb(246,188,153)"
            ],
            [
             0.9411764705882353,
             "rgb(247,212,187)"
            ],
            [
             1,
             "rgb(250,234,220)"
            ]
           ]
          },
          "colorway": [
           "rgb(76,114,176)",
           "rgb(221,132,82)",
           "rgb(85,168,104)",
           "rgb(196,78,82)",
           "rgb(129,114,179)",
           "rgb(147,120,96)",
           "rgb(218,139,195)",
           "rgb(140,140,140)",
           "rgb(204,185,116)",
           "rgb(100,181,205)"
          ],
          "font": {
           "color": "rgb(36,36,36)"
          },
          "geo": {
           "bgcolor": "white",
           "lakecolor": "white",
           "landcolor": "rgb(234,234,242)",
           "showlakes": true,
           "showland": true,
           "subunitcolor": "white"
          },
          "hoverlabel": {
           "align": "left"
          },
          "hovermode": "closest",
          "paper_bgcolor": "white",
          "plot_bgcolor": "rgb(234,234,242)",
          "polar": {
           "angularaxis": {
            "gridcolor": "white",
            "linecolor": "white",
            "showgrid": true,
            "ticks": ""
           },
           "bgcolor": "rgb(234,234,242)",
           "radialaxis": {
            "gridcolor": "white",
            "linecolor": "white",
            "showgrid": true,
            "ticks": ""
           }
          },
          "scene": {
           "xaxis": {
            "backgroundcolor": "rgb(234,234,242)",
            "gridcolor": "white",
            "gridwidth": 2,
            "linecolor": "white",
            "showbackground": true,
            "showgrid": true,
            "ticks": "",
            "zerolinecolor": "white"
           },
           "yaxis": {
            "backgroundcolor": "rgb(234,234,242)",
            "gridcolor": "white",
            "gridwidth": 2,
            "linecolor": "white",
            "showbackground": true,
            "showgrid": true,
            "ticks": "",
            "zerolinecolor": "white"
           },
           "zaxis": {
            "backgroundcolor": "rgb(234,234,242)",
            "gridcolor": "white",
            "gridwidth": 2,
            "linecolor": "white",
            "showbackground": true,
            "showgrid": true,
            "ticks": "",
            "zerolinecolor": "white"
           }
          },
          "shapedefaults": {
           "fillcolor": "rgb(67,103,167)",
           "line": {
            "width": 0
           },
           "opacity": 0.5
          },
          "ternary": {
           "aaxis": {
            "gridcolor": "white",
            "linecolor": "white",
            "showgrid": true,
            "ticks": ""
           },
           "baxis": {
            "gridcolor": "white",
            "linecolor": "white",
            "showgrid": true,
            "ticks": ""
           },
           "bgcolor": "rgb(234,234,242)",
           "caxis": {
            "gridcolor": "white",
            "linecolor": "white",
            "showgrid": true,
            "ticks": ""
           }
          },
          "xaxis": {
           "automargin": true,
           "gridcolor": "white",
           "linecolor": "white",
           "showgrid": true,
           "ticks": "",
           "title": {
            "standoff": 15
           },
           "zerolinecolor": "white"
          },
          "yaxis": {
           "automargin": true,
           "gridcolor": "white",
           "linecolor": "white",
           "showgrid": true,
           "ticks": "",
           "title": {
            "standoff": 15
           },
           "zerolinecolor": "white"
          }
         }
        },
        "xaxis": {
         "anchor": "y",
         "domain": [
          0,
          1
         ],
         "title": {
          "text": "num_pathways"
         }
        },
        "yaxis": {
         "anchor": "x",
         "domain": [
          0,
          1
         ],
         "title": {
          "text": "count"
         }
        }
       }
      }
     },
     "metadata": {},
     "output_type": "display_data"
    }
   ],
   "source": [
    "louvain_num_pathways = louvain_results.groupby(\"cluster\").count().sort_values(by=\"pvalue\",ascending=False).drop(columns=\"odds_ratio\").rename(columns={\"pvalue\":\"num_pathways\"})\n",
    "louvain_num_pathways\n",
    "fig = px.histogram(louvain_num_pathways,x=\"num_pathways\")\n",
    "fig.show()"
   ]
  },
  {
   "cell_type": "code",
   "execution_count": 14,
   "metadata": {},
   "outputs": [
    {
     "data": {
      "text/plain": [
       "Text(0.5, 1.0, 'Num pathways encontrados por cluster - Louvain')"
      ]
     },
     "execution_count": 14,
     "metadata": {},
     "output_type": "execute_result"
    },
    {
     "data": {
      "image/png": "[encoded data removed]",
      "text/plain": [
       "<Figure size 432x288 with 1 Axes>"
      ]
     },
     "metadata": {},
     "output_type": "display_data"
    }
   ],
   "source": [
    "plt.hist(louvain_num_pathways.values, bins=np.round(np.linspace(0,150,30)), range=(0,40))\n",
    "plt.title(\"Num pathways encontrados por cluster - Louvain\")"
   ]
  },
  {
   "cell_type": "markdown",
   "metadata": {},
   "source": [
    "Todos los pathways tienen asociadas comunidades? cuantas?"
   ]
  },
  {
   "cell_type": "code",
   "execution_count": 15,
   "metadata": {},
   "outputs": [
    {
     "name": "stdout",
     "output_type": "stream",
     "text": [
      "Encontré 1529 infomap y 1108 louvain\n",
      "76% infomap, 55% louvain\n"
     ]
    }
   ],
   "source": [
    "encontrados_infomap = len(infomap_results.reset_index().pathway.unique())\n",
    "encontrados_louvain = len(louvain_results.reset_index().pathway.unique())\n",
    "tot_pathways = 2017\n",
    "\n",
    "print(f\"Encontré {encontrados_infomap} infomap y {encontrados_louvain} louvain\")\n",
    "print(f\"{round((encontrados_infomap*100)/tot_pathways)}% infomap, {round((encontrados_louvain*100)/tot_pathways)}% louvain\")"
   ]
  },
  {
   "cell_type": "code",
   "execution_count": 16,
   "metadata": {},
   "outputs": [
    {
     "name": "stdout",
     "output_type": "stream",
     "text": [
      "76% tiene algún cluster asociado (de cualquier particion)\n"
     ]
    }
   ],
   "source": [
    "encontrados_infomap = set(infomap_results.reset_index().pathway.unique())\n",
    "encontrados_louvain = set(louvain_results.reset_index().pathway.unique())\n",
    "\n",
    "encontrados_ambos = encontrados_infomap|encontrados_louvain\n",
    "porc = (len(encontrados_ambos)*100/tot_pathways)\n",
    "print(f\"{round(porc)}% tiene algún cluster asociado (de cualquier particion)\")"
   ]
  },
  {
   "cell_type": "markdown",
   "metadata": {},
   "source": [
    "# Ejemplos"
   ]
  },
  {
   "cell_type": "markdown",
   "metadata": {},
   "source": [
    "## Infomap"
   ]
  },
  {
   "cell_type": "code",
   "execution_count": 17,
   "metadata": {},
   "outputs": [
    {
     "data": {
      "text/html": [
       "<div>\n",
       "<style scoped>\n",
       "    .dataframe tbody tr th:only-of-type {\n",
       "        vertical-align: middle;\n",
       "    }\n",
       "\n",
       "    .dataframe tbody tr th {\n",
       "        vertical-align: top;\n",
       "    }\n",
       "\n",
       "    .dataframe thead th {\n",
       "        text-align: right;\n",
       "    }\n",
       "</style>\n",
       "<table border=\"1\" class=\"dataframe\">\n",
       "  <thead>\n",
       "    <tr style=\"text-align: right;\">\n",
       "      <th></th>\n",
       "      <th>comunidad</th>\n",
       "      <th>tamaño</th>\n",
       "      <th>mean_sim_lsa_0</th>\n",
       "      <th>entropia_0</th>\n",
       "      <th>top_monogram</th>\n",
       "      <th>top_5_monogram</th>\n",
       "      <th>top_monogram_score</th>\n",
       "      <th>top_5_monogram_score</th>\n",
       "    </tr>\n",
       "  </thead>\n",
       "  <tbody>\n",
       "    <tr>\n",
       "      <th>407</th>\n",
       "      <td>525</td>\n",
       "      <td>11</td>\n",
       "      <td>0.92</td>\n",
       "      <td>0.43</td>\n",
       "      <td>willebrand</td>\n",
       "      <td>[willebrand, von, bleeding, factor, platelet]</td>\n",
       "      <td>0.67</td>\n",
       "      <td>[0.67, 0.52, 0.22, 0.22, 0.21]</td>\n",
       "    </tr>\n",
       "  </tbody>\n",
       "</table>\n",
       "</div>"
      ],
      "text/plain": [
       "     comunidad  tamaño  mean_sim_lsa_0  entropia_0 top_monogram  \\\n",
       "407        525      11            0.92        0.43   willebrand   \n",
       "\n",
       "                                    top_5_monogram top_monogram_score  \\\n",
       "407  [willebrand, von, bleeding, factor, platelet]               0.67   \n",
       "\n",
       "               top_5_monogram_score  \n",
       "407  [0.67, 0.52, 0.22, 0.22, 0.21]  "
      ]
     },
     "execution_count": 17,
     "metadata": {},
     "output_type": "execute_result"
    }
   ],
   "source": [
    "infomap_summary[infomap_summary.top_5_monogram.apply(lambda x: \"von\" in x)]"
   ]
  },
  {
   "cell_type": "code",
   "execution_count": 27,
   "metadata": {},
   "outputs": [
    {
     "data": {
      "text/html": [
       "<div>\n",
       "<style scoped>\n",
       "    .dataframe tbody tr th:only-of-type {\n",
       "        vertical-align: middle;\n",
       "    }\n",
       "\n",
       "    .dataframe tbody tr th {\n",
       "        vertical-align: top;\n",
       "    }\n",
       "\n",
       "    .dataframe thead th {\n",
       "        text-align: right;\n",
       "    }\n",
       "</style>\n",
       "<table border=\"1\" class=\"dataframe\">\n",
       "  <thead>\n",
       "    <tr style=\"text-align: right;\">\n",
       "      <th></th>\n",
       "      <th>odds_ratio</th>\n",
       "      <th>pvalue</th>\n",
       "    </tr>\n",
       "    <tr>\n",
       "      <th>pathway</th>\n",
       "      <th></th>\n",
       "      <th></th>\n",
       "    </tr>\n",
       "  </thead>\n",
       "  <tbody>\n",
       "    <tr>\n",
       "      <th>35392</th>\n",
       "      <td>5771.000000</td>\n",
       "      <td>0.000022</td>\n",
       "    </tr>\n",
       "    <tr>\n",
       "      <th>35304</th>\n",
       "      <td>106.543210</td>\n",
       "      <td>0.003065</td>\n",
       "    </tr>\n",
       "    <tr>\n",
       "      <th>35385</th>\n",
       "      <td>80.953052</td>\n",
       "      <td>0.004541</td>\n",
       "    </tr>\n",
       "  </tbody>\n",
       "</table>\n",
       "</div>"
      ],
      "text/plain": [
       "          odds_ratio    pvalue\n",
       "pathway                       \n",
       "35392    5771.000000  0.000022\n",
       "35304     106.543210  0.003065\n",
       "35385      80.953052  0.004541"
      ]
     },
     "execution_count": 27,
     "metadata": {},
     "output_type": "execute_result"
    }
   ],
   "source": [
    "cluster = 1021\n",
    "pathways = infomap_results.loc[cluster].sort_values(by=\"odds_ratio\",ascending=False).index.values\n",
    "infomap_results.loc[cluster].sort_values(by=\"odds_ratio\",ascending=False)"
   ]
  },
  {
   "cell_type": "code",
   "execution_count": 19,
   "metadata": {},
   "outputs": [
    {
     "data": {
      "text/html": [
       "<div>\n",
       "<style scoped>\n",
       "    .dataframe tbody tr th:only-of-type {\n",
       "        vertical-align: middle;\n",
       "    }\n",
       "\n",
       "    .dataframe tbody tr th {\n",
       "        vertical-align: top;\n",
       "    }\n",
       "\n",
       "    .dataframe thead th {\n",
       "        text-align: right;\n",
       "    }\n",
       "</style>\n",
       "<table border=\"1\" class=\"dataframe\">\n",
       "  <thead>\n",
       "    <tr style=\"text-align: right;\">\n",
       "      <th></th>\n",
       "      <th>comunidad</th>\n",
       "      <th>tamaño</th>\n",
       "      <th>mean_sim_lsa_0</th>\n",
       "      <th>entropia_0</th>\n",
       "      <th>top_monogram</th>\n",
       "      <th>top_5_monogram</th>\n",
       "      <th>top_monogram_score</th>\n",
       "      <th>top_5_monogram_score</th>\n",
       "    </tr>\n",
       "  </thead>\n",
       "  <tbody>\n",
       "    <tr>\n",
       "      <th>19</th>\n",
       "      <td>40</td>\n",
       "      <td>43</td>\n",
       "      <td>0.45</td>\n",
       "      <td>0.61</td>\n",
       "      <td>hepatitis</td>\n",
       "      <td>[hepatitis, liver, inflammation, cirrhosis, vi...</td>\n",
       "      <td>0.8</td>\n",
       "      <td>[0.8, 0.42, 0.1, 0.1, 0.1]</td>\n",
       "    </tr>\n",
       "  </tbody>\n",
       "</table>\n",
       "</div>"
      ],
      "text/plain": [
       "    comunidad  tamaño  mean_sim_lsa_0  entropia_0 top_monogram  \\\n",
       "19         40      43            0.45        0.61    hepatitis   \n",
       "\n",
       "                                       top_5_monogram top_monogram_score  \\\n",
       "19  [hepatitis, liver, inflammation, cirrhosis, vi...                0.8   \n",
       "\n",
       "          top_5_monogram_score  \n",
       "19  [0.8, 0.42, 0.1, 0.1, 0.1]  "
      ]
     },
     "execution_count": 19,
     "metadata": {},
     "output_type": "execute_result"
    }
   ],
   "source": [
    "infomap_summary[infomap_summary.comunidad == cluster]"
   ]
  },
  {
   "cell_type": "code",
   "execution_count": 28,
   "metadata": {},
   "outputs": [
    {
     "data": {
      "text/html": [
       "<div>\n",
       "<style scoped>\n",
       "    .dataframe tbody tr th:only-of-type {\n",
       "        vertical-align: middle;\n",
       "    }\n",
       "\n",
       "    .dataframe tbody tr th {\n",
       "        vertical-align: top;\n",
       "    }\n",
       "\n",
       "    .dataframe thead th {\n",
       "        text-align: right;\n",
       "    }\n",
       "</style>\n",
       "<table border=\"1\" class=\"dataframe\">\n",
       "  <thead>\n",
       "    <tr style=\"text-align: right;\">\n",
       "      <th></th>\n",
       "      <th>node_index</th>\n",
       "      <th>node_id</th>\n",
       "      <th>node_name</th>\n",
       "      <th>node_type</th>\n",
       "      <th>node_source</th>\n",
       "      <th>comunidades_infomap</th>\n",
       "      <th>comunidades_louvain</th>\n",
       "      <th>degree_gda</th>\n",
       "      <th>degree_pp</th>\n",
       "      <th>degree_dd</th>\n",
       "    </tr>\n",
       "  </thead>\n",
       "  <tbody>\n",
       "    <tr>\n",
       "      <th>15997</th>\n",
       "      <td>29172</td>\n",
       "      <td>C1868120</td>\n",
       "      <td>POSTAXIAL POLYDACTYLY, TYPE B</td>\n",
       "      <td>disease</td>\n",
       "      <td>disgenet</td>\n",
       "      <td>1021.0</td>\n",
       "      <td>175.0</td>\n",
       "      <td>3.0</td>\n",
       "      <td>0.0</td>\n",
       "      <td>1.0</td>\n",
       "    </tr>\n",
       "    <tr>\n",
       "      <th>15998</th>\n",
       "      <td>32073</td>\n",
       "      <td>C3887487</td>\n",
       "      <td>Postaxial polydactyly type A</td>\n",
       "      <td>disease</td>\n",
       "      <td>disgenet</td>\n",
       "      <td>1021.0</td>\n",
       "      <td>175.0</td>\n",
       "      <td>6.0</td>\n",
       "      <td>0.0</td>\n",
       "      <td>1.0</td>\n",
       "    </tr>\n",
       "    <tr>\n",
       "      <th>16000</th>\n",
       "      <td>22127</td>\n",
       "      <td>C0220697</td>\n",
       "      <td>POLYDACTYLY, POSTAXIAL</td>\n",
       "      <td>disease</td>\n",
       "      <td>disgenet</td>\n",
       "      <td>1021.0</td>\n",
       "      <td>175.0</td>\n",
       "      <td>4.0</td>\n",
       "      <td>0.0</td>\n",
       "      <td>1.0</td>\n",
       "    </tr>\n",
       "    <tr>\n",
       "      <th>16001</th>\n",
       "      <td>32946</td>\n",
       "      <td>C4282400</td>\n",
       "      <td>Polydactyly, Postaxial, Type A1</td>\n",
       "      <td>disease</td>\n",
       "      <td>disgenet</td>\n",
       "      <td>1021.0</td>\n",
       "      <td>175.0</td>\n",
       "      <td>3.0</td>\n",
       "      <td>0.0</td>\n",
       "      <td>1.0</td>\n",
       "    </tr>\n",
       "    <tr>\n",
       "      <th>22756</th>\n",
       "      <td>33486</td>\n",
       "      <td>C4539976</td>\n",
       "      <td>POLYDACTYLY, POSTAXIAL, TYPE A7</td>\n",
       "      <td>disease</td>\n",
       "      <td>disgenet</td>\n",
       "      <td>1021.0</td>\n",
       "      <td>175.0</td>\n",
       "      <td>1.0</td>\n",
       "      <td>0.0</td>\n",
       "      <td>1.0</td>\n",
       "    </tr>\n",
       "    <tr>\n",
       "      <th>24604</th>\n",
       "      <td>34032</td>\n",
       "      <td>C4748277</td>\n",
       "      <td>POLYDACTYLY, POSTAXIAL, TYPE A8</td>\n",
       "      <td>disease</td>\n",
       "      <td>disgenet</td>\n",
       "      <td>1021.0</td>\n",
       "      <td>175.0</td>\n",
       "      <td>1.0</td>\n",
       "      <td>0.0</td>\n",
       "      <td>1.0</td>\n",
       "    </tr>\n",
       "    <tr>\n",
       "      <th>31051</th>\n",
       "      <td>12877</td>\n",
       "      <td>60550_9893_29130_8266_11187_14090_32603_32785_19673_19674_20927_11813_12059_17531_17532_17533_17534</td>\n",
       "      <td>postaxial polydactyly</td>\n",
       "      <td>bert_group</td>\n",
       "      <td>primekg</td>\n",
       "      <td>1021.0</td>\n",
       "      <td>175.0</td>\n",
       "      <td>0.0</td>\n",
       "      <td>0.0</td>\n",
       "      <td>7.0</td>\n",
       "    </tr>\n",
       "    <tr>\n",
       "      <th>31052</th>\n",
       "      <td>31831</td>\n",
       "      <td>C3808889</td>\n",
       "      <td>POLYDACTYLY, POSTAXIAL, TYPE A6</td>\n",
       "      <td>disease</td>\n",
       "      <td>disgenet</td>\n",
       "      <td>1021.0</td>\n",
       "      <td>175.0</td>\n",
       "      <td>1.0</td>\n",
       "      <td>0.0</td>\n",
       "      <td>1.0</td>\n",
       "    </tr>\n",
       "  </tbody>\n",
       "</table>\n",
       "</div>"
      ],
      "text/plain": [
       "       node_index  \\\n",
       "15997       29172   \n",
       "15998       32073   \n",
       "16000       22127   \n",
       "16001       32946   \n",
       "22756       33486   \n",
       "24604       34032   \n",
       "31051       12877   \n",
       "31052       31831   \n",
       "\n",
       "                                                                                                   node_id  \\\n",
       "15997                                                                                             C1868120   \n",
       "15998                                                                                             C3887487   \n",
       "16000                                                                                             C0220697   \n",
       "16001                                                                                             C4282400   \n",
       "22756                                                                                             C4539976   \n",
       "24604                                                                                             C4748277   \n",
       "31051  60550_9893_29130_8266_11187_14090_32603_32785_19673_19674_20927_11813_12059_17531_17532_17533_17534   \n",
       "31052                                                                                             C3808889   \n",
       "\n",
       "                             node_name   node_type node_source  \\\n",
       "15997    POSTAXIAL POLYDACTYLY, TYPE B     disease    disgenet   \n",
       "15998     Postaxial polydactyly type A     disease    disgenet   \n",
       "16000           POLYDACTYLY, POSTAXIAL     disease    disgenet   \n",
       "16001  Polydactyly, Postaxial, Type A1     disease    disgenet   \n",
       "22756  POLYDACTYLY, POSTAXIAL, TYPE A7     disease    disgenet   \n",
       "24604  POLYDACTYLY, POSTAXIAL, TYPE A8     disease    disgenet   \n",
       "31051            postaxial polydactyly  bert_group     primekg   \n",
       "31052  POLYDACTYLY, POSTAXIAL, TYPE A6     disease    disgenet   \n",
       "\n",
       "       comunidades_infomap  comunidades_louvain  degree_gda  degree_pp  \\\n",
       "15997               1021.0                175.0         3.0        0.0   \n",
       "15998               1021.0                175.0         6.0        0.0   \n",
       "16000               1021.0                175.0         4.0        0.0   \n",
       "16001               1021.0                175.0         3.0        0.0   \n",
       "22756               1021.0                175.0         1.0        0.0   \n",
       "24604               1021.0                175.0         1.0        0.0   \n",
       "31051               1021.0                175.0         0.0        0.0   \n",
       "31052               1021.0                175.0         1.0        0.0   \n",
       "\n",
       "       degree_dd  \n",
       "15997        1.0  \n",
       "15998        1.0  \n",
       "16000        1.0  \n",
       "16001        1.0  \n",
       "22756        1.0  \n",
       "24604        1.0  \n",
       "31051        7.0  \n",
       "31052        1.0  "
      ]
     },
     "execution_count": 28,
     "metadata": {},
     "output_type": "execute_result"
    }
   ],
   "source": [
    "graph_node_data[graph_node_data.comunidades_infomap == cluster]"
   ]
  },
  {
   "cell_type": "code",
   "execution_count": 21,
   "metadata": {},
   "outputs": [],
   "source": [
    "pd.set_option('display.max_colwidth', None)"
   ]
  },
  {
   "cell_type": "code",
   "execution_count": 29,
   "metadata": {},
   "outputs": [
    {
     "data": {
      "text/html": [
       "<div>\n",
       "<style scoped>\n",
       "    .dataframe tbody tr th:only-of-type {\n",
       "        vertical-align: middle;\n",
       "    }\n",
       "\n",
       "    .dataframe tbody tr th {\n",
       "        vertical-align: top;\n",
       "    }\n",
       "\n",
       "    .dataframe thead th {\n",
       "        text-align: right;\n",
       "    }\n",
       "</style>\n",
       "<table border=\"1\" class=\"dataframe\">\n",
       "  <thead>\n",
       "    <tr style=\"text-align: right;\">\n",
       "      <th></th>\n",
       "      <th>node_name</th>\n",
       "    </tr>\n",
       "    <tr>\n",
       "      <th>node_index</th>\n",
       "      <th></th>\n",
       "    </tr>\n",
       "  </thead>\n",
       "  <tbody>\n",
       "    <tr>\n",
       "      <th>35392</th>\n",
       "      <td>GLI proteins bind promoters of Hh responsive genes to promote transcription</td>\n",
       "    </tr>\n",
       "    <tr>\n",
       "      <th>35304</th>\n",
       "      <td>Hedgehog 'off' state</td>\n",
       "    </tr>\n",
       "    <tr>\n",
       "      <th>35385</th>\n",
       "      <td>Hedgehog 'on' state</td>\n",
       "    </tr>\n",
       "  </tbody>\n",
       "</table>\n",
       "</div>"
      ],
      "text/plain": [
       "                                                                              node_name\n",
       "node_index                                                                             \n",
       "35392       GLI proteins bind promoters of Hh responsive genes to promote transcription\n",
       "35304                                                              Hedgehog 'off' state\n",
       "35385                                                               Hedgehog 'on' state"
      ]
     },
     "execution_count": 29,
     "metadata": {},
     "output_type": "execute_result"
    }
   ],
   "source": [
    "graph_node_data.set_index(\"node_index\").loc[pathways][[\"node_name\"]]"
   ]
  },
  {
   "cell_type": "markdown",
   "metadata": {},
   "source": [
    "Armar un pipeline \"keyword\" -> cluster -> wordcloud, pathways"
   ]
  },
  {
   "cell_type": "markdown",
   "metadata": {},
   "source": [
    "## Louvain"
   ]
  },
  {
   "cell_type": "code",
   "execution_count": 23,
   "metadata": {},
   "outputs": [
    {
     "data": {
      "text/html": [
       "<div>\n",
       "<style scoped>\n",
       "    .dataframe tbody tr th:only-of-type {\n",
       "        vertical-align: middle;\n",
       "    }\n",
       "\n",
       "    .dataframe tbody tr th {\n",
       "        vertical-align: top;\n",
       "    }\n",
       "\n",
       "    .dataframe thead th {\n",
       "        text-align: right;\n",
       "    }\n",
       "</style>\n",
       "<table border=\"1\" class=\"dataframe\">\n",
       "  <thead>\n",
       "    <tr style=\"text-align: right;\">\n",
       "      <th></th>\n",
       "      <th>odds_ratio</th>\n",
       "      <th>pvalue</th>\n",
       "    </tr>\n",
       "    <tr>\n",
       "      <th>pathway</th>\n",
       "      <th></th>\n",
       "      <th></th>\n",
       "    </tr>\n",
       "  </thead>\n",
       "  <tbody>\n",
       "    <tr>\n",
       "      <th>34941</th>\n",
       "      <td>inf</td>\n",
       "      <td>1.067596e-03</td>\n",
       "    </tr>\n",
       "    <tr>\n",
       "      <th>35785</th>\n",
       "      <td>inf</td>\n",
       "      <td>1.067596e-03</td>\n",
       "    </tr>\n",
       "    <tr>\n",
       "      <th>35920</th>\n",
       "      <td>82.573153</td>\n",
       "      <td>4.876582e-07</td>\n",
       "    </tr>\n",
       "    <tr>\n",
       "      <th>34561</th>\n",
       "      <td>65.241786</td>\n",
       "      <td>1.392513e-10</td>\n",
       "    </tr>\n",
       "    <tr>\n",
       "      <th>35918</th>\n",
       "      <td>55.045455</td>\n",
       "      <td>1.347515e-06</td>\n",
       "    </tr>\n",
       "    <tr>\n",
       "      <th>...</th>\n",
       "      <td>...</td>\n",
       "      <td>...</td>\n",
       "    </tr>\n",
       "    <tr>\n",
       "      <th>34729</th>\n",
       "      <td>4.278235</td>\n",
       "      <td>7.053857e-04</td>\n",
       "    </tr>\n",
       "    <tr>\n",
       "      <th>34820</th>\n",
       "      <td>4.000132</td>\n",
       "      <td>3.040710e-03</td>\n",
       "    </tr>\n",
       "    <tr>\n",
       "      <th>35548</th>\n",
       "      <td>2.590622</td>\n",
       "      <td>5.472585e-06</td>\n",
       "    </tr>\n",
       "    <tr>\n",
       "      <th>34710</th>\n",
       "      <td>0.066405</td>\n",
       "      <td>2.945242e-04</td>\n",
       "    </tr>\n",
       "    <tr>\n",
       "      <th>34947</th>\n",
       "      <td>0.058275</td>\n",
       "      <td>6.295733e-05</td>\n",
       "    </tr>\n",
       "  </tbody>\n",
       "</table>\n",
       "<p>66 rows × 2 columns</p>\n",
       "</div>"
      ],
      "text/plain": [
       "         odds_ratio        pvalue\n",
       "pathway                          \n",
       "34941           inf  1.067596e-03\n",
       "35785           inf  1.067596e-03\n",
       "35920     82.573153  4.876582e-07\n",
       "34561     65.241786  1.392513e-10\n",
       "35918     55.045455  1.347515e-06\n",
       "...             ...           ...\n",
       "34729      4.278235  7.053857e-04\n",
       "34820      4.000132  3.040710e-03\n",
       "35548      2.590622  5.472585e-06\n",
       "34710      0.066405  2.945242e-04\n",
       "34947      0.058275  6.295733e-05\n",
       "\n",
       "[66 rows x 2 columns]"
      ]
     },
     "execution_count": 23,
     "metadata": {},
     "output_type": "execute_result"
    }
   ],
   "source": [
    "cluster = 11\n",
    "pathways = louvain_results.loc[cluster].sort_values(by=\"odds_ratio\",ascending=False).index.values\n",
    "louvain_results.loc[cluster].sort_values(by=\"odds_ratio\",ascending=False)"
   ]
  },
  {
   "cell_type": "code",
   "execution_count": 24,
   "metadata": {},
   "outputs": [
    {
     "data": {
      "text/html": [
       "<div>\n",
       "<style scoped>\n",
       "    .dataframe tbody tr th:only-of-type {\n",
       "        vertical-align: middle;\n",
       "    }\n",
       "\n",
       "    .dataframe tbody tr th {\n",
       "        vertical-align: top;\n",
       "    }\n",
       "\n",
       "    .dataframe thead th {\n",
       "        text-align: right;\n",
       "    }\n",
       "</style>\n",
       "<table border=\"1\" class=\"dataframe\">\n",
       "  <thead>\n",
       "    <tr style=\"text-align: right;\">\n",
       "      <th></th>\n",
       "      <th>comunidad</th>\n",
       "      <th>tamaño</th>\n",
       "      <th>mean_sim_lsa_0</th>\n",
       "      <th>entropia_0</th>\n",
       "      <th>top_monogram</th>\n",
       "      <th>top_5_monogram</th>\n",
       "      <th>top_monogram_score</th>\n",
       "      <th>top_5_monogram_score</th>\n",
       "    </tr>\n",
       "  </thead>\n",
       "  <tbody>\n",
       "    <tr>\n",
       "      <th>51</th>\n",
       "      <td>11</td>\n",
       "      <td>78</td>\n",
       "      <td>0.29</td>\n",
       "      <td>0.64</td>\n",
       "      <td>hepatitis</td>\n",
       "      <td>[hepatitis, liver, cirrhosis, chronic, virus]</td>\n",
       "      <td>0.68</td>\n",
       "      <td>[0.68, 0.5, 0.16, 0.13, 0.12]</td>\n",
       "    </tr>\n",
       "  </tbody>\n",
       "</table>\n",
       "</div>"
      ],
      "text/plain": [
       "    comunidad  tamaño  mean_sim_lsa_0  entropia_0 top_monogram  \\\n",
       "51         11      78            0.29        0.64    hepatitis   \n",
       "\n",
       "                                   top_5_monogram top_monogram_score  \\\n",
       "51  [hepatitis, liver, cirrhosis, chronic, virus]               0.68   \n",
       "\n",
       "             top_5_monogram_score  \n",
       "51  [0.68, 0.5, 0.16, 0.13, 0.12]  "
      ]
     },
     "execution_count": 24,
     "metadata": {},
     "output_type": "execute_result"
    }
   ],
   "source": [
    "louvain_summary[louvain_summary.comunidad == cluster]"
   ]
  },
  {
   "cell_type": "code",
   "execution_count": 25,
   "metadata": {},
   "outputs": [
    {
     "data": {
      "text/html": [
       "<div>\n",
       "<style scoped>\n",
       "    .dataframe tbody tr th:only-of-type {\n",
       "        vertical-align: middle;\n",
       "    }\n",
       "\n",
       "    .dataframe tbody tr th {\n",
       "        vertical-align: top;\n",
       "    }\n",
       "\n",
       "    .dataframe thead th {\n",
       "        text-align: right;\n",
       "    }\n",
       "</style>\n",
       "<table border=\"1\" class=\"dataframe\">\n",
       "  <thead>\n",
       "    <tr style=\"text-align: right;\">\n",
       "      <th></th>\n",
       "      <th>node_index</th>\n",
       "      <th>node_id</th>\n",
       "      <th>node_name</th>\n",
       "      <th>node_type</th>\n",
       "      <th>node_source</th>\n",
       "      <th>comunidades_infomap</th>\n",
       "      <th>comunidades_louvain</th>\n",
       "      <th>degree_gda</th>\n",
       "      <th>degree_pp</th>\n",
       "      <th>degree_dd</th>\n",
       "    </tr>\n",
       "  </thead>\n",
       "  <tbody>\n",
       "    <tr>\n",
       "      <th>23</th>\n",
       "      <td>32933</td>\n",
       "      <td>C4277682</td>\n",
       "      <td>Chemical and Drug Induced Liver Injury</td>\n",
       "      <td>disease</td>\n",
       "      <td>disgenet</td>\n",
       "      <td>40.0</td>\n",
       "      <td>11.0</td>\n",
       "      <td>404.0</td>\n",
       "      <td>0.0</td>\n",
       "      <td>2.0</td>\n",
       "    </tr>\n",
       "    <tr>\n",
       "      <th>519</th>\n",
       "      <td>19954</td>\n",
       "      <td>C0023890</td>\n",
       "      <td>Liver Cirrhosis</td>\n",
       "      <td>disease</td>\n",
       "      <td>disgenet</td>\n",
       "      <td>42.0</td>\n",
       "      <td>11.0</td>\n",
       "      <td>103.0</td>\n",
       "      <td>0.0</td>\n",
       "      <td>10.0</td>\n",
       "    </tr>\n",
       "    <tr>\n",
       "      <th>529</th>\n",
       "      <td>24832</td>\n",
       "      <td>C0524909</td>\n",
       "      <td>Hepatitis B, Chronic</td>\n",
       "      <td>disease</td>\n",
       "      <td>disgenet</td>\n",
       "      <td>40.0</td>\n",
       "      <td>11.0</td>\n",
       "      <td>8.0</td>\n",
       "      <td>0.0</td>\n",
       "      <td>1.0</td>\n",
       "    </tr>\n",
       "    <tr>\n",
       "      <th>530</th>\n",
       "      <td>19955</td>\n",
       "      <td>C0023891</td>\n",
       "      <td>Liver Cirrhosis, Alcoholic</td>\n",
       "      <td>disease</td>\n",
       "      <td>disgenet</td>\n",
       "      <td>42.0</td>\n",
       "      <td>11.0</td>\n",
       "      <td>30.0</td>\n",
       "      <td>0.0</td>\n",
       "      <td>2.0</td>\n",
       "    </tr>\n",
       "    <tr>\n",
       "      <th>531</th>\n",
       "      <td>19589</td>\n",
       "      <td>C0019163</td>\n",
       "      <td>Hepatitis B</td>\n",
       "      <td>disease</td>\n",
       "      <td>disgenet</td>\n",
       "      <td>40.0</td>\n",
       "      <td>11.0</td>\n",
       "      <td>32.0</td>\n",
       "      <td>0.0</td>\n",
       "      <td>4.0</td>\n",
       "    </tr>\n",
       "    <tr>\n",
       "      <th>...</th>\n",
       "      <td>...</td>\n",
       "      <td>...</td>\n",
       "      <td>...</td>\n",
       "      <td>...</td>\n",
       "      <td>...</td>\n",
       "      <td>...</td>\n",
       "      <td>...</td>\n",
       "      <td>...</td>\n",
       "      <td>...</td>\n",
       "      <td>...</td>\n",
       "    </tr>\n",
       "    <tr>\n",
       "      <th>34619</th>\n",
       "      <td>19588</td>\n",
       "      <td>C0019159</td>\n",
       "      <td>Hepatitis A</td>\n",
       "      <td>disease</td>\n",
       "      <td>disgenet</td>\n",
       "      <td>40.0</td>\n",
       "      <td>11.0</td>\n",
       "      <td>0.0</td>\n",
       "      <td>0.0</td>\n",
       "      <td>3.0</td>\n",
       "    </tr>\n",
       "    <tr>\n",
       "      <th>34620</th>\n",
       "      <td>21257</td>\n",
       "      <td>C0085293</td>\n",
       "      <td>Hepatitis E</td>\n",
       "      <td>disease</td>\n",
       "      <td>disgenet</td>\n",
       "      <td>40.0</td>\n",
       "      <td>11.0</td>\n",
       "      <td>0.0</td>\n",
       "      <td>0.0</td>\n",
       "      <td>2.0</td>\n",
       "    </tr>\n",
       "    <tr>\n",
       "      <th>34778</th>\n",
       "      <td>25005</td>\n",
       "      <td>C0600452</td>\n",
       "      <td>Hepatopulmonary Syndrome</td>\n",
       "      <td>disease</td>\n",
       "      <td>disgenet</td>\n",
       "      <td>40.0</td>\n",
       "      <td>11.0</td>\n",
       "      <td>0.0</td>\n",
       "      <td>0.0</td>\n",
       "      <td>1.0</td>\n",
       "    </tr>\n",
       "    <tr>\n",
       "      <th>34779</th>\n",
       "      <td>23881</td>\n",
       "      <td>C0342748</td>\n",
       "      <td>Glycogen synthase deficiency</td>\n",
       "      <td>disease</td>\n",
       "      <td>disgenet</td>\n",
       "      <td>40.0</td>\n",
       "      <td>11.0</td>\n",
       "      <td>0.0</td>\n",
       "      <td>0.0</td>\n",
       "      <td>1.0</td>\n",
       "    </tr>\n",
       "    <tr>\n",
       "      <th>34781</th>\n",
       "      <td>32893</td>\n",
       "      <td>C4273756</td>\n",
       "      <td>Hepatoportal sclerosis</td>\n",
       "      <td>disease</td>\n",
       "      <td>disgenet</td>\n",
       "      <td>40.0</td>\n",
       "      <td>11.0</td>\n",
       "      <td>0.0</td>\n",
       "      <td>0.0</td>\n",
       "      <td>1.0</td>\n",
       "    </tr>\n",
       "  </tbody>\n",
       "</table>\n",
       "<p>78 rows × 10 columns</p>\n",
       "</div>"
      ],
      "text/plain": [
       "       node_index   node_id                               node_name node_type  \\\n",
       "23          32933  C4277682  Chemical and Drug Induced Liver Injury   disease   \n",
       "519         19954  C0023890                         Liver Cirrhosis   disease   \n",
       "529         24832  C0524909                    Hepatitis B, Chronic   disease   \n",
       "530         19955  C0023891              Liver Cirrhosis, Alcoholic   disease   \n",
       "531         19589  C0019163                             Hepatitis B   disease   \n",
       "...           ...       ...                                     ...       ...   \n",
       "34619       19588  C0019159                             Hepatitis A   disease   \n",
       "34620       21257  C0085293                             Hepatitis E   disease   \n",
       "34778       25005  C0600452                Hepatopulmonary Syndrome   disease   \n",
       "34779       23881  C0342748            Glycogen synthase deficiency   disease   \n",
       "34781       32893  C4273756                  Hepatoportal sclerosis   disease   \n",
       "\n",
       "      node_source  comunidades_infomap  comunidades_louvain  degree_gda  \\\n",
       "23       disgenet                 40.0                 11.0       404.0   \n",
       "519      disgenet                 42.0                 11.0       103.0   \n",
       "529      disgenet                 40.0                 11.0         8.0   \n",
       "530      disgenet                 42.0                 11.0        30.0   \n",
       "531      disgenet                 40.0                 11.0        32.0   \n",
       "...           ...                  ...                  ...         ...   \n",
       "34619    disgenet                 40.0                 11.0         0.0   \n",
       "34620    disgenet                 40.0                 11.0         0.0   \n",
       "34778    disgenet                 40.0                 11.0         0.0   \n",
       "34779    disgenet                 40.0                 11.0         0.0   \n",
       "34781    disgenet                 40.0                 11.0         0.0   \n",
       "\n",
       "       degree_pp  degree_dd  \n",
       "23           0.0        2.0  \n",
       "519          0.0       10.0  \n",
       "529          0.0        1.0  \n",
       "530          0.0        2.0  \n",
       "531          0.0        4.0  \n",
       "...          ...        ...  \n",
       "34619        0.0        3.0  \n",
       "34620        0.0        2.0  \n",
       "34778        0.0        1.0  \n",
       "34779        0.0        1.0  \n",
       "34781        0.0        1.0  \n",
       "\n",
       "[78 rows x 10 columns]"
      ]
     },
     "execution_count": 25,
     "metadata": {},
     "output_type": "execute_result"
    }
   ],
   "source": [
    "graph_node_data[graph_node_data.comunidades_louvain == cluster]"
   ]
  },
  {
   "cell_type": "code",
   "execution_count": 26,
   "metadata": {},
   "outputs": [
    {
     "data": {
      "text/html": [
       "<div>\n",
       "<style scoped>\n",
       "    .dataframe tbody tr th:only-of-type {\n",
       "        vertical-align: middle;\n",
       "    }\n",
       "\n",
       "    .dataframe tbody tr th {\n",
       "        vertical-align: top;\n",
       "    }\n",
       "\n",
       "    .dataframe thead th {\n",
       "        text-align: right;\n",
       "    }\n",
       "</style>\n",
       "<table border=\"1\" class=\"dataframe\">\n",
       "  <thead>\n",
       "    <tr style=\"text-align: right;\">\n",
       "      <th></th>\n",
       "      <th>node_id</th>\n",
       "      <th>node_name</th>\n",
       "      <th>node_type</th>\n",
       "      <th>node_source</th>\n",
       "      <th>comunidades_infomap</th>\n",
       "      <th>comunidades_louvain</th>\n",
       "      <th>degree_gda</th>\n",
       "      <th>degree_pp</th>\n",
       "      <th>degree_dd</th>\n",
       "    </tr>\n",
       "    <tr>\n",
       "      <th>node_index</th>\n",
       "      <th></th>\n",
       "      <th></th>\n",
       "      <th></th>\n",
       "      <th></th>\n",
       "      <th></th>\n",
       "      <th></th>\n",
       "      <th></th>\n",
       "      <th></th>\n",
       "      <th></th>\n",
       "    </tr>\n",
       "  </thead>\n",
       "  <tbody>\n",
       "    <tr>\n",
       "      <th>34941</th>\n",
       "      <td>R-HSA-381070</td>\n",
       "      <td>IRE1alpha activates chaperones</td>\n",
       "      <td>pathway</td>\n",
       "      <td>primekg_REACTOME</td>\n",
       "      <td>NaN</td>\n",
       "      <td>NaN</td>\n",
       "      <td>0.0</td>\n",
       "      <td>3.0</td>\n",
       "      <td>0.0</td>\n",
       "    </tr>\n",
       "    <tr>\n",
       "      <th>35785</th>\n",
       "      <td>R-HSA-8875791</td>\n",
       "      <td>MET activates STAT3</td>\n",
       "      <td>pathway</td>\n",
       "      <td>primekg_REACTOME</td>\n",
       "      <td>NaN</td>\n",
       "      <td>NaN</td>\n",
       "      <td>0.0</td>\n",
       "      <td>3.0</td>\n",
       "      <td>0.0</td>\n",
       "    </tr>\n",
       "    <tr>\n",
       "      <th>35920</th>\n",
       "      <td>R-HSA-9020933</td>\n",
       "      <td>Interleukin-23 signaling</td>\n",
       "      <td>pathway</td>\n",
       "      <td>primekg_REACTOME</td>\n",
       "      <td>NaN</td>\n",
       "      <td>NaN</td>\n",
       "      <td>0.0</td>\n",
       "      <td>9.0</td>\n",
       "      <td>0.0</td>\n",
       "    </tr>\n",
       "    <tr>\n",
       "      <th>34561</th>\n",
       "      <td>R-HSA-189483</td>\n",
       "      <td>Heme degradation</td>\n",
       "      <td>pathway</td>\n",
       "      <td>primekg_REACTOME</td>\n",
       "      <td>NaN</td>\n",
       "      <td>NaN</td>\n",
       "      <td>0.0</td>\n",
       "      <td>15.0</td>\n",
       "      <td>0.0</td>\n",
       "    </tr>\n",
       "    <tr>\n",
       "      <th>35918</th>\n",
       "      <td>R-HSA-9020591</td>\n",
       "      <td>Interleukin-12 signaling</td>\n",
       "      <td>pathway</td>\n",
       "      <td>primekg_REACTOME</td>\n",
       "      <td>NaN</td>\n",
       "      <td>NaN</td>\n",
       "      <td>0.0</td>\n",
       "      <td>10.0</td>\n",
       "      <td>0.0</td>\n",
       "    </tr>\n",
       "    <tr>\n",
       "      <th>...</th>\n",
       "      <td>...</td>\n",
       "      <td>...</td>\n",
       "      <td>...</td>\n",
       "      <td>...</td>\n",
       "      <td>...</td>\n",
       "      <td>...</td>\n",
       "      <td>...</td>\n",
       "      <td>...</td>\n",
       "      <td>...</td>\n",
       "    </tr>\n",
       "    <tr>\n",
       "      <th>34729</th>\n",
       "      <td>R-HSA-216083</td>\n",
       "      <td>Integrin cell surface interactions</td>\n",
       "      <td>pathway</td>\n",
       "      <td>primekg_REACTOME</td>\n",
       "      <td>NaN</td>\n",
       "      <td>NaN</td>\n",
       "      <td>0.0</td>\n",
       "      <td>85.0</td>\n",
       "      <td>0.0</td>\n",
       "    </tr>\n",
       "    <tr>\n",
       "      <th>34820</th>\n",
       "      <td>R-HSA-3000178</td>\n",
       "      <td>ECM proteoglycans</td>\n",
       "      <td>pathway</td>\n",
       "      <td>primekg_REACTOME</td>\n",
       "      <td>NaN</td>\n",
       "      <td>NaN</td>\n",
       "      <td>0.0</td>\n",
       "      <td>76.0</td>\n",
       "      <td>0.0</td>\n",
       "    </tr>\n",
       "    <tr>\n",
       "      <th>35548</th>\n",
       "      <td>R-HSA-6798695</td>\n",
       "      <td>Neutrophil degranulation</td>\n",
       "      <td>pathway</td>\n",
       "      <td>primekg_REACTOME</td>\n",
       "      <td>NaN</td>\n",
       "      <td>NaN</td>\n",
       "      <td>0.0</td>\n",
       "      <td>478.0</td>\n",
       "      <td>0.0</td>\n",
       "    </tr>\n",
       "    <tr>\n",
       "      <th>34710</th>\n",
       "      <td>R-HSA-212436</td>\n",
       "      <td>Generic Transcription Pathway</td>\n",
       "      <td>pathway</td>\n",
       "      <td>primekg_REACTOME</td>\n",
       "      <td>NaN</td>\n",
       "      <td>NaN</td>\n",
       "      <td>0.0</td>\n",
       "      <td>346.0</td>\n",
       "      <td>0.0</td>\n",
       "    </tr>\n",
       "    <tr>\n",
       "      <th>34947</th>\n",
       "      <td>R-HSA-381753</td>\n",
       "      <td>Olfactory Signaling Pathway</td>\n",
       "      <td>pathway</td>\n",
       "      <td>primekg_REACTOME</td>\n",
       "      <td>NaN</td>\n",
       "      <td>NaN</td>\n",
       "      <td>0.0</td>\n",
       "      <td>393.0</td>\n",
       "      <td>0.0</td>\n",
       "    </tr>\n",
       "  </tbody>\n",
       "</table>\n",
       "<p>66 rows × 9 columns</p>\n",
       "</div>"
      ],
      "text/plain": [
       "                  node_id                           node_name node_type  \\\n",
       "node_index                                                                \n",
       "34941        R-HSA-381070      IRE1alpha activates chaperones   pathway   \n",
       "35785       R-HSA-8875791                 MET activates STAT3   pathway   \n",
       "35920       R-HSA-9020933            Interleukin-23 signaling   pathway   \n",
       "34561        R-HSA-189483                    Heme degradation   pathway   \n",
       "35918       R-HSA-9020591            Interleukin-12 signaling   pathway   \n",
       "...                   ...                                 ...       ...   \n",
       "34729        R-HSA-216083  Integrin cell surface interactions   pathway   \n",
       "34820       R-HSA-3000178                   ECM proteoglycans   pathway   \n",
       "35548       R-HSA-6798695            Neutrophil degranulation   pathway   \n",
       "34710        R-HSA-212436       Generic Transcription Pathway   pathway   \n",
       "34947        R-HSA-381753         Olfactory Signaling Pathway   pathway   \n",
       "\n",
       "                 node_source  comunidades_infomap  comunidades_louvain  \\\n",
       "node_index                                                               \n",
       "34941       primekg_REACTOME                  NaN                  NaN   \n",
       "35785       primekg_REACTOME                  NaN                  NaN   \n",
       "35920       primekg_REACTOME                  NaN                  NaN   \n",
       "34561       primekg_REACTOME                  NaN                  NaN   \n",
       "35918       primekg_REACTOME                  NaN                  NaN   \n",
       "...                      ...                  ...                  ...   \n",
       "34729       primekg_REACTOME                  NaN                  NaN   \n",
       "34820       primekg_REACTOME                  NaN                  NaN   \n",
       "35548       primekg_REACTOME                  NaN                  NaN   \n",
       "34710       primekg_REACTOME                  NaN                  NaN   \n",
       "34947       primekg_REACTOME                  NaN                  NaN   \n",
       "\n",
       "            degree_gda  degree_pp  degree_dd  \n",
       "node_index                                    \n",
       "34941              0.0        3.0        0.0  \n",
       "35785              0.0        3.0        0.0  \n",
       "35920              0.0        9.0        0.0  \n",
       "34561              0.0       15.0        0.0  \n",
       "35918              0.0       10.0        0.0  \n",
       "...                ...        ...        ...  \n",
       "34729              0.0       85.0        0.0  \n",
       "34820              0.0       76.0        0.0  \n",
       "35548              0.0      478.0        0.0  \n",
       "34710              0.0      346.0        0.0  \n",
       "34947              0.0      393.0        0.0  \n",
       "\n",
       "[66 rows x 9 columns]"
      ]
     },
     "execution_count": 26,
     "metadata": {},
     "output_type": "execute_result"
    }
   ],
   "source": [
    "graph_node_data.set_index(\"node_index\").loc[pathways]"
   ]
  }
 ],
 "metadata": {
  "kernelspec": {
   "display_name": "Python 3.10.6 64-bit",
   "language": "python",
   "name": "python3"
  },
  "language_info": {
   "codemirror_mode": {
    "name": "ipython",
    "version": 3
   },
   "file_extension": ".py",
   "mimetype": "text/x-python",
   "name": "python",
   "nbconvert_exporter": "python",
   "pygments_lexer": "ipython3",
   "version": "3.10.6"
  },
  "orig_nbformat": 4,
  "vscode": {
   "interpreter": {
    "hash": "916dbcbb3f70747c44a77c7bcd40155683ae19c65e1c03b4aa3499c5328201f1"
   }
  }
 },
 "nbformat": 4,
 "nbformat_minor": 2
}
