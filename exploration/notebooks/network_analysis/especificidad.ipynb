{
 "cells": [
  {
   "cell_type": "markdown",
   "metadata": {},
   "source": [
    "# Setup"
   ]
  },
  {
   "cell_type": "code",
   "execution_count": 10,
   "metadata": {},
   "outputs": [],
   "source": [
    "import pandas as pd\n",
    "import numpy as np\n",
    "import seaborn as sns\n",
    "import matplotlib.pyplot as plt\n",
    "import plotly.express as px\n",
    "import networkx as nx\n",
    "import igraph as ig \n",
    "from matplotlib_venn import venn3, venn2\n",
    "import random\n",
    "import plotly.io as pio"
   ]
  },
  {
   "cell_type": "code",
   "execution_count": 11,
   "metadata": {},
   "outputs": [],
   "source": [
    "seed = 16\n",
    "random.seed(seed)\n",
    "np.random.seed(seed)\n",
    "\n",
    "#esto es para forzar a plt a poner fondos blancos en las figuras aunque el tema del notebook sea oscuro\n",
    "plt.rcParams['axes.facecolor'] = 'white'\n",
    "plt.rcParams['figure.facecolor'] = 'white'\n",
    "cmap = plt.get_cmap(\"tab10\")\n",
    "pio.templates.default = \"seaborn\"\n",
    "\n",
    "sns.set_style(\"darkgrid\", rc={'xtick.bottom': True})"
   ]
  },
  {
   "cell_type": "code",
   "execution_count": 12,
   "metadata": {},
   "outputs": [
    {
     "data": {
      "text/html": [
       "<div>\n",
       "<style scoped>\n",
       "    .dataframe tbody tr th:only-of-type {\n",
       "        vertical-align: middle;\n",
       "    }\n",
       "\n",
       "    .dataframe tbody tr th {\n",
       "        vertical-align: top;\n",
       "    }\n",
       "\n",
       "    .dataframe thead th {\n",
       "        text-align: right;\n",
       "    }\n",
       "</style>\n",
       "<table border=\"1\" class=\"dataframe\">\n",
       "  <thead>\n",
       "    <tr style=\"text-align: right;\">\n",
       "      <th></th>\n",
       "      <th>Número de nodos</th>\n",
       "    </tr>\n",
       "  </thead>\n",
       "  <tbody>\n",
       "    <tr>\n",
       "      <th>bert_group</th>\n",
       "      <td>1043</td>\n",
       "    </tr>\n",
       "    <tr>\n",
       "      <th>complex</th>\n",
       "      <td>421</td>\n",
       "    </tr>\n",
       "    <tr>\n",
       "      <th>disease</th>\n",
       "      <td>15066</td>\n",
       "    </tr>\n",
       "    <tr>\n",
       "      <th>gene_protein</th>\n",
       "      <td>17322</td>\n",
       "    </tr>\n",
       "    <tr>\n",
       "      <th>pathway</th>\n",
       "      <td>2017</td>\n",
       "    </tr>\n",
       "    <tr>\n",
       "      <th>total</th>\n",
       "      <td>35869</td>\n",
       "    </tr>\n",
       "  </tbody>\n",
       "</table>\n",
       "</div>"
      ],
      "text/plain": [
       "              Número de nodos\n",
       "bert_group               1043\n",
       "complex                   421\n",
       "disease                 15066\n",
       "gene_protein            17322\n",
       "pathway                  2017\n",
       "total                   35869"
      ]
     },
     "metadata": {},
     "output_type": "display_data"
    },
    {
     "data": {
      "text/html": [
       "<div>\n",
       "<style scoped>\n",
       "    .dataframe tbody tr th:only-of-type {\n",
       "        vertical-align: middle;\n",
       "    }\n",
       "\n",
       "    .dataframe tbody tr th {\n",
       "        vertical-align: top;\n",
       "    }\n",
       "\n",
       "    .dataframe thead th {\n",
       "        text-align: right;\n",
       "    }\n",
       "</style>\n",
       "<table border=\"1\" class=\"dataframe\">\n",
       "  <thead>\n",
       "    <tr style=\"text-align: right;\">\n",
       "      <th></th>\n",
       "      <th>Número de enlaces</th>\n",
       "    </tr>\n",
       "  </thead>\n",
       "  <tbody>\n",
       "    <tr>\n",
       "      <th>disease_disease</th>\n",
       "      <td>17432.0</td>\n",
       "    </tr>\n",
       "    <tr>\n",
       "      <th>form_complex</th>\n",
       "      <td>1885.0</td>\n",
       "    </tr>\n",
       "    <tr>\n",
       "      <th>gda</th>\n",
       "      <td>84024.0</td>\n",
       "    </tr>\n",
       "    <tr>\n",
       "      <th>pathway_protein</th>\n",
       "      <td>42643.0</td>\n",
       "    </tr>\n",
       "    <tr>\n",
       "      <th>ppi</th>\n",
       "      <td>110051.0</td>\n",
       "    </tr>\n",
       "    <tr>\n",
       "      <th>total</th>\n",
       "      <td>256035.0</td>\n",
       "    </tr>\n",
       "  </tbody>\n",
       "</table>\n",
       "</div>"
      ],
      "text/plain": [
       "                 Número de enlaces\n",
       "disease_disease            17432.0\n",
       "form_complex                1885.0\n",
       "gda                        84024.0\n",
       "pathway_protein            42643.0\n",
       "ppi                       110051.0\n",
       "total                     256035.0"
      ]
     },
     "metadata": {},
     "output_type": "display_data"
    }
   ],
   "source": [
    "data_processed = \"../../data/processed/\"\n",
    "data_interim = \"../../data/interim/\"\n",
    "data_external = \"../../data/external/\"\n",
    "\n",
    "graph_node_data = pd.read_csv(data_processed+\"grafo_alternativo_CG_nodos.csv\")\n",
    "graph_edge_data = pd.read_csv(data_processed+\"grafo_alternativo_CG_edges.csv\")\n",
    "\n",
    "disease_attributes = pd.read_csv(data_interim+\"grafo_alternativo_disease_attributes.csv\")\n",
    "\n",
    "node_counts = dict(graph_node_data.node_type.value_counts())\n",
    "node_counts[\"total\"] = sum(node_counts.values())\n",
    "\n",
    "edge_counts = dict(graph_edge_data.edge_type.value_counts()/2)\n",
    "edge_counts[\"total\"] = sum(edge_counts.values())\n",
    "\n",
    "display(pd.DataFrame.from_dict({\"Número de nodos\":node_counts}, orient=\"columns\"))\n",
    "display(pd.DataFrame.from_dict({\"Número de enlaces\":edge_counts}, orient=\"columns\"))"
   ]
  },
  {
   "cell_type": "code",
   "execution_count": 13,
   "metadata": {},
   "outputs": [],
   "source": [
    "nodos_bert = graph_node_data.loc[graph_node_data.node_type == \"bert_group\",[\"node_index\",\"node_id\",\"node_name\",\"node_source\"]].copy()\n",
    "disease_attributes = pd.concat([disease_attributes,nodos_bert])\n",
    "\n",
    "enfermedades_en_dd = graph_node_data.loc[graph_node_data.degree_dd != 0, \"node_index\"].values\n",
    "disease_attributes = disease_attributes.set_index(\"node_index\").loc[enfermedades_en_dd].reset_index()\n",
    "\n",
    "disease_attributes = pd.merge(graph_node_data[[\"node_index\",\"comunidades_infomap\",\"comunidades_louvain\"]],disease_attributes,left_on=\"node_index\",right_on=\"node_index\",how=\"right\")\n",
    "\n",
    "tamaños_louvain = disease_attributes.comunidades_louvain.value_counts()\n",
    "tamaños_infomap = disease_attributes.comunidades_infomap.value_counts()\n",
    "\n",
    "infomap_clusters = pd.DataFrame(tamaños_infomap).reset_index().rename(columns={\"index\":\"comunidad\",\"comunidades_infomap\":\"tamaño\"}).astype({\"comunidad\":\"int\"})\n",
    "louvain_clusters = pd.DataFrame(tamaños_louvain).reset_index().rename(columns={\"index\":\"comunidad\",\"comunidades_louvain\":\"tamaño\"}).astype({\"comunidad\":\"int\"})"
   ]
  },
  {
   "cell_type": "code",
   "execution_count": 17,
   "metadata": {},
   "outputs": [],
   "source": [
    "def attributes_from_pd(G:nx.Graph,df:pd.DataFrame,attributes:dict,indexcol):\n",
    "    \"\"\"Dados un grafo G y un dataframe df con atributos de sus nodos, especificamos los atributos\n",
    "    que queremos agregar a los nodos en un diccionario con formato {nombre_columna:nombre_atributo}. \n",
    "    La función arma un diccionario con los atributos y el nombre que le queremos poner, indexado con el identificador de nodo que elegimos \n",
    "    y los asigna a los nodos del grafo\"\"\"\n",
    "    for attribute,name in attributes.items():\n",
    "        nx.set_node_attributes(G,pd.Series(df.set_index(indexcol)[attribute]).to_dict(),name)\n",
    "\n",
    "def get_node_dict(G):\n",
    "    return {node:data for (node,data) in list(G.nodes(data=True))}\n",
    "\n",
    "def get_edge_dict(G):\n",
    "    edge_dict = {}\n",
    "    for edge_data in list(G.edges(data=True)):\n",
    "        edge_index = edge_data[2][\"edge_index\"]\n",
    "        edge_type = edge_data[2][\"edge_type\"]\n",
    "        edge_source = edge_data[0]\n",
    "        edge_target = edge_data[1]\n",
    "        edge_dict[edge_index] = {\"edge_type\":edge_type, \"nodes\":(edge_source,edge_target)}\n",
    "    return edge_dict\n",
    "\n",
    "def get_edges_from(node_index):\n",
    "    edges_from = graph_edge_data[(graph_edge_data.x_index == node_index)]\n",
    "    return edges_from"
   ]
  },
  {
   "cell_type": "code",
   "execution_count": 32,
   "metadata": {},
   "outputs": [],
   "source": [
    "edges_gda = graph_edge_data[graph_edge_data.edge_type == \"gda\"]\n",
    "nodos_gda = graph_node_data[graph_node_data.node_source == \"disgenet\"]\n",
    "\n",
    "GDA = nx.from_pandas_edgelist(edges_gda,source=\"x_index\",target=\"y_index\")\n",
    "GDA_attributes = {\"node_type\":\"node_type\",\"node_name\":\"node_name\",\"node_id\":\"node_id\",\"node_source\":\"node_source\",\"comunidades_infomap\":\"id_infomap\",\"comunidades_louvain\":\"id_louvain\"}\n",
    "\n",
    "attributes_from_pd(GDA,graph_node_data,GDA_attributes,\"node_index\")"
   ]
  },
  {
   "cell_type": "code",
   "execution_count": 29,
   "metadata": {},
   "outputs": [],
   "source": [
    "genes_gda = nodos_gda[nodos_gda.node_type == \"gene_protein\"]"
   ]
  },
  {
   "cell_type": "code",
   "execution_count": 41,
   "metadata": {},
   "outputs": [],
   "source": [
    "disease_cluster_map = disease_attributes[[\"node_index\",\"comunidades_infomap\",\"comunidades_louvain\"]]"
   ]
  },
  {
   "cell_type": "code",
   "execution_count": 42,
   "metadata": {},
   "outputs": [
    {
     "data": {
      "text/html": [
       "<div>\n",
       "<style scoped>\n",
       "    .dataframe tbody tr th:only-of-type {\n",
       "        vertical-align: middle;\n",
       "    }\n",
       "\n",
       "    .dataframe tbody tr th {\n",
       "        vertical-align: top;\n",
       "    }\n",
       "\n",
       "    .dataframe thead th {\n",
       "        text-align: right;\n",
       "    }\n",
       "</style>\n",
       "<table border=\"1\" class=\"dataframe\">\n",
       "  <thead>\n",
       "    <tr style=\"text-align: right;\">\n",
       "      <th></th>\n",
       "      <th>node_index</th>\n",
       "      <th>comunidades_infomap</th>\n",
       "      <th>comunidades_louvain</th>\n",
       "    </tr>\n",
       "  </thead>\n",
       "  <tbody>\n",
       "    <tr>\n",
       "      <th>0</th>\n",
       "      <td>7</td>\n",
       "      <td>220.0</td>\n",
       "      <td>42.0</td>\n",
       "    </tr>\n",
       "    <tr>\n",
       "      <th>1</th>\n",
       "      <td>17</td>\n",
       "      <td>463.0</td>\n",
       "      <td>36.0</td>\n",
       "    </tr>\n",
       "    <tr>\n",
       "      <th>2</th>\n",
       "      <td>19</td>\n",
       "      <td>467.0</td>\n",
       "      <td>36.0</td>\n",
       "    </tr>\n",
       "    <tr>\n",
       "      <th>3</th>\n",
       "      <td>28</td>\n",
       "      <td>367.0</td>\n",
       "      <td>17.0</td>\n",
       "    </tr>\n",
       "    <tr>\n",
       "      <th>4</th>\n",
       "      <td>88</td>\n",
       "      <td>594.0</td>\n",
       "      <td>54.0</td>\n",
       "    </tr>\n",
       "    <tr>\n",
       "      <th>...</th>\n",
       "      <td>...</td>\n",
       "      <td>...</td>\n",
       "      <td>...</td>\n",
       "    </tr>\n",
       "    <tr>\n",
       "      <th>12504</th>\n",
       "      <td>34190</td>\n",
       "      <td>348.0</td>\n",
       "      <td>30.0</td>\n",
       "    </tr>\n",
       "    <tr>\n",
       "      <th>12505</th>\n",
       "      <td>34191</td>\n",
       "      <td>568.0</td>\n",
       "      <td>9.0</td>\n",
       "    </tr>\n",
       "    <tr>\n",
       "      <th>12506</th>\n",
       "      <td>34192</td>\n",
       "      <td>236.0</td>\n",
       "      <td>42.0</td>\n",
       "    </tr>\n",
       "    <tr>\n",
       "      <th>12507</th>\n",
       "      <td>34194</td>\n",
       "      <td>224.0</td>\n",
       "      <td>42.0</td>\n",
       "    </tr>\n",
       "    <tr>\n",
       "      <th>12508</th>\n",
       "      <td>34195</td>\n",
       "      <td>797.0</td>\n",
       "      <td>17.0</td>\n",
       "    </tr>\n",
       "  </tbody>\n",
       "</table>\n",
       "<p>12509 rows × 3 columns</p>\n",
       "</div>"
      ],
      "text/plain": [
       "       node_index  comunidades_infomap  comunidades_louvain\n",
       "0               7                220.0                 42.0\n",
       "1              17                463.0                 36.0\n",
       "2              19                467.0                 36.0\n",
       "3              28                367.0                 17.0\n",
       "4              88                594.0                 54.0\n",
       "...           ...                  ...                  ...\n",
       "12504       34190                348.0                 30.0\n",
       "12505       34191                568.0                  9.0\n",
       "12506       34192                236.0                 42.0\n",
       "12507       34194                224.0                 42.0\n",
       "12508       34195                797.0                 17.0\n",
       "\n",
       "[12509 rows x 3 columns]"
      ]
     },
     "execution_count": 42,
     "metadata": {},
     "output_type": "execute_result"
    }
   ],
   "source": [
    "disease_cluster_map"
   ]
  },
  {
   "cell_type": "code",
   "execution_count": 44,
   "metadata": {},
   "outputs": [],
   "source": [
    "left_disease = edges_gda[edges_gda.x_type == \"disease\"]"
   ]
  },
  {
   "cell_type": "code",
   "execution_count": 52,
   "metadata": {},
   "outputs": [],
   "source": [
    "gen_cluster_edges = pd.merge(left_disease, disease_cluster_map, left_on=\"x_index\", right_on=\"node_index\",how=\"left\").drop(columns=[\"node_index\",\"y_type\",\"x_index\",\"x_type\",\"x_id\",\"edge_type\",\"edge_source\",\"edge_source_index\",\"edge_index\"])"
   ]
  },
  {
   "cell_type": "code",
   "execution_count": 61,
   "metadata": {},
   "outputs": [],
   "source": [
    "gen_infomap = nx.from_pandas_edgelist(gen_cluster_edges,source=\"y_index\",target=\"comunidades_infomap\")\n",
    "# gen_infomap_attributes = {\"y_index\":\"gene_index\",\"y_id\":\"gene_id\",\"comunidades_infomap\":\"infomap_id\"}\n",
    "\n",
    "# for attribute,name in gen_infomap_attributes.items():\n",
    "#     nx.set_node_attributes(gen_infomap,pd.Series(gen_cluster_edges[attribute]).to_dict(),name)"
   ]
  },
  {
   "cell_type": "code",
   "execution_count": 66,
   "metadata": {},
   "outputs": [
    {
     "data": {
      "text/plain": [
       "(522.0, {})"
      ]
     },
     "execution_count": 66,
     "metadata": {},
     "output_type": "execute_result"
    }
   ],
   "source": [
    "list(gen_infomap.nodes(data=True))[3]"
   ]
  }
 ],
 "metadata": {
  "kernelspec": {
   "display_name": "Python 3.10.4 64-bit",
   "language": "python",
   "name": "python3"
  },
  "language_info": {
   "codemirror_mode": {
    "name": "ipython",
    "version": 3
   },
   "file_extension": ".py",
   "mimetype": "text/x-python",
   "name": "python",
   "nbconvert_exporter": "python",
   "pygments_lexer": "ipython3",
   "version": "3.10.6"
  },
  "orig_nbformat": 4,
  "vscode": {
   "interpreter": {
    "hash": "916dbcbb3f70747c44a77c7bcd40155683ae19c65e1c03b4aa3499c5328201f1"
   }
  }
 },
 "nbformat": 4,
 "nbformat_minor": 2
}
