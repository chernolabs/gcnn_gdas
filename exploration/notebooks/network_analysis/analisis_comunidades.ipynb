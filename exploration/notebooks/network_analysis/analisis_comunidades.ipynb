{
 "cells": [
  {
   "cell_type": "markdown",
   "metadata": {},
   "source": [
    "# Setup"
   ]
  },
  {
   "cell_type": "code",
   "execution_count": 1,
   "metadata": {},
   "outputs": [],
   "source": [
    "import pandas as pd\n",
    "import numpy as np\n",
    "import seaborn as sns\n",
    "import matplotlib.pyplot as plt\n",
    "import plotly.express as px\n",
    "import networkx as nx\n",
    "import igraph as ig \n",
    "from matplotlib_venn import venn3, venn2\n",
    "import random\n",
    "import plotly.io as pio"
   ]
  },
  {
   "cell_type": "code",
   "execution_count": 2,
   "metadata": {},
   "outputs": [],
   "source": [
    "seed = 16\n",
    "random.seed(seed)\n",
    "np.random.seed(seed)\n",
    "\n",
    "#esto es para forzar a plt a poner fondos blancos en las figuras aunque el tema del notebook sea oscuro\n",
    "plt.rcParams['axes.facecolor'] = 'white'\n",
    "plt.rcParams['figure.facecolor'] = 'white'\n",
    "cmap = plt.get_cmap(\"tab10\")\n",
    "pio.templates.default = \"seaborn\"\n",
    "\n",
    "sns.set_style(\"darkgrid\", rc={'xtick.bottom': True})"
   ]
  },
  {
   "cell_type": "code",
   "execution_count": 3,
   "metadata": {},
   "outputs": [
    {
     "data": {
      "text/html": [
       "<div>\n",
       "<style scoped>\n",
       "    .dataframe tbody tr th:only-of-type {\n",
       "        vertical-align: middle;\n",
       "    }\n",
       "\n",
       "    .dataframe tbody tr th {\n",
       "        vertical-align: top;\n",
       "    }\n",
       "\n",
       "    .dataframe thead th {\n",
       "        text-align: right;\n",
       "    }\n",
       "</style>\n",
       "<table border=\"1\" class=\"dataframe\">\n",
       "  <thead>\n",
       "    <tr style=\"text-align: right;\">\n",
       "      <th></th>\n",
       "      <th>Número de nodos</th>\n",
       "    </tr>\n",
       "  </thead>\n",
       "  <tbody>\n",
       "    <tr>\n",
       "      <th>bert_group</th>\n",
       "      <td>1043</td>\n",
       "    </tr>\n",
       "    <tr>\n",
       "      <th>complex</th>\n",
       "      <td>421</td>\n",
       "    </tr>\n",
       "    <tr>\n",
       "      <th>disease</th>\n",
       "      <td>15066</td>\n",
       "    </tr>\n",
       "    <tr>\n",
       "      <th>gene_protein</th>\n",
       "      <td>17322</td>\n",
       "    </tr>\n",
       "    <tr>\n",
       "      <th>pathway</th>\n",
       "      <td>2017</td>\n",
       "    </tr>\n",
       "    <tr>\n",
       "      <th>total</th>\n",
       "      <td>35869</td>\n",
       "    </tr>\n",
       "  </tbody>\n",
       "</table>\n",
       "</div>"
      ],
      "text/plain": [
       "              Número de nodos\n",
       "bert_group               1043\n",
       "complex                   421\n",
       "disease                 15066\n",
       "gene_protein            17322\n",
       "pathway                  2017\n",
       "total                   35869"
      ]
     },
     "metadata": {},
     "output_type": "display_data"
    },
    {
     "data": {
      "text/html": [
       "<div>\n",
       "<style scoped>\n",
       "    .dataframe tbody tr th:only-of-type {\n",
       "        vertical-align: middle;\n",
       "    }\n",
       "\n",
       "    .dataframe tbody tr th {\n",
       "        vertical-align: top;\n",
       "    }\n",
       "\n",
       "    .dataframe thead th {\n",
       "        text-align: right;\n",
       "    }\n",
       "</style>\n",
       "<table border=\"1\" class=\"dataframe\">\n",
       "  <thead>\n",
       "    <tr style=\"text-align: right;\">\n",
       "      <th></th>\n",
       "      <th>Número de enlaces</th>\n",
       "    </tr>\n",
       "  </thead>\n",
       "  <tbody>\n",
       "    <tr>\n",
       "      <th>disease_disease</th>\n",
       "      <td>17432.0</td>\n",
       "    </tr>\n",
       "    <tr>\n",
       "      <th>form_complex</th>\n",
       "      <td>1885.0</td>\n",
       "    </tr>\n",
       "    <tr>\n",
       "      <th>gda</th>\n",
       "      <td>84024.0</td>\n",
       "    </tr>\n",
       "    <tr>\n",
       "      <th>pathway_protein</th>\n",
       "      <td>42643.0</td>\n",
       "    </tr>\n",
       "    <tr>\n",
       "      <th>ppi</th>\n",
       "      <td>110051.0</td>\n",
       "    </tr>\n",
       "    <tr>\n",
       "      <th>total</th>\n",
       "      <td>256035.0</td>\n",
       "    </tr>\n",
       "  </tbody>\n",
       "</table>\n",
       "</div>"
      ],
      "text/plain": [
       "                 Número de enlaces\n",
       "disease_disease            17432.0\n",
       "form_complex                1885.0\n",
       "gda                        84024.0\n",
       "pathway_protein            42643.0\n",
       "ppi                       110051.0\n",
       "total                     256035.0"
      ]
     },
     "metadata": {},
     "output_type": "display_data"
    }
   ],
   "source": [
    "data_processed = \"../../../data/processed/\"\n",
    "data_interim = \"../../../data/interim/\"\n",
    "data_external = \"../../../data/external/\"\n",
    "reports_comunidades = \"../../../reports/analisis_comunidades/\"\n",
    "\n",
    "graph_node_data = pd.read_csv(data_processed+\"graph_data/grafo_alternativo_CG_nodos.csv\")\n",
    "graph_edge_data = pd.read_csv(data_processed+\"graph_data/grafo_alternativo_CG_edges.csv\")\n",
    "\n",
    "disease_attributes = pd.read_csv(data_interim+\"grafo_alternativo_disease_attributes.csv\")\n",
    "\n",
    "node_counts = dict(graph_node_data.node_type.value_counts())\n",
    "node_counts[\"total\"] = sum(node_counts.values())\n",
    "\n",
    "edge_counts = dict(graph_edge_data.edge_type.value_counts()/2)\n",
    "edge_counts[\"total\"] = sum(edge_counts.values())\n",
    "\n",
    "display(pd.DataFrame.from_dict({\"Número de nodos\":node_counts}, orient=\"columns\"))\n",
    "display(pd.DataFrame.from_dict({\"Número de enlaces\":edge_counts}, orient=\"columns\"))"
   ]
  },
  {
   "cell_type": "code",
   "execution_count": 4,
   "metadata": {},
   "outputs": [],
   "source": [
    "enfermedades = graph_node_data[(graph_node_data.node_type == \"disease\")|(graph_node_data.node_type == \"bert_group\")]"
   ]
  },
  {
   "cell_type": "code",
   "execution_count": 45,
   "metadata": {},
   "outputs": [
    {
     "data": {
      "text/plain": [
       "Text(0.5, 0, 'Tamaño')"
      ]
     },
     "execution_count": 45,
     "metadata": {},
     "output_type": "execute_result"
    },
    {
     "data": {
      "image/png": "[encoded data removed]",
      "text/plain": [
       "<Figure size 864x432 with 1 Axes>"
      ]
     },
     "metadata": {},
     "output_type": "display_data"
    }
   ],
   "source": [
    "# fig, ax = plt.subplots(1,2,figsize=(16,6))\n",
    "# fig.suptitle(\"Distribución de tamaños de clusters\")\n",
    "# ticks = np.logspace(0,tamaños_infomap.max(),10)\n",
    "\n",
    "# sns.histplot(data=tamaños_infomap, log_scale=True, ax=ax[0])\n",
    "# ax[0].set_xlabel(\"Tamaño\")\n",
    "# ax[0].set_title(\"Infomap\")\n",
    "\n",
    "# sns.histplot(data=tamaños_louvain,log_scale=(False,True), ax=ax[1],bins=np.linspace(2,tamaños_louvain.max(),40))\n",
    "# ax[1].set_xlabel(\"Tamaño\")\n",
    "# ax[1].set_title(\"Louvain\")\n",
    "\n",
    "# fig2, ax2 = plt.subplots(figsize=(12,6))\n",
    "# sns.histplot(data=pd.DataFrame({\"infomap\":tamaños_infomap,\"louvain\":tamaños_louvain}), log_scale=True,ax=ax2, palette=\"tab10\")\n",
    "# fig2.suptitle(\"Distribución de tamaños de clusters\")\n",
    "# ax2.set_xlabel(\"Tamaño\")\n",
    "\n",
    "# fig2.savefig(\"../../reports/analisis_comunidades/distribucion_tamaños.png\", dpi=200)"
   ]
  },
  {
   "cell_type": "markdown",
   "metadata": {},
   "source": [
    "Métricas de similaridad de conjuntos"
   ]
  },
  {
   "cell_type": "code",
   "execution_count": 5,
   "metadata": {},
   "outputs": [],
   "source": [
    "# Unión: |, Intersección: &\n",
    "def jaccard(set1,set2):\n",
    "    intersection = len(set1&set2)\n",
    "    union = len(set1|set2)\n",
    "    return intersection/union\n",
    "\n",
    "def int_min(set1,set2):\n",
    "    intersection = len(set1&set2)\n",
    "    min_set = np.min([len(set1),len(set2)])\n",
    "    return intersection/min_set\n",
    "\n",
    "def int_max(set1,set2):\n",
    "    intersection = len(set1&set2)\n",
    "    max_set = np.max([len(set1),len(set2)])\n",
    "    return intersection/max_set"
   ]
  },
  {
   "cell_type": "code",
   "execution_count": 6,
   "metadata": {},
   "outputs": [],
   "source": [
    "comunidades_infomap = enfermedades.comunidades_infomap.dropna().astype(\"int\").sort_values().unique()\n",
    "comunidades_louvain = enfermedades.comunidades_louvain.dropna().astype(\"int\").sort_values().unique()"
   ]
  },
  {
   "cell_type": "code",
   "execution_count": 48,
   "metadata": {},
   "outputs": [
    {
     "data": {
      "text/html": [
       "<div>\n",
       "<style scoped>\n",
       "    .dataframe tbody tr th:only-of-type {\n",
       "        vertical-align: middle;\n",
       "    }\n",
       "\n",
       "    .dataframe tbody tr th {\n",
       "        vertical-align: top;\n",
       "    }\n",
       "\n",
       "    .dataframe thead th {\n",
       "        text-align: right;\n",
       "    }\n",
       "</style>\n",
       "<table border=\"1\" class=\"dataframe\">\n",
       "  <thead>\n",
       "    <tr style=\"text-align: right;\">\n",
       "      <th></th>\n",
       "      <th>node_index</th>\n",
       "      <th>node_id</th>\n",
       "      <th>node_name</th>\n",
       "      <th>node_type</th>\n",
       "      <th>node_source</th>\n",
       "      <th>comunidades_infomap</th>\n",
       "      <th>comunidades_louvain</th>\n",
       "      <th>degree_gda</th>\n",
       "      <th>degree_pp</th>\n",
       "      <th>degree_dd</th>\n",
       "    </tr>\n",
       "  </thead>\n",
       "  <tbody>\n",
       "    <tr>\n",
       "      <th>7</th>\n",
       "      <td>7</td>\n",
       "      <td>10001_19287_23046_23048</td>\n",
       "      <td>ectodermal dysplasia syndrome</td>\n",
       "      <td>bert_group</td>\n",
       "      <td>primekg</td>\n",
       "      <td>220.0</td>\n",
       "      <td>42.0</td>\n",
       "      <td>0.0</td>\n",
       "      <td>0.0</td>\n",
       "      <td>64.0</td>\n",
       "    </tr>\n",
       "    <tr>\n",
       "      <th>17</th>\n",
       "      <td>17</td>\n",
       "      <td>100058_9385</td>\n",
       "      <td>hypervalinemia and hyperleucine-isoleucinemia</td>\n",
       "      <td>bert_group</td>\n",
       "      <td>primekg</td>\n",
       "      <td>463.0</td>\n",
       "      <td>36.0</td>\n",
       "      <td>0.0</td>\n",
       "      <td>0.0</td>\n",
       "      <td>2.0</td>\n",
       "    </tr>\n",
       "    <tr>\n",
       "      <th>19</th>\n",
       "      <td>19</td>\n",
       "      <td>10006_17723_17722_17721</td>\n",
       "      <td>Sandhoff disease</td>\n",
       "      <td>bert_group</td>\n",
       "      <td>primekg</td>\n",
       "      <td>467.0</td>\n",
       "      <td>36.0</td>\n",
       "      <td>0.0</td>\n",
       "      <td>0.0</td>\n",
       "      <td>8.0</td>\n",
       "    </tr>\n",
       "    <tr>\n",
       "      <th>28</th>\n",
       "      <td>28</td>\n",
       "      <td>100103_100102_100104_100101_8824</td>\n",
       "      <td>fetal akinesia deformation sequence</td>\n",
       "      <td>bert_group</td>\n",
       "      <td>primekg</td>\n",
       "      <td>367.0</td>\n",
       "      <td>17.0</td>\n",
       "      <td>0.0</td>\n",
       "      <td>0.0</td>\n",
       "      <td>2.0</td>\n",
       "    </tr>\n",
       "    <tr>\n",
       "      <th>88</th>\n",
       "      <td>88</td>\n",
       "      <td>100151_9066_18467</td>\n",
       "      <td>nephropathic cystinosis</td>\n",
       "      <td>bert_group</td>\n",
       "      <td>primekg</td>\n",
       "      <td>594.0</td>\n",
       "      <td>54.0</td>\n",
       "      <td>0.0</td>\n",
       "      <td>0.0</td>\n",
       "      <td>5.0</td>\n",
       "    </tr>\n",
       "    <tr>\n",
       "      <th>...</th>\n",
       "      <td>...</td>\n",
       "      <td>...</td>\n",
       "      <td>...</td>\n",
       "      <td>...</td>\n",
       "      <td>...</td>\n",
       "      <td>...</td>\n",
       "      <td>...</td>\n",
       "      <td>...</td>\n",
       "      <td>...</td>\n",
       "      <td>...</td>\n",
       "    </tr>\n",
       "    <tr>\n",
       "      <th>33426</th>\n",
       "      <td>34190</td>\n",
       "      <td>C4755299</td>\n",
       "      <td>MT-ATP6-related mitochondrial spastic paraplegia</td>\n",
       "      <td>disease</td>\n",
       "      <td>disgenet</td>\n",
       "      <td>348.0</td>\n",
       "      <td>30.0</td>\n",
       "      <td>1.0</td>\n",
       "      <td>0.0</td>\n",
       "      <td>1.0</td>\n",
       "    </tr>\n",
       "    <tr>\n",
       "      <th>33427</th>\n",
       "      <td>34191</td>\n",
       "      <td>C4755301</td>\n",
       "      <td>Idiopathic eosinophilic myositis</td>\n",
       "      <td>disease</td>\n",
       "      <td>disgenet</td>\n",
       "      <td>568.0</td>\n",
       "      <td>9.0</td>\n",
       "      <td>0.0</td>\n",
       "      <td>0.0</td>\n",
       "      <td>1.0</td>\n",
       "    </tr>\n",
       "    <tr>\n",
       "      <th>33428</th>\n",
       "      <td>34192</td>\n",
       "      <td>C4755302</td>\n",
       "      <td>Focal palmoplantar keratoderma with joint kera...</td>\n",
       "      <td>disease</td>\n",
       "      <td>disgenet</td>\n",
       "      <td>236.0</td>\n",
       "      <td>42.0</td>\n",
       "      <td>1.0</td>\n",
       "      <td>0.0</td>\n",
       "      <td>1.0</td>\n",
       "    </tr>\n",
       "    <tr>\n",
       "      <th>33429</th>\n",
       "      <td>34194</td>\n",
       "      <td>C4755309</td>\n",
       "      <td>Diffuse palmoplantar keratoderma with painful ...</td>\n",
       "      <td>disease</td>\n",
       "      <td>disgenet</td>\n",
       "      <td>224.0</td>\n",
       "      <td>42.0</td>\n",
       "      <td>1.0</td>\n",
       "      <td>0.0</td>\n",
       "      <td>1.0</td>\n",
       "    </tr>\n",
       "    <tr>\n",
       "      <th>33430</th>\n",
       "      <td>34195</td>\n",
       "      <td>C4757950</td>\n",
       "      <td>Isolated ATP synthase deficiency</td>\n",
       "      <td>disease</td>\n",
       "      <td>disgenet</td>\n",
       "      <td>797.0</td>\n",
       "      <td>17.0</td>\n",
       "      <td>7.0</td>\n",
       "      <td>0.0</td>\n",
       "      <td>1.0</td>\n",
       "    </tr>\n",
       "  </tbody>\n",
       "</table>\n",
       "<p>16109 rows × 10 columns</p>\n",
       "</div>"
      ],
      "text/plain": [
       "       node_index                           node_id  \\\n",
       "7               7           10001_19287_23046_23048   \n",
       "17             17                       100058_9385   \n",
       "19             19           10006_17723_17722_17721   \n",
       "28             28  100103_100102_100104_100101_8824   \n",
       "88             88                 100151_9066_18467   \n",
       "...           ...                               ...   \n",
       "33426       34190                          C4755299   \n",
       "33427       34191                          C4755301   \n",
       "33428       34192                          C4755302   \n",
       "33429       34194                          C4755309   \n",
       "33430       34195                          C4757950   \n",
       "\n",
       "                                               node_name   node_type  \\\n",
       "7                          ectodermal dysplasia syndrome  bert_group   \n",
       "17         hypervalinemia and hyperleucine-isoleucinemia  bert_group   \n",
       "19                                      Sandhoff disease  bert_group   \n",
       "28                   fetal akinesia deformation sequence  bert_group   \n",
       "88                               nephropathic cystinosis  bert_group   \n",
       "...                                                  ...         ...   \n",
       "33426   MT-ATP6-related mitochondrial spastic paraplegia     disease   \n",
       "33427                   Idiopathic eosinophilic myositis     disease   \n",
       "33428  Focal palmoplantar keratoderma with joint kera...     disease   \n",
       "33429  Diffuse palmoplantar keratoderma with painful ...     disease   \n",
       "33430                   Isolated ATP synthase deficiency     disease   \n",
       "\n",
       "      node_source  comunidades_infomap  comunidades_louvain  degree_gda  \\\n",
       "7         primekg                220.0                 42.0         0.0   \n",
       "17        primekg                463.0                 36.0         0.0   \n",
       "19        primekg                467.0                 36.0         0.0   \n",
       "28        primekg                367.0                 17.0         0.0   \n",
       "88        primekg                594.0                 54.0         0.0   \n",
       "...           ...                  ...                  ...         ...   \n",
       "33426    disgenet                348.0                 30.0         1.0   \n",
       "33427    disgenet                568.0                  9.0         0.0   \n",
       "33428    disgenet                236.0                 42.0         1.0   \n",
       "33429    disgenet                224.0                 42.0         1.0   \n",
       "33430    disgenet                797.0                 17.0         7.0   \n",
       "\n",
       "       degree_pp  degree_dd  \n",
       "7            0.0       64.0  \n",
       "17           0.0        2.0  \n",
       "19           0.0        8.0  \n",
       "28           0.0        2.0  \n",
       "88           0.0        5.0  \n",
       "...          ...        ...  \n",
       "33426        0.0        1.0  \n",
       "33427        0.0        1.0  \n",
       "33428        0.0        1.0  \n",
       "33429        0.0        1.0  \n",
       "33430        0.0        1.0  \n",
       "\n",
       "[16109 rows x 10 columns]"
      ]
     },
     "execution_count": 48,
     "metadata": {},
     "output_type": "execute_result"
    }
   ],
   "source": [
    "enfermedades"
   ]
  },
  {
   "cell_type": "code",
   "execution_count": 7,
   "metadata": {},
   "outputs": [],
   "source": [
    "conjuntos_infomap = {int(comunidad):set(enfermedades.loc[enfermedades.comunidades_infomap == comunidad,\"node_index\"].values) for comunidad in comunidades_infomap}\n",
    "conjuntos_louvain = {int(comunidad):set(enfermedades.loc[enfermedades.comunidades_louvain == comunidad,\"node_index\"].values) for comunidad in comunidades_louvain}"
   ]
  },
  {
   "cell_type": "markdown",
   "metadata": {},
   "source": [
    "# Comparación entre particiones"
   ]
  },
  {
   "cell_type": "code",
   "execution_count": 50,
   "metadata": {},
   "outputs": [],
   "source": [
    "matrix_jaccard = {}\n",
    "matrix_min = {}\n",
    "matrix_max = {}\n",
    "\n",
    "for comunidad_infomap,set_infomap in conjuntos_infomap.items():\n",
    "    partial_jaccard = {}\n",
    "    partial_min = {}\n",
    "    partial_max = {}\n",
    "    for comunidad_louvain, set_louvain in conjuntos_louvain.items():\n",
    "        coef_jaccard = jaccard(set_infomap,set_louvain)\n",
    "        coef_min = int_min(set_infomap,set_louvain)\n",
    "        coef_max = int_max(set_infomap,set_louvain)\n",
    "        partial_jaccard[comunidad_louvain] = coef_jaccard\n",
    "        partial_min[comunidad_louvain] = coef_min\n",
    "        partial_max[comunidad_louvain] = coef_max\n",
    "    matrix_jaccard[comunidad_infomap] = partial_jaccard\n",
    "    matrix_min[comunidad_infomap] = partial_min\n",
    "    matrix_max[comunidad_infomap] = partial_max"
   ]
  },
  {
   "cell_type": "code",
   "execution_count": 51,
   "metadata": {},
   "outputs": [],
   "source": [
    "df_jaccard = pd.DataFrame(matrix_jaccard)\n",
    "df_min = pd.DataFrame(matrix_min)\n",
    "df_max = pd.DataFrame(matrix_max)"
   ]
  },
  {
   "cell_type": "code",
   "execution_count": 52,
   "metadata": {},
   "outputs": [],
   "source": [
    "nodos_bert = graph_node_data.loc[graph_node_data.node_type == \"bert_group\",[\"node_index\",\"node_id\",\"node_name\",\"node_source\"]].copy()\n",
    "disease_attributes = pd.concat([disease_attributes,nodos_bert])\n",
    "\n",
    "enfermedades_en_dd = graph_node_data.loc[graph_node_data.degree_dd != 0, \"node_index\"].values\n",
    "disease_attributes = disease_attributes.set_index(\"node_index\").loc[enfermedades_en_dd].reset_index()\n",
    "\n",
    "disease_attributes = pd.merge(graph_node_data[[\"node_index\",\"comunidades_infomap\",\"comunidades_louvain\"]],disease_attributes,left_on=\"node_index\",right_on=\"node_index\",how=\"right\")\n",
    "\n",
    "tamaños_louvain = disease_attributes.comunidades_louvain.value_counts()\n",
    "tamaños_infomap = disease_attributes.comunidades_infomap.value_counts()\n",
    "\n",
    "infomap_clusters = pd.DataFrame(tamaños_infomap).reset_index().rename(columns={\"index\":\"comunidad\",\"comunidades_infomap\":\"tamaño\"}).astype({\"comunidad\":\"int\"})\n",
    "louvain_clusters = pd.DataFrame(tamaños_louvain).reset_index().rename(columns={\"index\":\"comunidad\",\"comunidades_louvain\":\"tamaño\"}).astype({\"comunidad\":\"int\"})"
   ]
  },
  {
   "cell_type": "code",
   "execution_count": 53,
   "metadata": {},
   "outputs": [],
   "source": [
    "from mpl_toolkits.axes_grid1 import make_axes_locatable"
   ]
  },
  {
   "cell_type": "code",
   "execution_count": 54,
   "metadata": {},
   "outputs": [
    {
     "name": "stderr",
     "output_type": "stream",
     "text": [
      "/tmp/ipykernel_32209/4195500612.py:3: UserWarning:\n",
      "\n",
      "Boolean Series key will be reindexed to match DataFrame index.\n",
      "\n",
      "/tmp/ipykernel_32209/4195500612.py:4: UserWarning:\n",
      "\n",
      "Boolean Series key will be reindexed to match DataFrame index.\n",
      "\n",
      "/tmp/ipykernel_32209/4195500612.py:26: MatplotlibDeprecationWarning:\n",
      "\n",
      "Auto-removal of grids by pcolor() and pcolormesh() is deprecated since 3.5 and will be removed two minor releases later; please call grid(False) first.\n",
      "\n",
      "/tmp/ipykernel_32209/4195500612.py:40: MatplotlibDeprecationWarning:\n",
      "\n",
      "Auto-removal of grids by pcolor() and pcolormesh() is deprecated since 3.5 and will be removed two minor releases later; please call grid(False) first.\n",
      "\n",
      "/tmp/ipykernel_32209/4195500612.py:53: MatplotlibDeprecationWarning:\n",
      "\n",
      "Auto-removal of grids by pcolor() and pcolormesh() is deprecated since 3.5 and will be removed two minor releases later; please call grid(False) first.\n",
      "\n"
     ]
    },
    {
     "data": {
      "image/png": "[encoded data removed]",
      "text/plain": [
       "<Figure size 1728x360 with 6 Axes>"
      ]
     },
     "metadata": {},
     "output_type": "display_data"
    }
   ],
   "source": [
    "n = 20\n",
    "\n",
    "infomap_corte = infomap_clusters.sort_values(by=\"tamaño\", ascending=False)[infomap_clusters.tamaño > n].comunidad.values\n",
    "louvain_corte = louvain_clusters.sort_values(by=\"tamaño\", ascending=False)[louvain_clusters.tamaño > n].comunidad.values\n",
    "\n",
    "fig, (ax1,ax2,ax3) = plt.subplots(1,3, figsize=(24,5), sharey=True)\n",
    "fig.suptitle(f\"Comparación entre clusters de tamaño > {n}\", fontsize=18)\n",
    "\n",
    "jaccard_mat = df_jaccard.loc[louvain_corte,infomap_corte]\n",
    "min_mat = df_min.loc[louvain_corte,infomap_corte]\n",
    "max_mat = df_max.loc[louvain_corte, infomap_corte]\n",
    "\n",
    "cmap = \"viridis\"\n",
    "\n",
    "im = ax1.matshow(min_mat,\n",
    "                cmap=cmap)\n",
    "ax1.set_title(\"Intersección/min\", fontsize=18)\n",
    "# cbar = fig.colorbar(im, ax=ax1)\n",
    "ax1.tick_params(labelbottom=False, labelleft=False,labeltop=False)\n",
    "ax1.set_xlabel(\"Infomap\", fontsize=14)\n",
    "ax1.set_ylabel(\"Louvain\", fontsize=14)\n",
    "ax1.grid(False)\n",
    "\n",
    "divider = make_axes_locatable(ax1)\n",
    "cax = divider.append_axes(\"right\", size=\"5%\", pad=0.05)\n",
    "cbar = fig.colorbar(im, ax=ax2,fraction=0.046, pad=0.04, cax=cax)\n",
    "\n",
    "\n",
    "im2 = ax2.matshow(max_mat,\n",
    "                cmap=cmap)\n",
    "ax2.set_title('Intersección/max', fontsize=18)\n",
    "# cbar = fig.colorbar(im2, ax=ax2)\n",
    "ax2.tick_params(labelbottom=False, labelleft=False,labeltop=False)\n",
    "ax2.set_xlabel(\"Infomap\", fontsize=14)\n",
    "ax2.set_ylabel(\"Louvain\", fontsize=14)\n",
    "ax2.grid(False)\n",
    "\n",
    "divider2 = make_axes_locatable(ax2)\n",
    "cax2 = divider2.append_axes(\"right\", size=\"5%\", pad=0.05)\n",
    "cbar = fig.colorbar(im2, ax=ax2,fraction=0.046, pad=0.04, cax=cax2)\n",
    "\n",
    "\n",
    "im3 = ax3.matshow(jaccard_mat,\n",
    "                cmap=cmap)\n",
    "ax3.set_title('Jaccard', fontsize=18)\n",
    "ax3.tick_params(labelbottom=False, labelleft=False,labeltop=False)\n",
    "ax3.set_xlabel(\"Infomap\", fontsize=14)\n",
    "ax3.set_ylabel(\"Louvain\", fontsize=14)\n",
    "ax3.grid(False)\n",
    "\n",
    "divider3 = make_axes_locatable(ax3)\n",
    "cax3 = divider3.append_axes(\"right\", size=\"5%\", pad=0.05)\n",
    "cbar = fig.colorbar(im3, ax=ax3,fraction=0.046, pad=0.04, cax=cax3)\n",
    "\n",
    "plt.tight_layout()"
   ]
  },
  {
   "cell_type": "code",
   "execution_count": 55,
   "metadata": {},
   "outputs": [
    {
     "data": {
      "image/png": "[encoded data removed]",
      "text/plain": [
       "<Figure size 1728x432 with 3 Axes>"
      ]
     },
     "metadata": {},
     "output_type": "display_data"
    }
   ],
   "source": [
    "metricas = {\"Intersección/min\":df_min,\"Intersección/max\":df_max, \"Jaccard\":df_jaccard}\n",
    "\n",
    "fig, ax = plt.subplots(1,3, figsize=(24,6), sharey=True)\n",
    "fig.suptitle(\"Distribución de coeficientes máximos Louvain->Infomap\", fontsize=20)\n",
    "i=0\n",
    "for name,data in metricas.items():\n",
    "    ax[i].hist(data.T.max().values, bins=np.linspace(0,1,10))\n",
    "    ax[i].set_title(f\"{name}\", fontsize=18)\n",
    "    ax[i].set_xlabel(\"Coeficiente\")\n",
    "    i+=1\n",
    "\n",
    "ax[0].set_ylabel(\"Counts\")\n",
    "\n",
    "plt.tight_layout()"
   ]
  },
  {
   "cell_type": "code",
   "execution_count": 56,
   "metadata": {},
   "outputs": [
    {
     "data": {
      "image/png": "[encoded data removed]",
      "text/plain": [
       "<Figure size 1728x864 with 6 Axes>"
      ]
     },
     "metadata": {},
     "output_type": "display_data"
    }
   ],
   "source": [
    "metricas = {\"Intersección/min\":df_min,\"Intersección/max\":df_max, \"Jaccard\":df_jaccard}\n",
    "\n",
    "fig, ax = plt.subplots(2,3, figsize=(24,12))\n",
    "fig.suptitle(\"Distribución de coeficientes máximos\", fontsize=20)\n",
    "\n",
    "i=0\n",
    "for name,data in metricas.items():\n",
    "    ax[0,i].hist(data.max().values)\n",
    "    ax[0,i].set_title(f\"{name}, Louvain->Infomap\", fontsize=18)\n",
    "\n",
    "    ax[1,i].hist(data.T.max().values)\n",
    "    ax[1,i].set_title(f\"{name}, Infomap->Louvain\", fontsize=18)\n",
    "    i+=1"
   ]
  },
  {
   "cell_type": "markdown",
   "metadata": {},
   "source": [
    "# Quiero ver si las comunidades suelen tener Berts"
   ]
  },
  {
   "cell_type": "code",
   "execution_count": 57,
   "metadata": {},
   "outputs": [],
   "source": [
    "bert_groups = enfermedades[enfermedades.node_type == \"bert_group\"]\n",
    "berts_infomap = pd.DataFrame(bert_groups.comunidades_infomap.value_counts()).reset_index().rename(columns={\"comunidades_infomap\":\"num_berts\",\"index\":\"comunidad\"}).astype({\"comunidad\":\"int\"})\n",
    "berts_louvain = pd.DataFrame(bert_groups.comunidades_louvain.value_counts()).reset_index().rename(columns={\"comunidades_louvain\":\"num_berts\",\"index\":\"comunidad\"}).astype({\"comunidad\":\"int\"})\n",
    "\n",
    "rows_infomap = pd.DataFrame.from_dict({comunidad:0 for comunidad in comunidades_infomap if comunidad not in berts_infomap.comunidad.values},orient=\"index\").reset_index().rename(columns={\"index\":\"comunidad\",0:\"num_berts\"})\n",
    "rows_louvain = pd.DataFrame.from_dict({comunidad:0 for comunidad in comunidades_louvain if comunidad not in berts_louvain.comunidad.values},orient=\"index\").reset_index().rename(columns={\"index\":\"comunidad\",0:\"num_berts\"})\n",
    "\n",
    "berts_infomap = pd.concat([berts_infomap,rows_infomap])\n",
    "berts_louvain = pd.concat([berts_louvain,rows_louvain])"
   ]
  },
  {
   "cell_type": "code",
   "execution_count": 58,
   "metadata": {},
   "outputs": [
    {
     "data": {
      "image/png": "[encoded data removed]",
      "text/plain": [
       "<Figure size 1152x432 with 2 Axes>"
      ]
     },
     "metadata": {},
     "output_type": "display_data"
    }
   ],
   "source": [
    "values_infomap = berts_infomap.num_berts.values\n",
    "values_louvain = berts_louvain.num_berts.values\n",
    "\n",
    "fig, ax = plt.subplots(1,2,figsize=(16,6), sharey=True)\n",
    "fig.suptitle(\"Distribución de grupos BERT por cluster\\n\",fontsize=18)\n",
    "ticks = np.logspace(0,values_louvain.max(),10)\n",
    "\n",
    "ax[0].hist(values_infomap,log=True)\n",
    "ax[0].set_title(\"Clusters Infomap\", fontsize=14)\n",
    "ax[0].set_ylabel(\"Counts\")\n",
    "ax[0].set_xlabel(\"Número de grupos Bert por cluster\")\n",
    "\n",
    "ax[1].hist(values_louvain,log=True)\n",
    "ax[1].set_title(\"Clusters Louvain\", fontsize=14)\n",
    "ax[1].set_xlabel(\"Número de grupos Bert por cluster\")\n",
    "\n",
    "plt.tight_layout()"
   ]
  },
  {
   "cell_type": "code",
   "execution_count": 59,
   "metadata": {},
   "outputs": [
    {
     "data": {
      "application/vnd.plotly.v1+json": {
       "config": {
        "plotlyServerURL": "https://plot.ly"
       },
       "data": [
        {
         "alignmentgroup": "True",
         "bingroup": "x",
         "hovertemplate": "num_berts=%{x}<br>count=%{y}<extra></extra>",
         "legendgroup": "",
         "marker": {
          "color": "rgb(76,114,176)",
          "pattern": {
           "shape": ""
          }
         },
         "name": "",
         "nbinsx": 80,
         "offsetgroup": "",
         "orientation": "v",
         "showlegend": false,
         "type": "histogram",
         "x": [
          75,
          57,
          41,
          37,
          29,
          28,
          28,
          24,
          24,
          23,
          23,
          23,
          22,
          21,
          20,
          20,
          20,
          19,
          19,
          18,
          17,
          17,
          16,
          16,
          16,
          16,
          16,
          15,
          13,
          13,
          12,
          12,
          11,
          11,
          10,
          9,
          8,
          8,
          7,
          7,
          7,
          7,
          6,
          5,
          4,
          4,
          4,
          4,
          3,
          3,
          2,
          2,
          2,
          2,
          2,
          2,
          2,
          2,
          2,
          2,
          2,
          2,
          1,
          1,
          1,
          1,
          1,
          1,
          1,
          1,
          1,
          1,
          1,
          1,
          1,
          1,
          1,
          1,
          1,
          1,
          1,
          1,
          1,
          1,
          1,
          1,
          1,
          1,
          1,
          1,
          1,
          1,
          1,
          1,
          1,
          1,
          1,
          1,
          1,
          1,
          1,
          1,
          1,
          1,
          1,
          1,
          1,
          1,
          1,
          1,
          1,
          1,
          1,
          1,
          1,
          1,
          1,
          1,
          1,
          1,
          1,
          1,
          1,
          1,
          1,
          1,
          1,
          1,
          1,
          1,
          1,
          1,
          1,
          1,
          1,
          1,
          1,
          1,
          1,
          1,
          1,
          1,
          1,
          1,
          1,
          1,
          1,
          1,
          1,
          1,
          1,
          1,
          1,
          1,
          1,
          1,
          1,
          1,
          1,
          1,
          1,
          1,
          1,
          1,
          1,
          1,
          1,
          1,
          1,
          1,
          1,
          1,
          1,
          1,
          1,
          1,
          1,
          1,
          1,
          1,
          1,
          1,
          1,
          1,
          1,
          1,
          1,
          1,
          1,
          1,
          1,
          1,
          1,
          1,
          1,
          1,
          1,
          1,
          1,
          1,
          1,
          1,
          1,
          1,
          1,
          1,
          1,
          1,
          1,
          1,
          1,
          1,
          1,
          0,
          0,
          0,
          0,
          0,
          0,
          0,
          0,
          0,
          0,
          0,
          0,
          0,
          0,
          0,
          0,
          0,
          0,
          0,
          0,
          0,
          0,
          0,
          0,
          0,
          0,
          0,
          0,
          0,
          0,
          0,
          0,
          0,
          0,
          0,
          0,
          0,
          0,
          0,
          0,
          0,
          0,
          0,
          0,
          0,
          0,
          0,
          0,
          0,
          0,
          0,
          0,
          0
         ],
         "xaxis": "x",
         "yaxis": "y"
        }
       ],
       "layout": {
        "barmode": "relative",
        "legend": {
         "tracegroupgap": 0
        },
        "template": {
         "data": {
          "bar": [
           {
            "error_x": {
             "color": "rgb(36,36,36)"
            },
            "error_y": {
             "color": "rgb(36,36,36)"
            },
            "marker": {
             "line": {
              "color": "rgb(234,234,242)",
              "width": 0.5
             },
             "pattern": {
              "fillmode": "overlay",
              "size": 10,
              "solidity": 0.2
             }
            },
            "type": "bar"
           }
          ],
          "barpolar": [
           {
            "marker": {
             "line": {
              "color": "rgb(234,234,242)",
              "width": 0.5
             },
             "pattern": {
              "fillmode": "overlay",
              "size": 10,
              "solidity": 0.2
             }
            },
            "type": "barpolar"
           }
          ],
          "carpet": [
           {
            "aaxis": {
             "endlinecolor": "rgb(36,36,36)",
             "gridcolor": "white",
             "linecolor": "white",
             "minorgridcolor": "white",
             "startlinecolor": "rgb(36,36,36)"
            },
            "baxis": {
             "endlinecolor": "rgb(36,36,36)",
             "gridcolor": "white",
             "linecolor": "white",
             "minorgridcolor": "white",
             "startlinecolor": "rgb(36,36,36)"
            },
            "type": "carpet"
           }
          ],
          "choropleth": [
           {
            "colorbar": {
             "outlinewidth": 0,
             "tickcolor": "rgb(36,36,36)",
             "ticklen": 8,
             "ticks": "outside",
             "tickwidth": 2
            },
            "type": "choropleth"
           }
          ],
          "contour": [
           {
            "colorbar": {
             "outlinewidth": 0,
             "tickcolor": "rgb(36,36,36)",
             "ticklen": 8,
             "ticks": "outside",
             "tickwidth": 2
            },
            "colorscale": [
             [
              0,
              "rgb(2,4,25)"
             ],
             [
              0.06274509803921569,
              "rgb(24,15,41)"
             ],
             [
              0.12549019607843137,
              "rgb(47,23,57)"
             ],
             [
              0.18823529411764706,
              "rgb(71,28,72)"
             ],
             [
              0.25098039215686274,
              "rgb(97,30,82)"
             ],
             [
              0.3137254901960784,
              "rgb(123,30,89)"
             ],
             [
              0.3764705882352941,
              "rgb(150,27,91)"
             ],
             [
              0.4392156862745098,
              "rgb(177,22,88)"
             ],
             [
              0.5019607843137255,
              "rgb(203,26,79)"
             ],
             [
              0.5647058823529412,
              "rgb(223,47,67)"
             ],
             [
              0.6274509803921569,
              "rgb(236,76,61)"
             ],
             [
              0.6901960784313725,
              "rgb(242,107,73)"
             ],
             [
              0.7529411764705882,
              "rgb(244,135,95)"
             ],
             [
              0.8156862745098039,
              "rgb(245,162,122)"
             ],
             [
              0.8784313725490196,
              "rgb(246,188,153)"
             ],
             [
              0.9411764705882353,
              "rgb(247,212,187)"
             ],
             [
              1,
              "rgb(250,234,220)"
             ]
            ],
            "type": "contour"
           }
          ],
          "contourcarpet": [
           {
            "colorbar": {
             "outlinewidth": 0,
             "tickcolor": "rgb(36,36,36)",
             "ticklen": 8,
             "ticks": "outside",
             "tickwidth": 2
            },
            "type": "contourcarpet"
           }
          ],
          "heatmap": [
           {
            "colorbar": {
             "outlinewidth": 0,
             "tickcolor": "rgb(36,36,36)",
             "ticklen": 8,
             "ticks": "outside",
             "tickwidth": 2
            },
            "colorscale": [
             [
              0,
              "rgb(2,4,25)"
             ],
             [
              0.06274509803921569,
              "rgb(24,15,41)"
             ],
             [
              0.12549019607843137,
              "rgb(47,23,57)"
             ],
             [
              0.18823529411764706,
              "rgb(71,28,72)"
             ],
             [
              0.25098039215686274,
              "rgb(97,30,82)"
             ],
             [
              0.3137254901960784,
              "rgb(123,30,89)"
             ],
             [
              0.3764705882352941,
              "rgb(150,27,91)"
             ],
             [
              0.4392156862745098,
              "rgb(177,22,88)"
             ],
             [
              0.5019607843137255,
              "rgb(203,26,79)"
             ],
             [
              0.5647058823529412,
              "rgb(223,47,67)"
             ],
             [
              0.6274509803921569,
              "rgb(236,76,61)"
             ],
             [
              0.6901960784313725,
              "rgb(242,107,73)"
             ],
             [
              0.7529411764705882,
              "rgb(244,135,95)"
             ],
             [
              0.8156862745098039,
              "rgb(245,162,122)"
             ],
             [
              0.8784313725490196,
              "rgb(246,188,153)"
             ],
             [
              0.9411764705882353,
              "rgb(247,212,187)"
             ],
             [
              1,
              "rgb(250,234,220)"
             ]
            ],
            "type": "heatmap"
           }
          ],
          "heatmapgl": [
           {
            "colorbar": {
             "outlinewidth": 0,
             "tickcolor": "rgb(36,36,36)",
             "ticklen": 8,
             "ticks": "outside",
             "tickwidth": 2
            },
            "colorscale": [
             [
              0,
              "rgb(2,4,25)"
             ],
             [
              0.06274509803921569,
              "rgb(24,15,41)"
             ],
             [
              0.12549019607843137,
              "rgb(47,23,57)"
             ],
             [
              0.18823529411764706,
              "rgb(71,28,72)"
             ],
             [
              0.25098039215686274,
              "rgb(97,30,82)"
             ],
             [
              0.3137254901960784,
              "rgb(123,30,89)"
             ],
             [
              0.3764705882352941,
              "rgb(150,27,91)"
             ],
             [
              0.4392156862745098,
              "rgb(177,22,88)"
             ],
             [
              0.5019607843137255,
              "rgb(203,26,79)"
             ],
             [
              0.5647058823529412,
              "rgb(223,47,67)"
             ],
             [
              0.6274509803921569,
              "rgb(236,76,61)"
             ],
             [
              0.6901960784313725,
              "rgb(242,107,73)"
             ],
             [
              0.7529411764705882,
              "rgb(244,135,95)"
             ],
             [
              0.8156862745098039,
              "rgb(245,162,122)"
             ],
             [
              0.8784313725490196,
              "rgb(246,188,153)"
             ],
             [
              0.9411764705882353,
              "rgb(247,212,187)"
             ],
             [
              1,
              "rgb(250,234,220)"
             ]
            ],
            "type": "heatmapgl"
           }
          ],
          "histogram": [
           {
            "marker": {
             "pattern": {
              "fillmode": "overlay",
              "size": 10,
              "solidity": 0.2
             }
            },
            "type": "histogram"
           }
          ],
          "histogram2d": [
           {
            "colorbar": {
             "outlinewidth": 0,
             "tickcolor": "rgb(36,36,36)",
             "ticklen": 8,
             "ticks": "outside",
             "tickwidth": 2
            },
            "colorscale": [
             [
              0,
              "rgb(2,4,25)"
             ],
             [
              0.06274509803921569,
              "rgb(24,15,41)"
             ],
             [
              0.12549019607843137,
              "rgb(47,23,57)"
             ],
             [
              0.18823529411764706,
              "rgb(71,28,72)"
             ],
             [
              0.25098039215686274,
              "rgb(97,30,82)"
             ],
             [
              0.3137254901960784,
              "rgb(123,30,89)"
             ],
             [
              0.3764705882352941,
              "rgb(150,27,91)"
             ],
             [
              0.4392156862745098,
              "rgb(177,22,88)"
             ],
             [
              0.5019607843137255,
              "rgb(203,26,79)"
             ],
             [
              0.5647058823529412,
              "rgb(223,47,67)"
             ],
             [
              0.6274509803921569,
              "rgb(236,76,61)"
             ],
             [
              0.6901960784313725,
              "rgb(242,107,73)"
             ],
             [
              0.7529411764705882,
              "rgb(244,135,95)"
             ],
             [
              0.8156862745098039,
              "rgb(245,162,122)"
             ],
             [
              0.8784313725490196,
              "rgb(246,188,153)"
             ],
             [
              0.9411764705882353,
              "rgb(247,212,187)"
             ],
             [
              1,
              "rgb(250,234,220)"
             ]
            ],
            "type": "histogram2d"
           }
          ],
          "histogram2dcontour": [
           {
            "colorbar": {
             "outlinewidth": 0,
             "tickcolor": "rgb(36,36,36)",
             "ticklen": 8,
             "ticks": "outside",
             "tickwidth": 2
            },
            "colorscale": [
             [
              0,
              "rgb(2,4,25)"
             ],
             [
              0.06274509803921569,
              "rgb(24,15,41)"
             ],
             [
              0.12549019607843137,
              "rgb(47,23,57)"
             ],
             [
              0.18823529411764706,
              "rgb(71,28,72)"
             ],
             [
              0.25098039215686274,
              "rgb(97,30,82)"
             ],
             [
              0.3137254901960784,
              "rgb(123,30,89)"
             ],
             [
              0.3764705882352941,
              "rgb(150,27,91)"
             ],
             [
              0.4392156862745098,
              "rgb(177,22,88)"
             ],
             [
              0.5019607843137255,
              "rgb(203,26,79)"
             ],
             [
              0.5647058823529412,
              "rgb(223,47,67)"
             ],
             [
              0.6274509803921569,
              "rgb(236,76,61)"
             ],
             [
              0.6901960784313725,
              "rgb(242,107,73)"
             ],
             [
              0.7529411764705882,
              "rgb(244,135,95)"
             ],
             [
              0.8156862745098039,
              "rgb(245,162,122)"
             ],
             [
              0.8784313725490196,
              "rgb(246,188,153)"
             ],
             [
              0.9411764705882353,
              "rgb(247,212,187)"
             ],
             [
              1,
              "rgb(250,234,220)"
             ]
            ],
            "type": "histogram2dcontour"
           }
          ],
          "mesh3d": [
           {
            "colorbar": {
             "outlinewidth": 0,
             "tickcolor": "rgb(36,36,36)",
             "ticklen": 8,
             "ticks": "outside",
             "tickwidth": 2
            },
            "type": "mesh3d"
           }
          ],
          "parcoords": [
           {
            "line": {
             "colorbar": {
              "outlinewidth": 0,
              "tickcolor": "rgb(36,36,36)",
              "ticklen": 8,
              "ticks": "outside",
              "tickwidth": 2
             }
            },
            "type": "parcoords"
           }
          ],
          "pie": [
           {
            "automargin": true,
            "type": "pie"
           }
          ],
          "scatter": [
           {
            "fillpattern": {
             "fillmode": "overlay",
             "size": 10,
             "solidity": 0.2
            },
            "type": "scatter"
           }
          ],
          "scatter3d": [
           {
            "line": {
             "colorbar": {
              "outlinewidth": 0,
              "tickcolor": "rgb(36,36,36)",
              "ticklen": 8,
              "ticks": "outside",
              "tickwidth": 2
             }
            },
            "marker": {
             "colorbar": {
              "outlinewidth": 0,
              "tickcolor": "rgb(36,36,36)",
              "ticklen": 8,
              "ticks": "outside",
              "tickwidth": 2
             }
            },
            "type": "scatter3d"
           }
          ],
          "scattercarpet": [
           {
            "marker": {
             "colorbar": {
              "outlinewidth": 0,
              "tickcolor": "rgb(36,36,36)",
              "ticklen": 8,
              "ticks": "outside",
              "tickwidth": 2
             }
            },
            "type": "scattercarpet"
           }
          ],
          "scattergeo": [
           {
            "marker": {
             "colorbar": {
              "outlinewidth": 0,
              "tickcolor": "rgb(36,36,36)",
              "ticklen": 8,
              "ticks": "outside",
              "tickwidth": 2
             }
            },
            "type": "scattergeo"
           }
          ],
          "scattergl": [
           {
            "marker": {
             "colorbar": {
              "outlinewidth": 0,
              "tickcolor": "rgb(36,36,36)",
              "ticklen": 8,
              "ticks": "outside",
              "tickwidth": 2
             }
            },
            "type": "scattergl"
           }
          ],
          "scattermapbox": [
           {
            "marker": {
             "colorbar": {
              "outlinewidth": 0,
              "tickcolor": "rgb(36,36,36)",
              "ticklen": 8,
              "ticks": "outside",
              "tickwidth": 2
             }
            },
            "type": "scattermapbox"
           }
          ],
          "scatterpolar": [
           {
            "marker": {
             "colorbar": {
              "outlinewidth": 0,
              "tickcolor": "rgb(36,36,36)",
              "ticklen": 8,
              "ticks": "outside",
              "tickwidth": 2
             }
            },
            "type": "scatterpolar"
           }
          ],
          "scatterpolargl": [
           {
            "marker": {
             "colorbar": {
              "outlinewidth": 0,
              "tickcolor": "rgb(36,36,36)",
              "ticklen": 8,
              "ticks": "outside",
              "tickwidth": 2
             }
            },
            "type": "scatterpolargl"
           }
          ],
          "scatterternary": [
           {
            "marker": {
             "colorbar": {
              "outlinewidth": 0,
              "tickcolor": "rgb(36,36,36)",
              "ticklen": 8,
              "ticks": "outside",
              "tickwidth": 2
             }
            },
            "type": "scatterternary"
           }
          ],
          "surface": [
           {
            "colorbar": {
             "outlinewidth": 0,
             "tickcolor": "rgb(36,36,36)",
             "ticklen": 8,
             "ticks": "outside",
             "tickwidth": 2
            },
            "colorscale": [
             [
              0,
              "rgb(2,4,25)"
             ],
             [
              0.06274509803921569,
              "rgb(24,15,41)"
             ],
             [
              0.12549019607843137,
              "rgb(47,23,57)"
             ],
             [
              0.18823529411764706,
              "rgb(71,28,72)"
             ],
             [
              0.25098039215686274,
              "rgb(97,30,82)"
             ],
             [
              0.3137254901960784,
              "rgb(123,30,89)"
             ],
             [
              0.3764705882352941,
              "rgb(150,27,91)"
             ],
             [
              0.4392156862745098,
              "rgb(177,22,88)"
             ],
             [
              0.5019607843137255,
              "rgb(203,26,79)"
             ],
             [
              0.5647058823529412,
              "rgb(223,47,67)"
             ],
             [
              0.6274509803921569,
              "rgb(236,76,61)"
             ],
             [
              0.6901960784313725,
              "rgb(242,107,73)"
             ],
             [
              0.7529411764705882,
              "rgb(244,135,95)"
             ],
             [
              0.8156862745098039,
              "rgb(245,162,122)"
             ],
             [
              0.8784313725490196,
              "rgb(246,188,153)"
             ],
             [
              0.9411764705882353,
              "rgb(247,212,187)"
             ],
             [
              1,
              "rgb(250,234,220)"
             ]
            ],
            "type": "surface"
           }
          ],
          "table": [
           {
            "cells": {
             "fill": {
              "color": "rgb(231,231,240)"
             },
             "line": {
              "color": "white"
             }
            },
            "header": {
             "fill": {
              "color": "rgb(183,183,191)"
             },
             "line": {
              "color": "white"
             }
            },
            "type": "table"
           }
          ]
         },
         "layout": {
          "annotationdefaults": {
           "arrowcolor": "rgb(67,103,167)"
          },
          "autotypenumbers": "strict",
          "coloraxis": {
           "colorbar": {
            "outlinewidth": 0,
            "tickcolor": "rgb(36,36,36)",
            "ticklen": 8,
            "ticks": "outside",
            "tickwidth": 2
           }
          },
          "colorscale": {
           "sequential": [
            [
             0,
             "rgb(2,4,25)"
            ],
            [
             0.06274509803921569,
             "rgb(24,15,41)"
            ],
            [
             0.12549019607843137,
             "rgb(47,23,57)"
            ],
            [
             0.18823529411764706,
             "rgb(71,28,72)"
            ],
            [
             0.25098039215686274,
             "rgb(97,30,82)"
            ],
            [
             0.3137254901960784,
             "rgb(123,30,89)"
            ],
            [
             0.3764705882352941,
             "rgb(150,27,91)"
            ],
            [
             0.4392156862745098,
             "rgb(177,22,88)"
            ],
            [
             0.5019607843137255,
             "rgb(203,26,79)"
            ],
            [
             0.5647058823529412,
             "rgb(223,47,67)"
            ],
            [
             0.6274509803921569,
             "rgb(236,76,61)"
            ],
            [
             0.6901960784313725,
             "rgb(242,107,73)"
            ],
            [
             0.7529411764705882,
             "rgb(244,135,95)"
            ],
            [
             0.8156862745098039,
             "rgb(245,162,122)"
            ],
            [
             0.8784313725490196,
             "rgb(246,188,153)"
            ],
            [
             0.9411764705882353,
             "rgb(247,212,187)"
            ],
            [
             1,
             "rgb(250,234,220)"
            ]
           ],
           "sequentialminus": [
            [
             0,
             "rgb(2,4,25)"
            ],
            [
             0.06274509803921569,
             "rgb(24,15,41)"
            ],
            [
             0.12549019607843137,
             "rgb(47,23,57)"
            ],
            [
             0.18823529411764706,
             "rgb(71,28,72)"
            ],
            [
             0.25098039215686274,
             "rgb(97,30,82)"
            ],
            [
             0.3137254901960784,
             "rgb(123,30,89)"
            ],
            [
             0.3764705882352941,
             "rgb(150,27,91)"
            ],
            [
             0.4392156862745098,
             "rgb(177,22,88)"
            ],
            [
             0.5019607843137255,
             "rgb(203,26,79)"
            ],
            [
             0.5647058823529412,
             "rgb(223,47,67)"
            ],
            [
             0.6274509803921569,
             "rgb(236,76,61)"
            ],
            [
             0.6901960784313725,
             "rgb(242,107,73)"
            ],
            [
             0.7529411764705882,
             "rgb(244,135,95)"
            ],
            [
             0.8156862745098039,
             "rgb(245,162,122)"
            ],
            [
             0.8784313725490196,
             "rgb(246,188,153)"
            ],
            [
             0.9411764705882353,
             "rgb(247,212,187)"
            ],
            [
             1,
             "rgb(250,234,220)"
            ]
           ]
          },
          "colorway": [
           "rgb(76,114,176)",
           "rgb(221,132,82)",
           "rgb(85,168,104)",
           "rgb(196,78,82)",
           "rgb(129,114,179)",
           "rgb(147,120,96)",
           "rgb(218,139,195)",
           "rgb(140,140,140)",
           "rgb(204,185,116)",
           "rgb(100,181,205)"
          ],
          "font": {
           "color": "rgb(36,36,36)"
          },
          "geo": {
           "bgcolor": "white",
           "lakecolor": "white",
           "landcolor": "rgb(234,234,242)",
           "showlakes": true,
           "showland": true,
           "subunitcolor": "white"
          },
          "hoverlabel": {
           "align": "left"
          },
          "hovermode": "closest",
          "paper_bgcolor": "white",
          "plot_bgcolor": "rgb(234,234,242)",
          "polar": {
           "angularaxis": {
            "gridcolor": "white",
            "linecolor": "white",
            "showgrid": true,
            "ticks": ""
           },
           "bgcolor": "rgb(234,234,242)",
           "radialaxis": {
            "gridcolor": "white",
            "linecolor": "white",
            "showgrid": true,
            "ticks": ""
           }
          },
          "scene": {
           "xaxis": {
            "backgroundcolor": "rgb(234,234,242)",
            "gridcolor": "white",
            "gridwidth": 2,
            "linecolor": "white",
            "showbackground": true,
            "showgrid": true,
            "ticks": "",
            "zerolinecolor": "white"
           },
           "yaxis": {
            "backgroundcolor": "rgb(234,234,242)",
            "gridcolor": "white",
            "gridwidth": 2,
            "linecolor": "white",
            "showbackground": true,
            "showgrid": true,
            "ticks": "",
            "zerolinecolor": "white"
           },
           "zaxis": {
            "backgroundcolor": "rgb(234,234,242)",
            "gridcolor": "white",
            "gridwidth": 2,
            "linecolor": "white",
            "showbackground": true,
            "showgrid": true,
            "ticks": "",
            "zerolinecolor": "white"
           }
          },
          "shapedefaults": {
           "fillcolor": "rgb(67,103,167)",
           "line": {
            "width": 0
           },
           "opacity": 0.5
          },
          "ternary": {
           "aaxis": {
            "gridcolor": "white",
            "linecolor": "white",
            "showgrid": true,
            "ticks": ""
           },
           "baxis": {
            "gridcolor": "white",
            "linecolor": "white",
            "showgrid": true,
            "ticks": ""
           },
           "bgcolor": "rgb(234,234,242)",
           "caxis": {
            "gridcolor": "white",
            "linecolor": "white",
            "showgrid": true,
            "ticks": ""
           }
          },
          "xaxis": {
           "automargin": true,
           "gridcolor": "white",
           "linecolor": "white",
           "showgrid": true,
           "ticks": "",
           "title": {
            "standoff": 15
           },
           "zerolinecolor": "white"
          },
          "yaxis": {
           "automargin": true,
           "gridcolor": "white",
           "linecolor": "white",
           "showgrid": true,
           "ticks": "",
           "title": {
            "standoff": 15
           },
           "zerolinecolor": "white"
          }
         }
        },
        "title": {
         "text": "Clusters Louvain"
        },
        "xaxis": {
         "anchor": "y",
         "domain": [
          0,
          1
         ],
         "title": {
          "text": "num_berts"
         }
        },
        "yaxis": {
         "anchor": "x",
         "domain": [
          0,
          1
         ],
         "title": {
          "text": "count"
         },
         "type": "log"
        }
       }
      }
     },
     "metadata": {},
     "output_type": "display_data"
    },
    {
     "data": {
      "application/vnd.plotly.v1+json": {
       "config": {
        "plotlyServerURL": "https://plot.ly"
       },
       "data": [
        {
         "alignmentgroup": "True",
         "bingroup": "x",
         "hovertemplate": "num_berts=%{x}<br>count=%{y}<extra></extra>",
         "legendgroup": "",
         "marker": {
          "color": "rgb(76,114,176)",
          "pattern": {
           "shape": ""
          }
         },
         "name": "",
         "offsetgroup": "",
         "orientation": "v",
         "showlegend": false,
         "type": "histogram",
         "x": [
          5,
          5,
          4,
          4,
          4,
          4,
          3,
          3,
          3,
          3,
          3,
          3,
          3,
          3,
          3,
          3,
          3,
          3,
          3,
          3,
          3,
          3,
          3,
          3,
          3,
          3,
          3,
          3,
          3,
          2,
          2,
          2,
          2,
          2,
          2,
          2,
          2,
          2,
          2,
          2,
          2,
          2,
          2,
          2,
          2,
          2,
          2,
          2,
          2,
          2,
          2,
          2,
          2,
          2,
          2,
          2,
          2,
          2,
          2,
          2,
          2,
          2,
          2,
          2,
          2,
          2,
          2,
          2,
          2,
          2,
          2,
          2,
          2,
          2,
          2,
          2,
          2,
          2,
          2,
          2,
          2,
          2,
          2,
          2,
          2,
          2,
          2,
          2,
          2,
          2,
          2,
          2,
          2,
          2,
          2,
          2,
          2,
          2,
          2,
          2,
          2,
          2,
          2,
          2,
          2,
          2,
          2,
          2,
          2,
          2,
          2,
          2,
          2,
          2,
          2,
          2,
          2,
          2,
          2,
          2,
          2,
          2,
          2,
          2,
          2,
          2,
          2,
          2,
          2,
          2,
          2,
          2,
          2,
          2,
          2,
          2,
          2,
          2,
          2,
          2,
          2,
          2,
          2,
          2,
          2,
          2,
          2,
          2,
          2,
          2,
          2,
          2,
          2,
          2,
          2,
          2,
          1,
          1,
          1,
          1,
          1,
          1,
          1,
          1,
          1,
          1,
          1,
          1,
          1,
          1,
          1,
          1,
          1,
          1,
          1,
          1,
          1,
          1,
          1,
          1,
          1,
          1,
          1,
          1,
          1,
          1,
          1,
          1,
          1,
          1,
          1,
          1,
          1,
          1,
          1,
          1,
          1,
          1,
          1,
          1,
          1,
          1,
          1,
          1,
          1,
          1,
          1,
          1,
          1,
          1,
          1,
          1,
          1,
          1,
          1,
          1,
          1,
          1,
          1,
          1,
          1,
          1,
          1,
          1,
          1,
          1,
          1,
          1,
          1,
          1,
          1,
          1,
          1,
          1,
          1,
          1,
          1,
          1,
          1,
          1,
          1,
          1,
          1,
          1,
          1,
          1,
          1,
          1,
          1,
          1,
          1,
          1,
          1,
          1,
          1,
          1,
          1,
          1,
          1,
          1,
          1,
          1,
          1,
          1,
          1,
          1,
          1,
          1,
          1,
          1,
          1,
          1,
          1,
          1,
          1,
          1,
          1,
          1,
          1,
          1,
          1,
          1,
          1,
          1,
          1,
          1,
          1,
          1,
          1,
          1,
          1,
          1,
          1,
          1,
          1,
          1,
          1,
          1,
          1,
          1,
          1,
          1,
          1,
          1,
          1,
          1,
          1,
          1,
          1,
          1,
          1,
          1,
          1,
          1,
          1,
          1,
          1,
          1,
          1,
          1,
          1,
          1,
          1,
          1,
          1,
          1,
          1,
          1,
          1,
          1,
          1,
          1,
          1,
          1,
          1,
          1,
          1,
          1,
          1,
          1,
          1,
          1,
          1,
          1,
          1,
          1,
          1,
          1,
          1,
          1,
          1,
          1,
          1,
          1,
          1,
          1,
          1,
          1,
          1,
          1,
          1,
          1,
          1,
          1,
          1,
          1,
          1,
          1,
          1,
          1,
          1,
          1,
          1,
          1,
          1,
          1,
          1,
          1,
          1,
          1,
          1,
          1,
          1,
          1,
          1,
          1,
          1,
          1,
          1,
          1,
          1,
          1,
          1,
          1,
          1,
          1,
          1,
          1,
          1,
          1,
          1,
          1,
          1,
          1,
          1,
          1,
          1,
          1,
          1,
          1,
          1,
          1,
          1,
          1,
          1,
          1,
          1,
          1,
          1,
          1,
          1,
          1,
          1,
          1,
          1,
          1,
          1,
          1,
          1,
          1,
          1,
          1,
          1,
          1,
          1,
          1,
          1,
          1,
          1,
          1,
          1,
          1,
          1,
          1,
          1,
          1,
          1,
          1,
          1,
          1,
          1,
          1,
          1,
          1,
          1,
          1,
          1,
          1,
          1,
          1,
          1,
          1,
          1,
          1,
          1,
          1,
          1,
          1,
          1,
          1,
          1,
          1,
          1,
          1,
          1,
          1,
          1,
          1,
          1,
          1,
          1,
          1,
          1,
          1,
          1,
          1,
          1,
          1,
          1,
          1,
          1,
          1,
          1,
          1,
          1,
          1,
          1,
          1,
          1,
          1,
          1,
          1,
          1,
          1,
          1,
          1,
          1,
          1,
          1,
          1,
          1,
          1,
          1,
          1,
          1,
          1,
          1,
          1,
          1,
          1,
          1,
          1,
          1,
          1,
          1,
          1,
          1,
          1,
          1,
          1,
          1,
          1,
          1,
          1,
          1,
          1,
          1,
          1,
          1,
          1,
          1,
          1,
          1,
          1,
          1,
          1,
          1,
          1,
          1,
          1,
          1,
          1,
          1,
          1,
          1,
          1,
          1,
          1,
          1,
          1,
          1,
          1,
          1,
          1,
          1,
          1,
          1,
          1,
          1,
          1,
          1,
          1,
          1,
          1,
          1,
          1,
          1,
          1,
          1,
          1,
          1,
          1,
          1,
          1,
          1,
          1,
          1,
          1,
          1,
          1,
          1,
          1,
          1,
          1,
          1,
          1,
          1,
          1,
          1,
          1,
          1,
          1,
          1,
          1,
          1,
          1,
          1,
          1,
          1,
          1,
          1,
          1,
          1,
          1,
          1,
          1,
          1,
          1,
          1,
          1,
          1,
          1,
          1,
          1,
          1,
          1,
          1,
          1,
          1,
          1,
          1,
          1,
          1,
          1,
          1,
          1,
          1,
          1,
          1,
          1,
          1,
          1,
          1,
          1,
          1,
          1,
          1,
          1,
          1,
          1,
          1,
          1,
          1,
          1,
          1,
          1,
          1,
          1,
          1,
          1,
          1,
          1,
          1,
          1,
          1,
          1,
          1,
          1,
          1,
          1,
          1,
          1,
          1,
          1,
          1,
          1,
          1,
          1,
          1,
          1,
          1,
          1,
          1,
          1,
          1,
          1,
          1,
          1,
          1,
          1,
          1,
          1,
          1,
          1,
          1,
          1,
          1,
          1,
          1,
          1,
          1,
          1,
          1,
          1,
          1,
          1,
          1,
          1,
          1,
          1,
          1,
          1,
          1,
          1,
          1,
          1,
          1,
          1,
          1,
          1,
          1,
          1,
          1,
          1,
          1,
          1,
          1,
          1,
          1,
          1,
          1,
          1,
          1,
          1,
          1,
          1,
          1,
          1,
          1,
          1,
          1,
          1,
          1,
          1,
          1,
          1,
          1,
          1,
          1,
          1,
          1,
          1,
          1,
          1,
          1,
          1,
          1,
          1,
          1,
          1,
          1,
          1,
          1,
          1,
          1,
          1,
          1,
          1,
          1,
          1,
          1,
          1,
          1,
          1,
          1,
          1,
          1,
          1,
          1,
          1,
          1,
          1,
          1,
          1,
          1,
          1,
          1,
          1,
          1,
          1,
          1,
          1,
          1,
          1,
          1,
          1,
          1,
          1,
          1,
          1,
          1,
          1,
          1,
          1,
          1,
          1,
          1,
          1,
          1,
          1,
          1,
          1,
          1,
          1,
          1,
          1,
          1,
          1,
          1,
          1,
          1,
          1,
          1,
          1,
          1,
          1,
          1,
          1,
          1,
          1,
          1,
          1,
          1,
          1,
          1,
          1,
          1,
          1,
          1,
          1,
          1,
          1,
          1,
          1,
          1,
          1,
          1,
          1,
          1,
          1,
          0,
          0,
          0,
          0,
          0,
          0,
          0,
          0,
          0,
          0,
          0,
          0,
          0,
          0,
          0,
          0,
          0,
          0,
          0,
          0,
          0,
          0,
          0,
          0,
          0,
          0,
          0,
          0,
          0,
          0,
          0,
          0,
          0,
          0,
          0,
          0,
          0,
          0,
          0,
          0,
          0,
          0,
          0,
          0,
          0,
          0,
          0,
          0,
          0,
          0,
          0,
          0,
          0,
          0,
          0,
          0,
          0,
          0,
          0,
          0,
          0,
          0,
          0,
          0,
          0,
          0,
          0,
          0,
          0,
          0,
          0,
          0,
          0,
          0,
          0,
          0,
          0,
          0,
          0,
          0,
          0,
          0,
          0,
          0,
          0,
          0,
          0,
          0,
          0,
          0,
          0,
          0,
          0,
          0,
          0,
          0,
          0,
          0,
          0,
          0,
          0,
          0,
          0,
          0,
          0,
          0,
          0,
          0,
          0,
          0,
          0,
          0,
          0,
          0,
          0,
          0,
          0,
          0,
          0,
          0,
          0,
          0,
          0,
          0,
          0,
          0,
          0,
          0,
          0,
          0,
          0,
          0,
          0,
          0,
          0,
          0,
          0,
          0,
          0,
          0,
          0,
          0,
          0,
          0,
          0,
          0,
          0,
          0,
          0,
          0,
          0,
          0,
          0,
          0,
          0,
          0,
          0,
          0,
          0,
          0,
          0,
          0,
          0,
          0,
          0,
          0,
          0,
          0,
          0,
          0,
          0,
          0,
          0,
          0,
          0,
          0,
          0,
          0,
          0,
          0,
          0,
          0,
          0,
          0,
          0,
          0,
          0,
          0,
          0,
          0,
          0,
          0,
          0,
          0,
          0,
          0,
          0,
          0,
          0,
          0,
          0,
          0,
          0,
          0,
          0,
          0,
          0,
          0,
          0,
          0,
          0,
          0,
          0,
          0,
          0,
          0,
          0,
          0,
          0,
          0,
          0,
          0,
          0,
          0,
          0,
          0,
          0,
          0,
          0,
          0,
          0,
          0,
          0,
          0,
          0,
          0,
          0,
          0,
          0,
          0,
          0,
          0,
          0,
          0,
          0,
          0,
          0,
          0,
          0,
          0,
          0,
          0,
          0,
          0,
          0,
          0,
          0,
          0,
          0,
          0,
          0,
          0,
          0,
          0,
          0,
          0,
          0,
          0,
          0,
          0,
          0,
          0,
          0,
          0,
          0,
          0,
          0,
          0,
          0,
          0,
          0,
          0,
          0,
          0,
          0,
          0,
          0,
          0,
          0,
          0,
          0
         ],
         "xaxis": "x",
         "yaxis": "y"
        }
       ],
       "layout": {
        "barmode": "relative",
        "legend": {
         "tracegroupgap": 0
        },
        "template": {
         "data": {
          "bar": [
           {
            "error_x": {
             "color": "rgb(36,36,36)"
            },
            "error_y": {
             "color": "rgb(36,36,36)"
            },
            "marker": {
             "line": {
              "color": "rgb(234,234,242)",
              "width": 0.5
             },
             "pattern": {
              "fillmode": "overlay",
              "size": 10,
              "solidity": 0.2
             }
            },
            "type": "bar"
           }
          ],
          "barpolar": [
           {
            "marker": {
             "line": {
              "color": "rgb(234,234,242)",
              "width": 0.5
             },
             "pattern": {
              "fillmode": "overlay",
              "size": 10,
              "solidity": 0.2
             }
            },
            "type": "barpolar"
           }
          ],
          "carpet": [
           {
            "aaxis": {
             "endlinecolor": "rgb(36,36,36)",
             "gridcolor": "white",
             "linecolor": "white",
             "minorgridcolor": "white",
             "startlinecolor": "rgb(36,36,36)"
            },
            "baxis": {
             "endlinecolor": "rgb(36,36,36)",
             "gridcolor": "white",
             "linecolor": "white",
             "minorgridcolor": "white",
             "startlinecolor": "rgb(36,36,36)"
            },
            "type": "carpet"
           }
          ],
          "choropleth": [
           {
            "colorbar": {
             "outlinewidth": 0,
             "tickcolor": "rgb(36,36,36)",
             "ticklen": 8,
             "ticks": "outside",
             "tickwidth": 2
            },
            "type": "choropleth"
           }
          ],
          "contour": [
           {
            "colorbar": {
             "outlinewidth": 0,
             "tickcolor": "rgb(36,36,36)",
             "ticklen": 8,
             "ticks": "outside",
             "tickwidth": 2
            },
            "colorscale": [
             [
              0,
              "rgb(2,4,25)"
             ],
             [
              0.06274509803921569,
              "rgb(24,15,41)"
             ],
             [
              0.12549019607843137,
              "rgb(47,23,57)"
             ],
             [
              0.18823529411764706,
              "rgb(71,28,72)"
             ],
             [
              0.25098039215686274,
              "rgb(97,30,82)"
             ],
             [
              0.3137254901960784,
              "rgb(123,30,89)"
             ],
             [
              0.3764705882352941,
              "rgb(150,27,91)"
             ],
             [
              0.4392156862745098,
              "rgb(177,22,88)"
             ],
             [
              0.5019607843137255,
              "rgb(203,26,79)"
             ],
             [
              0.5647058823529412,
              "rgb(223,47,67)"
             ],
             [
              0.6274509803921569,
              "rgb(236,76,61)"
             ],
             [
              0.6901960784313725,
              "rgb(242,107,73)"
             ],
             [
              0.7529411764705882,
              "rgb(244,135,95)"
             ],
             [
              0.8156862745098039,
              "rgb(245,162,122)"
             ],
             [
              0.8784313725490196,
              "rgb(246,188,153)"
             ],
             [
              0.9411764705882353,
              "rgb(247,212,187)"
             ],
             [
              1,
              "rgb(250,234,220)"
             ]
            ],
            "type": "contour"
           }
          ],
          "contourcarpet": [
           {
            "colorbar": {
             "outlinewidth": 0,
             "tickcolor": "rgb(36,36,36)",
             "ticklen": 8,
             "ticks": "outside",
             "tickwidth": 2
            },
            "type": "contourcarpet"
           }
          ],
          "heatmap": [
           {
            "colorbar": {
             "outlinewidth": 0,
             "tickcolor": "rgb(36,36,36)",
             "ticklen": 8,
             "ticks": "outside",
             "tickwidth": 2
            },
            "colorscale": [
             [
              0,
              "rgb(2,4,25)"
             ],
             [
              0.06274509803921569,
              "rgb(24,15,41)"
             ],
             [
              0.12549019607843137,
              "rgb(47,23,57)"
             ],
             [
              0.18823529411764706,
              "rgb(71,28,72)"
             ],
             [
              0.25098039215686274,
              "rgb(97,30,82)"
             ],
             [
              0.3137254901960784,
              "rgb(123,30,89)"
             ],
             [
              0.3764705882352941,
              "rgb(150,27,91)"
             ],
             [
              0.4392156862745098,
              "rgb(177,22,88)"
             ],
             [
              0.5019607843137255,
              "rgb(203,26,79)"
             ],
             [
              0.5647058823529412,
              "rgb(223,47,67)"
             ],
             [
              0.6274509803921569,
              "rgb(236,76,61)"
             ],
             [
              0.6901960784313725,
              "rgb(242,107,73)"
             ],
             [
              0.7529411764705882,
              "rgb(244,135,95)"
             ],
             [
              0.8156862745098039,
              "rgb(245,162,122)"
             ],
             [
              0.8784313725490196,
              "rgb(246,188,153)"
             ],
             [
              0.9411764705882353,
              "rgb(247,212,187)"
             ],
             [
              1,
              "rgb(250,234,220)"
             ]
            ],
            "type": "heatmap"
           }
          ],
          "heatmapgl": [
           {
            "colorbar": {
             "outlinewidth": 0,
             "tickcolor": "rgb(36,36,36)",
             "ticklen": 8,
             "ticks": "outside",
             "tickwidth": 2
            },
            "colorscale": [
             [
              0,
              "rgb(2,4,25)"
             ],
             [
              0.06274509803921569,
              "rgb(24,15,41)"
             ],
             [
              0.12549019607843137,
              "rgb(47,23,57)"
             ],
             [
              0.18823529411764706,
              "rgb(71,28,72)"
             ],
             [
              0.25098039215686274,
              "rgb(97,30,82)"
             ],
             [
              0.3137254901960784,
              "rgb(123,30,89)"
             ],
             [
              0.3764705882352941,
              "rgb(150,27,91)"
             ],
             [
              0.4392156862745098,
              "rgb(177,22,88)"
             ],
             [
              0.5019607843137255,
              "rgb(203,26,79)"
             ],
             [
              0.5647058823529412,
              "rgb(223,47,67)"
             ],
             [
              0.6274509803921569,
              "rgb(236,76,61)"
             ],
             [
              0.6901960784313725,
              "rgb(242,107,73)"
             ],
             [
              0.7529411764705882,
              "rgb(244,135,95)"
             ],
             [
              0.8156862745098039,
              "rgb(245,162,122)"
             ],
             [
              0.8784313725490196,
              "rgb(246,188,153)"
             ],
             [
              0.9411764705882353,
              "rgb(247,212,187)"
             ],
             [
              1,
              "rgb(250,234,220)"
             ]
            ],
            "type": "heatmapgl"
           }
          ],
          "histogram": [
           {
            "marker": {
             "pattern": {
              "fillmode": "overlay",
              "size": 10,
              "solidity": 0.2
             }
            },
            "type": "histogram"
           }
          ],
          "histogram2d": [
           {
            "colorbar": {
             "outlinewidth": 0,
             "tickcolor": "rgb(36,36,36)",
             "ticklen": 8,
             "ticks": "outside",
             "tickwidth": 2
            },
            "colorscale": [
             [
              0,
              "rgb(2,4,25)"
             ],
             [
              0.06274509803921569,
              "rgb(24,15,41)"
             ],
             [
              0.12549019607843137,
              "rgb(47,23,57)"
             ],
             [
              0.18823529411764706,
              "rgb(71,28,72)"
             ],
             [
              0.25098039215686274,
              "rgb(97,30,82)"
             ],
             [
              0.3137254901960784,
              "rgb(123,30,89)"
             ],
             [
              0.3764705882352941,
              "rgb(150,27,91)"
             ],
             [
              0.4392156862745098,
              "rgb(177,22,88)"
             ],
             [
              0.5019607843137255,
              "rgb(203,26,79)"
             ],
             [
              0.5647058823529412,
              "rgb(223,47,67)"
             ],
             [
              0.6274509803921569,
              "rgb(236,76,61)"
             ],
             [
              0.6901960784313725,
              "rgb(242,107,73)"
             ],
             [
              0.7529411764705882,
              "rgb(244,135,95)"
             ],
             [
              0.8156862745098039,
              "rgb(245,162,122)"
             ],
             [
              0.8784313725490196,
              "rgb(246,188,153)"
             ],
             [
              0.9411764705882353,
              "rgb(247,212,187)"
             ],
             [
              1,
              "rgb(250,234,220)"
             ]
            ],
            "type": "histogram2d"
           }
          ],
          "histogram2dcontour": [
           {
            "colorbar": {
             "outlinewidth": 0,
             "tickcolor": "rgb(36,36,36)",
             "ticklen": 8,
             "ticks": "outside",
             "tickwidth": 2
            },
            "colorscale": [
             [
              0,
              "rgb(2,4,25)"
             ],
             [
              0.06274509803921569,
              "rgb(24,15,41)"
             ],
             [
              0.12549019607843137,
              "rgb(47,23,57)"
             ],
             [
              0.18823529411764706,
              "rgb(71,28,72)"
             ],
             [
              0.25098039215686274,
              "rgb(97,30,82)"
             ],
             [
              0.3137254901960784,
              "rgb(123,30,89)"
             ],
             [
              0.3764705882352941,
              "rgb(150,27,91)"
             ],
             [
              0.4392156862745098,
              "rgb(177,22,88)"
             ],
             [
              0.5019607843137255,
              "rgb(203,26,79)"
             ],
             [
              0.5647058823529412,
              "rgb(223,47,67)"
             ],
             [
              0.6274509803921569,
              "rgb(236,76,61)"
             ],
             [
              0.6901960784313725,
              "rgb(242,107,73)"
             ],
             [
              0.7529411764705882,
              "rgb(244,135,95)"
             ],
             [
              0.8156862745098039,
              "rgb(245,162,122)"
             ],
             [
              0.8784313725490196,
              "rgb(246,188,153)"
             ],
             [
              0.9411764705882353,
              "rgb(247,212,187)"
             ],
             [
              1,
              "rgb(250,234,220)"
             ]
            ],
            "type": "histogram2dcontour"
           }
          ],
          "mesh3d": [
           {
            "colorbar": {
             "outlinewidth": 0,
             "tickcolor": "rgb(36,36,36)",
             "ticklen": 8,
             "ticks": "outside",
             "tickwidth": 2
            },
            "type": "mesh3d"
           }
          ],
          "parcoords": [
           {
            "line": {
             "colorbar": {
              "outlinewidth": 0,
              "tickcolor": "rgb(36,36,36)",
              "ticklen": 8,
              "ticks": "outside",
              "tickwidth": 2
             }
            },
            "type": "parcoords"
           }
          ],
          "pie": [
           {
            "automargin": true,
            "type": "pie"
           }
          ],
          "scatter": [
           {
            "fillpattern": {
             "fillmode": "overlay",
             "size": 10,
             "solidity": 0.2
            },
            "type": "scatter"
           }
          ],
          "scatter3d": [
           {
            "line": {
             "colorbar": {
              "outlinewidth": 0,
              "tickcolor": "rgb(36,36,36)",
              "ticklen": 8,
              "ticks": "outside",
              "tickwidth": 2
             }
            },
            "marker": {
             "colorbar": {
              "outlinewidth": 0,
              "tickcolor": "rgb(36,36,36)",
              "ticklen": 8,
              "ticks": "outside",
              "tickwidth": 2
             }
            },
            "type": "scatter3d"
           }
          ],
          "scattercarpet": [
           {
            "marker": {
             "colorbar": {
              "outlinewidth": 0,
              "tickcolor": "rgb(36,36,36)",
              "ticklen": 8,
              "ticks": "outside",
              "tickwidth": 2
             }
            },
            "type": "scattercarpet"
           }
          ],
          "scattergeo": [
           {
            "marker": {
             "colorbar": {
              "outlinewidth": 0,
              "tickcolor": "rgb(36,36,36)",
              "ticklen": 8,
              "ticks": "outside",
              "tickwidth": 2
             }
            },
            "type": "scattergeo"
           }
          ],
          "scattergl": [
           {
            "marker": {
             "colorbar": {
              "outlinewidth": 0,
              "tickcolor": "rgb(36,36,36)",
              "ticklen": 8,
              "ticks": "outside",
              "tickwidth": 2
             }
            },
            "type": "scattergl"
           }
          ],
          "scattermapbox": [
           {
            "marker": {
             "colorbar": {
              "outlinewidth": 0,
              "tickcolor": "rgb(36,36,36)",
              "ticklen": 8,
              "ticks": "outside",
              "tickwidth": 2
             }
            },
            "type": "scattermapbox"
           }
          ],
          "scatterpolar": [
           {
            "marker": {
             "colorbar": {
              "outlinewidth": 0,
              "tickcolor": "rgb(36,36,36)",
              "ticklen": 8,
              "ticks": "outside",
              "tickwidth": 2
             }
            },
            "type": "scatterpolar"
           }
          ],
          "scatterpolargl": [
           {
            "marker": {
             "colorbar": {
              "outlinewidth": 0,
              "tickcolor": "rgb(36,36,36)",
              "ticklen": 8,
              "ticks": "outside",
              "tickwidth": 2
             }
            },
            "type": "scatterpolargl"
           }
          ],
          "scatterternary": [
           {
            "marker": {
             "colorbar": {
              "outlinewidth": 0,
              "tickcolor": "rgb(36,36,36)",
              "ticklen": 8,
              "ticks": "outside",
              "tickwidth": 2
             }
            },
            "type": "scatterternary"
           }
          ],
          "surface": [
           {
            "colorbar": {
             "outlinewidth": 0,
             "tickcolor": "rgb(36,36,36)",
             "ticklen": 8,
             "ticks": "outside",
             "tickwidth": 2
            },
            "colorscale": [
             [
              0,
              "rgb(2,4,25)"
             ],
             [
              0.06274509803921569,
              "rgb(24,15,41)"
             ],
             [
              0.12549019607843137,
              "rgb(47,23,57)"
             ],
             [
              0.18823529411764706,
              "rgb(71,28,72)"
             ],
             [
              0.25098039215686274,
              "rgb(97,30,82)"
             ],
             [
              0.3137254901960784,
              "rgb(123,30,89)"
             ],
             [
              0.3764705882352941,
              "rgb(150,27,91)"
             ],
             [
              0.4392156862745098,
              "rgb(177,22,88)"
             ],
             [
              0.5019607843137255,
              "rgb(203,26,79)"
             ],
             [
              0.5647058823529412,
              "rgb(223,47,67)"
             ],
             [
              0.6274509803921569,
              "rgb(236,76,61)"
             ],
             [
              0.6901960784313725,
              "rgb(242,107,73)"
             ],
             [
              0.7529411764705882,
              "rgb(244,135,95)"
             ],
             [
              0.8156862745098039,
              "rgb(245,162,122)"
             ],
             [
              0.8784313725490196,
              "rgb(246,188,153)"
             ],
             [
              0.9411764705882353,
              "rgb(247,212,187)"
             ],
             [
              1,
              "rgb(250,234,220)"
             ]
            ],
            "type": "surface"
           }
          ],
          "table": [
           {
            "cells": {
             "fill": {
              "color": "rgb(231,231,240)"
             },
             "line": {
              "color": "white"
             }
            },
            "header": {
             "fill": {
              "color": "rgb(183,183,191)"
             },
             "line": {
              "color": "white"
             }
            },
            "type": "table"
           }
          ]
         },
         "layout": {
          "annotationdefaults": {
           "arrowcolor": "rgb(67,103,167)"
          },
          "autotypenumbers": "strict",
          "coloraxis": {
           "colorbar": {
            "outlinewidth": 0,
            "tickcolor": "rgb(36,36,36)",
            "ticklen": 8,
            "ticks": "outside",
            "tickwidth": 2
           }
          },
          "colorscale": {
           "sequential": [
            [
             0,
             "rgb(2,4,25)"
            ],
            [
             0.06274509803921569,
             "rgb(24,15,41)"
            ],
            [
             0.12549019607843137,
             "rgb(47,23,57)"
            ],
            [
             0.18823529411764706,
             "rgb(71,28,72)"
            ],
            [
             0.25098039215686274,
             "rgb(97,30,82)"
            ],
            [
             0.3137254901960784,
             "rgb(123,30,89)"
            ],
            [
             0.3764705882352941,
             "rgb(150,27,91)"
            ],
            [
             0.4392156862745098,
             "rgb(177,22,88)"
            ],
            [
             0.5019607843137255,
             "rgb(203,26,79)"
            ],
            [
             0.5647058823529412,
             "rgb(223,47,67)"
            ],
            [
             0.6274509803921569,
             "rgb(236,76,61)"
            ],
            [
             0.6901960784313725,
             "rgb(242,107,73)"
            ],
            [
             0.7529411764705882,
             "rgb(244,135,95)"
            ],
            [
             0.8156862745098039,
             "rgb(245,162,122)"
            ],
            [
             0.8784313725490196,
             "rgb(246,188,153)"
            ],
            [
             0.9411764705882353,
             "rgb(247,212,187)"
            ],
            [
             1,
             "rgb(250,234,220)"
            ]
           ],
           "sequentialminus": [
            [
             0,
             "rgb(2,4,25)"
            ],
            [
             0.06274509803921569,
             "rgb(24,15,41)"
            ],
            [
             0.12549019607843137,
             "rgb(47,23,57)"
            ],
            [
             0.18823529411764706,
             "rgb(71,28,72)"
            ],
            [
             0.25098039215686274,
             "rgb(97,30,82)"
            ],
            [
             0.3137254901960784,
             "rgb(123,30,89)"
            ],
            [
             0.3764705882352941,
             "rgb(150,27,91)"
            ],
            [
             0.4392156862745098,
             "rgb(177,22,88)"
            ],
            [
             0.5019607843137255,
             "rgb(203,26,79)"
            ],
            [
             0.5647058823529412,
             "rgb(223,47,67)"
            ],
            [
             0.6274509803921569,
             "rgb(236,76,61)"
            ],
            [
             0.6901960784313725,
             "rgb(242,107,73)"
            ],
            [
             0.7529411764705882,
             "rgb(244,135,95)"
            ],
            [
             0.8156862745098039,
             "rgb(245,162,122)"
            ],
            [
             0.8784313725490196,
             "rgb(246,188,153)"
            ],
            [
             0.9411764705882353,
             "rgb(247,212,187)"
            ],
            [
             1,
             "rgb(250,234,220)"
            ]
           ]
          },
          "colorway": [
           "rgb(76,114,176)",
           "rgb(221,132,82)",
           "rgb(85,168,104)",
           "rgb(196,78,82)",
           "rgb(129,114,179)",
           "rgb(147,120,96)",
           "rgb(218,139,195)",
           "rgb(140,140,140)",
           "rgb(204,185,116)",
           "rgb(100,181,205)"
          ],
          "font": {
           "color": "rgb(36,36,36)"
          },
          "geo": {
           "bgcolor": "white",
           "lakecolor": "white",
           "landcolor": "rgb(234,234,242)",
           "showlakes": true,
           "showland": true,
           "subunitcolor": "white"
          },
          "hoverlabel": {
           "align": "left"
          },
          "hovermode": "closest",
          "paper_bgcolor": "white",
          "plot_bgcolor": "rgb(234,234,242)",
          "polar": {
           "angularaxis": {
            "gridcolor": "white",
            "linecolor": "white",
            "showgrid": true,
            "ticks": ""
           },
           "bgcolor": "rgb(234,234,242)",
           "radialaxis": {
            "gridcolor": "white",
            "linecolor": "white",
            "showgrid": true,
            "ticks": ""
           }
          },
          "scene": {
           "xaxis": {
            "backgroundcolor": "rgb(234,234,242)",
            "gridcolor": "white",
            "gridwidth": 2,
            "linecolor": "white",
            "showbackground": true,
            "showgrid": true,
            "ticks": "",
            "zerolinecolor": "white"
           },
           "yaxis": {
            "backgroundcolor": "rgb(234,234,242)",
            "gridcolor": "white",
            "gridwidth": 2,
            "linecolor": "white",
            "showbackground": true,
            "showgrid": true,
            "ticks": "",
            "zerolinecolor": "white"
           },
           "zaxis": {
            "backgroundcolor": "rgb(234,234,242)",
            "gridcolor": "white",
            "gridwidth": 2,
            "linecolor": "white",
            "showbackground": true,
            "showgrid": true,
            "ticks": "",
            "zerolinecolor": "white"
           }
          },
          "shapedefaults": {
           "fillcolor": "rgb(67,103,167)",
           "line": {
            "width": 0
           },
           "opacity": 0.5
          },
          "ternary": {
           "aaxis": {
            "gridcolor": "white",
            "linecolor": "white",
            "showgrid": true,
            "ticks": ""
           },
           "baxis": {
            "gridcolor": "white",
            "linecolor": "white",
            "showgrid": true,
            "ticks": ""
           },
           "bgcolor": "rgb(234,234,242)",
           "caxis": {
            "gridcolor": "white",
            "linecolor": "white",
            "showgrid": true,
            "ticks": ""
           }
          },
          "xaxis": {
           "automargin": true,
           "gridcolor": "white",
           "linecolor": "white",
           "showgrid": true,
           "ticks": "",
           "title": {
            "standoff": 15
           },
           "zerolinecolor": "white"
          },
          "yaxis": {
           "automargin": true,
           "gridcolor": "white",
           "linecolor": "white",
           "showgrid": true,
           "ticks": "",
           "title": {
            "standoff": 15
           },
           "zerolinecolor": "white"
          }
         }
        },
        "title": {
         "text": "Clusters Infomap"
        },
        "xaxis": {
         "anchor": "y",
         "domain": [
          0,
          1
         ],
         "title": {
          "text": "num_berts"
         }
        },
        "yaxis": {
         "anchor": "x",
         "domain": [
          0,
          1
         ],
         "title": {
          "text": "count"
         }
        }
       }
      }
     },
     "metadata": {},
     "output_type": "display_data"
    }
   ],
   "source": [
    "fig1 = px.histogram(berts_louvain[\"num_berts\"],x=\"num_berts\", title=\"Clusters Louvain\",nbins=80,log_y=True)\n",
    "fig1.show()\n",
    "\n",
    "fig2 = px.histogram(berts_infomap[\"num_berts\"],x=\"num_berts\", title=\"Clusters Infomap\")\n",
    "fig2.show()"
   ]
  },
  {
   "cell_type": "code",
   "execution_count": 60,
   "metadata": {},
   "outputs": [
    {
     "name": "stdout",
     "output_type": "stream",
     "text": [
      "Infomap: \n",
      "61% de los clusters tienen un único Bert\n",
      "26% de los clusters no tienen ningún Bert\n",
      "14% de los clusters tiene más de un Bert\n",
      "\n",
      "Louvain: \n",
      "57% de los clusters tienen un único Bert\n",
      "20% de los clusters no tienen ningún Bert\n",
      "23% de los clusters tiene más de un Bert\n"
     ]
    }
   ],
   "source": [
    "infomap_valores = berts_infomap.num_berts.value_counts()\n",
    "louvain_valores = berts_louvain.num_berts.value_counts()\n",
    "\n",
    "infomap_total = len(berts_infomap)\n",
    "louvain_total = len(berts_louvain)\n",
    "\n",
    "mas_de_uno_infomap = len(berts_infomap[berts_infomap.num_berts > 1])\n",
    "mas_de_uno_louvain = len(berts_louvain[berts_louvain.num_berts > 1])\n",
    "\n",
    "print(f\"Infomap: \\n{round((infomap_valores[1]*100)/infomap_total)}% de los clusters tienen un único Bert\")\n",
    "print(f\"{round((infomap_valores[0]*100)/infomap_total)}% de los clusters no tienen ningún Bert\")\n",
    "print(f\"{round((mas_de_uno_infomap*100)/infomap_total)}% de los clusters tiene más de un Bert\\n\")\n",
    "\n",
    "print(f\"Louvain: \\n{round((louvain_valores[1]*100)/louvain_total)}% de los clusters tienen un único Bert\")\n",
    "print(f\"{round((louvain_valores[0]*100)/louvain_total)}% de los clusters no tienen ningún Bert\")\n",
    "print(f\"{round((mas_de_uno_louvain*100)/louvain_total)}% de los clusters tiene más de un Bert\")"
   ]
  },
  {
   "cell_type": "code",
   "execution_count": 61,
   "metadata": {},
   "outputs": [
    {
     "data": {
      "image/png": "[encoded data removed]",
      "text/plain": [
       "<Figure size 720x360 with 2 Axes>"
      ]
     },
     "metadata": {},
     "output_type": "display_data"
    }
   ],
   "source": [
    "fig, ax = plt.subplots(1,2,figsize=(10,5))\n",
    "fig.suptitle(\"Número de grupos BERT por cluster\")\n",
    "\n",
    "ninguno_infomap = infomap_valores[0]\n",
    "unico_infomap = infomap_valores[1]\n",
    "\n",
    "ax[0].pie([mas_de_uno_infomap,unico_infomap,ninguno_infomap], labels=[\"Más de uno\", \"Uno\", \"Ninguno\"], autopct='%1.1f%%',shadow=True, startangle=90)\n",
    "ax[0].axis('equal') \n",
    "ax[0].set_title(\"Infomap\")\n",
    "\n",
    "\n",
    "ninguno_louvain = louvain_valores[0]\n",
    "unico_louvain = louvain_valores[1]\n",
    "\n",
    "ax[1].pie([mas_de_uno_louvain,unico_infomap,ninguno_infomap], labels=[\"Más de uno\", \"Uno\", \"Ninguno\"], autopct='%1.1f%%',shadow=True, startangle=90)\n",
    "ax[1].axis('equal') \n",
    "ax[1].set_title(\"Louvain\")\n",
    "\n",
    "plt.tight_layout()\n",
    "\n",
    "# fig.savefig(\"../../reports/analisis_comunidades/tortas_bert.png\", dpi=200)"
   ]
  },
  {
   "cell_type": "markdown",
   "metadata": {},
   "source": [
    "# Veo inclusión de infomap en louvain"
   ]
  },
  {
   "cell_type": "markdown",
   "metadata": {},
   "source": [
    "Hago una adaptación del coeficiente sobre mínimo, en vez de mínimo pongo infomap"
   ]
  },
  {
   "cell_type": "code",
   "execution_count": 62,
   "metadata": {},
   "outputs": [],
   "source": [
    "def int_min_infomap(set_infomap,set_louvain):\n",
    "    intersection = len(set_infomap&set_louvain)\n",
    "    min_set = len(set_infomap)\n",
    "    return intersection/min_set"
   ]
  },
  {
   "cell_type": "code",
   "execution_count": 63,
   "metadata": {},
   "outputs": [],
   "source": [
    "matrix_min_infomap = {}\n",
    "\n",
    "for comunidad_infomap,set_infomap in conjuntos_infomap.items():\n",
    "    partial_min_infomap = {}\n",
    "    for comunidad_louvain, set_louvain in conjuntos_louvain.items():\n",
    "        coef_min_infomap = int_min_infomap(set_infomap,set_louvain)\n",
    "        partial_min_infomap[comunidad_louvain] = coef_min_infomap\n",
    "    matrix_min_infomap[comunidad_infomap] = partial_min_infomap\n",
    "\n",
    "df_min_infomap = pd.DataFrame(matrix_min_infomap)"
   ]
  },
  {
   "cell_type": "code",
   "execution_count": 64,
   "metadata": {},
   "outputs": [
    {
     "name": "stderr",
     "output_type": "stream",
     "text": [
      "/tmp/ipykernel_32209/145107736.py:3: UserWarning:\n",
      "\n",
      "Boolean Series key will be reindexed to match DataFrame index.\n",
      "\n",
      "/tmp/ipykernel_32209/145107736.py:4: UserWarning:\n",
      "\n",
      "Boolean Series key will be reindexed to match DataFrame index.\n",
      "\n"
     ]
    },
    {
     "data": {
      "image/png": "[encoded data removed]",
      "text/plain": [
       "<Figure size 864x576 with 1 Axes>"
      ]
     },
     "metadata": {},
     "output_type": "display_data"
    }
   ],
   "source": [
    "n = 20\n",
    "\n",
    "infomap_corte = infomap_clusters.sort_values(by=\"tamaño\", ascending=False)[infomap_clusters.tamaño > n].comunidad.values\n",
    "louvain_corte = louvain_clusters.sort_values(by=\"tamaño\", ascending=False)[louvain_clusters.tamaño > n].comunidad.values\n",
    "\n",
    "fig, ax = plt.subplots(figsize=(12,8))\n",
    "fig.suptitle(f\"Comparación entre clusters de tamaño > {n}\", fontsize=18)\n",
    "\n",
    "min_infomap_mat = df_min_infomap.loc[louvain_corte,infomap_corte]\n",
    "\n",
    "cmap = \"viridis\"\n",
    "\n",
    "im = ax.matshow(min_infomap_mat,\n",
    "                cmap=cmap)\n",
    "ax.set_title(\"Intersección/min\", fontsize=18)\n",
    "# cbar = fig.colorbar(im, ax=ax1)\n",
    "ax.tick_params(labelbottom=False, labelleft=False,labeltop=False)\n",
    "ax.set_xlabel(\"Infomap\", fontsize=14)\n",
    "ax.set_ylabel(\"Louvain\", fontsize=14)\n",
    "ax.grid(False)"
   ]
  },
  {
   "cell_type": "code",
   "execution_count": 65,
   "metadata": {},
   "outputs": [
    {
     "data": {
      "image/png": "[encoded data removed]",
      "text/plain": [
       "<Figure size 864x432 with 1 Axes>"
      ]
     },
     "metadata": {},
     "output_type": "display_data"
    }
   ],
   "source": [
    "data = df_min_infomap\n",
    "name = \"min_infomap\"\n",
    "\n",
    "fig, ax = plt.subplots(figsize=(12,6))\n",
    "fig.suptitle(\"Distribución de coeficientes máximos Intersección/Infomap. Infomap->Louvain\", fontsize=20)\n",
    "i=0\n",
    "\n",
    "ax.hist(data.max().values)\n",
    "ax.set_title(f\"{name}\", fontsize=18)\n",
    "ax.set_xlabel(\"Coeficiente\")\n",
    "ax.set_ylabel(\"Counts\")\n",
    "\n",
    "plt.tight_layout()\n",
    "# plt.savefig(\"../../../reports/analisis_comunidades/interseccion_infomap.png\", dpi=200)"
   ]
  },
  {
   "cell_type": "markdown",
   "metadata": {},
   "source": [
    "# Veo si las particiones capturan las estrellitas"
   ]
  },
  {
   "cell_type": "markdown",
   "metadata": {},
   "source": [
    "Voy a tomar el ego network de cada nodo bert (en principio a orden 1, después veo si tiene sentido tomar a orden 2).\n",
    "\n",
    "Una vez que tengo todas las ego networks, saco los conjuntos de nodos de cada una y hago un jaccard con infomap, como había hecho antes con infomap y louvain"
   ]
  },
  {
   "cell_type": "code",
   "execution_count": 77,
   "metadata": {},
   "outputs": [
    {
     "data": {
      "image/png": "[encoded data removed]",
      "text/plain": [
       "<Figure size 432x288 with 1 Axes>"
      ]
     },
     "metadata": {},
     "output_type": "display_data"
    }
   ],
   "source": [
    "G = nx.read_gml(data_processed+\"graph_data/grafo_alternativo_CG_disease_layer.gml\")\n",
    "bert_groups = graph_node_data.loc[graph_node_data.node_type == \"bert_group\",\"node_index\"].values\n",
    "ego_1 = {node: nx.ego_graph(G,str(node),1) for node in bert_groups}\n",
    "nx.draw(ego_1[7])"
   ]
  },
  {
   "cell_type": "code",
   "execution_count": 78,
   "metadata": {},
   "outputs": [],
   "source": [
    "conjuntos_berts = {center:set(ego.nodes()) for center, ego in ego_1.items()}\n",
    "conjuntos_berts = {center: {int(item) for item in ego} for center,ego in conjuntos_berts.items()}"
   ]
  },
  {
   "cell_type": "markdown",
   "metadata": {},
   "source": [
    "## Comparación con todas las particiones (esto no va)"
   ]
  },
  {
   "cell_type": "markdown",
   "metadata": {},
   "source": [
    "### Comparo con infomap"
   ]
  },
  {
   "cell_type": "code",
   "execution_count": 196,
   "metadata": {},
   "outputs": [
    {
     "data": {
      "image/png": "[encoded data removed]",
      "text/plain": [
       "<Figure size 1728x864 with 6 Axes>"
      ]
     },
     "metadata": {},
     "output_type": "display_data"
    }
   ],
   "source": [
    "matrix_jaccard_bert_infomap = {}\n",
    "matrix_min_bert_infomap = {}\n",
    "matrix_max_bert_infomap = {}\n",
    "\n",
    "for comunidad_infomap,set_infomap in conjuntos_infomap.items():\n",
    "    partial_jaccard = {}\n",
    "    partial_min = {}\n",
    "    partial_max = {}\n",
    "    for bert, set_bert in conjuntos_berts.items():\n",
    "        coef_jaccard = jaccard(set_infomap,set_bert)\n",
    "        coef_min = int_min(set_infomap,set_bert)\n",
    "        coef_max = int_max(set_infomap,set_bert)\n",
    "        partial_jaccard[bert] = coef_jaccard\n",
    "        partial_min[bert] = coef_min\n",
    "        partial_max[bert] = coef_max\n",
    "    matrix_jaccard_bert_infomap[comunidad_infomap] = partial_jaccard\n",
    "    matrix_min_bert_infomap[comunidad_infomap] = partial_min\n",
    "    matrix_max_bert_infomap[comunidad_infomap] = partial_max\n",
    "\n",
    "df_jaccard_bert_infomap = pd.DataFrame(matrix_jaccard_bert_infomap)\n",
    "df_min_bert_infomap = pd.DataFrame(matrix_min_bert_infomap)\n",
    "df_max_bert_infomap = pd.DataFrame(matrix_max_bert_infomap)\n",
    "\n",
    "metricas = {\"Intersección/min\":df_min_bert_infomap,\"Intersección/max\":df_max_bert_infomap, \"Jaccard\":df_jaccard_bert_infomap}\n",
    "\n",
    "fig, ax = plt.subplots(2,3, figsize=(24,12))\n",
    "fig.suptitle(\"Distribución de coeficientes máximos\", fontsize=20)\n",
    "\n",
    "i=0\n",
    "for name,data in metricas.items():\n",
    "    ax[0,i].hist(data.max().values)\n",
    "    ax[0,i].set_title(f\"{name}, Infomap->Bert\", fontsize=18)\n",
    "\n",
    "    ax[1,i].hist(data.T.max().values)\n",
    "    ax[1,i].set_title(f\"{name}, Bert->Infomap\", fontsize=18)\n",
    "    i+=1\n",
    "\n",
    "fig.savefig(reports_comunidades+\"inclusion_berts_infomap.png\",dpi=200)\n"
   ]
  },
  {
   "cell_type": "code",
   "execution_count": 167,
   "metadata": {},
   "outputs": [
    {
     "name": "stderr",
     "output_type": "stream",
     "text": [
      "/tmp/ipykernel_32209/806342359.py:23: MatplotlibDeprecationWarning:\n",
      "\n",
      "Auto-removal of grids by pcolor() and pcolormesh() is deprecated since 3.5 and will be removed two minor releases later; please call grid(False) first.\n",
      "\n"
     ]
    },
    {
     "data": {
      "image/png": "[encoded data removed]",
      "text/plain": [
       "<Figure size 864x1728 with 2 Axes>"
      ]
     },
     "metadata": {},
     "output_type": "display_data"
    }
   ],
   "source": [
    "n = 20\n",
    "\n",
    "# infomap_corte = infomap_clusters.sort_values(by=\"tamaño\", ascending=False)[infomap_clusters.tamaño > 10].comunidad.values\n",
    "infomap_corte = np.random.choice(infomap_clusters.comunidad.values, 50)\n",
    "berts_corte = np.random.choice(bert_groups,50)\n",
    "\n",
    "fig, ax = plt.subplots(figsize=(12,24))\n",
    "# fig.suptitle(\"Ego Berts vs Infomap - Jaccard\")\n",
    "ax.set_title(\"Ego Berts vs Infomap - Jaccard\")\n",
    "jaccard_mat = df_jaccard_bert_infomap.loc[berts_corte,infomap_corte]\n",
    "# jaccard_mat = df_jaccard_bert_infomap\n",
    "cmap = \"viridis\"\n",
    "\n",
    "im = ax.matshow(jaccard_mat,cmap=cmap, vmin=0, vmax=1)\n",
    "ax1.set_title(\"Jaccard\", fontsize=18)\n",
    "# cbar = fig.colorbar(im, ax=ax1)\n",
    "ax.tick_params(labelbottom=False, labelleft=False,labeltop=False)\n",
    "ax.set_xlabel(\"Infomap\", fontsize=14)\n",
    "ax.set_ylabel(\"Berts\", fontsize=14)\n",
    "ax.grid(False)\n",
    "divider = make_axes_locatable(ax)\n",
    "cax = divider.append_axes(\"right\", size=\"5%\", pad=0.05)\n",
    "cbar = fig.colorbar(im, ax=ax,fraction=0.046, pad=0.04, cax=cax)\n",
    "\n",
    "\n",
    "plt.tight_layout()"
   ]
  },
  {
   "cell_type": "markdown",
   "metadata": {},
   "source": [
    "### Comparo con Louvain"
   ]
  },
  {
   "cell_type": "code",
   "execution_count": 197,
   "metadata": {},
   "outputs": [
    {
     "data": {
      "image/png": "[encoded data removed]",
      "text/plain": [
       "<Figure size 1728x864 with 6 Axes>"
      ]
     },
     "metadata": {},
     "output_type": "display_data"
    }
   ],
   "source": [
    "matrix_jaccard_bert_louvain= {}\n",
    "matrix_min_bert_louvain = {}\n",
    "matrix_max_bert_louvain = {}\n",
    "\n",
    "for comunidad_louvain,set_louvain in conjuntos_louvain.items():\n",
    "    partial_jaccard = {}\n",
    "    partial_min = {}\n",
    "    partial_max = {}\n",
    "    for bert, set_bert in conjuntos_berts.items():\n",
    "        coef_jaccard = jaccard(set_louvain,set_bert)\n",
    "        coef_min = int_min(set_louvain,set_bert)\n",
    "        coef_max = int_max(set_louvain,set_bert)\n",
    "        partial_jaccard[bert] = coef_jaccard\n",
    "        partial_min[bert] = coef_min\n",
    "        partial_max[bert] = coef_max\n",
    "    matrix_jaccard_bert_louvain[comunidad_louvain] = partial_jaccard\n",
    "    matrix_min_bert_louvain[comunidad_louvain] = partial_min\n",
    "    matrix_max_bert_louvain[comunidad_louvain] = partial_max\n",
    "\n",
    "df_jaccard_bert_louvain = pd.DataFrame(matrix_jaccard_bert_louvain)\n",
    "df_min_bert_louvain = pd.DataFrame(matrix_min_bert_louvain)\n",
    "df_max_bert_louvain = pd.DataFrame(matrix_max_bert_louvain)\n",
    "\n",
    "metricas = {\"Intersección/min\":df_min_bert_louvain,\"Intersección/max\":df_max_bert_louvain, \"Jaccard\":df_jaccard_bert_louvain}\n",
    "\n",
    "fig, ax = plt.subplots(2,3, figsize=(24,12))\n",
    "fig.suptitle(\"Distribución de coeficientes máximos\", fontsize=20)\n",
    "\n",
    "i=0\n",
    "for name,data in metricas.items():\n",
    "    ax[0,i].hist(data.max().values)\n",
    "    ax[0,i].set_title(f\"{name}, Louvain->Bert\", fontsize=18)\n",
    "\n",
    "    ax[1,i].hist(data.T.max().values)\n",
    "    ax[1,i].set_title(f\"{name}, Bert->Louvain\", fontsize=18)\n",
    "    i+=1\n",
    "\n",
    "# fig.savefig(reports_comunidades+\"inclusion_berts_louvain.png\",dpi=200)"
   ]
  },
  {
   "cell_type": "markdown",
   "metadata": {},
   "source": [
    "## Comparación vs su propia comunidad (esto si)"
   ]
  },
  {
   "cell_type": "code",
   "execution_count": 74,
   "metadata": {},
   "outputs": [],
   "source": [
    "comunidades_bert = enfermedades.loc[enfermedades.node_type == \"bert_group\",[\"node_index\",\"comunidades_infomap\",\"comunidades_louvain\"]].astype({\"comunidades_infomap\":\"int\",\"comunidades_louvain\":\"int\"}).set_index(\"node_index\").to_dict(orient=\"index\")"
   ]
  },
  {
   "cell_type": "code",
   "execution_count": 79,
   "metadata": {},
   "outputs": [],
   "source": [
    "metricas_infomap = {}\n",
    "metricas_louvain = {}\n",
    "\n",
    "for bert,comunidades in comunidades_bert.items():\n",
    "    conjunto_ego = conjuntos_berts[bert]\n",
    "\n",
    "    infomap = comunidades[\"comunidades_infomap\"]\n",
    "    conjunto_infomap = conjuntos_infomap[infomap]\n",
    "\n",
    "    louvain = comunidades[\"comunidades_louvain\"]\n",
    "    conjunto_louvain = conjuntos_louvain[louvain]\n",
    "\n",
    "    interseccion_bert_infomap = round(len(conjunto_ego&conjunto_infomap)/len(conjunto_ego),2)\n",
    "    interseccion_bert_louvain = round(len(conjunto_ego&conjunto_louvain)/len(conjunto_ego),2)\n",
    "\n",
    "    jaccard_bert_infomap = round(len(conjunto_ego&conjunto_infomap)/len(conjunto_ego|conjunto_infomap),2)\n",
    "    jaccard_bert_louvain = round(len(conjunto_ego&conjunto_louvain)/len(conjunto_ego|conjunto_louvain),2)\n",
    "\n",
    "    bert_tamaño_infomap = round(len(conjunto_ego)/len(conjunto_infomap),2)\n",
    "    bert_tamaño_louvain = round(len(conjunto_ego)/len(conjunto_louvain),2)\n",
    "\n",
    "    metricas_parcial_infomap = {\"interseccion_sobre_bert\":interseccion_bert_infomap, \"jaccard\":jaccard_bert_infomap, \"tamaño_bert_sobre_cluster\":bert_tamaño_infomap}\n",
    "    metricas_parcial_louvain = {\"interseccion_sobre_bert\":interseccion_bert_louvain, \"jaccard\":jaccard_bert_louvain, \"tamaño_bert_sobre_cluster\":bert_tamaño_louvain}\n",
    "\n",
    "    metricas_infomap[bert] = metricas_parcial_infomap\n",
    "    metricas_louvain[bert] = metricas_parcial_louvain\n",
    "\n",
    "\n",
    "df_berts_comunidades = pd.DataFrame.from_dict(comunidades_bert).T\n",
    "\n",
    "df_metricas_bert_infomap = pd.DataFrame.from_dict(metricas_infomap).T\n",
    "df_metricas_bert_infomap = pd.concat([df_berts_comunidades[\"comunidades_infomap\"],df_metricas_bert_infomap], axis=1).reset_index().rename(columns={\"index\":\"node_index\"})\n",
    "\n",
    "df_metricas_bert_louvain = pd.DataFrame.from_dict(metricas_louvain).T\n",
    "df_metricas_bert_louvain = pd.concat([df_berts_comunidades[\"comunidades_louvain\"],df_metricas_bert_louvain], axis=1).reset_index().rename(columns={\"index\":\"node_index\"})\n"
   ]
  },
  {
   "cell_type": "code",
   "execution_count": 80,
   "metadata": {},
   "outputs": [
    {
     "data": {
      "text/html": [
       "<div>\n",
       "<style scoped>\n",
       "    .dataframe tbody tr th:only-of-type {\n",
       "        vertical-align: middle;\n",
       "    }\n",
       "\n",
       "    .dataframe tbody tr th {\n",
       "        vertical-align: top;\n",
       "    }\n",
       "\n",
       "    .dataframe thead th {\n",
       "        text-align: right;\n",
       "    }\n",
       "</style>\n",
       "<table border=\"1\" class=\"dataframe\">\n",
       "  <thead>\n",
       "    <tr style=\"text-align: right;\">\n",
       "      <th></th>\n",
       "      <th>node_index</th>\n",
       "      <th>comunidades_louvain</th>\n",
       "      <th>interseccion_sobre_bert</th>\n",
       "      <th>jaccard</th>\n",
       "      <th>tamaño_bert_sobre_cluster</th>\n",
       "    </tr>\n",
       "  </thead>\n",
       "  <tbody>\n",
       "    <tr>\n",
       "      <th>0</th>\n",
       "      <td>7</td>\n",
       "      <td>42</td>\n",
       "      <td>0.68</td>\n",
       "      <td>0.24</td>\n",
       "      <td>0.40</td>\n",
       "    </tr>\n",
       "    <tr>\n",
       "      <th>1</th>\n",
       "      <td>17</td>\n",
       "      <td>36</td>\n",
       "      <td>1.00</td>\n",
       "      <td>0.02</td>\n",
       "      <td>0.02</td>\n",
       "    </tr>\n",
       "    <tr>\n",
       "      <th>2</th>\n",
       "      <td>19</td>\n",
       "      <td>36</td>\n",
       "      <td>1.00</td>\n",
       "      <td>0.05</td>\n",
       "      <td>0.05</td>\n",
       "    </tr>\n",
       "    <tr>\n",
       "      <th>3</th>\n",
       "      <td>28</td>\n",
       "      <td>17</td>\n",
       "      <td>1.00</td>\n",
       "      <td>0.00</td>\n",
       "      <td>0.00</td>\n",
       "    </tr>\n",
       "    <tr>\n",
       "      <th>4</th>\n",
       "      <td>88</td>\n",
       "      <td>54</td>\n",
       "      <td>1.00</td>\n",
       "      <td>0.86</td>\n",
       "      <td>0.86</td>\n",
       "    </tr>\n",
       "    <tr>\n",
       "      <th>...</th>\n",
       "      <td>...</td>\n",
       "      <td>...</td>\n",
       "      <td>...</td>\n",
       "      <td>...</td>\n",
       "      <td>...</td>\n",
       "    </tr>\n",
       "    <tr>\n",
       "      <th>1038</th>\n",
       "      <td>18393</td>\n",
       "      <td>13</td>\n",
       "      <td>0.92</td>\n",
       "      <td>0.08</td>\n",
       "      <td>0.09</td>\n",
       "    </tr>\n",
       "    <tr>\n",
       "      <th>1039</th>\n",
       "      <td>18401</td>\n",
       "      <td>25</td>\n",
       "      <td>0.83</td>\n",
       "      <td>0.04</td>\n",
       "      <td>0.05</td>\n",
       "    </tr>\n",
       "    <tr>\n",
       "      <th>1040</th>\n",
       "      <td>18410</td>\n",
       "      <td>48</td>\n",
       "      <td>0.67</td>\n",
       "      <td>0.02</td>\n",
       "      <td>0.03</td>\n",
       "    </tr>\n",
       "    <tr>\n",
       "      <th>1041</th>\n",
       "      <td>18426</td>\n",
       "      <td>6</td>\n",
       "      <td>1.00</td>\n",
       "      <td>0.02</td>\n",
       "      <td>0.02</td>\n",
       "    </tr>\n",
       "    <tr>\n",
       "      <th>1042</th>\n",
       "      <td>18428</td>\n",
       "      <td>6</td>\n",
       "      <td>1.00</td>\n",
       "      <td>0.02</td>\n",
       "      <td>0.02</td>\n",
       "    </tr>\n",
       "  </tbody>\n",
       "</table>\n",
       "<p>1043 rows × 5 columns</p>\n",
       "</div>"
      ],
      "text/plain": [
       "      node_index  comunidades_louvain  interseccion_sobre_bert  jaccard  \\\n",
       "0              7                   42                     0.68     0.24   \n",
       "1             17                   36                     1.00     0.02   \n",
       "2             19                   36                     1.00     0.05   \n",
       "3             28                   17                     1.00     0.00   \n",
       "4             88                   54                     1.00     0.86   \n",
       "...          ...                  ...                      ...      ...   \n",
       "1038       18393                   13                     0.92     0.08   \n",
       "1039       18401                   25                     0.83     0.04   \n",
       "1040       18410                   48                     0.67     0.02   \n",
       "1041       18426                    6                     1.00     0.02   \n",
       "1042       18428                    6                     1.00     0.02   \n",
       "\n",
       "      tamaño_bert_sobre_cluster  \n",
       "0                          0.40  \n",
       "1                          0.02  \n",
       "2                          0.05  \n",
       "3                          0.00  \n",
       "4                          0.86  \n",
       "...                         ...  \n",
       "1038                       0.09  \n",
       "1039                       0.05  \n",
       "1040                       0.03  \n",
       "1041                       0.02  \n",
       "1042                       0.02  \n",
       "\n",
       "[1043 rows x 5 columns]"
      ]
     },
     "execution_count": 80,
     "metadata": {},
     "output_type": "execute_result"
    }
   ],
   "source": [
    "df_metricas_bert_louvain"
   ]
  },
  {
   "cell_type": "code",
   "execution_count": 81,
   "metadata": {},
   "outputs": [
    {
     "ename": "NameError",
     "evalue": "name 'df_min_bert_infomap' is not defined",
     "output_type": "error",
     "traceback": [
      "\u001b[0;31m---------------------------------------------------------------------------\u001b[0m",
      "\u001b[0;31mNameError\u001b[0m                                 Traceback (most recent call last)",
      "\u001b[1;32m/home/ingrid/Documents/tesis/gcnn_gdas/exploration/notebooks/network_analysis/analisis_comunidades.ipynb Cell 46\u001b[0m in \u001b[0;36m<cell line: 1>\u001b[0;34m()\u001b[0m\n\u001b[0;32m----> <a href='vscode-notebook-cell:/home/ingrid/Documents/tesis/gcnn_gdas/exploration/notebooks/network_analysis/analisis_comunidades.ipynb#X63sZmlsZQ%3D%3D?line=0'>1</a>\u001b[0m metricas \u001b[39m=\u001b[39m {\u001b[39m\"\u001b[39m\u001b[39mIntersección/Bert\u001b[39m\u001b[39m\"\u001b[39m:df_min_bert_infomap,\u001b[39m\"\u001b[39m\u001b[39mIntersección/max\u001b[39m\u001b[39m\"\u001b[39m:df_max_bert_infomap, \u001b[39m\"\u001b[39m\u001b[39mJaccard\u001b[39m\u001b[39m\"\u001b[39m:df_jaccard_bert_infomap}\n\u001b[1;32m      <a href='vscode-notebook-cell:/home/ingrid/Documents/tesis/gcnn_gdas/exploration/notebooks/network_analysis/analisis_comunidades.ipynb#X63sZmlsZQ%3D%3D?line=2'>3</a>\u001b[0m fig, ax \u001b[39m=\u001b[39m plt\u001b[39m.\u001b[39msubplots(\u001b[39m2\u001b[39m,\u001b[39m3\u001b[39m, figsize\u001b[39m=\u001b[39m(\u001b[39m24\u001b[39m,\u001b[39m12\u001b[39m))\n\u001b[1;32m      <a href='vscode-notebook-cell:/home/ingrid/Documents/tesis/gcnn_gdas/exploration/notebooks/network_analysis/analisis_comunidades.ipynb#X63sZmlsZQ%3D%3D?line=3'>4</a>\u001b[0m fig\u001b[39m.\u001b[39msuptitle(\u001b[39m\"\u001b[39m\u001b[39mDistribución de coeficientes máximos\u001b[39m\u001b[39m\"\u001b[39m, fontsize\u001b[39m=\u001b[39m\u001b[39m20\u001b[39m)\n",
      "\u001b[0;31mNameError\u001b[0m: name 'df_min_bert_infomap' is not defined"
     ]
    }
   ],
   "source": [
    "metricas = {\"Intersección/Bert\":df_min_bert_infomap,\"Intersección/max\":df_max_bert_infomap, \"Jaccard\":df_jaccard_bert_infomap}\n",
    "\n",
    "fig, ax = plt.subplots(2,3, figsize=(24,12))\n",
    "fig.suptitle(\"Distribución de coeficientes máximos\", fontsize=20)\n",
    "\n",
    "i=0\n",
    "for name,data in metricas.items():\n",
    "    ax[0,i].hist(data.max().values)\n",
    "    ax[0,i].set_title(f\"{name}, Infomap->Bert\", fontsize=18)\n",
    "\n",
    "    ax[1,i].hist(data.T.max().values)\n",
    "    ax[1,i].set_title(f\"{name}, Bert->Infomap\", fontsize=18)\n",
    "    i+=1\n",
    "\n",
    "# fig.savefig(reports_comunidades+\"inclusion_berts_infomap.png\",dpi=200)"
   ]
  },
  {
   "cell_type": "code",
   "execution_count": 65,
   "metadata": {},
   "outputs": [
    {
     "data": {
      "text/html": [
       "<div>\n",
       "<style scoped>\n",
       "    .dataframe tbody tr th:only-of-type {\n",
       "        vertical-align: middle;\n",
       "    }\n",
       "\n",
       "    .dataframe tbody tr th {\n",
       "        vertical-align: top;\n",
       "    }\n",
       "\n",
       "    .dataframe thead th {\n",
       "        text-align: right;\n",
       "    }\n",
       "</style>\n",
       "<table border=\"1\" class=\"dataframe\">\n",
       "  <thead>\n",
       "    <tr style=\"text-align: right;\">\n",
       "      <th></th>\n",
       "      <th>node_index</th>\n",
       "      <th>comunidades_louvain</th>\n",
       "      <th>interseccion_sobre_bert</th>\n",
       "      <th>jaccard</th>\n",
       "      <th>tamaño_bert_sobre_cluster</th>\n",
       "    </tr>\n",
       "  </thead>\n",
       "  <tbody>\n",
       "    <tr>\n",
       "      <th>0</th>\n",
       "      <td>7</td>\n",
       "      <td>42</td>\n",
       "      <td>0.38</td>\n",
       "      <td>0.35</td>\n",
       "      <td>2.10</td>\n",
       "    </tr>\n",
       "    <tr>\n",
       "      <th>1</th>\n",
       "      <td>17</td>\n",
       "      <td>36</td>\n",
       "      <td>1.00</td>\n",
       "      <td>0.43</td>\n",
       "      <td>0.43</td>\n",
       "    </tr>\n",
       "    <tr>\n",
       "      <th>2</th>\n",
       "      <td>19</td>\n",
       "      <td>36</td>\n",
       "      <td>0.89</td>\n",
       "      <td>0.89</td>\n",
       "      <td>1.12</td>\n",
       "    </tr>\n",
       "    <tr>\n",
       "      <th>3</th>\n",
       "      <td>28</td>\n",
       "      <td>17</td>\n",
       "      <td>1.00</td>\n",
       "      <td>0.21</td>\n",
       "      <td>0.21</td>\n",
       "    </tr>\n",
       "    <tr>\n",
       "      <th>4</th>\n",
       "      <td>88</td>\n",
       "      <td>54</td>\n",
       "      <td>1.00</td>\n",
       "      <td>0.86</td>\n",
       "      <td>0.86</td>\n",
       "    </tr>\n",
       "    <tr>\n",
       "      <th>...</th>\n",
       "      <td>...</td>\n",
       "      <td>...</td>\n",
       "      <td>...</td>\n",
       "      <td>...</td>\n",
       "      <td>...</td>\n",
       "    </tr>\n",
       "    <tr>\n",
       "      <th>1038</th>\n",
       "      <td>18393</td>\n",
       "      <td>13</td>\n",
       "      <td>0.73</td>\n",
       "      <td>0.73</td>\n",
       "      <td>1.37</td>\n",
       "    </tr>\n",
       "    <tr>\n",
       "      <th>1039</th>\n",
       "      <td>18401</td>\n",
       "      <td>25</td>\n",
       "      <td>0.83</td>\n",
       "      <td>0.31</td>\n",
       "      <td>0.40</td>\n",
       "    </tr>\n",
       "    <tr>\n",
       "      <th>1040</th>\n",
       "      <td>18410</td>\n",
       "      <td>48</td>\n",
       "      <td>0.67</td>\n",
       "      <td>0.25</td>\n",
       "      <td>0.43</td>\n",
       "    </tr>\n",
       "    <tr>\n",
       "      <th>1041</th>\n",
       "      <td>18426</td>\n",
       "      <td>6</td>\n",
       "      <td>0.80</td>\n",
       "      <td>0.50</td>\n",
       "      <td>0.71</td>\n",
       "    </tr>\n",
       "    <tr>\n",
       "      <th>1042</th>\n",
       "      <td>18428</td>\n",
       "      <td>6</td>\n",
       "      <td>1.00</td>\n",
       "      <td>0.44</td>\n",
       "      <td>0.44</td>\n",
       "    </tr>\n",
       "  </tbody>\n",
       "</table>\n",
       "<p>1043 rows × 5 columns</p>\n",
       "</div>"
      ],
      "text/plain": [
       "      node_index  comunidades_louvain  interseccion_sobre_bert  jaccard  \\\n",
       "0              7                   42                     0.38     0.35   \n",
       "1             17                   36                     1.00     0.43   \n",
       "2             19                   36                     0.89     0.89   \n",
       "3             28                   17                     1.00     0.21   \n",
       "4             88                   54                     1.00     0.86   \n",
       "...          ...                  ...                      ...      ...   \n",
       "1038       18393                   13                     0.73     0.73   \n",
       "1039       18401                   25                     0.83     0.31   \n",
       "1040       18410                   48                     0.67     0.25   \n",
       "1041       18426                    6                     0.80     0.50   \n",
       "1042       18428                    6                     1.00     0.44   \n",
       "\n",
       "      tamaño_bert_sobre_cluster  \n",
       "0                          2.10  \n",
       "1                          0.43  \n",
       "2                          1.12  \n",
       "3                          0.21  \n",
       "4                          0.86  \n",
       "...                         ...  \n",
       "1038                       1.37  \n",
       "1039                       0.40  \n",
       "1040                       0.43  \n",
       "1041                       0.71  \n",
       "1042                       0.44  \n",
       "\n",
       "[1043 rows x 5 columns]"
      ]
     },
     "execution_count": 65,
     "metadata": {},
     "output_type": "execute_result"
    }
   ],
   "source": [
    "df_metricas_bert_louvain"
   ]
  },
  {
   "cell_type": "code",
   "execution_count": 82,
   "metadata": {},
   "outputs": [
    {
     "data": {
      "image/png": "[encoded data removed]",
      "text/plain": [
       "<Figure size 1296x720 with 6 Axes>"
      ]
     },
     "metadata": {},
     "output_type": "display_data"
    }
   ],
   "source": [
    "metricas = [\"interseccion_sobre_bert\", \"jaccard\", \"tamaño_bert_sobre_cluster\"]\n",
    "fig, ax  = plt.subplots(2,3,figsize=(18,10))\n",
    "fig.suptitle(\"Comparación entre comunidades y ego networks de grupos Bert \\n\", fontsize=18)\n",
    "\n",
    "for i in range(3):\n",
    "    current_ax = ax[0,i]\n",
    "    current_ax.set_title(f\"{metricas[i]} - Infomap\")\n",
    "    data = df_metricas_bert_infomap[metricas[i]]\n",
    "    sns.histplot(data=data, ax=current_ax, color=sns.color_palette()[i], bins=np.linspace(data.min().min(), data.max().max(), 20))\n",
    "\n",
    "for i in range(3):\n",
    "    current_ax = ax[1,i]\n",
    "    current_ax.set_title(f\"{metricas[i]} - Louvain\")\n",
    "    data = df_metricas_bert_louvain[metricas[i]]\n",
    "    sns.histplot(data=data, ax=current_ax, color=sns.color_palette()[i], bins=np.linspace(data.min().min(), data.max().max(), 20))\n",
    "\n",
    "plt.tight_layout()\n",
    "# plt.savefig(reports_comunidades+\"ego_networks_vs_comunidades.png\", dpi=200)"
   ]
  },
  {
   "cell_type": "markdown",
   "metadata": {},
   "source": [
    "# Veo si \"mapeos bert\" tiene overlap con comunidades"
   ]
  },
  {
   "cell_type": "code",
   "execution_count": 49,
   "metadata": {},
   "outputs": [],
   "source": [
    "bert_edges = pd.read_csv(data_processed+\"graph_data/disease_bert_edges.csv\").drop(columns=[\"Unnamed: 0\"])"
   ]
  },
  {
   "cell_type": "code",
   "execution_count": 65,
   "metadata": {},
   "outputs": [],
   "source": [
    "bert_subgraphs = {}\n",
    "\n",
    "for group in bert_groups:\n",
    "    conjunto_bert = set(bert_edges.loc[bert_edges.x_index == group, \"y_index\"].values)\n",
    "    conjunto_bert.update([group])\n",
    "    bert_subgraphs[group] = conjunto_bert"
   ]
  },
  {
   "cell_type": "code",
   "execution_count": 68,
   "metadata": {},
   "outputs": [],
   "source": [
    "comunidades_bert = enfermedades.loc[enfermedades.node_type == \"bert_group\",[\"node_index\",\"comunidades_infomap\",\"comunidades_louvain\"]].astype({\"comunidades_infomap\":\"int\",\"comunidades_louvain\":\"int\"}).set_index(\"node_index\").to_dict(orient=\"index\")"
   ]
  },
  {
   "cell_type": "code",
   "execution_count": 83,
   "metadata": {},
   "outputs": [],
   "source": [
    "metricas_infomap = {}\n",
    "metricas_louvain = {}\n",
    "\n",
    "for bert,comunidades in comunidades_bert.items():\n",
    "    conjunto_mapeo = bert_subgraphs[bert]\n",
    "\n",
    "    infomap = comunidades[\"comunidades_infomap\"]\n",
    "    conjunto_infomap = conjuntos_infomap[infomap]\n",
    "\n",
    "    louvain = comunidades[\"comunidades_louvain\"]\n",
    "    conjunto_louvain = conjuntos_louvain[louvain]\n",
    "\n",
    "    interseccion_bert_infomap = round(len(conjunto_mapeo&conjunto_infomap)/len(conjunto_mapeo),2)\n",
    "    interseccion_bert_louvain = round(len(conjunto_mapeo&conjunto_louvain)/len(conjunto_mapeo),2)\n",
    "\n",
    "    jaccard_bert_infomap = round(len(conjunto_mapeo&conjunto_infomap)/len(conjunto_mapeo|conjunto_infomap),2)\n",
    "    jaccard_bert_louvain = round(len(conjunto_mapeo&conjunto_louvain)/len(conjunto_mapeo|conjunto_louvain),2)\n",
    "\n",
    "    bert_tamaño_infomap = round(len(conjunto_mapeo)/len(conjunto_infomap),2)\n",
    "    bert_tamaño_louvain = round(len(conjunto_mapeo)/len(conjunto_louvain),2)\n",
    "\n",
    "    metricas_parcial_infomap = {\"interseccion_sobre_bert\":interseccion_bert_infomap, \"jaccard\":jaccard_bert_infomap, \"tamaño_bert_sobre_cluster\":bert_tamaño_infomap}\n",
    "    metricas_parcial_louvain = {\"interseccion_sobre_bert\":interseccion_bert_louvain, \"jaccard\":jaccard_bert_louvain, \"tamaño_bert_sobre_cluster\":bert_tamaño_louvain}\n",
    "\n",
    "    metricas_infomap[bert] = metricas_parcial_infomap\n",
    "    metricas_louvain[bert] = metricas_parcial_louvain\n",
    "\n",
    "\n",
    "df_berts_comunidades = pd.DataFrame.from_dict(comunidades_bert).T\n",
    "\n",
    "df_metricas_bert_infomap = pd.DataFrame.from_dict(metricas_infomap).T\n",
    "df_metricas_bert_infomap = pd.concat([df_berts_comunidades[\"comunidades_infomap\"],df_metricas_bert_infomap], axis=1).reset_index().rename(columns={\"index\":\"node_index\"})\n",
    "\n",
    "df_metricas_bert_louvain = pd.DataFrame.from_dict(metricas_louvain).T\n",
    "df_metricas_bert_louvain = pd.concat([df_berts_comunidades[\"comunidades_louvain\"],df_metricas_bert_louvain], axis=1).reset_index().rename(columns={\"index\":\"node_index\"})"
   ]
  },
  {
   "cell_type": "code",
   "execution_count": 89,
   "metadata": {},
   "outputs": [
    {
     "data": {
      "text/plain": [
       "1.0    1043\n",
       "Name: interseccion_sobre_bert, dtype: int64"
      ]
     },
     "execution_count": 89,
     "metadata": {},
     "output_type": "execute_result"
    }
   ],
   "source": [
    "df_metricas_bert_louvain.interseccion_sobre_bert.value_counts()"
   ]
  },
  {
   "cell_type": "code",
   "execution_count": 96,
   "metadata": {},
   "outputs": [
    {
     "data": {
      "image/png": "[encoded data removed]",
      "text/plain": [
       "<Figure size 1296x720 with 6 Axes>"
      ]
     },
     "metadata": {},
     "output_type": "display_data"
    }
   ],
   "source": [
    "metricas = [\"interseccion_sobre_bert\", \"jaccard\", \"tamaño_bert_sobre_cluster\"]\n",
    "fig, ax  = plt.subplots(2,3,figsize=(18,10))\n",
    "fig.suptitle(\"Comparación entre comunidades y conjuntos de mapeo de grupos Bert \\n\", fontsize=18)\n",
    "\n",
    "current_ax = ax[0,0]\n",
    "current_ax.set_title(f\"{metricas[0]} - Infomap\")\n",
    "data = df_metricas_bert_infomap[metricas[0]]\n",
    "sns.histplot(data=data, ax=current_ax, color=sns.color_palette()[0], bins=20)\n",
    "\n",
    "\n",
    "current_ax = ax[1,0]\n",
    "current_ax.set_title(f\"{metricas[0]} - Louvain\")\n",
    "data = df_metricas_bert_louvain[metricas[0]]\n",
    "sns.histplot(data=data, ax=current_ax, color=sns.color_palette()[0], bins=20)\n",
    "\n",
    "for i in range(2):\n",
    "    current_ax = ax[0,i+1]\n",
    "    current_ax.set_title(f\"{metricas[i+1]} - Infomap\")\n",
    "    data = df_metricas_bert_infomap[metricas[i+1]]\n",
    "    sns.histplot(data=data, ax=current_ax, color=sns.color_palette()[i+1], bins=np.linspace(data.min().min(), data.max().max(), 20))\n",
    "\n",
    "for i in range(2):\n",
    "    current_ax = ax[1,i+1]\n",
    "    current_ax.set_title(f\"{metricas[i+1]} - Louvain\")\n",
    "    data = df_metricas_bert_louvain[metricas[i+1]]\n",
    "    sns.histplot(data=data, ax=current_ax, color=sns.color_palette()[i+1], bins=np.linspace(data.min().min(), data.max().max(), 20))\n",
    "\n",
    "plt.tight_layout()\n",
    "# plt.savefig(reports_comunidades+\"mapeos_vs_comunidades.png\", dpi=200)"
   ]
  }
 ],
 "metadata": {
  "kernelspec": {
   "display_name": "Python 3.10.4 64-bit",
   "language": "python",
   "name": "python3"
  },
  "language_info": {
   "codemirror_mode": {
    "name": "ipython",
    "version": 3
   },
   "file_extension": ".py",
   "mimetype": "text/x-python",
   "name": "python",
   "nbconvert_exporter": "python",
   "pygments_lexer": "ipython3",
   "version": "3.10.6"
  },
  "orig_nbformat": 4,
  "vscode": {
   "interpreter": {
    "hash": "916dbcbb3f70747c44a77c7bcd40155683ae19c65e1c03b4aa3499c5328201f1"
   }
  }
 },
 "nbformat": 4,
 "nbformat_minor": 2
}
