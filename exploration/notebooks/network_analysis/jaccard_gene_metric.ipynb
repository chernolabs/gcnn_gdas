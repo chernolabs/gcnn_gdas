{
 "cells": [
  {
   "cell_type": "markdown",
   "metadata": {},
   "source": [
    "# Setup"
   ]
  },
  {
   "cell_type": "code",
   "execution_count": 1,
   "metadata": {},
   "outputs": [],
   "source": [
    "import pandas as pd\n",
    "import numpy as np\n",
    "import seaborn as sns\n",
    "import matplotlib.pyplot as plt\n",
    "import plotly.express as px\n",
    "from matplotlib_venn import venn3, venn2\n",
    "import random\n",
    "import plotly.io as pio\n",
    "from scipy import sparse\n",
    "import os\n",
    "import networkx as nx"
   ]
  },
  {
   "cell_type": "code",
   "execution_count": 2,
   "metadata": {},
   "outputs": [],
   "source": [
    "seed = 16\n",
    "random.seed(seed)\n",
    "np.random.seed(seed)\n",
    "\n",
    "#esto es para forzar a plt a poner fondos blancos en las figuras aunque el tema del notebook sea oscuro\n",
    "#plt.rcParams['axes.facecolor'] = 'white'\n",
    "#plt.rcParams['figure.facecolor'] = 'white'\n",
    "cmap = plt.get_cmap(\"tab10\")\n",
    "pio.templates.default = \"seaborn\"\n",
    "\n",
    "sns.set_style(\"darkgrid\", rc={'xtick.bottom': True})"
   ]
  },
  {
   "cell_type": "code",
   "execution_count": 3,
   "metadata": {},
   "outputs": [],
   "source": [
    "def node_labels_to_numeric(G):\n",
    "    new_labels = {old_label:int(old_label) for old_label in list(G.nodes)}\n",
    "    nx.relabel_nodes(G,new_labels,False)"
   ]
  },
  {
   "cell_type": "code",
   "execution_count": 4,
   "metadata": {},
   "outputs": [],
   "source": [
    "data_processed = \"../../../data/processed/\"\n",
    "data_interim = \"../../../data/interim/\"\n",
    "data_external = \"../../../data/external/\"\n",
    "tfidf_reports = \"../../../reports/tfidf/\"\n",
    "reports_comunidades = \"../../../reports/analisis_comunidades/\"\n",
    "\n",
    "graph_node_data = pd.read_csv(data_processed+\"graph_data/grafo_alternativo_CG_nodos.csv\")\n",
    "G = nx.read_gml(data_processed+\"graph_data/gda_network.gml\")\n",
    "node_labels_to_numeric(G)"
   ]
  },
  {
   "cell_type": "code",
   "execution_count": 5,
   "metadata": {},
   "outputs": [],
   "source": [
    "def get_node_dict(G):\n",
    "    return {node:data for (node,data) in list(G.nodes(data=True))}"
   ]
  },
  {
   "cell_type": "markdown",
   "metadata": {},
   "source": [
    "# Jaccard de genes compartidos"
   ]
  },
  {
   "cell_type": "code",
   "execution_count": 6,
   "metadata": {},
   "outputs": [],
   "source": [
    "def jaccard(set1,set2):\n",
    "    intersection = len(set1&set2)\n",
    "    union = len(set1|set2)\n",
    "    return intersection/union"
   ]
  },
  {
   "cell_type": "code",
   "execution_count": 7,
   "metadata": {},
   "outputs": [],
   "source": [
    "nodos_gda = pd.DataFrame(get_node_dict(G)).T.reset_index().rename(columns={\"index\":\"node_index\"})"
   ]
  },
  {
   "cell_type": "code",
   "execution_count": 8,
   "metadata": {},
   "outputs": [
    {
     "data": {
      "text/html": [
       "<div>\n",
       "<style scoped>\n",
       "    .dataframe tbody tr th:only-of-type {\n",
       "        vertical-align: middle;\n",
       "    }\n",
       "\n",
       "    .dataframe tbody tr th {\n",
       "        vertical-align: top;\n",
       "    }\n",
       "\n",
       "    .dataframe thead th {\n",
       "        text-align: right;\n",
       "    }\n",
       "</style>\n",
       "<table border=\"1\" class=\"dataframe\">\n",
       "  <thead>\n",
       "    <tr style=\"text-align: right;\">\n",
       "      <th></th>\n",
       "      <th>node_index</th>\n",
       "      <th>node_type</th>\n",
       "      <th>node_name</th>\n",
       "      <th>node_id</th>\n",
       "      <th>node_source</th>\n",
       "    </tr>\n",
       "  </thead>\n",
       "  <tbody>\n",
       "    <tr>\n",
       "      <th>0</th>\n",
       "      <td>6512</td>\n",
       "      <td>gene_protein</td>\n",
       "      <td>NPBWR1</td>\n",
       "      <td>2831</td>\n",
       "      <td>disgenet</td>\n",
       "    </tr>\n",
       "    <tr>\n",
       "      <th>1</th>\n",
       "      <td>27291</td>\n",
       "      <td>disease</td>\n",
       "      <td>Osteopoikilosis, Isolated</td>\n",
       "      <td>C1833699</td>\n",
       "      <td>disgenet</td>\n",
       "    </tr>\n",
       "    <tr>\n",
       "      <th>2</th>\n",
       "      <td>16773</td>\n",
       "      <td>gene_protein</td>\n",
       "      <td>TCAP</td>\n",
       "      <td>8557</td>\n",
       "      <td>disgenet</td>\n",
       "    </tr>\n",
       "    <tr>\n",
       "      <th>3</th>\n",
       "      <td>17685</td>\n",
       "      <td>gene_protein</td>\n",
       "      <td>GPR52</td>\n",
       "      <td>9293</td>\n",
       "      <td>disgenet</td>\n",
       "    </tr>\n",
       "    <tr>\n",
       "      <th>4</th>\n",
       "      <td>9996</td>\n",
       "      <td>gene_protein</td>\n",
       "      <td>HERC5</td>\n",
       "      <td>51191</td>\n",
       "      <td>disgenet</td>\n",
       "    </tr>\n",
       "    <tr>\n",
       "      <th>...</th>\n",
       "      <td>...</td>\n",
       "      <td>...</td>\n",
       "      <td>...</td>\n",
       "      <td>...</td>\n",
       "      <td>...</td>\n",
       "    </tr>\n",
       "    <tr>\n",
       "      <th>20851</th>\n",
       "      <td>5377</td>\n",
       "      <td>gene_protein</td>\n",
       "      <td>PANX1</td>\n",
       "      <td>24145</td>\n",
       "      <td>disgenet</td>\n",
       "    </tr>\n",
       "    <tr>\n",
       "      <th>20852</th>\n",
       "      <td>22935</td>\n",
       "      <td>disease</td>\n",
       "      <td>Congenital glucose-galactose malabsorption</td>\n",
       "      <td>C0268186</td>\n",
       "      <td>disgenet</td>\n",
       "    </tr>\n",
       "    <tr>\n",
       "      <th>20853</th>\n",
       "      <td>782</td>\n",
       "      <td>gene_protein</td>\n",
       "      <td>AGPAT1</td>\n",
       "      <td>10554</td>\n",
       "      <td>disgenet</td>\n",
       "    </tr>\n",
       "    <tr>\n",
       "      <th>20854</th>\n",
       "      <td>33412</td>\n",
       "      <td>disease</td>\n",
       "      <td>Spinocerebellar ataxia type 40</td>\n",
       "      <td>C4518336</td>\n",
       "      <td>disgenet</td>\n",
       "    </tr>\n",
       "    <tr>\n",
       "      <th>20855</th>\n",
       "      <td>25868</td>\n",
       "      <td>disease</td>\n",
       "      <td>Budd-Chiari Syndrome</td>\n",
       "      <td>C0856761</td>\n",
       "      <td>disgenet</td>\n",
       "    </tr>\n",
       "  </tbody>\n",
       "</table>\n",
       "<p>20856 rows × 5 columns</p>\n",
       "</div>"
      ],
      "text/plain": [
       "       node_index     node_type                                   node_name  \\\n",
       "0            6512  gene_protein                                      NPBWR1   \n",
       "1           27291       disease                   Osteopoikilosis, Isolated   \n",
       "2           16773  gene_protein                                        TCAP   \n",
       "3           17685  gene_protein                                       GPR52   \n",
       "4            9996  gene_protein                                       HERC5   \n",
       "...           ...           ...                                         ...   \n",
       "20851        5377  gene_protein                                       PANX1   \n",
       "20852       22935       disease  Congenital glucose-galactose malabsorption   \n",
       "20853         782  gene_protein                                      AGPAT1   \n",
       "20854       33412       disease              Spinocerebellar ataxia type 40   \n",
       "20855       25868       disease                        Budd-Chiari Syndrome   \n",
       "\n",
       "        node_id node_source  \n",
       "0          2831    disgenet  \n",
       "1      C1833699    disgenet  \n",
       "2          8557    disgenet  \n",
       "3          9293    disgenet  \n",
       "4         51191    disgenet  \n",
       "...         ...         ...  \n",
       "20851     24145    disgenet  \n",
       "20852  C0268186    disgenet  \n",
       "20853     10554    disgenet  \n",
       "20854  C4518336    disgenet  \n",
       "20855  C0856761    disgenet  \n",
       "\n",
       "[20856 rows x 5 columns]"
      ]
     },
     "execution_count": 8,
     "metadata": {},
     "output_type": "execute_result"
    }
   ],
   "source": [
    "nodos_gda"
   ]
  },
  {
   "cell_type": "code",
   "execution_count": 9,
   "metadata": {},
   "outputs": [],
   "source": [
    "conjuntos_enfermedad = {}\n",
    "nodos_enfermedad = nodos_gda.loc[nodos_gda.node_type == \"disease\", \"node_index\"].values\n",
    "\n",
    "for enfermedad in nodos_enfermedad:\n",
    "    vecinos = list(G.neighbors(enfermedad))\n",
    "    conjuntos_enfermedad[enfermedad] = set(vecinos)"
   ]
  },
  {
   "cell_type": "code",
   "execution_count": 12,
   "metadata": {},
   "outputs": [],
   "source": [
    "matrix_jaccard = np.zeros((len(nodos_enfermedad), len(nodos_enfermedad)))\n",
    "indices = np.triu_indices_from(matrix_jaccard, 1)"
   ]
  },
  {
   "cell_type": "code",
   "execution_count": 25,
   "metadata": {},
   "outputs": [],
   "source": [
    "for i,j in zip(indices[0],indices[1]):\n",
    "    nodo_i = nodos_enfermedad[i]\n",
    "    nodo_j = nodos_enfermedad[j]\n",
    "    conjunto_i = conjuntos_enfermedad[nodo_i]\n",
    "    conjunto_j = conjuntos_enfermedad[nodo_j]\n",
    "    coef = jaccard(conjunto_i, conjunto_j)\n",
    "    matrix_jaccard[i,j] = coef"
   ]
  }
 ],
 "metadata": {
  "kernelspec": {
   "display_name": "Python 3.10.6 64-bit",
   "language": "python",
   "name": "python3"
  },
  "language_info": {
   "codemirror_mode": {
    "name": "ipython",
    "version": 3
   },
   "file_extension": ".py",
   "mimetype": "text/x-python",
   "name": "python",
   "nbconvert_exporter": "python",
   "pygments_lexer": "ipython3",
   "version": "3.10.6"
  },
  "orig_nbformat": 4,
  "vscode": {
   "interpreter": {
    "hash": "916dbcbb3f70747c44a77c7bcd40155683ae19c65e1c03b4aa3499c5328201f1"
   }
  }
 },
 "nbformat": 4,
 "nbformat_minor": 2
}
