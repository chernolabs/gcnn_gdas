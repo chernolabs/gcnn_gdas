{
 "cells": [
  {
   "cell_type": "markdown",
   "metadata": {},
   "source": [
    "# Setup"
   ]
  },
  {
   "cell_type": "code",
   "execution_count": 1,
   "metadata": {},
   "outputs": [],
   "source": [
    "import pandas as pd\n",
    "import numpy as np\n",
    "import seaborn as sns\n",
    "import matplotlib.pyplot as plt\n",
    "import plotly.express as px\n",
    "import random\n",
    "import plotly.io as pio\n",
    "\n",
    "import networkx as nx"
   ]
  },
  {
   "cell_type": "code",
   "execution_count": 2,
   "metadata": {},
   "outputs": [],
   "source": [
    "seed = 16\n",
    "random.seed(seed)\n",
    "np.random.seed(seed)\n",
    "\n",
    "#esto es para forzar a plt a poner fondos blancos en las figuras aunque el tema del notebook sea oscuro\n",
    "#plt.rcParams['axes.facecolor'] = 'white'\n",
    "#plt.rcParams['figure.facecolor'] = 'white'\n",
    "cmap = plt.get_cmap(\"tab10\")\n",
    "pio.templates.default = \"seaborn\"\n",
    "\n",
    "sns.set_style(\"darkgrid\", rc={'xtick.bottom': True})"
   ]
  },
  {
   "cell_type": "code",
   "execution_count": 3,
   "metadata": {},
   "outputs": [],
   "source": [
    "data_processed = \"../../../data/processed/\"\n",
    "data_interim = \"../../../data/interim/\"\n",
    "data_external = \"../../../data/external/\"\n",
    "graph_data = data_processed + \"graph_data_nohubs/\"\n",
    "reports_comunidades = \"../../../reports/reports_nohubs/analisis_comunidades/\"\n",
    "reports_genes = \"../../../reports/reports_nohubs/analisis_red_genes/\""
   ]
  },
  {
   "cell_type": "code",
   "execution_count": 4,
   "metadata": {},
   "outputs": [],
   "source": [
    "graph_node_data = pd.read_csv(graph_data+\"nohub_graph_node_data.csv\")\n",
    "infomap_results = pd.read_csv(reports_genes+\"infomap_gene_sim.csv\")\n",
    "louvain_results = pd.read_csv(reports_genes+\"louvain_gene_sim.csv\")\n",
    "\n",
    "infomap_degree = pd.read_csv(reports_comunidades+\"grado_gda_infomap.csv\")\n",
    "louvain_degree = pd.read_csv(reports_comunidades+\"grado_gda_louvain.csv\")"
   ]
  },
  {
   "cell_type": "code",
   "execution_count": 17,
   "metadata": {},
   "outputs": [
    {
     "data": {
      "text/html": [
       "<div>\n",
       "<style scoped>\n",
       "    .dataframe tbody tr th:only-of-type {\n",
       "        vertical-align: middle;\n",
       "    }\n",
       "\n",
       "    .dataframe tbody tr th {\n",
       "        vertical-align: top;\n",
       "    }\n",
       "\n",
       "    .dataframe thead th {\n",
       "        text-align: right;\n",
       "    }\n",
       "</style>\n",
       "<table border=\"1\" class=\"dataframe\">\n",
       "  <thead>\n",
       "    <tr style=\"text-align: right;\">\n",
       "      <th></th>\n",
       "      <th>comunidad</th>\n",
       "      <th>tamaño</th>\n",
       "      <th>fraccion_gda</th>\n",
       "      <th>grado_gda_medio</th>\n",
       "      <th>max_grado_gda</th>\n",
       "      <th>mean_sim_jaccard_1</th>\n",
       "      <th>mean_sim_overlap_1</th>\n",
       "      <th>mean_sim_jaccard_3</th>\n",
       "      <th>mean_sim_overlap_3</th>\n",
       "    </tr>\n",
       "  </thead>\n",
       "  <tbody>\n",
       "    <tr>\n",
       "      <th>0</th>\n",
       "      <td>382</td>\n",
       "      <td>82</td>\n",
       "      <td>0.79</td>\n",
       "      <td>1.74</td>\n",
       "      <td>12.0</td>\n",
       "      <td>0.01</td>\n",
       "      <td>0.04</td>\n",
       "      <td>0.02</td>\n",
       "      <td>0.07</td>\n",
       "    </tr>\n",
       "    <tr>\n",
       "      <th>1</th>\n",
       "      <td>184</td>\n",
       "      <td>74</td>\n",
       "      <td>0.99</td>\n",
       "      <td>1.75</td>\n",
       "      <td>24.0</td>\n",
       "      <td>0.00</td>\n",
       "      <td>0.01</td>\n",
       "      <td>0.03</td>\n",
       "      <td>0.12</td>\n",
       "    </tr>\n",
       "    <tr>\n",
       "      <th>2</th>\n",
       "      <td>332</td>\n",
       "      <td>74</td>\n",
       "      <td>0.93</td>\n",
       "      <td>2.54</td>\n",
       "      <td>104.0</td>\n",
       "      <td>0.00</td>\n",
       "      <td>0.03</td>\n",
       "      <td>0.12</td>\n",
       "      <td>0.35</td>\n",
       "    </tr>\n",
       "    <tr>\n",
       "      <th>3</th>\n",
       "      <td>353</td>\n",
       "      <td>71</td>\n",
       "      <td>0.75</td>\n",
       "      <td>3.26</td>\n",
       "      <td>37.0</td>\n",
       "      <td>0.02</td>\n",
       "      <td>0.12</td>\n",
       "      <td>0.09</td>\n",
       "      <td>0.34</td>\n",
       "    </tr>\n",
       "    <tr>\n",
       "      <th>4</th>\n",
       "      <td>379</td>\n",
       "      <td>68</td>\n",
       "      <td>0.97</td>\n",
       "      <td>1.21</td>\n",
       "      <td>14.0</td>\n",
       "      <td>0.00</td>\n",
       "      <td>0.01</td>\n",
       "      <td>0.01</td>\n",
       "      <td>0.03</td>\n",
       "    </tr>\n",
       "    <tr>\n",
       "      <th>...</th>\n",
       "      <td>...</td>\n",
       "      <td>...</td>\n",
       "      <td>...</td>\n",
       "      <td>...</td>\n",
       "      <td>...</td>\n",
       "      <td>...</td>\n",
       "      <td>...</td>\n",
       "      <td>...</td>\n",
       "      <td>...</td>\n",
       "    </tr>\n",
       "    <tr>\n",
       "      <th>1143</th>\n",
       "      <td>1091</td>\n",
       "      <td>2</td>\n",
       "      <td>0.50</td>\n",
       "      <td>4.00</td>\n",
       "      <td>4.0</td>\n",
       "      <td>NaN</td>\n",
       "      <td>NaN</td>\n",
       "      <td>NaN</td>\n",
       "      <td>NaN</td>\n",
       "    </tr>\n",
       "    <tr>\n",
       "      <th>1144</th>\n",
       "      <td>891</td>\n",
       "      <td>2</td>\n",
       "      <td>1.00</td>\n",
       "      <td>3.00</td>\n",
       "      <td>4.0</td>\n",
       "      <td>0.00</td>\n",
       "      <td>0.00</td>\n",
       "      <td>0.02</td>\n",
       "      <td>0.15</td>\n",
       "    </tr>\n",
       "    <tr>\n",
       "      <th>1145</th>\n",
       "      <td>1140</td>\n",
       "      <td>2</td>\n",
       "      <td>1.00</td>\n",
       "      <td>1.00</td>\n",
       "      <td>1.0</td>\n",
       "      <td>1.00</td>\n",
       "      <td>1.00</td>\n",
       "      <td>1.00</td>\n",
       "      <td>1.00</td>\n",
       "    </tr>\n",
       "    <tr>\n",
       "      <th>1146</th>\n",
       "      <td>889</td>\n",
       "      <td>2</td>\n",
       "      <td>0.50</td>\n",
       "      <td>6.00</td>\n",
       "      <td>6.0</td>\n",
       "      <td>NaN</td>\n",
       "      <td>NaN</td>\n",
       "      <td>NaN</td>\n",
       "      <td>NaN</td>\n",
       "    </tr>\n",
       "    <tr>\n",
       "      <th>1147</th>\n",
       "      <td>486</td>\n",
       "      <td>2</td>\n",
       "      <td>0.00</td>\n",
       "      <td>0.00</td>\n",
       "      <td>0.0</td>\n",
       "      <td>NaN</td>\n",
       "      <td>NaN</td>\n",
       "      <td>NaN</td>\n",
       "      <td>NaN</td>\n",
       "    </tr>\n",
       "  </tbody>\n",
       "</table>\n",
       "<p>1148 rows × 9 columns</p>\n",
       "</div>"
      ],
      "text/plain": [
       "      comunidad  tamaño  fraccion_gda  grado_gda_medio  max_grado_gda  \\\n",
       "0           382      82          0.79             1.74           12.0   \n",
       "1           184      74          0.99             1.75           24.0   \n",
       "2           332      74          0.93             2.54          104.0   \n",
       "3           353      71          0.75             3.26           37.0   \n",
       "4           379      68          0.97             1.21           14.0   \n",
       "...         ...     ...           ...              ...            ...   \n",
       "1143       1091       2          0.50             4.00            4.0   \n",
       "1144        891       2          1.00             3.00            4.0   \n",
       "1145       1140       2          1.00             1.00            1.0   \n",
       "1146        889       2          0.50             6.00            6.0   \n",
       "1147        486       2          0.00             0.00            0.0   \n",
       "\n",
       "      mean_sim_jaccard_1  mean_sim_overlap_1  mean_sim_jaccard_3  \\\n",
       "0                   0.01                0.04                0.02   \n",
       "1                   0.00                0.01                0.03   \n",
       "2                   0.00                0.03                0.12   \n",
       "3                   0.02                0.12                0.09   \n",
       "4                   0.00                0.01                0.01   \n",
       "...                  ...                 ...                 ...   \n",
       "1143                 NaN                 NaN                 NaN   \n",
       "1144                0.00                0.00                0.02   \n",
       "1145                1.00                1.00                1.00   \n",
       "1146                 NaN                 NaN                 NaN   \n",
       "1147                 NaN                 NaN                 NaN   \n",
       "\n",
       "      mean_sim_overlap_3  \n",
       "0                   0.07  \n",
       "1                   0.12  \n",
       "2                   0.35  \n",
       "3                   0.34  \n",
       "4                   0.03  \n",
       "...                  ...  \n",
       "1143                 NaN  \n",
       "1144                0.15  \n",
       "1145                1.00  \n",
       "1146                 NaN  \n",
       "1147                 NaN  \n",
       "\n",
       "[1148 rows x 9 columns]"
      ]
     },
     "execution_count": 17,
     "metadata": {},
     "output_type": "execute_result"
    }
   ],
   "source": [
    "infomap_data = infomap_degree.merge(infomap_results, right_on=\"comunidades_infomap\",left_on=\"comunidad\").drop(columns=\"comunidades_infomap\")\n",
    "infomap_data"
   ]
  },
  {
   "cell_type": "code",
   "execution_count": 15,
   "metadata": {},
   "outputs": [
    {
     "data": {
      "text/html": [
       "<div>\n",
       "<style scoped>\n",
       "    .dataframe tbody tr th:only-of-type {\n",
       "        vertical-align: middle;\n",
       "    }\n",
       "\n",
       "    .dataframe tbody tr th {\n",
       "        vertical-align: top;\n",
       "    }\n",
       "\n",
       "    .dataframe thead th {\n",
       "        text-align: right;\n",
       "    }\n",
       "</style>\n",
       "<table border=\"1\" class=\"dataframe\">\n",
       "  <thead>\n",
       "    <tr style=\"text-align: right;\">\n",
       "      <th></th>\n",
       "      <th>comunidad</th>\n",
       "      <th>tamaño</th>\n",
       "      <th>fraccion_gda</th>\n",
       "      <th>grado_gda_medio</th>\n",
       "      <th>max_grado_gda</th>\n",
       "      <th>mean_sim_jaccard_1</th>\n",
       "      <th>mean_sim_overlap_1</th>\n",
       "      <th>mean_sim_jaccard_3</th>\n",
       "      <th>mean_sim_overlap_3</th>\n",
       "    </tr>\n",
       "  </thead>\n",
       "  <tbody>\n",
       "    <tr>\n",
       "      <th>0</th>\n",
       "      <td>3</td>\n",
       "      <td>702</td>\n",
       "      <td>0.33</td>\n",
       "      <td>41.15</td>\n",
       "      <td>1074.0</td>\n",
       "      <td>0.01</td>\n",
       "      <td>0.09</td>\n",
       "      <td>0.11</td>\n",
       "      <td>0.47</td>\n",
       "    </tr>\n",
       "    <tr>\n",
       "      <th>1</th>\n",
       "      <td>18</td>\n",
       "      <td>369</td>\n",
       "      <td>0.62</td>\n",
       "      <td>4.12</td>\n",
       "      <td>75.0</td>\n",
       "      <td>0.01</td>\n",
       "      <td>0.02</td>\n",
       "      <td>0.02</td>\n",
       "      <td>0.08</td>\n",
       "    </tr>\n",
       "    <tr>\n",
       "      <th>2</th>\n",
       "      <td>16</td>\n",
       "      <td>333</td>\n",
       "      <td>0.37</td>\n",
       "      <td>7.38</td>\n",
       "      <td>110.0</td>\n",
       "      <td>0.01</td>\n",
       "      <td>0.02</td>\n",
       "      <td>0.05</td>\n",
       "      <td>0.25</td>\n",
       "    </tr>\n",
       "    <tr>\n",
       "      <th>3</th>\n",
       "      <td>33</td>\n",
       "      <td>304</td>\n",
       "      <td>0.23</td>\n",
       "      <td>3.58</td>\n",
       "      <td>52.0</td>\n",
       "      <td>0.01</td>\n",
       "      <td>0.03</td>\n",
       "      <td>0.06</td>\n",
       "      <td>0.21</td>\n",
       "    </tr>\n",
       "    <tr>\n",
       "      <th>4</th>\n",
       "      <td>14</td>\n",
       "      <td>304</td>\n",
       "      <td>0.63</td>\n",
       "      <td>4.35</td>\n",
       "      <td>205.0</td>\n",
       "      <td>0.01</td>\n",
       "      <td>0.02</td>\n",
       "      <td>0.02</td>\n",
       "      <td>0.10</td>\n",
       "    </tr>\n",
       "    <tr>\n",
       "      <th>...</th>\n",
       "      <td>...</td>\n",
       "      <td>...</td>\n",
       "      <td>...</td>\n",
       "      <td>...</td>\n",
       "      <td>...</td>\n",
       "      <td>...</td>\n",
       "      <td>...</td>\n",
       "      <td>...</td>\n",
       "      <td>...</td>\n",
       "    </tr>\n",
       "    <tr>\n",
       "      <th>289</th>\n",
       "      <td>262</td>\n",
       "      <td>2</td>\n",
       "      <td>0.50</td>\n",
       "      <td>1.00</td>\n",
       "      <td>1.0</td>\n",
       "      <td>NaN</td>\n",
       "      <td>NaN</td>\n",
       "      <td>NaN</td>\n",
       "      <td>NaN</td>\n",
       "    </tr>\n",
       "    <tr>\n",
       "      <th>290</th>\n",
       "      <td>264</td>\n",
       "      <td>2</td>\n",
       "      <td>1.00</td>\n",
       "      <td>1.00</td>\n",
       "      <td>1.0</td>\n",
       "      <td>0.00</td>\n",
       "      <td>0.00</td>\n",
       "      <td>0.05</td>\n",
       "      <td>0.27</td>\n",
       "    </tr>\n",
       "    <tr>\n",
       "      <th>291</th>\n",
       "      <td>265</td>\n",
       "      <td>2</td>\n",
       "      <td>0.50</td>\n",
       "      <td>8.00</td>\n",
       "      <td>8.0</td>\n",
       "      <td>NaN</td>\n",
       "      <td>NaN</td>\n",
       "      <td>NaN</td>\n",
       "      <td>NaN</td>\n",
       "    </tr>\n",
       "    <tr>\n",
       "      <th>292</th>\n",
       "      <td>266</td>\n",
       "      <td>2</td>\n",
       "      <td>1.00</td>\n",
       "      <td>2.50</td>\n",
       "      <td>4.0</td>\n",
       "      <td>0.00</td>\n",
       "      <td>0.00</td>\n",
       "      <td>0.00</td>\n",
       "      <td>0.08</td>\n",
       "    </tr>\n",
       "    <tr>\n",
       "      <th>293</th>\n",
       "      <td>148</td>\n",
       "      <td>2</td>\n",
       "      <td>1.00</td>\n",
       "      <td>1.00</td>\n",
       "      <td>1.0</td>\n",
       "      <td>1.00</td>\n",
       "      <td>1.00</td>\n",
       "      <td>1.00</td>\n",
       "      <td>1.00</td>\n",
       "    </tr>\n",
       "  </tbody>\n",
       "</table>\n",
       "<p>294 rows × 9 columns</p>\n",
       "</div>"
      ],
      "text/plain": [
       "     comunidad  tamaño  fraccion_gda  grado_gda_medio  max_grado_gda  \\\n",
       "0            3     702          0.33            41.15         1074.0   \n",
       "1           18     369          0.62             4.12           75.0   \n",
       "2           16     333          0.37             7.38          110.0   \n",
       "3           33     304          0.23             3.58           52.0   \n",
       "4           14     304          0.63             4.35          205.0   \n",
       "..         ...     ...           ...              ...            ...   \n",
       "289        262       2          0.50             1.00            1.0   \n",
       "290        264       2          1.00             1.00            1.0   \n",
       "291        265       2          0.50             8.00            8.0   \n",
       "292        266       2          1.00             2.50            4.0   \n",
       "293        148       2          1.00             1.00            1.0   \n",
       "\n",
       "     mean_sim_jaccard_1  mean_sim_overlap_1  mean_sim_jaccard_3  \\\n",
       "0                  0.01                0.09                0.11   \n",
       "1                  0.01                0.02                0.02   \n",
       "2                  0.01                0.02                0.05   \n",
       "3                  0.01                0.03                0.06   \n",
       "4                  0.01                0.02                0.02   \n",
       "..                  ...                 ...                 ...   \n",
       "289                 NaN                 NaN                 NaN   \n",
       "290                0.00                0.00                0.05   \n",
       "291                 NaN                 NaN                 NaN   \n",
       "292                0.00                0.00                0.00   \n",
       "293                1.00                1.00                1.00   \n",
       "\n",
       "     mean_sim_overlap_3  \n",
       "0                  0.47  \n",
       "1                  0.08  \n",
       "2                  0.25  \n",
       "3                  0.21  \n",
       "4                  0.10  \n",
       "..                  ...  \n",
       "289                 NaN  \n",
       "290                0.27  \n",
       "291                 NaN  \n",
       "292                0.08  \n",
       "293                1.00  \n",
       "\n",
       "[294 rows x 9 columns]"
      ]
     },
     "execution_count": 15,
     "metadata": {},
     "output_type": "execute_result"
    }
   ],
   "source": [
    "louvain_data = louvain_degree.merge(louvain_results, right_on=\"comunidades_louvain\",left_on=\"comunidad\").drop(columns=\"comunidades_louvain\")\n",
    "louvain_data"
   ]
  },
  {
   "cell_type": "markdown",
   "metadata": {},
   "source": [
    "# Jaccard de genes compartidos"
   ]
  },
  {
   "cell_type": "markdown",
   "metadata": {},
   "source": [
    "Ver para clusters asociados con cancer. Ver para casos no nulos (dirección inversa)."
   ]
  },
  {
   "cell_type": "code",
   "execution_count": 19,
   "metadata": {},
   "outputs": [
    {
     "data": {
      "text/plain": [
       "Text(0.5, 1.0, 'Louvain')"
      ]
     },
     "execution_count": 19,
     "metadata": {},
     "output_type": "execute_result"
    },
    {
     "data": {
      "image/png": "[encoded data removed]",
      "text/plain": [
       "<Figure size 1296x432 with 2 Axes>"
      ]
     },
     "metadata": {},
     "output_type": "display_data"
    }
   ],
   "source": [
    "fig, ax = plt.subplots(1,2,figsize=(18,6))\n",
    "fig.suptitle(f\"Similaridad media entre nodos de clusters - Overlap\")\n",
    "\n",
    "sns.histplot(data=infomap_data[\"mean_sim_overlap_3\"], ax=ax[0], bins=np.linspace(0,1,20))\n",
    "ax[0].set_xlabel(\"Similaridad media\")\n",
    "ax[0].set_title(\"Infomap\")\n",
    "\n",
    "sns.histplot(data=louvain_data[\"mean_sim_overlap_3\"], ax=ax[1],bins=np.linspace(0,1,20))\n",
    "ax[1].set_xlabel(\"Similaridad media\")\n",
    "ax[1].set_title(\"Louvain\")"
   ]
  },
  {
   "cell_type": "code",
   "execution_count": 20,
   "metadata": {},
   "outputs": [
    {
     "data": {
      "text/plain": [
       "Text(0.5, 1.0, 'Louvain')"
      ]
     },
     "execution_count": 20,
     "metadata": {},
     "output_type": "execute_result"
    },
    {
     "data": {
      "image/png": "[encoded data removed]",
      "text/plain": [
       "<Figure size 1296x432 with 2 Axes>"
      ]
     },
     "metadata": {},
     "output_type": "display_data"
    }
   ],
   "source": [
    "fig, ax = plt.subplots(1,2,figsize=(18,6))\n",
    "fig.suptitle(f\"Similaridad media entre nodos de clusters - Jaccard\")\n",
    "\n",
    "sns.histplot(data=infomap_data[\"mean_sim_jaccard_3\"], ax=ax[0], bins=np.linspace(0,1,20))\n",
    "ax[0].set_xlabel(\"Similaridad media\")\n",
    "ax[0].set_title(\"Infomap\")\n",
    "\n",
    "sns.histplot(data=louvain_data[\"mean_sim_jaccard_3\"], ax=ax[1],bins=np.linspace(0,1,20))\n",
    "ax[1].set_xlabel(\"Similaridad media\")\n",
    "ax[1].set_title(\"Louvain\")"
   ]
  },
  {
   "cell_type": "markdown",
   "metadata": {},
   "source": [
    "# Supergrafico"
   ]
  },
  {
   "cell_type": "code",
   "execution_count": 21,
   "metadata": {},
   "outputs": [
    {
     "data": {
      "text/plain": [
       "Index(['comunidad', 'tamaño', 'fraccion_gda', 'grado_gda_medio',\n",
       "       'max_grado_gda', 'mean_sim_jaccard_1', 'mean_sim_overlap_1',\n",
       "       'mean_sim_jaccard_3', 'mean_sim_overlap_3'],\n",
       "      dtype='object')"
      ]
     },
     "execution_count": 21,
     "metadata": {},
     "output_type": "execute_result"
    }
   ],
   "source": [
    "infomap_data.columns"
   ]
  },
  {
   "cell_type": "code",
   "execution_count": 33,
   "metadata": {},
   "outputs": [],
   "source": [
    "case_dict = {1:\"Genes\",3:\"Primeros vecinos\"}\n",
    "\n",
    "def supergrafico(df,metric,i,titulo):\n",
    "    meansim_col = f\"mean_sim_{metric}_{i}\"\n",
    "    frac_col = \"fraccion_gda\"\n",
    "    size_col = \"tamaño\"\n",
    "    fig = px.scatter(df, x=size_col, y=meansim_col,width=1000, height=600, title=f\"Fracción GDA vs similaridad media vs tamaño - {titulo}\",marginal_x=\"histogram\",marginal_y=\"histogram\",range_y=[0,1])\n",
    "    fig.update_layout(xaxis_title=\"Tamaño\", yaxis_title=f\"Similaridad media - {case_dict[i]}\")\n",
    "\n",
    "    fig.show()"
   ]
  },
  {
   "cell_type": "markdown",
   "metadata": {},
   "source": [
    "# Veo clusters específicos"
   ]
  },
  {
   "cell_type": "code",
   "execution_count": 50,
   "metadata": {},
   "outputs": [],
   "source": [
    "cols = [\"comunidad\",\"tamaño\",\"mean_sim_lsa_0\",\"entropia_0\",\"top_monogram\",\"top_5_monogram\",\"top_monogram_score\",\"top_5_monogram_score\",\"top_trigram\",\"top_bigram\"]\n",
    "infomap_summary = pd.read_pickle(\"../../../reports/reports_nohubs/infomap_summary.pkl\")[cols]\n",
    "louvain_summary = pd.read_pickle(\"../../../reports/reports_nohubs/louvain_summary.pkl\")[cols]"
   ]
  },
  {
   "cell_type": "code",
   "execution_count": 51,
   "metadata": {},
   "outputs": [
    {
     "data": {
      "text/html": [
       "<div>\n",
       "<style scoped>\n",
       "    .dataframe tbody tr th:only-of-type {\n",
       "        vertical-align: middle;\n",
       "    }\n",
       "\n",
       "    .dataframe tbody tr th {\n",
       "        vertical-align: top;\n",
       "    }\n",
       "\n",
       "    .dataframe thead th {\n",
       "        text-align: right;\n",
       "    }\n",
       "</style>\n",
       "<table border=\"1\" class=\"dataframe\">\n",
       "  <thead>\n",
       "    <tr style=\"text-align: right;\">\n",
       "      <th></th>\n",
       "      <th>comunidad</th>\n",
       "      <th>tamaño</th>\n",
       "      <th>mean_sim_lsa_0</th>\n",
       "      <th>entropia_0</th>\n",
       "      <th>top_monogram</th>\n",
       "      <th>top_5_monogram</th>\n",
       "      <th>top_monogram_score</th>\n",
       "      <th>top_5_monogram_score</th>\n",
       "      <th>top_trigram</th>\n",
       "      <th>top_bigram</th>\n",
       "    </tr>\n",
       "  </thead>\n",
       "  <tbody>\n",
       "    <tr>\n",
       "      <th>180</th>\n",
       "      <td>242</td>\n",
       "      <td>17</td>\n",
       "      <td>0.19</td>\n",
       "      <td>0.61</td>\n",
       "      <td>melanoma</td>\n",
       "      <td>[melanoma, tumor, cancer, predisposition, heal]</td>\n",
       "      <td>0.29</td>\n",
       "      <td>[0.29, 0.25, 0.23, 0.23, 0.23]</td>\n",
       "      <td>multiple_self_heal</td>\n",
       "      <td>self_heal</td>\n",
       "    </tr>\n",
       "    <tr>\n",
       "      <th>230</th>\n",
       "      <td>15</td>\n",
       "      <td>15</td>\n",
       "      <td>0.68</td>\n",
       "      <td>0.44</td>\n",
       "      <td>breast</td>\n",
       "      <td>[breast, carcinoma, cancer, tumor, brca1]</td>\n",
       "      <td>0.79</td>\n",
       "      <td>[0.79, 0.36, 0.19, 0.14, 0.14]</td>\n",
       "      <td>breast_ovarian_cancer</td>\n",
       "      <td>breast_carcinoma</td>\n",
       "    </tr>\n",
       "    <tr>\n",
       "      <th>242</th>\n",
       "      <td>5</td>\n",
       "      <td>15</td>\n",
       "      <td>0.77</td>\n",
       "      <td>0.35</td>\n",
       "      <td>prostate</td>\n",
       "      <td>[prostate, carcinoma, cancer, familial, heredi...</td>\n",
       "      <td>0.89</td>\n",
       "      <td>[0.89, 0.23, 0.22, 0.12, 0.11]</td>\n",
       "      <td>cancer_cause_mutation</td>\n",
       "      <td>prostate_cancer</td>\n",
       "    </tr>\n",
       "    <tr>\n",
       "      <th>381</th>\n",
       "      <td>104</td>\n",
       "      <td>11</td>\n",
       "      <td>0.24</td>\n",
       "      <td>0.50</td>\n",
       "      <td>vulva</td>\n",
       "      <td>[vulva, vulvar, li, melanoma, cancer]</td>\n",
       "      <td>0.66</td>\n",
       "      <td>[0.66, 0.54, 0.17, 0.17, 0.12]</td>\n",
       "      <td>unknown_etiology_affect</td>\n",
       "      <td>affect_vulva</td>\n",
       "    </tr>\n",
       "    <tr>\n",
       "      <th>429</th>\n",
       "      <td>28</td>\n",
       "      <td>10</td>\n",
       "      <td>0.50</td>\n",
       "      <td>0.46</td>\n",
       "      <td>bladder</td>\n",
       "      <td>[bladder, carcinoma, squamous, urinary, cancer]</td>\n",
       "      <td>0.82</td>\n",
       "      <td>[0.82, 0.36, 0.13, 0.11, 0.11]</td>\n",
       "      <td>squamous_cell_carcinoma</td>\n",
       "      <td>cell_carcinoma</td>\n",
       "    </tr>\n",
       "    <tr>\n",
       "      <th>503</th>\n",
       "      <td>628</td>\n",
       "      <td>9</td>\n",
       "      <td>0.78</td>\n",
       "      <td>0.44</td>\n",
       "      <td>colorectal</td>\n",
       "      <td>[colorectal, cancer, nonpolyposis, carcinoma, ...</td>\n",
       "      <td>0.42</td>\n",
       "      <td>[0.42, 0.4, 0.33, 0.31, 0.26]</td>\n",
       "      <td>hereditary_nonpolyposis_colon</td>\n",
       "      <td>hereditary_nonpolyposis</td>\n",
       "    </tr>\n",
       "    <tr>\n",
       "      <th>537</th>\n",
       "      <td>516</td>\n",
       "      <td>9</td>\n",
       "      <td>0.96</td>\n",
       "      <td>0.22</td>\n",
       "      <td>ovarian</td>\n",
       "      <td>[ovarian, breast, cancer, susceptibility, fami...</td>\n",
       "      <td>0.59</td>\n",
       "      <td>[0.59, 0.54, 0.39, 0.27, 0.21]</td>\n",
       "      <td>breast_ovarian_cancer</td>\n",
       "      <td>breast_ovarian</td>\n",
       "    </tr>\n",
       "    <tr>\n",
       "      <th>680</th>\n",
       "      <td>93</td>\n",
       "      <td>7</td>\n",
       "      <td>0.33</td>\n",
       "      <td>0.44</td>\n",
       "      <td>peritoneal</td>\n",
       "      <td>[peritoneal, leiomyoma, cancer, smooth, benign]</td>\n",
       "      <td>0.47</td>\n",
       "      <td>[0.47, 0.32, 0.27, 0.24, 0.24]</td>\n",
       "      <td>smooth_muscle_cell</td>\n",
       "      <td>cell_cancer</td>\n",
       "    </tr>\n",
       "    <tr>\n",
       "      <th>780</th>\n",
       "      <td>836</td>\n",
       "      <td>6</td>\n",
       "      <td>0.99</td>\n",
       "      <td>0.20</td>\n",
       "      <td>nonpolyposis</td>\n",
       "      <td>[nonpolyposis, colorectal, hereditary, cancer,...</td>\n",
       "      <td>0.79</td>\n",
       "      <td>[0.79, 0.33, 0.31, 0.29, 0.25]</td>\n",
       "      <td>cancer_hereditary_nonpolyposis</td>\n",
       "      <td>hereditary_nonpolyposis</td>\n",
       "    </tr>\n",
       "    <tr>\n",
       "      <th>798</th>\n",
       "      <td>627</td>\n",
       "      <td>5</td>\n",
       "      <td>0.98</td>\n",
       "      <td>0.13</td>\n",
       "      <td>colorectal</td>\n",
       "      <td>[colorectal, cancer, susceptibility, pole, pap...</td>\n",
       "      <td>0.85</td>\n",
       "      <td>[0.85, 0.41, 0.3, 0.1, 0.0]</td>\n",
       "      <td>cancer_cause_mutation</td>\n",
       "      <td>colorectal_cancer</td>\n",
       "    </tr>\n",
       "    <tr>\n",
       "      <th>881</th>\n",
       "      <td>1113</td>\n",
       "      <td>5</td>\n",
       "      <td>0.94</td>\n",
       "      <td>0.19</td>\n",
       "      <td>pancreatic</td>\n",
       "      <td>[pancreatic, susceptibility, cancer, carcinoma...</td>\n",
       "      <td>0.82</td>\n",
       "      <td>[0.82, 0.35, 0.26, 0.25, 0.21]</td>\n",
       "      <td>11p15_pepstatin_insensitive</td>\n",
       "      <td>pancreatic_cancer</td>\n",
       "    </tr>\n",
       "  </tbody>\n",
       "</table>\n",
       "</div>"
      ],
      "text/plain": [
       "     comunidad  tamaño  mean_sim_lsa_0  entropia_0  top_monogram  \\\n",
       "180        242      17            0.19        0.61      melanoma   \n",
       "230         15      15            0.68        0.44        breast   \n",
       "242          5      15            0.77        0.35      prostate   \n",
       "381        104      11            0.24        0.50         vulva   \n",
       "429         28      10            0.50        0.46       bladder   \n",
       "503        628       9            0.78        0.44    colorectal   \n",
       "537        516       9            0.96        0.22       ovarian   \n",
       "680         93       7            0.33        0.44    peritoneal   \n",
       "780        836       6            0.99        0.20  nonpolyposis   \n",
       "798        627       5            0.98        0.13    colorectal   \n",
       "881       1113       5            0.94        0.19    pancreatic   \n",
       "\n",
       "                                        top_5_monogram top_monogram_score  \\\n",
       "180    [melanoma, tumor, cancer, predisposition, heal]               0.29   \n",
       "230          [breast, carcinoma, cancer, tumor, brca1]               0.79   \n",
       "242  [prostate, carcinoma, cancer, familial, heredi...               0.89   \n",
       "381              [vulva, vulvar, li, melanoma, cancer]               0.66   \n",
       "429    [bladder, carcinoma, squamous, urinary, cancer]               0.82   \n",
       "503  [colorectal, cancer, nonpolyposis, carcinoma, ...               0.42   \n",
       "537  [ovarian, breast, cancer, susceptibility, fami...               0.59   \n",
       "680    [peritoneal, leiomyoma, cancer, smooth, benign]               0.47   \n",
       "780  [nonpolyposis, colorectal, hereditary, cancer,...               0.79   \n",
       "798  [colorectal, cancer, susceptibility, pole, pap...               0.85   \n",
       "881  [pancreatic, susceptibility, cancer, carcinoma...               0.82   \n",
       "\n",
       "               top_5_monogram_score                     top_trigram  \\\n",
       "180  [0.29, 0.25, 0.23, 0.23, 0.23]              multiple_self_heal   \n",
       "230  [0.79, 0.36, 0.19, 0.14, 0.14]           breast_ovarian_cancer   \n",
       "242  [0.89, 0.23, 0.22, 0.12, 0.11]           cancer_cause_mutation   \n",
       "381  [0.66, 0.54, 0.17, 0.17, 0.12]         unknown_etiology_affect   \n",
       "429  [0.82, 0.36, 0.13, 0.11, 0.11]         squamous_cell_carcinoma   \n",
       "503   [0.42, 0.4, 0.33, 0.31, 0.26]   hereditary_nonpolyposis_colon   \n",
       "537  [0.59, 0.54, 0.39, 0.27, 0.21]           breast_ovarian_cancer   \n",
       "680  [0.47, 0.32, 0.27, 0.24, 0.24]              smooth_muscle_cell   \n",
       "780  [0.79, 0.33, 0.31, 0.29, 0.25]  cancer_hereditary_nonpolyposis   \n",
       "798     [0.85, 0.41, 0.3, 0.1, 0.0]           cancer_cause_mutation   \n",
       "881  [0.82, 0.35, 0.26, 0.25, 0.21]     11p15_pepstatin_insensitive   \n",
       "\n",
       "                  top_bigram  \n",
       "180                self_heal  \n",
       "230         breast_carcinoma  \n",
       "242          prostate_cancer  \n",
       "381             affect_vulva  \n",
       "429           cell_carcinoma  \n",
       "503  hereditary_nonpolyposis  \n",
       "537           breast_ovarian  \n",
       "680              cell_cancer  \n",
       "780  hereditary_nonpolyposis  \n",
       "798        colorectal_cancer  \n",
       "881        pancreatic_cancer  "
      ]
     },
     "execution_count": 51,
     "metadata": {},
     "output_type": "execute_result"
    }
   ],
   "source": [
    "infomap_summary[infomap_summary.top_5_monogram.apply(lambda x: \"cancer\" in x)]"
   ]
  },
  {
   "cell_type": "code",
   "execution_count": 58,
   "metadata": {},
   "outputs": [
    {
     "data": {
      "text/html": [
       "<div>\n",
       "<style scoped>\n",
       "    .dataframe tbody tr th:only-of-type {\n",
       "        vertical-align: middle;\n",
       "    }\n",
       "\n",
       "    .dataframe tbody tr th {\n",
       "        vertical-align: top;\n",
       "    }\n",
       "\n",
       "    .dataframe thead th {\n",
       "        text-align: right;\n",
       "    }\n",
       "</style>\n",
       "<table border=\"1\" class=\"dataframe\">\n",
       "  <thead>\n",
       "    <tr style=\"text-align: right;\">\n",
       "      <th></th>\n",
       "      <th>comunidad</th>\n",
       "      <th>tamaño</th>\n",
       "      <th>fraccion_gda</th>\n",
       "      <th>grado_gda_medio</th>\n",
       "      <th>max_grado_gda</th>\n",
       "      <th>mean_sim_jaccard_1</th>\n",
       "      <th>mean_sim_overlap_1</th>\n",
       "      <th>mean_sim_jaccard_3</th>\n",
       "      <th>mean_sim_overlap_3</th>\n",
       "    </tr>\n",
       "  </thead>\n",
       "  <tbody>\n",
       "    <tr>\n",
       "      <th>230</th>\n",
       "      <td>15</td>\n",
       "      <td>15</td>\n",
       "      <td>0.4</td>\n",
       "      <td>98.5</td>\n",
       "      <td>538.0</td>\n",
       "      <td>0.11</td>\n",
       "      <td>0.59</td>\n",
       "      <td>0.18</td>\n",
       "      <td>0.74</td>\n",
       "    </tr>\n",
       "  </tbody>\n",
       "</table>\n",
       "</div>"
      ],
      "text/plain": [
       "     comunidad  tamaño  fraccion_gda  grado_gda_medio  max_grado_gda  \\\n",
       "230         15      15           0.4             98.5          538.0   \n",
       "\n",
       "     mean_sim_jaccard_1  mean_sim_overlap_1  mean_sim_jaccard_3  \\\n",
       "230                0.11                0.59                0.18   \n",
       "\n",
       "     mean_sim_overlap_3  \n",
       "230                0.74  "
      ]
     },
     "execution_count": 58,
     "metadata": {},
     "output_type": "execute_result"
    }
   ],
   "source": [
    "ejemplo = 15\n",
    "infomap_data[infomap_data.comunidad == ejemplo]"
   ]
  },
  {
   "cell_type": "markdown",
   "metadata": {},
   "source": [
    "# Visualizaciones"
   ]
  },
  {
   "cell_type": "code",
   "execution_count": 39,
   "metadata": {},
   "outputs": [],
   "source": [
    "all_data_infomap = pd.merge(infomap_clusters, conectividad_infomap, left_on=\"comunidad\", right_on=\"comunidad\")\n",
    "\n",
    "def facet_range(x):\n",
    "    if x <= 0.3:\n",
    "        return 1\n",
    "    elif x <= 0.6:\n",
    "        return 2\n",
    "    else:\n",
    "        return 3\n",
    "\n",
    "all_data_infomap[\"rangos_fraccion\"] =  all_data_infomap.fraccion_gda.apply(lambda x: facet_range(x))"
   ]
  },
  {
   "cell_type": "code",
   "execution_count": 42,
   "metadata": {},
   "outputs": [
    {
     "data": {
      "application/vnd.plotly.v1+json": {
       "config": {
        "plotlyServerURL": "https://plot.ly"
       },
       "data": [
        {
         "alignmentgroup": "True",
         "bingroup": "x",
         "hovertemplate": "rangos_fraccion=3<br>mean_overlap_coef=%{x}<br>count=%{y}<extra></extra>",
         "legendgroup": "",
         "marker": {
          "color": "rgb(76,114,176)",
          "pattern": {
           "shape": ""
          }
         },
         "name": "",
         "offsetgroup": "",
         "orientation": "v",
         "showlegend": false,
         "type": "histogram",
         "x": [
          0,
          0.04,
          0.01,
          0.03,
          0.12,
          0.01,
          0.01,
          0.13,
          0.02,
          0.05,
          0,
          0.05,
          0,
          0.08,
          0.04,
          0.12,
          0.14,
          0.01,
          0.12,
          0,
          0.14,
          0.07,
          0.08,
          0.17,
          0.19,
          0.07,
          0.13,
          0.02,
          0.02,
          0.01,
          0.04,
          0.21,
          0.04,
          0.07,
          0.21,
          0.11,
          0.01,
          0.06,
          0.01,
          0.08,
          0.07,
          0.22,
          0.08,
          0.17,
          0.12,
          0.1,
          0.01,
          0.05,
          0.11,
          0.1,
          0.1,
          0.02,
          0.12,
          0.12,
          0.04,
          0.1,
          0.36,
          0.03,
          0.22,
          0.2,
          0.08,
          0.18,
          0.1,
          0.2,
          0.1,
          0.31,
          0.14,
          0,
          0.18,
          0.22,
          0.14,
          0.06,
          0.05,
          0.18,
          0.18,
          0.19,
          0.08,
          0.16,
          0.17,
          0.05,
          0.22,
          0.23,
          0,
          0.16,
          0.94,
          0.58,
          0.41,
          0.28,
          0.02,
          0.07,
          0.32,
          0.22,
          0.67,
          0.2,
          0.11,
          0.16,
          0.03,
          0.53,
          0.27,
          0.01,
          0.32,
          0.11,
          0.17,
          0.32,
          0.12,
          0.16,
          0.43,
          0.22,
          0.65,
          0.64,
          0.08,
          0.14,
          0.52,
          0,
          0.18,
          0.41,
          0,
          0.03,
          0.07,
          0.23,
          0.17,
          0.18,
          0.19,
          0.11,
          0.53,
          0.31,
          0.05,
          0.11,
          0.26,
          0.11,
          0.4,
          0.15,
          0.13,
          0.01,
          0.2,
          0.13,
          0.22,
          0.04,
          0.18,
          0.37,
          0.64,
          0.13,
          0.06,
          0.11,
          0.21,
          0.43,
          0.15,
          0.36,
          0.03,
          0.27,
          0.08,
          0.27,
          0.24,
          0.14,
          0.27,
          0,
          0.19,
          0.21,
          0.47,
          0.35,
          0.83,
          0.23,
          0.17,
          0.36,
          0.08,
          0.27,
          0.11,
          0.21,
          0.3,
          0.08,
          0.29,
          0.44,
          0.39,
          0.38,
          0.72,
          0.29,
          0.06,
          0.96,
          0.42,
          0.02,
          0.35,
          0.73,
          0.45,
          0.24,
          0.18,
          0.12,
          0.17,
          0.75,
          0.31,
          0.26,
          0.27,
          0.14,
          0.11,
          0.19,
          0.19,
          0.2,
          0.02,
          0.28,
          0.05,
          0.12,
          0.21,
          0.32,
          0.18,
          0.75,
          0.14,
          0.83,
          0.37,
          0,
          0.27,
          0.01,
          0.03,
          0.18,
          0.22,
          0.5,
          0.04,
          0.43,
          0.14,
          0.43,
          0.17,
          0.63,
          0.39,
          0.14,
          0.03,
          0.27,
          0.04,
          0.24,
          0.44,
          0.19,
          0.14,
          0.24,
          0.17,
          0.08,
          0.25,
          0.03,
          0.45,
          0.16,
          0.05,
          0.39,
          0.48,
          0.71,
          0.74,
          0.25,
          0.3,
          0.75,
          0.87,
          0.17,
          0.79,
          0.5,
          0.67,
          0.21,
          0.29,
          0,
          0.24,
          0.57,
          0.47,
          0.27,
          0.29,
          0.33,
          0.02,
          0.05,
          0.83,
          0.2,
          0.5,
          0.34,
          0.14,
          0.57,
          0.07,
          0.73,
          0.75,
          0.2,
          0.07,
          0.93,
          0,
          0.38,
          0.46,
          0.46,
          0.57,
          0.27,
          0,
          0.21,
          0.31,
          0.11,
          0.47,
          0,
          0.67,
          1,
          0,
          0.03,
          0.35,
          0.25,
          0.33,
          0,
          0.4,
          0.73,
          0.12,
          0.08,
          0.37,
          0.87,
          0.29,
          0.13,
          0,
          1,
          0.47,
          0.04,
          0.2,
          0.25,
          0.18,
          1,
          0.57,
          0.3,
          0.52,
          0.29,
          0.29,
          0.33,
          0.58,
          0.24,
          0.37,
          0.8,
          0.27,
          0.52,
          0.19,
          0.11,
          0.14,
          0.29,
          0.28,
          0.82,
          1,
          0.6,
          0.19,
          0.12,
          0.07,
          0.52,
          0,
          0.3,
          0.2,
          0.84,
          0.33,
          0.62,
          0.4,
          0.17,
          0.6,
          0.87,
          0.1,
          0.51,
          1,
          0.4,
          0.53,
          0.5,
          0.12,
          0.47,
          0,
          0.67,
          0.53,
          0.05,
          0.2,
          0.1,
          0.22,
          0.73,
          0.27,
          0,
          0.3,
          1,
          0.93,
          0.4,
          0.57,
          0.6,
          0.1,
          0.25,
          0,
          0.35,
          0.8,
          0.25,
          1,
          1,
          0,
          0.5,
          0.9,
          0.6,
          0.45,
          0,
          0.17,
          0.2,
          0,
          0.33,
          1,
          0.3,
          1,
          0.5,
          0.33,
          0.5,
          0.65,
          0.6,
          0.5,
          0.2,
          1,
          0.33,
          1,
          0.17,
          1,
          0.5,
          0.17,
          1,
          0.39,
          0.67,
          0,
          0.33,
          0.1,
          0.33,
          0.6,
          0.3,
          0.17,
          0.5,
          0.83,
          0,
          1,
          1,
          0.42,
          1,
          0.17,
          1,
          0.83,
          0.58,
          1,
          0.5,
          0.67,
          0.3,
          0.5,
          1,
          1,
          0.33,
          0.67,
          0.5,
          0.5,
          0.67,
          0,
          1,
          0.5,
          0.33,
          1,
          0.5,
          0.83,
          0.33,
          0,
          0.75,
          0.5,
          0.17,
          0.33,
          0.83,
          0.17,
          0.83,
          0.3,
          0.67,
          1,
          1,
          0.17,
          0.33,
          1,
          0.67,
          0.17,
          0.5,
          0.67,
          0,
          0.68,
          0.5,
          0.33,
          0,
          0.25,
          1,
          0.83,
          0.24,
          1,
          1,
          0,
          1,
          0.33,
          0.17,
          0,
          1,
          0,
          0.67,
          1,
          0.33,
          0.67,
          0.67,
          1,
          0.67,
          0,
          1,
          0.67,
          0.67,
          0.33,
          0.67,
          0.33,
          0.67,
          0.67,
          0,
          1,
          1,
          0.67,
          0.67,
          0,
          0.4,
          1,
          0,
          0,
          0.67,
          0.33,
          1,
          0.33,
          0.67,
          1,
          0,
          0.67,
          0.67,
          0.67,
          1,
          0.33,
          1,
          0.33,
          1,
          0.33,
          0.67,
          0.67,
          1,
          0.67,
          0,
          0.67,
          0.67,
          1,
          0,
          1,
          1,
          1,
          0,
          0.92,
          0,
          0.33,
          1,
          0,
          0,
          0.67,
          0,
          0.67,
          0,
          0.67,
          1,
          0.67,
          0.33,
          1,
          0,
          1,
          0.33,
          1,
          1,
          1,
          1,
          1,
          0.61,
          1,
          1,
          1,
          1,
          1,
          1,
          0,
          0,
          1,
          0,
          0.5,
          1,
          1,
          0,
          1,
          0,
          1,
          0,
          0,
          0,
          1,
          0,
          0,
          1,
          0,
          1,
          1,
          1,
          1,
          0,
          0,
          0,
          1,
          0,
          1,
          0,
          0,
          1,
          1,
          1,
          0,
          1,
          0.83,
          1,
          0,
          0,
          0,
          1,
          0,
          1,
          0.17,
          1,
          1,
          1,
          1,
          0,
          1,
          1,
          1,
          1,
          1,
          0,
          1,
          0,
          1,
          1,
          0.5,
          1,
          1
         ],
         "xaxis": "x",
         "yaxis": "y"
        },
        {
         "alignmentgroup": "True",
         "bingroup": "x",
         "hovertemplate": "rangos_fraccion=2<br>mean_overlap_coef=%{x}<br>count=%{y}<extra></extra>",
         "legendgroup": "",
         "marker": {
          "color": "rgb(76,114,176)",
          "pattern": {
           "shape": ""
          }
         },
         "name": "",
         "offsetgroup": "",
         "orientation": "v",
         "showlegend": false,
         "type": "histogram",
         "x": [
          0.23,
          0.08,
          0.16,
          0.05,
          0.27,
          0.29,
          0.06,
          0.14,
          0.13,
          0.05,
          0.11,
          0.89,
          0.11,
          0.16,
          0.36,
          0.21,
          0.08,
          0.4,
          0.45,
          0.07,
          0.16,
          0.19,
          0.06,
          0.36,
          0.07,
          0.07,
          0.02,
          0.15,
          0.12,
          0.15,
          0.07,
          0.05,
          0.11,
          0.08,
          0.32,
          0.32,
          0.12,
          0.19,
          0.04,
          0.06,
          0.05,
          0.15,
          0.21,
          0.36,
          0.21,
          0.08,
          0.31,
          0.39,
          0.48,
          0.07,
          0.14,
          0.12,
          0.16,
          0.04,
          0.11,
          0.03,
          0.24,
          0.16,
          0.62,
          0.24,
          0.24,
          0.09,
          0.25,
          0.24,
          0.04,
          0.07,
          1,
          0.15,
          0.25,
          0.22,
          0.07,
          0.25,
          0.4,
          0.1,
          0.27,
          1,
          0.33,
          0.6,
          0.07,
          0.1,
          0.11,
          0.17,
          0.15,
          0.28,
          0.12,
          0.14,
          0,
          0.15,
          0.12,
          0,
          0.73,
          0.14,
          0,
          0.2,
          0.2,
          0.32,
          0.24,
          0.5,
          0.09,
          0.51,
          0.1,
          0.51,
          0.1,
          0.41,
          0.07,
          0.11,
          0.52,
          0.33,
          0.13,
          0.5,
          0.77,
          0.5,
          0.13,
          0.7,
          0,
          0.6,
          0.06,
          0.39,
          0.02,
          0.17,
          0.28,
          0.08,
          0.2,
          0.24,
          0.6,
          0.12,
          0.03,
          0.47,
          0.6,
          0.2,
          0.27,
          0.27,
          0.69,
          0.04,
          0.4,
          0.5,
          1,
          0.56,
          0.6,
          0.08,
          0.13,
          0.38,
          0.9,
          0.76,
          0,
          0,
          0.33,
          0.21,
          0.5,
          0.4,
          0.06,
          0.1,
          0.67,
          0.67,
          0,
          0.39,
          0.8,
          0,
          0,
          0.21,
          0,
          0.83,
          0.19,
          0,
          0.22,
          0,
          1,
          0.5,
          0.35,
          0,
          0,
          0.17,
          0,
          0.28,
          0.5,
          1,
          0,
          0,
          0.81,
          0.33,
          0,
          0,
          0.92,
          0.17,
          0,
          0,
          0.17,
          0.17,
          0.33,
          0,
          0.17,
          1,
          1,
          0.67,
          0,
          0,
          0,
          1,
          1,
          0.73,
          0.33,
          0.33,
          0,
          1,
          0.67,
          1,
          1,
          0.33,
          0.98,
          1,
          0.33,
          0,
          0.09,
          0,
          1,
          1,
          0.67,
          0.5,
          0,
          0.17,
          1,
          0.67,
          0.67,
          1,
          0,
          0.33,
          0.67,
          0.5,
          0.33,
          0.67,
          0.33,
          1,
          0,
          0.67,
          0.5,
          0.83,
          1,
          1,
          1,
          1,
          1,
          0.67,
          0.67,
          0.33,
          0,
          0,
          0,
          1,
          1,
          0.67,
          0.37,
          0,
          0,
          1,
          1,
          0,
          0.67,
          0,
          0,
          1,
          1,
          1,
          0,
          0,
          0,
          1,
          1,
          0,
          1,
          1,
          1,
          null,
          null,
          null,
          null,
          null,
          null,
          null,
          null,
          null,
          null,
          null,
          null,
          null,
          null,
          null,
          null,
          null,
          null,
          null,
          null,
          null,
          null,
          null,
          null,
          null,
          null,
          null,
          null,
          null,
          null,
          null,
          null,
          null,
          null,
          null,
          null,
          null,
          null,
          null,
          null,
          null,
          null,
          null,
          null,
          null
         ],
         "xaxis": "x2",
         "yaxis": "y2"
        },
        {
         "alignmentgroup": "True",
         "bingroup": "x",
         "hovertemplate": "rangos_fraccion=1<br>mean_overlap_coef=%{x}<br>count=%{y}<extra></extra>",
         "legendgroup": "",
         "marker": {
          "color": "rgb(76,114,176)",
          "pattern": {
           "shape": ""
          }
         },
         "name": "",
         "offsetgroup": "",
         "orientation": "v",
         "showlegend": false,
         "type": "histogram",
         "x": [
          0.05,
          0.31,
          0.27,
          0,
          0.08,
          0.07,
          0.07,
          0,
          0.3,
          0.47,
          0,
          0.2,
          0,
          0.22,
          0.15,
          0,
          0.43,
          null,
          0,
          0.44,
          1,
          null,
          0.33,
          0.39,
          0.33,
          0.12,
          0,
          0.17,
          null,
          0.25,
          0,
          null,
          0,
          0,
          0.5,
          0.17,
          0.33,
          0.11,
          0.33,
          0,
          0.08,
          0,
          null,
          0,
          0.33,
          null,
          0.58,
          1,
          null,
          null,
          0.58,
          0,
          0.33,
          0,
          0.33,
          1,
          0,
          0,
          null,
          0.33,
          0.33,
          1,
          0.89,
          0,
          0.23,
          0.19,
          null,
          null,
          1,
          null,
          0,
          0,
          0,
          0,
          null,
          null,
          null,
          0.04,
          null,
          null,
          0.33,
          0.33,
          null,
          0.5,
          0.5,
          null,
          0,
          null,
          null,
          null,
          null,
          0,
          0.5,
          null,
          0,
          null,
          0,
          0,
          0,
          0,
          null,
          0,
          1,
          0,
          null,
          null,
          0.33,
          0.15,
          null,
          0,
          0,
          null,
          null,
          null,
          null,
          null,
          null,
          null,
          0.06,
          null,
          null,
          0,
          1,
          1,
          1,
          1,
          1,
          null,
          null,
          null,
          0.5,
          null,
          1,
          null,
          0,
          0,
          0,
          0,
          0.5,
          0,
          0.86,
          0.21,
          null,
          null,
          null,
          null,
          null,
          null,
          null,
          null,
          null,
          null,
          null,
          null,
          null,
          null,
          null,
          null,
          null,
          null,
          null,
          null,
          null,
          null,
          null,
          null,
          null,
          null,
          null,
          null,
          null,
          null,
          null,
          null,
          null,
          null,
          null,
          null,
          null,
          null,
          null,
          null,
          null,
          null,
          null,
          null,
          null,
          null,
          null,
          null,
          null,
          null,
          null,
          null,
          null,
          null,
          null,
          null
         ],
         "xaxis": "x3",
         "yaxis": "y3"
        }
       ],
       "layout": {
        "annotations": [
         {
          "font": {},
          "showarrow": false,
          "text": "rangos_fraccion=3",
          "x": 0.15999999999999998,
          "xanchor": "center",
          "xref": "paper",
          "y": 1,
          "yanchor": "bottom",
          "yref": "paper"
         },
         {
          "font": {},
          "showarrow": false,
          "text": "rangos_fraccion=2",
          "x": 0.49999999999999994,
          "xanchor": "center",
          "xref": "paper",
          "y": 1,
          "yanchor": "bottom",
          "yref": "paper"
         },
         {
          "font": {},
          "showarrow": false,
          "text": "rangos_fraccion=1",
          "x": 0.8399999999999999,
          "xanchor": "center",
          "xref": "paper",
          "y": 1,
          "yanchor": "bottom",
          "yref": "paper"
         }
        ],
        "barmode": "relative",
        "legend": {
         "tracegroupgap": 0
        },
        "margin": {
         "t": 60
        },
        "template": {
         "data": {
          "bar": [
           {
            "error_x": {
             "color": "rgb(36,36,36)"
            },
            "error_y": {
             "color": "rgb(36,36,36)"
            },
            "marker": {
             "line": {
              "color": "rgb(234,234,242)",
              "width": 0.5
             },
             "pattern": {
              "fillmode": "overlay",
              "size": 10,
              "solidity": 0.2
             }
            },
            "type": "bar"
           }
          ],
          "barpolar": [
           {
            "marker": {
             "line": {
              "color": "rgb(234,234,242)",
              "width": 0.5
             },
             "pattern": {
              "fillmode": "overlay",
              "size": 10,
              "solidity": 0.2
             }
            },
            "type": "barpolar"
           }
          ],
          "carpet": [
           {
            "aaxis": {
             "endlinecolor": "rgb(36,36,36)",
             "gridcolor": "white",
             "linecolor": "white",
             "minorgridcolor": "white",
             "startlinecolor": "rgb(36,36,36)"
            },
            "baxis": {
             "endlinecolor": "rgb(36,36,36)",
             "gridcolor": "white",
             "linecolor": "white",
             "minorgridcolor": "white",
             "startlinecolor": "rgb(36,36,36)"
            },
            "type": "carpet"
           }
          ],
          "choropleth": [
           {
            "colorbar": {
             "outlinewidth": 0,
             "tickcolor": "rgb(36,36,36)",
             "ticklen": 8,
             "ticks": "outside",
             "tickwidth": 2
            },
            "type": "choropleth"
           }
          ],
          "contour": [
           {
            "colorbar": {
             "outlinewidth": 0,
             "tickcolor": "rgb(36,36,36)",
             "ticklen": 8,
             "ticks": "outside",
             "tickwidth": 2
            },
            "colorscale": [
             [
              0,
              "rgb(2,4,25)"
             ],
             [
              0.06274509803921569,
              "rgb(24,15,41)"
             ],
             [
              0.12549019607843137,
              "rgb(47,23,57)"
             ],
             [
              0.18823529411764706,
              "rgb(71,28,72)"
             ],
             [
              0.25098039215686274,
              "rgb(97,30,82)"
             ],
             [
              0.3137254901960784,
              "rgb(123,30,89)"
             ],
             [
              0.3764705882352941,
              "rgb(150,27,91)"
             ],
             [
              0.4392156862745098,
              "rgb(177,22,88)"
             ],
             [
              0.5019607843137255,
              "rgb(203,26,79)"
             ],
             [
              0.5647058823529412,
              "rgb(223,47,67)"
             ],
             [
              0.6274509803921569,
              "rgb(236,76,61)"
             ],
             [
              0.6901960784313725,
              "rgb(242,107,73)"
             ],
             [
              0.7529411764705882,
              "rgb(244,135,95)"
             ],
             [
              0.8156862745098039,
              "rgb(245,162,122)"
             ],
             [
              0.8784313725490196,
              "rgb(246,188,153)"
             ],
             [
              0.9411764705882353,
              "rgb(247,212,187)"
             ],
             [
              1,
              "rgb(250,234,220)"
             ]
            ],
            "type": "contour"
           }
          ],
          "contourcarpet": [
           {
            "colorbar": {
             "outlinewidth": 0,
             "tickcolor": "rgb(36,36,36)",
             "ticklen": 8,
             "ticks": "outside",
             "tickwidth": 2
            },
            "type": "contourcarpet"
           }
          ],
          "heatmap": [
           {
            "colorbar": {
             "outlinewidth": 0,
             "tickcolor": "rgb(36,36,36)",
             "ticklen": 8,
             "ticks": "outside",
             "tickwidth": 2
            },
            "colorscale": [
             [
              0,
              "rgb(2,4,25)"
             ],
             [
              0.06274509803921569,
              "rgb(24,15,41)"
             ],
             [
              0.12549019607843137,
              "rgb(47,23,57)"
             ],
             [
              0.18823529411764706,
              "rgb(71,28,72)"
             ],
             [
              0.25098039215686274,
              "rgb(97,30,82)"
             ],
             [
              0.3137254901960784,
              "rgb(123,30,89)"
             ],
             [
              0.3764705882352941,
              "rgb(150,27,91)"
             ],
             [
              0.4392156862745098,
              "rgb(177,22,88)"
             ],
             [
              0.5019607843137255,
              "rgb(203,26,79)"
             ],
             [
              0.5647058823529412,
              "rgb(223,47,67)"
             ],
             [
              0.6274509803921569,
              "rgb(236,76,61)"
             ],
             [
              0.6901960784313725,
              "rgb(242,107,73)"
             ],
             [
              0.7529411764705882,
              "rgb(244,135,95)"
             ],
             [
              0.8156862745098039,
              "rgb(245,162,122)"
             ],
             [
              0.8784313725490196,
              "rgb(246,188,153)"
             ],
             [
              0.9411764705882353,
              "rgb(247,212,187)"
             ],
             [
              1,
              "rgb(250,234,220)"
             ]
            ],
            "type": "heatmap"
           }
          ],
          "heatmapgl": [
           {
            "colorbar": {
             "outlinewidth": 0,
             "tickcolor": "rgb(36,36,36)",
             "ticklen": 8,
             "ticks": "outside",
             "tickwidth": 2
            },
            "colorscale": [
             [
              0,
              "rgb(2,4,25)"
             ],
             [
              0.06274509803921569,
              "rgb(24,15,41)"
             ],
             [
              0.12549019607843137,
              "rgb(47,23,57)"
             ],
             [
              0.18823529411764706,
              "rgb(71,28,72)"
             ],
             [
              0.25098039215686274,
              "rgb(97,30,82)"
             ],
             [
              0.3137254901960784,
              "rgb(123,30,89)"
             ],
             [
              0.3764705882352941,
              "rgb(150,27,91)"
             ],
             [
              0.4392156862745098,
              "rgb(177,22,88)"
             ],
             [
              0.5019607843137255,
              "rgb(203,26,79)"
             ],
             [
              0.5647058823529412,
              "rgb(223,47,67)"
             ],
             [
              0.6274509803921569,
              "rgb(236,76,61)"
             ],
             [
              0.6901960784313725,
              "rgb(242,107,73)"
             ],
             [
              0.7529411764705882,
              "rgb(244,135,95)"
             ],
             [
              0.8156862745098039,
              "rgb(245,162,122)"
             ],
             [
              0.8784313725490196,
              "rgb(246,188,153)"
             ],
             [
              0.9411764705882353,
              "rgb(247,212,187)"
             ],
             [
              1,
              "rgb(250,234,220)"
             ]
            ],
            "type": "heatmapgl"
           }
          ],
          "histogram": [
           {
            "marker": {
             "pattern": {
              "fillmode": "overlay",
              "size": 10,
              "solidity": 0.2
             }
            },
            "type": "histogram"
           }
          ],
          "histogram2d": [
           {
            "colorbar": {
             "outlinewidth": 0,
             "tickcolor": "rgb(36,36,36)",
             "ticklen": 8,
             "ticks": "outside",
             "tickwidth": 2
            },
            "colorscale": [
             [
              0,
              "rgb(2,4,25)"
             ],
             [
              0.06274509803921569,
              "rgb(24,15,41)"
             ],
             [
              0.12549019607843137,
              "rgb(47,23,57)"
             ],
             [
              0.18823529411764706,
              "rgb(71,28,72)"
             ],
             [
              0.25098039215686274,
              "rgb(97,30,82)"
             ],
             [
              0.3137254901960784,
              "rgb(123,30,89)"
             ],
             [
              0.3764705882352941,
              "rgb(150,27,91)"
             ],
             [
              0.4392156862745098,
              "rgb(177,22,88)"
             ],
             [
              0.5019607843137255,
              "rgb(203,26,79)"
             ],
             [
              0.5647058823529412,
              "rgb(223,47,67)"
             ],
             [
              0.6274509803921569,
              "rgb(236,76,61)"
             ],
             [
              0.6901960784313725,
              "rgb(242,107,73)"
             ],
             [
              0.7529411764705882,
              "rgb(244,135,95)"
             ],
             [
              0.8156862745098039,
              "rgb(245,162,122)"
             ],
             [
              0.8784313725490196,
              "rgb(246,188,153)"
             ],
             [
              0.9411764705882353,
              "rgb(247,212,187)"
             ],
             [
              1,
              "rgb(250,234,220)"
             ]
            ],
            "type": "histogram2d"
           }
          ],
          "histogram2dcontour": [
           {
            "colorbar": {
             "outlinewidth": 0,
             "tickcolor": "rgb(36,36,36)",
             "ticklen": 8,
             "ticks": "outside",
             "tickwidth": 2
            },
            "colorscale": [
             [
              0,
              "rgb(2,4,25)"
             ],
             [
              0.06274509803921569,
              "rgb(24,15,41)"
             ],
             [
              0.12549019607843137,
              "rgb(47,23,57)"
             ],
             [
              0.18823529411764706,
              "rgb(71,28,72)"
             ],
             [
              0.25098039215686274,
              "rgb(97,30,82)"
             ],
             [
              0.3137254901960784,
              "rgb(123,30,89)"
             ],
             [
              0.3764705882352941,
              "rgb(150,27,91)"
             ],
             [
              0.4392156862745098,
              "rgb(177,22,88)"
             ],
             [
              0.5019607843137255,
              "rgb(203,26,79)"
             ],
             [
              0.5647058823529412,
              "rgb(223,47,67)"
             ],
             [
              0.6274509803921569,
              "rgb(236,76,61)"
             ],
             [
              0.6901960784313725,
              "rgb(242,107,73)"
             ],
             [
              0.7529411764705882,
              "rgb(244,135,95)"
             ],
             [
              0.8156862745098039,
              "rgb(245,162,122)"
             ],
             [
              0.8784313725490196,
              "rgb(246,188,153)"
             ],
             [
              0.9411764705882353,
              "rgb(247,212,187)"
             ],
             [
              1,
              "rgb(250,234,220)"
             ]
            ],
            "type": "histogram2dcontour"
           }
          ],
          "mesh3d": [
           {
            "colorbar": {
             "outlinewidth": 0,
             "tickcolor": "rgb(36,36,36)",
             "ticklen": 8,
             "ticks": "outside",
             "tickwidth": 2
            },
            "type": "mesh3d"
           }
          ],
          "parcoords": [
           {
            "line": {
             "colorbar": {
              "outlinewidth": 0,
              "tickcolor": "rgb(36,36,36)",
              "ticklen": 8,
              "ticks": "outside",
              "tickwidth": 2
             }
            },
            "type": "parcoords"
           }
          ],
          "pie": [
           {
            "automargin": true,
            "type": "pie"
           }
          ],
          "scatter": [
           {
            "fillpattern": {
             "fillmode": "overlay",
             "size": 10,
             "solidity": 0.2
            },
            "type": "scatter"
           }
          ],
          "scatter3d": [
           {
            "line": {
             "colorbar": {
              "outlinewidth": 0,
              "tickcolor": "rgb(36,36,36)",
              "ticklen": 8,
              "ticks": "outside",
              "tickwidth": 2
             }
            },
            "marker": {
             "colorbar": {
              "outlinewidth": 0,
              "tickcolor": "rgb(36,36,36)",
              "ticklen": 8,
              "ticks": "outside",
              "tickwidth": 2
             }
            },
            "type": "scatter3d"
           }
          ],
          "scattercarpet": [
           {
            "marker": {
             "colorbar": {
              "outlinewidth": 0,
              "tickcolor": "rgb(36,36,36)",
              "ticklen": 8,
              "ticks": "outside",
              "tickwidth": 2
             }
            },
            "type": "scattercarpet"
           }
          ],
          "scattergeo": [
           {
            "marker": {
             "colorbar": {
              "outlinewidth": 0,
              "tickcolor": "rgb(36,36,36)",
              "ticklen": 8,
              "ticks": "outside",
              "tickwidth": 2
             }
            },
            "type": "scattergeo"
           }
          ],
          "scattergl": [
           {
            "marker": {
             "colorbar": {
              "outlinewidth": 0,
              "tickcolor": "rgb(36,36,36)",
              "ticklen": 8,
              "ticks": "outside",
              "tickwidth": 2
             }
            },
            "type": "scattergl"
           }
          ],
          "scattermapbox": [
           {
            "marker": {
             "colorbar": {
              "outlinewidth": 0,
              "tickcolor": "rgb(36,36,36)",
              "ticklen": 8,
              "ticks": "outside",
              "tickwidth": 2
             }
            },
            "type": "scattermapbox"
           }
          ],
          "scatterpolar": [
           {
            "marker": {
             "colorbar": {
              "outlinewidth": 0,
              "tickcolor": "rgb(36,36,36)",
              "ticklen": 8,
              "ticks": "outside",
              "tickwidth": 2
             }
            },
            "type": "scatterpolar"
           }
          ],
          "scatterpolargl": [
           {
            "marker": {
             "colorbar": {
              "outlinewidth": 0,
              "tickcolor": "rgb(36,36,36)",
              "ticklen": 8,
              "ticks": "outside",
              "tickwidth": 2
             }
            },
            "type": "scatterpolargl"
           }
          ],
          "scatterternary": [
           {
            "marker": {
             "colorbar": {
              "outlinewidth": 0,
              "tickcolor": "rgb(36,36,36)",
              "ticklen": 8,
              "ticks": "outside",
              "tickwidth": 2
             }
            },
            "type": "scatterternary"
           }
          ],
          "surface": [
           {
            "colorbar": {
             "outlinewidth": 0,
             "tickcolor": "rgb(36,36,36)",
             "ticklen": 8,
             "ticks": "outside",
             "tickwidth": 2
            },
            "colorscale": [
             [
              0,
              "rgb(2,4,25)"
             ],
             [
              0.06274509803921569,
              "rgb(24,15,41)"
             ],
             [
              0.12549019607843137,
              "rgb(47,23,57)"
             ],
             [
              0.18823529411764706,
              "rgb(71,28,72)"
             ],
             [
              0.25098039215686274,
              "rgb(97,30,82)"
             ],
             [
              0.3137254901960784,
              "rgb(123,30,89)"
             ],
             [
              0.3764705882352941,
              "rgb(150,27,91)"
             ],
             [
              0.4392156862745098,
              "rgb(177,22,88)"
             ],
             [
              0.5019607843137255,
              "rgb(203,26,79)"
             ],
             [
              0.5647058823529412,
              "rgb(223,47,67)"
             ],
             [
              0.6274509803921569,
              "rgb(236,76,61)"
             ],
             [
              0.6901960784313725,
              "rgb(242,107,73)"
             ],
             [
              0.7529411764705882,
              "rgb(244,135,95)"
             ],
             [
              0.8156862745098039,
              "rgb(245,162,122)"
             ],
             [
              0.8784313725490196,
              "rgb(246,188,153)"
             ],
             [
              0.9411764705882353,
              "rgb(247,212,187)"
             ],
             [
              1,
              "rgb(250,234,220)"
             ]
            ],
            "type": "surface"
           }
          ],
          "table": [
           {
            "cells": {
             "fill": {
              "color": "rgb(231,231,240)"
             },
             "line": {
              "color": "white"
             }
            },
            "header": {
             "fill": {
              "color": "rgb(183,183,191)"
             },
             "line": {
              "color": "white"
             }
            },
            "type": "table"
           }
          ]
         },
         "layout": {
          "annotationdefaults": {
           "arrowcolor": "rgb(67,103,167)"
          },
          "autotypenumbers": "strict",
          "coloraxis": {
           "colorbar": {
            "outlinewidth": 0,
            "tickcolor": "rgb(36,36,36)",
            "ticklen": 8,
            "ticks": "outside",
            "tickwidth": 2
           }
          },
          "colorscale": {
           "sequential": [
            [
             0,
             "rgb(2,4,25)"
            ],
            [
             0.06274509803921569,
             "rgb(24,15,41)"
            ],
            [
             0.12549019607843137,
             "rgb(47,23,57)"
            ],
            [
             0.18823529411764706,
             "rgb(71,28,72)"
            ],
            [
             0.25098039215686274,
             "rgb(97,30,82)"
            ],
            [
             0.3137254901960784,
             "rgb(123,30,89)"
            ],
            [
             0.3764705882352941,
             "rgb(150,27,91)"
            ],
            [
             0.4392156862745098,
             "rgb(177,22,88)"
            ],
            [
             0.5019607843137255,
             "rgb(203,26,79)"
            ],
            [
             0.5647058823529412,
             "rgb(223,47,67)"
            ],
            [
             0.6274509803921569,
             "rgb(236,76,61)"
            ],
            [
             0.6901960784313725,
             "rgb(242,107,73)"
            ],
            [
             0.7529411764705882,
             "rgb(244,135,95)"
            ],
            [
             0.8156862745098039,
             "rgb(245,162,122)"
            ],
            [
             0.8784313725490196,
             "rgb(246,188,153)"
            ],
            [
             0.9411764705882353,
             "rgb(247,212,187)"
            ],
            [
             1,
             "rgb(250,234,220)"
            ]
           ],
           "sequentialminus": [
            [
             0,
             "rgb(2,4,25)"
            ],
            [
             0.06274509803921569,
             "rgb(24,15,41)"
            ],
            [
             0.12549019607843137,
             "rgb(47,23,57)"
            ],
            [
             0.18823529411764706,
             "rgb(71,28,72)"
            ],
            [
             0.25098039215686274,
             "rgb(97,30,82)"
            ],
            [
             0.3137254901960784,
             "rgb(123,30,89)"
            ],
            [
             0.3764705882352941,
             "rgb(150,27,91)"
            ],
            [
             0.4392156862745098,
             "rgb(177,22,88)"
            ],
            [
             0.5019607843137255,
             "rgb(203,26,79)"
            ],
            [
             0.5647058823529412,
             "rgb(223,47,67)"
            ],
            [
             0.6274509803921569,
             "rgb(236,76,61)"
            ],
            [
             0.6901960784313725,
             "rgb(242,107,73)"
            ],
            [
             0.7529411764705882,
             "rgb(244,135,95)"
            ],
            [
             0.8156862745098039,
             "rgb(245,162,122)"
            ],
            [
             0.8784313725490196,
             "rgb(246,188,153)"
            ],
            [
             0.9411764705882353,
             "rgb(247,212,187)"
            ],
            [
             1,
             "rgb(250,234,220)"
            ]
           ]
          },
          "colorway": [
           "rgb(76,114,176)",
           "rgb(221,132,82)",
           "rgb(85,168,104)",
           "rgb(196,78,82)",
           "rgb(129,114,179)",
           "rgb(147,120,96)",
           "rgb(218,139,195)",
           "rgb(140,140,140)",
           "rgb(204,185,116)",
           "rgb(100,181,205)"
          ],
          "font": {
           "color": "rgb(36,36,36)"
          },
          "geo": {
           "bgcolor": "white",
           "lakecolor": "white",
           "landcolor": "rgb(234,234,242)",
           "showlakes": true,
           "showland": true,
           "subunitcolor": "white"
          },
          "hoverlabel": {
           "align": "left"
          },
          "hovermode": "closest",
          "paper_bgcolor": "white",
          "plot_bgcolor": "rgb(234,234,242)",
          "polar": {
           "angularaxis": {
            "gridcolor": "white",
            "linecolor": "white",
            "showgrid": true,
            "ticks": ""
           },
           "bgcolor": "rgb(234,234,242)",
           "radialaxis": {
            "gridcolor": "white",
            "linecolor": "white",
            "showgrid": true,
            "ticks": ""
           }
          },
          "scene": {
           "xaxis": {
            "backgroundcolor": "rgb(234,234,242)",
            "gridcolor": "white",
            "gridwidth": 2,
            "linecolor": "white",
            "showbackground": true,
            "showgrid": true,
            "ticks": "",
            "zerolinecolor": "white"
           },
           "yaxis": {
            "backgroundcolor": "rgb(234,234,242)",
            "gridcolor": "white",
            "gridwidth": 2,
            "linecolor": "white",
            "showbackground": true,
            "showgrid": true,
            "ticks": "",
            "zerolinecolor": "white"
           },
           "zaxis": {
            "backgroundcolor": "rgb(234,234,242)",
            "gridcolor": "white",
            "gridwidth": 2,
            "linecolor": "white",
            "showbackground": true,
            "showgrid": true,
            "ticks": "",
            "zerolinecolor": "white"
           }
          },
          "shapedefaults": {
           "fillcolor": "rgb(67,103,167)",
           "line": {
            "width": 0
           },
           "opacity": 0.5
          },
          "ternary": {
           "aaxis": {
            "gridcolor": "white",
            "linecolor": "white",
            "showgrid": true,
            "ticks": ""
           },
           "baxis": {
            "gridcolor": "white",
            "linecolor": "white",
            "showgrid": true,
            "ticks": ""
           },
           "bgcolor": "rgb(234,234,242)",
           "caxis": {
            "gridcolor": "white",
            "linecolor": "white",
            "showgrid": true,
            "ticks": ""
           }
          },
          "xaxis": {
           "automargin": true,
           "gridcolor": "white",
           "linecolor": "white",
           "showgrid": true,
           "ticks": "",
           "title": {
            "standoff": 15
           },
           "zerolinecolor": "white"
          },
          "yaxis": {
           "automargin": true,
           "gridcolor": "white",
           "linecolor": "white",
           "showgrid": true,
           "ticks": "",
           "title": {
            "standoff": 15
           },
           "zerolinecolor": "white"
          }
         }
        },
        "xaxis": {
         "anchor": "y",
         "domain": [
          0,
          0.31999999999999995
         ],
         "title": {
          "text": "mean_overlap_coef"
         }
        },
        "xaxis2": {
         "anchor": "y2",
         "domain": [
          0.33999999999999997,
          0.6599999999999999
         ],
         "matches": "x",
         "title": {
          "text": "mean_overlap_coef"
         }
        },
        "xaxis3": {
         "anchor": "y3",
         "domain": [
          0.6799999999999999,
          0.9999999999999999
         ],
         "matches": "x",
         "title": {
          "text": "mean_overlap_coef"
         }
        },
        "yaxis": {
         "anchor": "x",
         "domain": [
          0,
          1
         ],
         "title": {
          "text": "count"
         }
        },
        "yaxis2": {
         "anchor": "x2",
         "domain": [
          0,
          1
         ],
         "matches": "y",
         "showticklabels": false
        },
        "yaxis3": {
         "anchor": "x3",
         "domain": [
          0,
          1
         ],
         "matches": "y",
         "showticklabels": false
        }
       }
      }
     },
     "metadata": {},
     "output_type": "display_data"
    }
   ],
   "source": [
    "fig = px.histogram(all_data_infomap, x=\"mean_overlap_coef\", facet_col=\"rangos_fraccion\")\n",
    "fig.show()"
   ]
  },
  {
   "cell_type": "markdown",
   "metadata": {},
   "source": [
    "Definir una función que, dado un cluster, me muestre el df con los nodos, los puntajes de overlap y jaccard, un diagrama de venn y las estadísticas de tfidf con los términos. ( O juntar todo esto en una celda para cuando lo quiera mostrar)"
   ]
  },
  {
   "cell_type": "markdown",
   "metadata": {},
   "source": [
    "Cociente entre la media jaccard del cluster vs jaccard control.\n",
    "\n",
    "Control: \n",
    "Hago distribución GDA de nodos enfermedad y bineo logaritmico.\n",
    "\n",
    "Para cada cluster me fijo qué distribución tiene (tiene n nodos de cada bin) y tomo la misma cantidad de nodos con esa distribución.\n",
    "\n",
    "Comparo (cociente) el coef de jaccard de esos dos clusters\n",
    "\n",
    "Binear con una lista de potencias de 2"
   ]
  },
  {
   "cell_type": "markdown",
   "metadata": {},
   "source": [
    "Ver primeros vecinos:\n",
    "\n",
    "Conjunto de genes asociados + los primeros vecinos de esos genes\n",
    "\n",
    "Hacer control también"
   ]
  },
  {
   "cell_type": "markdown",
   "metadata": {},
   "source": [
    "Sacar de la red DD los que no tienen GDA, hacer clustering de nuevo y ver estas cuentas"
   ]
  }
 ],
 "metadata": {
  "kernelspec": {
   "display_name": "Python 3.10.6 64-bit",
   "language": "python",
   "name": "python3"
  },
  "language_info": {
   "codemirror_mode": {
    "name": "ipython",
    "version": 3
   },
   "file_extension": ".py",
   "mimetype": "text/x-python",
   "name": "python",
   "nbconvert_exporter": "python",
   "pygments_lexer": "ipython3",
   "version": "3.10.6"
  },
  "orig_nbformat": 4,
  "vscode": {
   "interpreter": {
    "hash": "916dbcbb3f70747c44a77c7bcd40155683ae19c65e1c03b4aa3499c5328201f1"
   }
  }
 },
 "nbformat": 4,
 "nbformat_minor": 2
}
