{
 "cells": [
  {
   "cell_type": "markdown",
   "metadata": {},
   "source": [
    "# Setup"
   ]
  },
  {
   "cell_type": "code",
   "execution_count": 2,
   "metadata": {},
   "outputs": [],
   "source": [
    "import pandas as pd\n",
    "import numpy as np\n",
    "import seaborn as sns\n",
    "import matplotlib.pyplot as plt\n",
    "import plotly.express as px\n",
    "from matplotlib_venn import venn3, venn2\n",
    "import random\n",
    "import plotly.io as pio\n",
    "from scipy import sparse\n",
    "import os "
   ]
  },
  {
   "cell_type": "code",
   "execution_count": 3,
   "metadata": {},
   "outputs": [],
   "source": [
    "seed = 16\n",
    "random.seed(seed)\n",
    "np.random.seed(seed)\n",
    "\n",
    "#esto es para forzar a plt a poner fondos blancos en las figuras aunque el tema del notebook sea oscuro\n",
    "#plt.rcParams['axes.facecolor'] = 'white'\n",
    "#plt.rcParams['figure.facecolor'] = 'white'\n",
    "cmap = plt.get_cmap(\"tab10\")\n",
    "pio.templates.default = \"seaborn\"\n",
    "\n",
    "sns.set_style(\"darkgrid\", rc={'xtick.bottom': True})"
   ]
  },
  {
   "cell_type": "code",
   "execution_count": 4,
   "metadata": {},
   "outputs": [],
   "source": [
    "data_processed = \"../../../data/processed/\"\n",
    "data_interim = \"../../../data/interim/\"\n",
    "data_external = \"../../../data/external/\"\n",
    "tfidf_reports = \"../../../reports/tfidf/\"\n",
    "reports_comunidades = \"../../../reports/analisis_comunidades/\"\n",
    "\n",
    "graph_node_data = pd.read_csv(data_processed+\"graph_data/grafo_alternativo_CG_nodos.csv\")\n",
    "disease_attributes = pd.read_csv(data_interim+\"grafo_alternativo_disease_attributes.csv\")\n",
    "\n",
    "nodos_bert = graph_node_data.loc[graph_node_data.node_type == \"bert_group\",[\"node_index\",\"node_id\",\"node_name\",\"node_source\"]].copy()\n",
    "disease_attributes = pd.concat([disease_attributes,nodos_bert])\n",
    "\n",
    "enfermedades_en_dd = graph_node_data.loc[graph_node_data.degree_dd != 0, \"node_index\"].values\n",
    "disease_attributes = disease_attributes.set_index(\"node_index\").loc[enfermedades_en_dd].reset_index()\n",
    "\n",
    "disease_attributes = pd.merge(graph_node_data[[\"node_index\",\"comunidades_infomap\",\"comunidades_louvain\"]],disease_attributes,left_on=\"node_index\",right_on=\"node_index\",how=\"right\")\n",
    "\n",
    "enfermedades = graph_node_data[(graph_node_data.node_type == \"disease\")|(graph_node_data.node_type == \"bert_group\")]"
   ]
  },
  {
   "cell_type": "code",
   "execution_count": null,
   "metadata": {},
   "outputs": [],
   "source": []
  }
 ],
 "metadata": {
  "kernelspec": {
   "display_name": "Python 3.10.6 64-bit",
   "language": "python",
   "name": "python3"
  },
  "language_info": {
   "codemirror_mode": {
    "name": "ipython",
    "version": 3
   },
   "file_extension": ".py",
   "mimetype": "text/x-python",
   "name": "python",
   "nbconvert_exporter": "python",
   "pygments_lexer": "ipython3",
   "version": "3.10.6"
  },
  "orig_nbformat": 4,
  "vscode": {
   "interpreter": {
    "hash": "916dbcbb3f70747c44a77c7bcd40155683ae19c65e1c03b4aa3499c5328201f1"
   }
  }
 },
 "nbformat": 4,
 "nbformat_minor": 2
}
