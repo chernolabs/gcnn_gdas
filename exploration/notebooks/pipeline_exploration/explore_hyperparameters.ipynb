{
 "cells": [
  {
   "attachments": {},
   "cell_type": "markdown",
   "metadata": {},
   "source": [
    "# Setup"
   ]
  },
  {
   "cell_type": "code",
   "execution_count": 3,
   "metadata": {},
   "outputs": [],
   "source": [
    "import pandas as pd\n",
    "import matplotlib.pyplot as plt\n",
    "import torch\n",
    "from sklearn.metrics import roc_auc_score\n",
    "import numpy as np\n",
    "import copy\n",
    "\n",
    "from tqdm import tqdm\n",
    "import sys\n",
    "sys.path.append(\"../../..\")\n",
    "from src.models import training_utils,base_model\n",
    "\n",
    "seed = 4\n",
    "data_folder = f\"../../../data/processed/graph_data_nohubs/merged_types/split_dataset/seed_{seed}/\""
   ]
  },
  {
   "attachments": {},
   "cell_type": "markdown",
   "metadata": {},
   "source": [
    "# Load data"
   ]
  },
  {
   "cell_type": "code",
   "execution_count": 4,
   "metadata": {},
   "outputs": [],
   "source": [
    "datasets, node_map = training_utils.load_data(data_folder)\n",
    "train_data, val_data = datasets\n",
    "\n",
    "full_set = torch.load(data_folder+\"full_dataset.pt\")\n",
    "device = torch.device('cuda' if torch.cuda.is_available() else 'cpu')"
   ]
  },
  {
   "cell_type": "code",
   "execution_count": 5,
   "metadata": {},
   "outputs": [
    {
     "data": {
      "text/html": [
       "<div>\n",
       "<style scoped>\n",
       "    .dataframe tbody tr th:only-of-type {\n",
       "        vertical-align: middle;\n",
       "    }\n",
       "\n",
       "    .dataframe tbody tr th {\n",
       "        vertical-align: top;\n",
       "    }\n",
       "\n",
       "    .dataframe thead th {\n",
       "        text-align: right;\n",
       "    }\n",
       "</style>\n",
       "<table border=\"1\" class=\"dataframe\">\n",
       "  <thead>\n",
       "    <tr style=\"text-align: right;\">\n",
       "      <th></th>\n",
       "      <th>node_index</th>\n",
       "      <th>node_id</th>\n",
       "      <th>node_name</th>\n",
       "      <th>node_type</th>\n",
       "      <th>node_source</th>\n",
       "      <th>tensor_index</th>\n",
       "      <th>comunidades_infomap</th>\n",
       "      <th>comunidades_louvain</th>\n",
       "      <th>degree_gda</th>\n",
       "      <th>degree_pp</th>\n",
       "      <th>degree_dd</th>\n",
       "      <th>total_degree</th>\n",
       "    </tr>\n",
       "  </thead>\n",
       "  <tbody>\n",
       "    <tr>\n",
       "      <th>0</th>\n",
       "      <td>0</td>\n",
       "      <td>1</td>\n",
       "      <td>A1BG</td>\n",
       "      <td>gene_protein</td>\n",
       "      <td>disgenet</td>\n",
       "      <td>0</td>\n",
       "      <td>NaN</td>\n",
       "      <td>NaN</td>\n",
       "      <td>2.0</td>\n",
       "      <td>12.0</td>\n",
       "      <td>0.0</td>\n",
       "      <td>14.0</td>\n",
       "    </tr>\n",
       "    <tr>\n",
       "      <th>1</th>\n",
       "      <td>653</td>\n",
       "      <td>10422</td>\n",
       "      <td>UBAC1</td>\n",
       "      <td>gene_protein</td>\n",
       "      <td>hippie</td>\n",
       "      <td>1</td>\n",
       "      <td>NaN</td>\n",
       "      <td>NaN</td>\n",
       "      <td>0.0</td>\n",
       "      <td>36.0</td>\n",
       "      <td>0.0</td>\n",
       "      <td>36.0</td>\n",
       "    </tr>\n",
       "    <tr>\n",
       "      <th>2</th>\n",
       "      <td>13168</td>\n",
       "      <td>63891</td>\n",
       "      <td>RNF123</td>\n",
       "      <td>gene_protein</td>\n",
       "      <td>disgenet</td>\n",
       "      <td>2</td>\n",
       "      <td>NaN</td>\n",
       "      <td>NaN</td>\n",
       "      <td>2.0</td>\n",
       "      <td>24.0</td>\n",
       "      <td>0.0</td>\n",
       "      <td>26.0</td>\n",
       "    </tr>\n",
       "    <tr>\n",
       "      <th>3</th>\n",
       "      <td>6638</td>\n",
       "      <td>284403</td>\n",
       "      <td>WDR62</td>\n",
       "      <td>gene_protein</td>\n",
       "      <td>disgenet</td>\n",
       "      <td>3</td>\n",
       "      <td>NaN</td>\n",
       "      <td>NaN</td>\n",
       "      <td>14.0</td>\n",
       "      <td>18.0</td>\n",
       "      <td>0.0</td>\n",
       "      <td>32.0</td>\n",
       "    </tr>\n",
       "    <tr>\n",
       "      <th>4</th>\n",
       "      <td>6611</td>\n",
       "      <td>284161</td>\n",
       "      <td>GDPD1</td>\n",
       "      <td>gene_protein</td>\n",
       "      <td>hippie</td>\n",
       "      <td>4</td>\n",
       "      <td>NaN</td>\n",
       "      <td>NaN</td>\n",
       "      <td>0.0</td>\n",
       "      <td>29.0</td>\n",
       "      <td>0.0</td>\n",
       "      <td>29.0</td>\n",
       "    </tr>\n",
       "    <tr>\n",
       "      <th>...</th>\n",
       "      <td>...</td>\n",
       "      <td>...</td>\n",
       "      <td>...</td>\n",
       "      <td>...</td>\n",
       "      <td>...</td>\n",
       "      <td>...</td>\n",
       "      <td>...</td>\n",
       "      <td>...</td>\n",
       "      <td>...</td>\n",
       "      <td>...</td>\n",
       "      <td>...</td>\n",
       "      <td>...</td>\n",
       "    </tr>\n",
       "    <tr>\n",
       "      <th>35834</th>\n",
       "      <td>35265</td>\n",
       "      <td>R-HSA-5579013</td>\n",
       "      <td>Defective CYP7B1 causes SPG5A and CBAS3</td>\n",
       "      <td>pathway</td>\n",
       "      <td>primekg_REACTOME</td>\n",
       "      <td>2012</td>\n",
       "      <td>NaN</td>\n",
       "      <td>NaN</td>\n",
       "      <td>0.0</td>\n",
       "      <td>1.0</td>\n",
       "      <td>0.0</td>\n",
       "      <td>1.0</td>\n",
       "    </tr>\n",
       "    <tr>\n",
       "      <th>35835</th>\n",
       "      <td>35260</td>\n",
       "      <td>R-HSA-5579007</td>\n",
       "      <td>Defective ACY1 causes encephalopathy</td>\n",
       "      <td>pathway</td>\n",
       "      <td>primekg_REACTOME</td>\n",
       "      <td>2013</td>\n",
       "      <td>NaN</td>\n",
       "      <td>NaN</td>\n",
       "      <td>0.0</td>\n",
       "      <td>1.0</td>\n",
       "      <td>0.0</td>\n",
       "      <td>1.0</td>\n",
       "    </tr>\n",
       "    <tr>\n",
       "      <th>35836</th>\n",
       "      <td>35152</td>\n",
       "      <td>R-HSA-4687000</td>\n",
       "      <td>Defective MPDU1 causes MPDU1-CDG (CDG-1f)</td>\n",
       "      <td>pathway</td>\n",
       "      <td>primekg_REACTOME</td>\n",
       "      <td>2014</td>\n",
       "      <td>NaN</td>\n",
       "      <td>NaN</td>\n",
       "      <td>0.0</td>\n",
       "      <td>1.0</td>\n",
       "      <td>0.0</td>\n",
       "      <td>1.0</td>\n",
       "    </tr>\n",
       "    <tr>\n",
       "      <th>35837</th>\n",
       "      <td>34551</td>\n",
       "      <td>R-HSA-1855231</td>\n",
       "      <td>Synthesis of IPs in the ER lumen</td>\n",
       "      <td>pathway</td>\n",
       "      <td>primekg_REACTOME</td>\n",
       "      <td>2015</td>\n",
       "      <td>NaN</td>\n",
       "      <td>NaN</td>\n",
       "      <td>0.0</td>\n",
       "      <td>1.0</td>\n",
       "      <td>0.0</td>\n",
       "      <td>1.0</td>\n",
       "    </tr>\n",
       "    <tr>\n",
       "      <th>35838</th>\n",
       "      <td>35310</td>\n",
       "      <td>R-HSA-5619039</td>\n",
       "      <td>Defective SLC12A6 causes agenesis of the corpu...</td>\n",
       "      <td>pathway</td>\n",
       "      <td>primekg_REACTOME</td>\n",
       "      <td>2016</td>\n",
       "      <td>NaN</td>\n",
       "      <td>NaN</td>\n",
       "      <td>0.0</td>\n",
       "      <td>1.0</td>\n",
       "      <td>0.0</td>\n",
       "      <td>1.0</td>\n",
       "    </tr>\n",
       "  </tbody>\n",
       "</table>\n",
       "<p>35839 rows × 12 columns</p>\n",
       "</div>"
      ],
      "text/plain": [
       "       node_index        node_id  \\\n",
       "0               0              1   \n",
       "1             653          10422   \n",
       "2           13168          63891   \n",
       "3            6638         284403   \n",
       "4            6611         284161   \n",
       "...           ...            ...   \n",
       "35834       35265  R-HSA-5579013   \n",
       "35835       35260  R-HSA-5579007   \n",
       "35836       35152  R-HSA-4687000   \n",
       "35837       34551  R-HSA-1855231   \n",
       "35838       35310  R-HSA-5619039   \n",
       "\n",
       "                                               node_name     node_type  \\\n",
       "0                                                   A1BG  gene_protein   \n",
       "1                                                  UBAC1  gene_protein   \n",
       "2                                                 RNF123  gene_protein   \n",
       "3                                                  WDR62  gene_protein   \n",
       "4                                                  GDPD1  gene_protein   \n",
       "...                                                  ...           ...   \n",
       "35834            Defective CYP7B1 causes SPG5A and CBAS3       pathway   \n",
       "35835               Defective ACY1 causes encephalopathy       pathway   \n",
       "35836          Defective MPDU1 causes MPDU1-CDG (CDG-1f)       pathway   \n",
       "35837                   Synthesis of IPs in the ER lumen       pathway   \n",
       "35838  Defective SLC12A6 causes agenesis of the corpu...       pathway   \n",
       "\n",
       "            node_source  tensor_index  comunidades_infomap  \\\n",
       "0              disgenet             0                  NaN   \n",
       "1                hippie             1                  NaN   \n",
       "2              disgenet             2                  NaN   \n",
       "3              disgenet             3                  NaN   \n",
       "4                hippie             4                  NaN   \n",
       "...                 ...           ...                  ...   \n",
       "35834  primekg_REACTOME          2012                  NaN   \n",
       "35835  primekg_REACTOME          2013                  NaN   \n",
       "35836  primekg_REACTOME          2014                  NaN   \n",
       "35837  primekg_REACTOME          2015                  NaN   \n",
       "35838  primekg_REACTOME          2016                  NaN   \n",
       "\n",
       "       comunidades_louvain  degree_gda  degree_pp  degree_dd  total_degree  \n",
       "0                      NaN         2.0       12.0        0.0          14.0  \n",
       "1                      NaN         0.0       36.0        0.0          36.0  \n",
       "2                      NaN         2.0       24.0        0.0          26.0  \n",
       "3                      NaN        14.0       18.0        0.0          32.0  \n",
       "4                      NaN         0.0       29.0        0.0          29.0  \n",
       "...                    ...         ...        ...        ...           ...  \n",
       "35834                  NaN         0.0        1.0        0.0           1.0  \n",
       "35835                  NaN         0.0        1.0        0.0           1.0  \n",
       "35836                  NaN         0.0        1.0        0.0           1.0  \n",
       "35837                  NaN         0.0        1.0        0.0           1.0  \n",
       "35838                  NaN         0.0        1.0        0.0           1.0  \n",
       "\n",
       "[35839 rows x 12 columns]"
      ]
     },
     "execution_count": 5,
     "metadata": {},
     "output_type": "execute_result"
    }
   ],
   "source": [
    "df = pd.read_csv(data_folder+\"tensor_df.csv\",index_col=0)\n",
    "df"
   ]
  },
  {
   "cell_type": "code",
   "execution_count": 6,
   "metadata": {},
   "outputs": [],
   "source": [
    "def run_experiment(params, train_set, val_set,negative_sampler):\n",
    "    # Initialize node features\n",
    "    if params[\"feature_type\"] != \"lsa\":\n",
    "        train_set = training_utils.initialize_features(\n",
    "            train_set, params[\"feature_type\"], params[\"feature_dim\"]\n",
    "        )\n",
    "        val_set = training_utils.initialize_features(\n",
    "            val_set, params[\"feature_type\"], params[\"feature_dim\"]\n",
    "        )\n",
    "    else:\n",
    "        #TODO: sacar el data_folder este\n",
    "        train_set = training_utils.initialize_features(\n",
    "            train_set, params[\"feature_type\"], params[\"feature_dim\"], data_folder\n",
    "        )\n",
    "        val_set = training_utils.initialize_features(\n",
    "            val_set, params[\"feature_type\"], params[\"feature_dim\"], data_folder\n",
    "        )\n",
    "\n",
    "    train_set.to(device)\n",
    "    val_set.to(device)\n",
    "\n",
    "    # Initialize model\n",
    "    model = base_model.base_model(\n",
    "        params, train_set.metadata(), params[\"supervision_types\"]\n",
    "    )\n",
    "    model = model.to(device)\n",
    "\n",
    "    optimizer = torch.optim.Adam(\n",
    "        model.parameters(), lr=params[\"lr\"], weight_decay=params[\"weight_decay\"]\n",
    "    )\n",
    "    train_losses = []\n",
    "    val_losses = []\n",
    "    train_scores = []\n",
    "    val_scores = []\n",
    "\n",
    "    epochs = params[\"epochs\"]\n",
    "\n",
    "    early_stopper = training_utils.EarlyStopper(params[\"patience\"], params[\"delta\"])\n",
    "    train_label_index = train_set[\"gene_protein\",\"gda\",\"disease\"][\"edge_label_index\"]\n",
    "    for epoch in tqdm(range(epochs)):\n",
    "        #Resample supervision links every k epochs\n",
    "        if epoch%params[\"sample_epochs\"] == 0:\n",
    "            sample_index = torch.randint(high=train_label_index.shape[1], size=(round(params[\"sample_ratio\"]*train_label_index.shape[1]),))\n",
    "            positive_sample = train_label_index[:,sample_index]\n",
    "\n",
    "            positive_sample = train_label_index\n",
    "            new_train_label_index, new_train_label = negative_sampler.get_labeled_tensors(positive_sample,\"corrupt_both\")\n",
    "            train_set[\"gene_protein\",\"gda\",\"disease\"][\"edge_label_index\"] = new_train_label_index\n",
    "            train_set[\"gene_protein\",\"gda\",\"disease\"][\"edge_label\"] = new_train_label\n",
    "\n",
    "        train_loss = training_utils.train(model, optimizer, train_set)\n",
    "        val_loss = training_utils.get_val_loss(model, val_set)\n",
    "\n",
    "        train_score = training_utils.test(model, train_set)\n",
    "        val_score = training_utils.test(model, val_set)\n",
    "\n",
    "        train_losses.append(train_loss)\n",
    "        train_scores.append(train_score)\n",
    "\n",
    "        val_scores.append(val_score)\n",
    "        val_losses.append(val_loss)\n",
    "\n",
    "        if early_stopper.early_stop(val_loss):\n",
    "            print(\"Early stopping\")\n",
    "            break\n",
    "\n",
    "    val_auc = training_utils.test(model, val_set)\n",
    "    curve_data = [train_losses, val_losses, train_scores, val_scores]\n",
    "\n",
    "    return val_auc, model, curve_data"
   ]
  },
  {
   "cell_type": "code",
   "execution_count": 7,
   "metadata": {},
   "outputs": [],
   "source": [
    "from sklearn.model_selection import ParameterGrid\n",
    "def perform_hyperparameter_search(param_grid, train_set, val_set,negative_sampler):\n",
    "  \n",
    "  default = {\n",
    "      \"hidden_channels\":[32],\n",
    "      \"conv_type\":[\"SAGEConv\"],\n",
    "      \"batch_norm\": [True],\n",
    "      \"dropout\":[0.1],\n",
    "      \"micro_aggregation\":[\"mean\"],\n",
    "      \"macro_aggregation\":[\"mean\"],\n",
    "      \"layer_connectivity\":[None],\n",
    "      \"L2_norm\":[False],\n",
    "      \"pre_process_layers\":[0],\n",
    "      \"msg_passing_layers\":[2],\n",
    "      \"post_process_layers\":[0],\n",
    "      \"normalize_output\":[False],\n",
    "      \"jumping_knowledge\":[False],\n",
    "\n",
    "      \"feature_dim\":[10],\n",
    "      \"feature_type\":[\"random\"],\n",
    "      \"supervision_types\":[[('gene_protein', 'gda', 'disease')]],\n",
    "\n",
    "      'weight_decay': [1e-3],\n",
    "      'lr': [0.001],\n",
    "      'epochs':[400],\n",
    "      \"patience\":[10],\n",
    "      \"delta\":[0.1]\n",
    "  }\n",
    "\n",
    "  for arg in default:\n",
    "    if arg not in param_grid:\n",
    "      param_grid[arg] = default[arg]\n",
    "\n",
    "  grid = ParameterGrid(param_grid)\n",
    "\n",
    "  auc_results = []\n",
    "  models = []\n",
    "\n",
    "  for eid,params in enumerate(grid):\n",
    "    # Launch a training experiment using the current set of parameters\n",
    "    val_auc,current_model,curve_data = run_experiment(\n",
    "                   params,\n",
    "                   train_set,\n",
    "                   val_set,\n",
    "                   negative_sampler)\n",
    "    \n",
    "    params[\"auc\"] = val_auc\n",
    "    params[\"curve_data\"] = curve_data\n",
    "\n",
    "    auc_results.append(params)\n",
    "    models.append(current_model)\n",
    "\n",
    "    print(f\"Validation AUC: {round(val_auc,2)}. Iteration: {eid+1} of {grid.__len__()}\")\n",
    "\n",
    "  return auc_results, models"
   ]
  },
  {
   "cell_type": "code",
   "execution_count": 8,
   "metadata": {},
   "outputs": [],
   "source": [
    "test_grid = {\n",
    "    \"hidden_channels\": [32],\n",
    "    \"conv_type\": [\"SAGEConv\"],\n",
    "    \"batch_norm\": [True],\n",
    "    \"dropout\": [0.1],\n",
    "    \"micro_aggregation\": [\"mean\"],\n",
    "    \"macro_aggregation\": [\"max\"],\n",
    "    \"layer_connectivity\": [None],\n",
    "    \"L2_norm\": [True],\n",
    "    \"pre_process_layers\": [1],\n",
    "    \"msg_passing_layers\": [4],\n",
    "    \"post_process_layers\": [1],\n",
    "    \"normalize_output\": [False],\n",
    "    \"jumping_knowledge\": [True],\n",
    "    \"heads\": [2],\n",
    "\n",
    "    \"feature_dim\": [10],\n",
    "    \"feature_type\": [\"lsa\"],\n",
    "    \"supervision_types\": [[('gene_protein', 'gda', 'disease')]],\n",
    "\n",
    "    'weight_decay': [1e-3],\n",
    "    'lr': [0.001],\n",
    "    'epochs': [400],\n",
    "    \"patience\": [10],\n",
    "    \"delta\": [0.1],\n",
    "    \n",
    "    \"sample_epochs\":[10],\n",
    "    \"sample_ratio\":[0.8]\n",
    "}\n",
    "\n",
    "negative_sampler = training_utils.NegativeSampler(full_set,(\"gene_protein\",\"gda\",\"disease\"),full_set[\"gene_protein\"][\"degree_gda\"],full_set[\"disease\"][\"degree_gda\"])\n",
    "# auc, models = perform_hyperparameter_search(test_grid,train_data,val_data,negative_sampler)"
   ]
  },
  {
   "attachments": {},
   "cell_type": "markdown",
   "metadata": {},
   "source": [
    "Curvita para elegir la temperatura:"
   ]
  },
  {
   "cell_type": "code",
   "execution_count": 103,
   "metadata": {},
   "outputs": [
    {
     "data": {
      "image/png": "[encoded data removed]",
      "text/plain": [
       "<Figure size 640x480 with 1 Axes>"
      ]
     },
     "metadata": {},
     "output_type": "display_data"
    }
   ],
   "source": [
    "x = np.arange(0.1,1,0.05)\n",
    "y = np.exp(-0.5/x)\n",
    "\n",
    "plt.plot(x,y)\n",
    "plt.grid(True)"
   ]
  },
  {
   "cell_type": "code",
   "execution_count": 175,
   "metadata": {},
   "outputs": [
    {
     "data": {
      "text/plain": [
       "[[32,\n",
       "  'SAGEConv',\n",
       "  'mean',\n",
       "  'sum',\n",
       "  None,\n",
       "  True,\n",
       "  0,\n",
       "  1,\n",
       "  0,\n",
       "  False,\n",
       "  False,\n",
       "  16,\n",
       "  'random_xavier']]"
      ]
     },
     "execution_count": 175,
     "metadata": {},
     "output_type": "execute_result"
    }
   ],
   "source": [
    "class ParameterWalker():\n",
    "    def __init__(self, start, possible_params) -> None:\n",
    "        self.possible_params = possible_params\n",
    "        self.start = start\n",
    "        self.historial = [list(start.values())]\n",
    "        self.dimensions = np.array(list(self.possible_params.keys()))\n",
    "        self.current_params = copy.copy(start)\n",
    "    \n",
    "    def update_params(self):\n",
    "        chosen_dim = np.random.choice(self.dimensions,1)[0]\n",
    "        print(chosen_dim)\n",
    "        values = self.possible_params[chosen_dim]\n",
    "        flip_coin = np.random.choice([-1,1],1)[0]\n",
    "        current_index = values.index(self.current_params[chosen_dim])\n",
    "        new_index = (current_index + flip_coin)% len(values)\n",
    "\n",
    "        new_params = copy.copy(self.current_params)\n",
    "        new_params[chosen_dim] = values[new_index]\n",
    "        print(new_params[chosen_dim])\n",
    "        self.current_params = new_params\n",
    "        return new_params\n",
    "    \n",
    "    def next(self):\n",
    "        new_params = self.update_params()\n",
    "        while list(new_params.values()) in self.historial:\n",
    "            new_params = self.update_params()\n",
    "        \n",
    "        self.historial.append(list(new_params.values()))\n",
    "        return new_params\n",
    "\n",
    "param_walker = ParameterWalker(start_params,model_param_grid)\n",
    "param_walker.historial"
   ]
  },
  {
   "cell_type": "code",
   "execution_count": 82,
   "metadata": {},
   "outputs": [
    {
     "data": {
      "text/plain": [
       "{'hidden_channels': 32,\n",
       " 'conv_type': 'SAGEConv',\n",
       " 'micro_aggregation': 'mean',\n",
       " 'macro_aggregation': 'sum',\n",
       " 'layer_connectivity': None,\n",
       " 'L2_norm': True,\n",
       " 'pre_process_layers': 0,\n",
       " 'msg_passing_layers': 1,\n",
       " 'post_process_layers': 0,\n",
       " 'normalize_output': False,\n",
       " 'jumping_knowledge': True,\n",
       " 'feature_dim': 16,\n",
       " 'feature_type': 'random_xavier'}"
      ]
     },
     "execution_count": 82,
     "metadata": {},
     "output_type": "execute_result"
    }
   ],
   "source": [
    "a = param_walker.next()\n",
    "a"
   ]
  },
  {
   "attachments": {},
   "cell_type": "markdown",
   "metadata": {},
   "source": [
    "Para \"pre análisis\": BN, dropout,lr,patience,delta,sampling k"
   ]
  },
  {
   "cell_type": "code",
   "execution_count": 179,
   "metadata": {},
   "outputs": [],
   "source": [
    "model_param_grid = {\n",
    "    \"hidden_channels\": [32, 64, 128],\n",
    "    \"conv_type\": [\"SAGEConv\", \"GATConv\"],\n",
    "    \"micro_aggregation\": [\"mean\", \"sum\", \"max\"],\n",
    "    \"macro_aggregation\": [\"mean\", \"sum\", \"max\"],\n",
    "    \"layer_connectivity\": [None, \"skipcat\"],\n",
    "    \"L2_norm\": [True, False],\n",
    "    \"pre_process_layers\": [0, 1, 2],\n",
    "    \"msg_passing_layers\": [1, 2, 3, 4],\n",
    "    \"post_process_layers\": [0, 1, 2],\n",
    "    \"normalize_output\": [False, True],\n",
    "    \"jumping_knowledge\": [True, False],\n",
    "    \"feature_dim\": [16, 32, 64, 128],\n",
    "    \"feature_type\": [\"random\", \"random_xavier\", \"ones\", \"lsa\"],\n",
    "}\n",
    "\n",
    "fixed_params = {\n",
    "    \"heads\": 2,\n",
    "    \"batch_norm\": True,\n",
    "    \"dropout\": 0.1,\n",
    "    \"weight_decay\": 1e-3,\n",
    "    \"lr\": 1e-3,\n",
    "    \"epochs\": 400,\n",
    "    \"patience\": 10,\n",
    "    \"delta\": 0.1,\n",
    "    \"sample_epochs\": 10,\n",
    "    \"sample_ratio\": 0.8,\n",
    "    \"supervision_types\":[('gene_protein', 'gda', 'disease')]\n",
    "}\n",
    "\n",
    "start_params = {\"hidden_channels\":32,\n",
    "                \"conv_type\":\"SAGEConv\",\n",
    "                \"micro_aggregation\":\"mean\",\n",
    "                \"macro_aggregation\":\"sum\",\n",
    "                \"layer_connectivity\":None,\n",
    "                \"L2_norm\":True,\n",
    "                \"pre_process_layers\":0,\n",
    "                \"msg_passing_layers\":1,\n",
    "                \"post_process_layers\":0,\n",
    "                \"normalize_output\":False,\n",
    "                \"jumping_knowledge\":False,\n",
    "                \"feature_dim\":16,\n",
    "                \"feature_type\":\"random_xavier\"}"
   ]
  },
  {
   "cell_type": "code",
   "execution_count": 96,
   "metadata": {},
   "outputs": [
    {
     "name": "stderr",
     "output_type": "stream",
     "text": [
      "  0%|          | 0/400 [00:00<?, ?it/s]"
     ]
    },
    {
     "name": "stderr",
     "output_type": "stream",
     "text": [
      "100%|██████████| 400/400 [00:37<00:00, 10.74it/s]\n"
     ]
    }
   ],
   "source": [
    "experiment_params = start_params|fixed_params\n",
    "val_auc, model, curve_data = run_experiment(experiment_params,train_data,val_data,negative_sampler)"
   ]
  },
  {
   "cell_type": "code",
   "execution_count": 180,
   "metadata": {},
   "outputs": [
    {
     "name": "stderr",
     "output_type": "stream",
     "text": [
      "  0%|          | 0/400 [00:00<?, ?it/s]"
     ]
    },
    {
     "name": "stderr",
     "output_type": "stream",
     "text": [
      "100%|██████████| 400/400 [00:39<00:00, 10.24it/s]\n"
     ]
    },
    {
     "name": "stdout",
     "output_type": "stream",
     "text": [
      "0.503\n"
     ]
    },
    {
     "name": "stderr",
     "output_type": "stream",
     "text": [
      "  0%|          | 0/10 [00:00<?, ?it/s]"
     ]
    },
    {
     "name": "stdout",
     "output_type": "stream",
     "text": [
      "macro_aggregation\n",
      "max\n"
     ]
    },
    {
     "name": "stderr",
     "output_type": "stream",
     "text": [
      "100%|██████████| 400/400 [00:42<00:00,  9.38it/s]\n",
      " 10%|█         | 1/10 [00:42<06:24, 42.68s/it]"
     ]
    },
    {
     "name": "stdout",
     "output_type": "stream",
     "text": [
      "0.493 True\n",
      "jumping_knowledge\n",
      "True\n"
     ]
    },
    {
     "name": "stderr",
     "output_type": "stream",
     "text": [
      "100%|██████████| 400/400 [00:51<00:00,  7.84it/s]\n",
      " 20%|██        | 2/10 [01:33<06:20, 47.61s/it]"
     ]
    },
    {
     "name": "stdout",
     "output_type": "stream",
     "text": [
      "0.489 True\n",
      "L2_norm\n",
      "False\n"
     ]
    },
    {
     "name": "stderr",
     "output_type": "stream",
     "text": [
      "100%|██████████| 400/400 [00:47<00:00,  8.43it/s]\n",
      " 30%|███       | 3/10 [02:21<05:32, 47.55s/it]"
     ]
    },
    {
     "name": "stdout",
     "output_type": "stream",
     "text": [
      "0.505 True\n",
      "macro_aggregation\n",
      "sum\n"
     ]
    },
    {
     "name": "stderr",
     "output_type": "stream",
     "text": [
      "100%|██████████| 400/400 [00:40<00:00,  9.87it/s]\n",
      " 40%|████      | 4/10 [03:01<04:28, 44.80s/it]/home/ingrid/Documents/tesis/gcnn_gdas/venv/lib/python3.10/site-packages/torch/nn/modules/lazy.py:180: UserWarning: Lazy modules are a new feature under heavy development so changes to the API or functionality can happen at any moment.\n",
      "  warnings.warn('Lazy modules are a new feature under heavy development '\n"
     ]
    },
    {
     "name": "stdout",
     "output_type": "stream",
     "text": [
      "0.501 True\n",
      "pre_process_layers\n",
      "1\n"
     ]
    },
    {
     "name": "stderr",
     "output_type": "stream",
     "text": [
      " 28%|██▊       | 110/400 [00:18<00:49,  5.85it/s]\n",
      " 50%|█████     | 5/10 [03:20<02:57, 35.45s/it]/home/ingrid/Documents/tesis/gcnn_gdas/venv/lib/python3.10/site-packages/torch/nn/modules/lazy.py:180: UserWarning: Lazy modules are a new feature under heavy development so changes to the API or functionality can happen at any moment.\n",
      "  warnings.warn('Lazy modules are a new feature under heavy development '\n"
     ]
    },
    {
     "name": "stdout",
     "output_type": "stream",
     "text": [
      "Early stopping\n",
      "0.512 True\n",
      "hidden_channels\n",
      "128\n"
     ]
    },
    {
     "name": "stderr",
     "output_type": "stream",
     "text": [
      " 22%|██▏       | 89/400 [01:00<03:32,  1.46it/s]\n",
      " 60%|██████    | 6/10 [04:21<02:56, 44.15s/it]/home/ingrid/Documents/tesis/gcnn_gdas/venv/lib/python3.10/site-packages/torch/nn/modules/lazy.py:180: UserWarning: Lazy modules are a new feature under heavy development so changes to the API or functionality can happen at any moment.\n",
      "  warnings.warn('Lazy modules are a new feature under heavy development '\n"
     ]
    },
    {
     "name": "stdout",
     "output_type": "stream",
     "text": [
      "Early stopping\n",
      "0.515 True\n",
      "L2_norm\n",
      "True\n"
     ]
    },
    {
     "name": "stderr",
     "output_type": "stream",
     "text": [
      "100%|██████████| 400/400 [04:13<00:00,  1.58it/s]\n",
      " 70%|███████   | 7/10 [08:35<05:37, 112.64s/it]/home/ingrid/Documents/tesis/gcnn_gdas/venv/lib/python3.10/site-packages/torch/nn/modules/lazy.py:180: UserWarning: Lazy modules are a new feature under heavy development so changes to the API or functionality can happen at any moment.\n",
      "  warnings.warn('Lazy modules are a new feature under heavy development '\n"
     ]
    },
    {
     "name": "stdout",
     "output_type": "stream",
     "text": [
      "0.515 True\n",
      "micro_aggregation\n",
      "max\n"
     ]
    },
    {
     "name": "stderr",
     "output_type": "stream",
     "text": [
      "100%|██████████| 400/400 [04:57<00:00,  1.34it/s]\n",
      " 80%|████████  | 8/10 [13:32<05:43, 171.51s/it]"
     ]
    },
    {
     "name": "stdout",
     "output_type": "stream",
     "text": [
      "0.566 True\n",
      "pre_process_layers\n",
      "0\n"
     ]
    },
    {
     "name": "stderr",
     "output_type": "stream",
     "text": [
      "100%|██████████| 400/400 [02:17<00:00,  2.91it/s]\n",
      " 90%|█████████ | 9/10 [15:50<02:40, 160.83s/it]"
     ]
    },
    {
     "name": "stdout",
     "output_type": "stream",
     "text": [
      "0.632 True\n",
      "msg_passing_layers\n",
      "4\n"
     ]
    },
    {
     "name": "stderr",
     "output_type": "stream",
     "text": [
      "100%|██████████| 400/400 [15:05<00:00,  2.26s/it]\n",
      "100%|██████████| 10/10 [30:56<00:00, 185.65s/it]"
     ]
    },
    {
     "name": "stdout",
     "output_type": "stream",
     "text": [
      "0.651 True\n"
     ]
    },
    {
     "name": "stderr",
     "output_type": "stream",
     "text": [
      "\n"
     ]
    },
    {
     "data": {
      "text/plain": [
       "[<matplotlib.lines.Line2D at 0x7fc260694430>]"
      ]
     },
     "execution_count": 180,
     "metadata": {},
     "output_type": "execute_result"
    },
    {
     "data": {
      "image/png": "[encoded data removed]",
      "text/plain": [
       "<Figure size 640x480 with 1 Axes>"
      ]
     },
     "metadata": {},
     "output_type": "display_data"
    }
   ],
   "source": [
    "param_walker = ParameterWalker(start_params,model_param_grid)\n",
    "T = 0.2\n",
    "steps = 10\n",
    "current_params = start_params|fixed_params\n",
    "current_auc, current_model, curent_curve = run_experiment(experiment_params,train_data,val_data,negative_sampler)\n",
    "print(current_auc)\n",
    "\n",
    "auc_chain = [current_auc]\n",
    "param_chain = [list(current_params.values())]\n",
    "\n",
    "for i in tqdm(range(steps)):\n",
    "    new_params = param_walker.next()|fixed_params\n",
    "    new_auc,new_model,new_curve = run_experiment(new_params,train_data,val_data,negative_sampler)\n",
    "\n",
    "    delta = new_auc - current_auc\n",
    "    P = min([np.exp(delta/T),1])\n",
    "    roll = np.random.rand()\n",
    "    accept_step = roll < P \n",
    "    print(new_auc,accept_step)\n",
    "    if accept_step:\n",
    "        auc_chain.append(new_auc)\n",
    "        param_chain.append(list(new_params.values()))\n",
    "        \n",
    "        current_auc = new_auc\n",
    "\n",
    "plt.scatter(np.arange(len(auc_chain)),auc_chain)\n",
    "plt.xlabel(\"step\")\n",
    "plt.ylabel(\"auc\")\n",
    "plt.grid(True)"
   ]
  },
  {
   "cell_type": "code",
   "execution_count": 187,
   "metadata": {},
   "outputs": [
    {
     "data": {
      "text/plain": [
       "[128,\n",
       " 'SAGEConv',\n",
       " 'max',\n",
       " 'sum',\n",
       " None,\n",
       " True,\n",
       " 0,\n",
       " 4,\n",
       " 0,\n",
       " False,\n",
       " True,\n",
       " 16,\n",
       " 'random_xavier',\n",
       " 2,\n",
       " True,\n",
       " 0.1,\n",
       " 0.001,\n",
       " 0.001,\n",
       " 400,\n",
       " 10,\n",
       " 0.1,\n",
       " 10,\n",
       " 0.8,\n",
       " [('gene_protein', 'gda', 'disease')]]"
      ]
     },
     "execution_count": 187,
     "metadata": {},
     "output_type": "execute_result"
    }
   ],
   "source": [
    "param_chain[-1]"
   ]
  },
  {
   "cell_type": "code",
   "execution_count": 186,
   "metadata": {},
   "outputs": [
    {
     "data": {
      "image/png": "[encoded data removed]",
      "text/plain": [
       "<Figure size 640x480 with 1 Axes>"
      ]
     },
     "metadata": {},
     "output_type": "display_data"
    }
   ],
   "source": [
    "plt.scatter(np.arange(len(auc_chain)),auc_chain)\n",
    "plt.xlabel(\"step\")\n",
    "plt.ylabel(\"auc\")\n",
    "plt.grid(True)"
   ]
  },
  {
   "cell_type": "code",
   "execution_count": 152,
   "metadata": {},
   "outputs": [
    {
     "data": {
      "image/png": "[encoded data removed]",
      "text/plain": [
       "<Figure size 640x480 with 1 Axes>"
      ]
     },
     "metadata": {},
     "output_type": "display_data"
    },
    {
     "data": {
      "image/png": "[encoded data removed]",
      "text/plain": [
       "<Figure size 640x480 with 1 Axes>"
      ]
     },
     "metadata": {},
     "output_type": "display_data"
    }
   ],
   "source": [
    "plt.figure()\n",
    "plt.plot(curve_data[0])\n",
    "plt.plot(curve_data[1])\n",
    "plt.show()\n",
    "\n",
    "plt.figure()\n",
    "plt.plot(curve_data[2])\n",
    "plt.plot(curve_data[3])\n",
    "plt.show()"
   ]
  }
 ],
 "metadata": {
  "kernelspec": {
   "display_name": "venv",
   "language": "python",
   "name": "python3"
  },
  "language_info": {
   "codemirror_mode": {
    "name": "ipython",
    "version": 3
   },
   "file_extension": ".py",
   "mimetype": "text/x-python",
   "name": "python",
   "nbconvert_exporter": "python",
   "pygments_lexer": "ipython3",
   "version": "3.10.12"
  },
  "orig_nbformat": 4
 },
 "nbformat": 4,
 "nbformat_minor": 2
}
