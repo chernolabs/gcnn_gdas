{
 "cells": [
  {
   "attachments": {},
   "cell_type": "markdown",
   "metadata": {},
   "source": [
    "# Setup"
   ]
  },
  {
   "cell_type": "code",
   "execution_count": 1,
   "metadata": {},
   "outputs": [
    {
     "name": "stdout",
     "output_type": "stream",
     "text": [
      "Not running on Colab\n"
     ]
    }
   ],
   "source": [
    "import torch\n",
    "\n",
    "if 'google.colab' in str(get_ipython()):\n",
    "  print('Running on Colab')\n",
    "  running_on_colab = True\n",
    "else:\n",
    "  print('Not running on Colab')\n",
    "  running_on_colab = False\n",
    "\n",
    "if running_on_colab:\n",
    "    print(torch.__version__)\n",
    "    !pip install torch-scatter torch-sparse -f https://data.pyg.org/whl/torch-{torch.__version__}.html\n",
    "    !pip install -q git+https://github.com/pyg-team/pytorch_geometric.git\n",
    "    !pip install -q git+https://github.com/snap-stanford/deepsnap.git\n",
    "    !pip install pyarrow\n",
    "    !pip install fastparquet\n",
    "\n",
    "    from google.colab import drive\n",
    "    drive.mount('/content/drive')\n",
    "    filepath = '/content/drive/MyDrive/GCNN/'\n",
    "    data_folder = filepath+\"graph_data/\"\n",
    "    experiments_folder = filepath+\"experiments/merged_types_experiments/\"\n",
    "\n",
    "    import sys\n",
    "    sys.path.append(filepath + \"run_in_colab\")\n",
    "\n",
    "else:\n",
    "    data_folder = \"../../../data/processed/graph_data_nohubs/merged_types/\"\n",
    "    experiments_folder = \"../../../data/experiments/design_space_merged_experiment/\""
   ]
  },
  {
   "cell_type": "code",
   "execution_count": 2,
   "metadata": {},
   "outputs": [],
   "source": [
    "import base_model, colab_utils\n",
    "import pandas as pd\n",
    "import itertools\n",
    "import datetime\n",
    "import numpy as np\n",
    "from tqdm import tqdm\n",
    "from sklearn.metrics import roc_auc_score\n",
    "from torch_geometric import seed_everything"
   ]
  },
  {
   "attachments": {},
   "cell_type": "markdown",
   "metadata": {},
   "source": [
    "# Load data"
   ]
  },
  {
   "cell_type": "code",
   "execution_count": 3,
   "metadata": {},
   "outputs": [],
   "source": [
    "seed = 5\n",
    "seed_everything(seed)\n",
    "path = data_folder + \"split_dataset/\" + f\"seed_{seed}/\"\n",
    "experiments_folder = experiments_folder + f\"seed_{seed}/\"\n",
    "datasets,_ = colab_utils.load_data(path)\n",
    "original_train_data, original_val_data = datasets\n",
    "full_set = torch.load(path+\"full_dataset.pt\")\n",
    "device = torch.device('cuda' if torch.cuda.is_available() else 'cpu')"
   ]
  },
  {
   "attachments": {},
   "cell_type": "markdown",
   "metadata": {},
   "source": [
    "# Experiments"
   ]
  },
  {
   "attachments": {},
   "cell_type": "markdown",
   "metadata": {},
   "source": [
    "## Run a single experiment"
   ]
  },
  {
   "cell_type": "code",
   "execution_count": 58,
   "metadata": {},
   "outputs": [],
   "source": [
    "def run_experiment(params, train_set, val_set,negative_sampler):\n",
    "    # Initialize node features\n",
    "    if params[\"feature_type\"] != \"lsa\":\n",
    "        train_set = colab_utils.initialize_features(\n",
    "            train_set, params[\"feature_type\"], params[\"feature_dim\"]\n",
    "        )\n",
    "        val_set = colab_utils.initialize_features(\n",
    "            val_set, params[\"feature_type\"], params[\"feature_dim\"]\n",
    "        )\n",
    "    else:\n",
    "        train_set = colab_utils.initialize_features(\n",
    "            train_set, params[\"feature_type\"], params[\"feature_dim\"], path\n",
    "        )\n",
    "        val_set = colab_utils.initialize_features(\n",
    "            val_set, params[\"feature_type\"], params[\"feature_dim\"], path\n",
    "        )\n",
    "\n",
    "    train_set.to(device)\n",
    "    val_set.to(device)\n",
    "\n",
    "    # Initialize model\n",
    "    model = base_model.base_model(\n",
    "        params, train_set.metadata(), params[\"supervision_types\"]\n",
    "    )\n",
    "    model = model.to(device)\n",
    "\n",
    "    optimizer = torch.optim.Adam(\n",
    "        model.parameters(), lr=params[\"lr\"], weight_decay=params[\"weight_decay\"]\n",
    "    )\n",
    "    train_losses = []\n",
    "    val_losses = []\n",
    "    train_scores = []\n",
    "    val_scores = []\n",
    "\n",
    "    epochs = params[\"epochs\"]\n",
    "\n",
    "    early_stopper = colab_utils.EarlyStopper(params[\"patience\"], params[\"delta\"])\n",
    "    train_label_index = train_set[\"gene_protein\",\"gda\",\"disease\"][\"edge_label_index\"]\n",
    "    for epoch in tqdm(range(epochs)):\n",
    "        #Resample supervision links every k epochs\n",
    "        if epoch%params[\"sample_epochs\"] == 0:\n",
    "            sample_index = torch.randint(high=train_label_index.shape[1], size=(round(params[\"sample_ratio\"]*train_label_index.shape[1]),))\n",
    "            positive_sample = train_label_index[:,sample_index]\n",
    "\n",
    "            # positive_sample = train_label_index\n",
    "            new_train_label_index, new_train_label = negative_sampler.get_labeled_tensors(positive_sample,\"corrupt_both\")\n",
    "            train_set[\"gene_protein\",\"gda\",\"disease\"][\"edge_label_index\"] = new_train_label_index\n",
    "            train_set[\"gene_protein\",\"gda\",\"disease\"][\"edge_label\"] = new_train_label\n",
    "\n",
    "        train_loss = colab_utils.train(model, optimizer, train_set)\n",
    "        val_loss = colab_utils.get_val_loss(model, val_set)\n",
    "\n",
    "        train_score = colab_utils.test(model, train_set)\n",
    "        val_score = colab_utils.test(model, val_set)\n",
    "\n",
    "        train_losses.append(train_loss)\n",
    "        train_scores.append(train_score)\n",
    "\n",
    "        val_scores.append(val_score)\n",
    "        val_losses.append(val_loss)\n",
    "\n",
    "        if early_stopper.early_stop(val_loss):\n",
    "            print(\"Early stopping\")\n",
    "            break\n",
    "\n",
    "    val_auc = colab_utils.test(model, val_set)\n",
    "    curve_data = [train_losses, val_losses, train_scores, val_scores]\n",
    "\n",
    "    return val_auc, model, curve_data"
   ]
  },
  {
   "attachments": {},
   "cell_type": "markdown",
   "metadata": {},
   "source": [
    "## Run a grid of experiments"
   ]
  },
  {
   "cell_type": "code",
   "execution_count": 59,
   "metadata": {},
   "outputs": [],
   "source": [
    "from sklearn.model_selection import ParameterGrid\n",
    "def perform_hyperparameter_search(param_grid, train_set, val_set,negative_sampler):\n",
    "  \n",
    "  default = {\n",
    "      \"hidden_channels\":[32],\n",
    "      \"conv_type\":[\"SAGEConv\"],\n",
    "      \"batch_norm\": [True],\n",
    "      \"dropout\":[0.1],\n",
    "      \"micro_aggregation\":[\"mean\"],\n",
    "      \"macro_aggregation\":[\"mean\"],\n",
    "      \"layer_connectivity\":[None],\n",
    "      \"L2_norm\":[False],\n",
    "      \"pre_process_layers\":[0],\n",
    "      \"msg_passing_layers\":[2],\n",
    "      \"post_process_layers\":[0],\n",
    "      \"normalize_output\":[False],\n",
    "      \"jumping_knowledge\":[False],\n",
    "\n",
    "      \"feature_dim\":[10],\n",
    "      \"feature_type\":[\"random\"],\n",
    "      \"supervision_types\":[[('gene_protein', 'gda', 'disease')]],\n",
    "\n",
    "      'weight_decay': [1e-3],\n",
    "      'lr': [0.001],\n",
    "      'epochs':[400],\n",
    "      \"patience\":[10],\n",
    "      \"delta\":[0.1]\n",
    "  }\n",
    "\n",
    "  for arg in default:\n",
    "    if arg not in param_grid:\n",
    "      param_grid[arg] = default[arg]\n",
    "\n",
    "  grid = ParameterGrid(param_grid)\n",
    "\n",
    "  auc_results = []\n",
    "  models = []\n",
    "\n",
    "  for eid,params in enumerate(grid):\n",
    "    # Launch a training experiment using the current set of parameters\n",
    "    val_auc,current_model,curve_data = run_experiment(\n",
    "                   params,\n",
    "                   train_set,\n",
    "                   val_set,\n",
    "                   negative_sampler)\n",
    "    \n",
    "    params[\"auc\"] = val_auc\n",
    "    params[\"curve_data\"] = curve_data\n",
    "\n",
    "    auc_results.append(params)\n",
    "    models.append(current_model)\n",
    "\n",
    "    print(f\"Validation AUC: {round(val_auc,2)}. Iteration: {eid+1} of {grid.__len__()}\")\n",
    "\n",
    "  return auc_results, models"
   ]
  },
  {
   "cell_type": "code",
   "execution_count": 60,
   "metadata": {},
   "outputs": [
    {
     "name": "stderr",
     "output_type": "stream",
     "text": [
      "/home/ingrid/Documents/tesis/gcnn_gdas/venv/lib/python3.10/site-packages/torch/nn/modules/lazy.py:180: UserWarning: Lazy modules are a new feature under heavy development so changes to the API or functionality can happen at any moment.\n",
      "  warnings.warn('Lazy modules are a new feature under heavy development '\n",
      "100%|██████████| 400/400 [03:46<00:00,  1.76it/s]"
     ]
    },
    {
     "name": "stdout",
     "output_type": "stream",
     "text": [
      "Validation AUC: 0.82. Iteration: 1 of 1\n"
     ]
    },
    {
     "name": "stderr",
     "output_type": "stream",
     "text": [
      "\n"
     ]
    }
   ],
   "source": [
    "test_grid = {\n",
    "    \"hidden_channels\": [32],\n",
    "    \"conv_type\": [\"SAGEConv\"],\n",
    "    \"batch_norm\": [True],\n",
    "    \"dropout\": [0.1],\n",
    "    \"micro_aggregation\": [\"mean\"],\n",
    "    \"macro_aggregation\": [\"max\"],\n",
    "    \"layer_connectivity\": [None],\n",
    "    \"L2_norm\": [True],\n",
    "    \"pre_process_layers\": [1],\n",
    "    \"msg_passing_layers\": [4],\n",
    "    \"post_process_layers\": [1],\n",
    "    \"normalize_output\": [False],\n",
    "    \"jumping_knowledge\": [True],\n",
    "    \"heads\": [2],\n",
    "\n",
    "    \"feature_dim\": [10],\n",
    "    \"feature_type\": [\"lsa\"],\n",
    "    \"supervision_types\": [[('gene_protein', 'gda', 'disease')]],\n",
    "\n",
    "    'weight_decay': [1e-3],\n",
    "    'lr': [0.001],\n",
    "    'epochs': [400],\n",
    "    \"patience\": [10],\n",
    "    \"delta\": [0.1],\n",
    "    \n",
    "    \"sample_epochs\":[10],\n",
    "    \"sample_ratio\":[0.8]\n",
    "}\n",
    "\n",
    "negative_sampler = colab_utils.NegativeSampler(full_set,(\"gene_protein\",\"gda\",\"disease\"),full_set[\"gene_protein\"][\"degree_gda\"],full_set[\"disease\"][\"degree_gda\"])\n",
    "auc, models = perform_hyperparameter_search(test_grid,original_train_data,original_val_data,negative_sampler)"
   ]
  },
  {
   "attachments": {},
   "cell_type": "markdown",
   "metadata": {},
   "source": [
    "# Pruebas que hice y quedaron, acomodar/sacar"
   ]
  },
  {
   "attachments": {},
   "cell_type": "markdown",
   "metadata": {},
   "source": [
    "Esto fue 4 capas pero sin el resampleo :o"
   ]
  },
  {
   "cell_type": "code",
   "execution_count": 22,
   "metadata": {},
   "outputs": [
    {
     "data": {
      "text/html": [
       "<div>\n",
       "<style scoped>\n",
       "    .dataframe tbody tr th:only-of-type {\n",
       "        vertical-align: middle;\n",
       "    }\n",
       "\n",
       "    .dataframe tbody tr th {\n",
       "        vertical-align: top;\n",
       "    }\n",
       "\n",
       "    .dataframe thead th {\n",
       "        text-align: right;\n",
       "    }\n",
       "</style>\n",
       "<table border=\"1\" class=\"dataframe\">\n",
       "  <thead>\n",
       "    <tr style=\"text-align: right;\">\n",
       "      <th></th>\n",
       "      <th>macro_aggregation</th>\n",
       "      <th>micro_aggregation</th>\n",
       "      <th>msg_passing_layers</th>\n",
       "      <th>post_process_layers</th>\n",
       "      <th>pre_process_layers</th>\n",
       "      <th>auc</th>\n",
       "    </tr>\n",
       "  </thead>\n",
       "  <tbody>\n",
       "    <tr>\n",
       "      <th>0</th>\n",
       "      <td>max</td>\n",
       "      <td>mean</td>\n",
       "      <td>4</td>\n",
       "      <td>1</td>\n",
       "      <td>1</td>\n",
       "      <td>0.6</td>\n",
       "    </tr>\n",
       "  </tbody>\n",
       "</table>\n",
       "</div>"
      ],
      "text/plain": [
       "  macro_aggregation micro_aggregation  msg_passing_layers  \\\n",
       "0               max              mean                   4   \n",
       "\n",
       "   post_process_layers  pre_process_layers  auc  \n",
       "0                    1                   1  0.6  "
      ]
     },
     "execution_count": 22,
     "metadata": {},
     "output_type": "execute_result"
    }
   ],
   "source": [
    "aver = pd.DataFrame(auc)\n",
    "aver.sort_values(by=\"auc\",ascending=False)[['macro_aggregation',\n",
    "       'micro_aggregation', 'msg_passing_layers', \"post_process_layers\",\"pre_process_layers\",\"auc\"]]"
   ]
  },
  {
   "cell_type": "code",
   "execution_count": 7,
   "metadata": {},
   "outputs": [
    {
     "data": {
      "text/html": [
       "<div>\n",
       "<style scoped>\n",
       "    .dataframe tbody tr th:only-of-type {\n",
       "        vertical-align: middle;\n",
       "    }\n",
       "\n",
       "    .dataframe tbody tr th {\n",
       "        vertical-align: top;\n",
       "    }\n",
       "\n",
       "    .dataframe thead th {\n",
       "        text-align: right;\n",
       "    }\n",
       "</style>\n",
       "<table border=\"1\" class=\"dataframe\">\n",
       "  <thead>\n",
       "    <tr style=\"text-align: right;\">\n",
       "      <th></th>\n",
       "      <th>macro_aggregation</th>\n",
       "      <th>micro_aggregation</th>\n",
       "      <th>msg_passing_layers</th>\n",
       "      <th>post_process_layers</th>\n",
       "      <th>pre_process_layers</th>\n",
       "      <th>auc</th>\n",
       "    </tr>\n",
       "  </thead>\n",
       "  <tbody>\n",
       "    <tr>\n",
       "      <th>0</th>\n",
       "      <td>sum</td>\n",
       "      <td>mean</td>\n",
       "      <td>4</td>\n",
       "      <td>1</td>\n",
       "      <td>1</td>\n",
       "      <td>0.819</td>\n",
       "    </tr>\n",
       "  </tbody>\n",
       "</table>\n",
       "</div>"
      ],
      "text/plain": [
       "  macro_aggregation micro_aggregation  msg_passing_layers  \\\n",
       "0               sum              mean                   4   \n",
       "\n",
       "   post_process_layers  pre_process_layers    auc  \n",
       "0                    1                   1  0.819  "
      ]
     },
     "execution_count": 7,
     "metadata": {},
     "output_type": "execute_result"
    }
   ],
   "source": [
    "aver = pd.DataFrame(auc)\n",
    "aver.sort_values(by=\"auc\",ascending=False)[['macro_aggregation',\n",
    "       'micro_aggregation', 'msg_passing_layers', \"post_process_layers\",\"pre_process_layers\",\"auc\"]]"
   ]
  },
  {
   "attachments": {},
   "cell_type": "markdown",
   "metadata": {},
   "source": [
    "Esto 4 capas con JK sin la capa de pre process"
   ]
  },
  {
   "cell_type": "code",
   "execution_count": 17,
   "metadata": {},
   "outputs": [
    {
     "data": {
      "text/html": [
       "<div>\n",
       "<style scoped>\n",
       "    .dataframe tbody tr th:only-of-type {\n",
       "        vertical-align: middle;\n",
       "    }\n",
       "\n",
       "    .dataframe tbody tr th {\n",
       "        vertical-align: top;\n",
       "    }\n",
       "\n",
       "    .dataframe thead th {\n",
       "        text-align: right;\n",
       "    }\n",
       "</style>\n",
       "<table border=\"1\" class=\"dataframe\">\n",
       "  <thead>\n",
       "    <tr style=\"text-align: right;\">\n",
       "      <th></th>\n",
       "      <th>macro_aggregation</th>\n",
       "      <th>micro_aggregation</th>\n",
       "      <th>msg_passing_layers</th>\n",
       "      <th>post_process_layers</th>\n",
       "      <th>pre_process_layers</th>\n",
       "      <th>auc</th>\n",
       "    </tr>\n",
       "  </thead>\n",
       "  <tbody>\n",
       "    <tr>\n",
       "      <th>0</th>\n",
       "      <td>sum</td>\n",
       "      <td>mean</td>\n",
       "      <td>4</td>\n",
       "      <td>1</td>\n",
       "      <td>0</td>\n",
       "      <td>0.669</td>\n",
       "    </tr>\n",
       "  </tbody>\n",
       "</table>\n",
       "</div>"
      ],
      "text/plain": [
       "  macro_aggregation micro_aggregation  msg_passing_layers  \\\n",
       "0               sum              mean                   4   \n",
       "\n",
       "   post_process_layers  pre_process_layers    auc  \n",
       "0                    1                   0  0.669  "
      ]
     },
     "execution_count": 17,
     "metadata": {},
     "output_type": "execute_result"
    }
   ],
   "source": [
    "aver = pd.DataFrame(auc)\n",
    "aver.sort_values(by=\"auc\",ascending=False)[['macro_aggregation',\n",
    "       'micro_aggregation', 'msg_passing_layers', \"post_process_layers\",\"pre_process_layers\",\"auc\"]]"
   ]
  },
  {
   "attachments": {},
   "cell_type": "markdown",
   "metadata": {},
   "source": [
    "Esto fue 4 capas con JK, sin skipsum"
   ]
  },
  {
   "cell_type": "code",
   "execution_count": 15,
   "metadata": {},
   "outputs": [
    {
     "data": {
      "text/html": [
       "<div>\n",
       "<style scoped>\n",
       "    .dataframe tbody tr th:only-of-type {\n",
       "        vertical-align: middle;\n",
       "    }\n",
       "\n",
       "    .dataframe tbody tr th {\n",
       "        vertical-align: top;\n",
       "    }\n",
       "\n",
       "    .dataframe thead th {\n",
       "        text-align: right;\n",
       "    }\n",
       "</style>\n",
       "<table border=\"1\" class=\"dataframe\">\n",
       "  <thead>\n",
       "    <tr style=\"text-align: right;\">\n",
       "      <th></th>\n",
       "      <th>macro_aggregation</th>\n",
       "      <th>micro_aggregation</th>\n",
       "      <th>msg_passing_layers</th>\n",
       "      <th>post_process_layers</th>\n",
       "      <th>pre_process_layers</th>\n",
       "      <th>auc</th>\n",
       "    </tr>\n",
       "  </thead>\n",
       "  <tbody>\n",
       "    <tr>\n",
       "      <th>0</th>\n",
       "      <td>sum</td>\n",
       "      <td>mean</td>\n",
       "      <td>4</td>\n",
       "      <td>1</td>\n",
       "      <td>1</td>\n",
       "      <td>0.826</td>\n",
       "    </tr>\n",
       "  </tbody>\n",
       "</table>\n",
       "</div>"
      ],
      "text/plain": [
       "  macro_aggregation micro_aggregation  msg_passing_layers  \\\n",
       "0               sum              mean                   4   \n",
       "\n",
       "   post_process_layers  pre_process_layers    auc  \n",
       "0                    1                   1  0.826  "
      ]
     },
     "execution_count": 15,
     "metadata": {},
     "output_type": "execute_result"
    }
   ],
   "source": [
    "aver = pd.DataFrame(auc)\n",
    "aver.sort_values(by=\"auc\",ascending=False)[['macro_aggregation',\n",
    "       'micro_aggregation', 'msg_passing_layers', \"post_process_layers\",\"pre_process_layers\",\"auc\"]]"
   ]
  },
  {
   "cell_type": "code",
   "execution_count": 13,
   "metadata": {},
   "outputs": [
    {
     "data": {
      "text/html": [
       "<div>\n",
       "<style scoped>\n",
       "    .dataframe tbody tr th:only-of-type {\n",
       "        vertical-align: middle;\n",
       "    }\n",
       "\n",
       "    .dataframe tbody tr th {\n",
       "        vertical-align: top;\n",
       "    }\n",
       "\n",
       "    .dataframe thead th {\n",
       "        text-align: right;\n",
       "    }\n",
       "</style>\n",
       "<table border=\"1\" class=\"dataframe\">\n",
       "  <thead>\n",
       "    <tr style=\"text-align: right;\">\n",
       "      <th></th>\n",
       "      <th>macro_aggregation</th>\n",
       "      <th>micro_aggregation</th>\n",
       "      <th>msg_passing_layers</th>\n",
       "      <th>post_process_layers</th>\n",
       "      <th>pre_process_layers</th>\n",
       "      <th>auc</th>\n",
       "    </tr>\n",
       "  </thead>\n",
       "  <tbody>\n",
       "    <tr>\n",
       "      <th>0</th>\n",
       "      <td>sum</td>\n",
       "      <td>mean</td>\n",
       "      <td>4</td>\n",
       "      <td>1</td>\n",
       "      <td>1</td>\n",
       "      <td>0.817</td>\n",
       "    </tr>\n",
       "  </tbody>\n",
       "</table>\n",
       "</div>"
      ],
      "text/plain": [
       "  macro_aggregation micro_aggregation  msg_passing_layers  \\\n",
       "0               sum              mean                   4   \n",
       "\n",
       "   post_process_layers  pre_process_layers    auc  \n",
       "0                    1                   1  0.817  "
      ]
     },
     "execution_count": 13,
     "metadata": {},
     "output_type": "execute_result"
    }
   ],
   "source": [
    "aver = pd.DataFrame(auc)\n",
    "aver.sort_values(by=\"auc\",ascending=False)[['macro_aggregation',\n",
    "       'micro_aggregation', 'msg_passing_layers', \"post_process_layers\",\"pre_process_layers\",\"auc\"]]"
   ]
  },
  {
   "cell_type": "code",
   "execution_count": 11,
   "metadata": {},
   "outputs": [
    {
     "data": {
      "text/html": [
       "<div>\n",
       "<style scoped>\n",
       "    .dataframe tbody tr th:only-of-type {\n",
       "        vertical-align: middle;\n",
       "    }\n",
       "\n",
       "    .dataframe tbody tr th {\n",
       "        vertical-align: top;\n",
       "    }\n",
       "\n",
       "    .dataframe thead th {\n",
       "        text-align: right;\n",
       "    }\n",
       "</style>\n",
       "<table border=\"1\" class=\"dataframe\">\n",
       "  <thead>\n",
       "    <tr style=\"text-align: right;\">\n",
       "      <th></th>\n",
       "      <th>macro_aggregation</th>\n",
       "      <th>micro_aggregation</th>\n",
       "      <th>msg_passing_layers</th>\n",
       "      <th>post_process_layers</th>\n",
       "      <th>pre_process_layers</th>\n",
       "      <th>auc</th>\n",
       "    </tr>\n",
       "  </thead>\n",
       "  <tbody>\n",
       "    <tr>\n",
       "      <th>0</th>\n",
       "      <td>sum</td>\n",
       "      <td>mean</td>\n",
       "      <td>4</td>\n",
       "      <td>1</td>\n",
       "      <td>1</td>\n",
       "      <td>0.795</td>\n",
       "    </tr>\n",
       "  </tbody>\n",
       "</table>\n",
       "</div>"
      ],
      "text/plain": [
       "  macro_aggregation micro_aggregation  msg_passing_layers  \\\n",
       "0               sum              mean                   4   \n",
       "\n",
       "   post_process_layers  pre_process_layers    auc  \n",
       "0                    1                   1  0.795  "
      ]
     },
     "execution_count": 11,
     "metadata": {},
     "output_type": "execute_result"
    }
   ],
   "source": [
    "aver = pd.DataFrame(auc)\n",
    "aver.sort_values(by=\"auc\",ascending=False)[['macro_aggregation',\n",
    "       'micro_aggregation', 'msg_passing_layers', \"post_process_layers\",\"pre_process_layers\",\"auc\"]]"
   ]
  },
  {
   "cell_type": "code",
   "execution_count": 9,
   "metadata": {},
   "outputs": [
    {
     "data": {
      "text/html": [
       "<div>\n",
       "<style scoped>\n",
       "    .dataframe tbody tr th:only-of-type {\n",
       "        vertical-align: middle;\n",
       "    }\n",
       "\n",
       "    .dataframe tbody tr th {\n",
       "        vertical-align: top;\n",
       "    }\n",
       "\n",
       "    .dataframe thead th {\n",
       "        text-align: right;\n",
       "    }\n",
       "</style>\n",
       "<table border=\"1\" class=\"dataframe\">\n",
       "  <thead>\n",
       "    <tr style=\"text-align: right;\">\n",
       "      <th></th>\n",
       "      <th>macro_aggregation</th>\n",
       "      <th>micro_aggregation</th>\n",
       "      <th>msg_passing_layers</th>\n",
       "      <th>post_process_layers</th>\n",
       "      <th>pre_process_layers</th>\n",
       "      <th>auc</th>\n",
       "    </tr>\n",
       "  </thead>\n",
       "  <tbody>\n",
       "    <tr>\n",
       "      <th>0</th>\n",
       "      <td>sum</td>\n",
       "      <td>mean</td>\n",
       "      <td>2</td>\n",
       "      <td>1</td>\n",
       "      <td>1</td>\n",
       "      <td>0.788</td>\n",
       "    </tr>\n",
       "  </tbody>\n",
       "</table>\n",
       "</div>"
      ],
      "text/plain": [
       "  macro_aggregation micro_aggregation  msg_passing_layers  \\\n",
       "0               sum              mean                   2   \n",
       "\n",
       "   post_process_layers  pre_process_layers    auc  \n",
       "0                    1                   1  0.788  "
      ]
     },
     "execution_count": 9,
     "metadata": {},
     "output_type": "execute_result"
    }
   ],
   "source": [
    "aver = pd.DataFrame(auc)\n",
    "aver.sort_values(by=\"auc\",ascending=False)[['macro_aggregation',\n",
    "       'micro_aggregation', 'msg_passing_layers', \"post_process_layers\",\"pre_process_layers\",\"auc\"]]"
   ]
  },
  {
   "cell_type": "code",
   "execution_count": 7,
   "metadata": {},
   "outputs": [
    {
     "data": {
      "text/html": [
       "<div>\n",
       "<style scoped>\n",
       "    .dataframe tbody tr th:only-of-type {\n",
       "        vertical-align: middle;\n",
       "    }\n",
       "\n",
       "    .dataframe tbody tr th {\n",
       "        vertical-align: top;\n",
       "    }\n",
       "\n",
       "    .dataframe thead th {\n",
       "        text-align: right;\n",
       "    }\n",
       "</style>\n",
       "<table border=\"1\" class=\"dataframe\">\n",
       "  <thead>\n",
       "    <tr style=\"text-align: right;\">\n",
       "      <th></th>\n",
       "      <th>macro_aggregation</th>\n",
       "      <th>micro_aggregation</th>\n",
       "      <th>msg_passing_layers</th>\n",
       "      <th>post_process_layers</th>\n",
       "      <th>pre_process_layers</th>\n",
       "      <th>auc</th>\n",
       "    </tr>\n",
       "  </thead>\n",
       "  <tbody>\n",
       "    <tr>\n",
       "      <th>0</th>\n",
       "      <td>sum</td>\n",
       "      <td>mean</td>\n",
       "      <td>2</td>\n",
       "      <td>1</td>\n",
       "      <td>1</td>\n",
       "      <td>0.794</td>\n",
       "    </tr>\n",
       "  </tbody>\n",
       "</table>\n",
       "</div>"
      ],
      "text/plain": [
       "  macro_aggregation micro_aggregation  msg_passing_layers  \\\n",
       "0               sum              mean                   2   \n",
       "\n",
       "   post_process_layers  pre_process_layers    auc  \n",
       "0                    1                   1  0.794  "
      ]
     },
     "execution_count": 7,
     "metadata": {},
     "output_type": "execute_result"
    }
   ],
   "source": [
    "aver = pd.DataFrame(auc)\n",
    "aver.sort_values(by=\"auc\",ascending=False)[['macro_aggregation',\n",
    "       'micro_aggregation', 'msg_passing_layers', \"post_process_layers\",\"pre_process_layers\",\"auc\"]]"
   ]
  },
  {
   "cell_type": "code",
   "execution_count": 8,
   "metadata": {},
   "outputs": [
    {
     "data": {
      "text/html": [
       "<div>\n",
       "<style scoped>\n",
       "    .dataframe tbody tr th:only-of-type {\n",
       "        vertical-align: middle;\n",
       "    }\n",
       "\n",
       "    .dataframe tbody tr th {\n",
       "        vertical-align: top;\n",
       "    }\n",
       "\n",
       "    .dataframe thead th {\n",
       "        text-align: right;\n",
       "    }\n",
       "</style>\n",
       "<table border=\"1\" class=\"dataframe\">\n",
       "  <thead>\n",
       "    <tr style=\"text-align: right;\">\n",
       "      <th></th>\n",
       "      <th>macro_aggregation</th>\n",
       "      <th>micro_aggregation</th>\n",
       "      <th>msg_passing_layers</th>\n",
       "      <th>post_process_layers</th>\n",
       "      <th>pre_process_layers</th>\n",
       "      <th>auc</th>\n",
       "    </tr>\n",
       "  </thead>\n",
       "  <tbody>\n",
       "    <tr>\n",
       "      <th>0</th>\n",
       "      <td>sum</td>\n",
       "      <td>mean</td>\n",
       "      <td>2</td>\n",
       "      <td>1</td>\n",
       "      <td>1</td>\n",
       "      <td>0.794</td>\n",
       "    </tr>\n",
       "  </tbody>\n",
       "</table>\n",
       "</div>"
      ],
      "text/plain": [
       "  macro_aggregation micro_aggregation  msg_passing_layers  \\\n",
       "0               sum              mean                   2   \n",
       "\n",
       "   post_process_layers  pre_process_layers    auc  \n",
       "0                    1                   1  0.794  "
      ]
     },
     "execution_count": 8,
     "metadata": {},
     "output_type": "execute_result"
    }
   ],
   "source": [
    "aver = pd.DataFrame(auc)\n",
    "aver.sort_values(by=\"auc\",ascending=False)[['macro_aggregation',\n",
    "       'micro_aggregation', 'msg_passing_layers', \"post_process_layers\",\"pre_process_layers\",\"auc\"]]"
   ]
  },
  {
   "attachments": {},
   "cell_type": "markdown",
   "metadata": {},
   "source": [
    "## Run multiple grids of experiments"
   ]
  },
  {
   "cell_type": "code",
   "execution_count": 6,
   "metadata": {},
   "outputs": [],
   "source": [
    "def run_multiple_grids(grid_list,train_data,val_data):\n",
    "    all_results = []\n",
    "    all_models = []\n",
    "\n",
    "    date = datetime.datetime.now()\n",
    "    fdate = date.strftime(\"%d_%m_%y__%H_%M_%S\")\n",
    "    df_name = experiments_folder+\"experiment_\"+fdate+\".parquet\"\n",
    "\n",
    "    for i,grid in enumerate(grid_list):\n",
    "        print(f\"Experiment grid {i+1} of {len(grid_list)}\")\n",
    "        experiment_results, models = perform_hyperparameter_search(grid, train_data,val_data)\n",
    "        results_df = pd.DataFrame(experiment_results)\n",
    "\n",
    "        all_results.append(results_df)\n",
    "        all_models.append(models)\n",
    "\n",
    "        current_results = pd.concat(all_results).reset_index(drop=True)\n",
    "        current_models =  list(itertools.chain(*all_models))\n",
    "\n",
    "        print(f\"Saving results from grid {i+1} ...\")\n",
    "        current_results.to_parquet(df_name)\n",
    "        for i, model in enumerate(current_models):\n",
    "            model_name = f\"model_{i}\"\n",
    "            # colab_utils.save_model(model,experiments_folder,model_name)\n",
    "            fname = f\"{model_name}_{fdate}\"\n",
    "            torch.save(model.state_dict(), f\"{experiments_folder}{fname}.pth\")"
   ]
  },
  {
   "cell_type": "code",
   "execution_count": 75,
   "metadata": {},
   "outputs": [],
   "source": [
    "default_grid = {\n",
    "    \"hidden_channels\": [32],\n",
    "    \"conv_type\": [\"SAGEConv\"],\n",
    "    \"batch_norm\": [True],\n",
    "    \"dropout\": [0.1],\n",
    "    \"micro_aggregation\": [\"sum\"],\n",
    "    \"macro_aggregation\": [\"sum\"],\n",
    "    \"layer_connectivity\": [None],\n",
    "    \"L2_norm\": [True],\n",
    "    \"pre_process_layers\": [0],\n",
    "    \"msg_passing_layers\": [2],\n",
    "    \"post_process_layers\": [1],\n",
    "    \"normalize_output\": [False],\n",
    "    \"jumping_knowledge\": [False],\n",
    "    \"heads\": [2],\n",
    "\n",
    "    \"feature_dim\": [10],\n",
    "    \"feature_type\": [\"ones\"],\n",
    "    \"supervision_types\": [[('gene_protein', 'gda', 'disease')]],\n",
    "\n",
    "    'weight_decay': [1e-3],\n",
    "    'lr': [0.001],\n",
    "    'epochs': [400],\n",
    "    \"patience\": [10],\n",
    "    \"delta\": [0.1],\n",
    "\n",
    "    \"experiment_name\": [\"default_experiment\"]\n",
    "}\n",
    "\n",
    "grid_list = []\n",
    "\n",
    "grid_1 = {\"experiment_name\": [\"sage_aggr_type\"],\n",
    "          \"micro_aggregation\": [\"sum\", \"mean\", \"max\"],\n",
    "          \"macro_aggregation\": [\"sum\", \"mean\", \"max\"],\n",
    "          \"feature_type\": [\"random\", \"ones\"]\n",
    "          }\n",
    "grid_list.append(default_grid|grid_1)\n",
    "\n",
    "grid_2 = {\"experiment_name\": [\"GAT_aggr_type\"],\n",
    "          \"micro_aggregation\": [\"sum\", \"mean\", \"max\"],\n",
    "          \"macro_aggregation\": [\"sum\", \"mean\", \"max\"],\n",
    "          \"feature_type\": [\"random\", \"ones\"]}\n",
    "grid_list.append(default_grid|grid_2)\n",
    "\n",
    "grid_3 = {\"experiment_name\": [\"channels_vs_feature\"],\n",
    "          \"hidden_channels\":[32,64,128],\n",
    "          \"feature_dim\":[10,50,100],\n",
    "          \"feature_type\":[\"ones\",\"random\"]}\n",
    "grid_list.append(default_grid|grid_3)\n",
    "\n",
    "grid_4 = {\"experiment_name\":[\"layers_connectivity\"],\n",
    "          \"layer_connectivity\":[None,\"skipsum\"],\n",
    "          \"msg_passing_layers\":[2,3,4,5],\n",
    "          \"jumping_knowledge\":[False,True],\n",
    "          }\n",
    "grid_list.append(default_grid|grid_4)\n",
    "\n",
    "\n",
    "grid_5 = {\"experiment_name\":[\"normalization\"],\n",
    "          \"L2_norm\":[True,False],\n",
    "          \"normalize_output\":[True,False],\n",
    "          \"conv_type\":[\"SAGEConv\",\"GATConv\"]\n",
    "          }\n",
    "grid_list.append(default_grid|grid_5)\n",
    "\n",
    "grid_6 = {\"experiment_name\":[\"pre_post_process\"],\n",
    "          \"pre_process_layers\":[0,1,2],\n",
    "          \"post_process_layers\":[0,1,2],\n",
    "          \"normalize_output\":[True,False],\n",
    "          \"feature_type\":[\"ones\",\"random\"]}\n",
    "grid_list.append(default_grid|grid_6)\n",
    "\n",
    "grid_7 = {\"experiment_name\":[\"regularization\"],\n",
    "          \"batch_norm\":[True,False],\n",
    "          \"dropout\":[0,0.1,0.01],\n",
    "          \"conv_type\":[\"SAGEConv\",\"GATConv\"]\n",
    "          }\n",
    "\n",
    "num_experiments = sum(\n",
    "    [np.prod([len(val) for val in grid.values()]) for grid in grid_list])"
   ]
  },
  {
   "cell_type": "code",
   "execution_count": 69,
   "metadata": {},
   "outputs": [
    {
     "name": "stdout",
     "output_type": "stream",
     "text": [
      "Running 2 experiments ...\n",
      "Experiment grid 1 of 2\n",
      "Validation AUC: 0.9. Iteration: 1 of 1\n",
      "Saving results from grid 1 ...\n",
      "Experiment grid 2 of 2\n",
      "Validation AUC: 0.9. Iteration: 1 of 1\n",
      "Saving results from grid 2 ...\n"
     ]
    }
   ],
   "source": [
    "print(f\"Running {num_experiments} experiments ...\")\n",
    "run_multiple_grids(grid_list,original_train_data,original_val_data)"
   ]
  }
 ],
 "metadata": {
  "kernelspec": {
   "display_name": "venv",
   "language": "python",
   "name": "python3"
  },
  "language_info": {
   "codemirror_mode": {
    "name": "ipython",
    "version": 3
   },
   "file_extension": ".py",
   "mimetype": "text/x-python",
   "name": "python",
   "nbconvert_exporter": "python",
   "pygments_lexer": "ipython3",
   "version": "3.10.12"
  },
  "orig_nbformat": 4
 },
 "nbformat": 4,
 "nbformat_minor": 2
}
