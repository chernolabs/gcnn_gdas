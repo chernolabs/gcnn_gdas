{
 "cells": [
  {
   "attachments": {},
   "cell_type": "markdown",
   "metadata": {},
   "source": [
    "# Setup"
   ]
  },
  {
   "cell_type": "code",
   "execution_count": 2,
   "metadata": {},
   "outputs": [],
   "source": [
    "import pandas as pd\n",
    "import matplotlib.pyplot as plt\n",
    "import numpy as np\n",
    "import copy\n",
    "import plotly.express as px\n",
    "import torch\n",
    "from torch_geometric import seed_everything\n",
    "\n",
    "import sys\n",
    "sys.path.append(\"../../..\")\n",
    "from src.models.training_utils import NegativeSampler, load_data\n",
    "\n",
    "data_folder = \"../../../data/processed/graph_data_nohubs/merged_types/\"\n",
    "experiments_folder = \"../../../data/experiments/design_space_merged_experiment/seed_0/\"\n",
    "\n",
    "seed = 4\n",
    "seed_everything(seed)"
   ]
  },
  {
   "attachments": {},
   "cell_type": "markdown",
   "metadata": {},
   "source": [
    "# Load data"
   ]
  },
  {
   "cell_type": "code",
   "execution_count": 3,
   "metadata": {},
   "outputs": [],
   "source": [
    "# node_csv = pd.read_csv(data_folder+\"merged_nodes.csv\", index_col=\"node_index\")\n",
    "# node_info = pd.read_csv(data_folder+\"merged_node_info.csv\",index_col=0)\n",
    "# edge_data = pd.read_csv(data_folder+\"merged_edges.csv\")\n",
    "\n",
    "datasets, node_map = load_data(data_folder+f\"split_dataset/seed_{seed}/\")\n",
    "train_data,val_data = datasets\n",
    "\n",
    "full_dataset = torch.load(data_folder+f\"split_dataset/seed_{seed}/full_dataset.pt\")\n",
    "tensor_df = pd.read_csv(data_folder+f\"split_dataset/seed_{seed}/tensor_df.csv\",index_col=0)"
   ]
  },
  {
   "cell_type": "code",
   "execution_count": 4,
   "metadata": {},
   "outputs": [],
   "source": [
    "src_degrees = tensor_df[tensor_df.node_type == \"gene_protein\"][\"degree_gda\"].values\n",
    "dst_degrees = tensor_df[tensor_df.node_type == \"disease\"][\"degree_gda\"].values\n",
    "pred_edge_type = (\"gene_protein\",\"gda\",\"disease\")\n",
    "\n",
    "negative_sampler = NegativeSampler(full_dataset,pred_edge_type,src_degrees,dst_degrees)"
   ]
  },
  {
   "attachments": {},
   "cell_type": "markdown",
   "metadata": {},
   "source": [
    "# Neighborhood sampling"
   ]
  },
  {
   "attachments": {},
   "cell_type": "markdown",
   "metadata": {},
   "source": [
    "Tengo que ver si me conviene pasarle primero el neighborhood loader o el negative sampler.\n",
    "Si primero sampleo negativos y después hago NL, me va a romper la distribución deg 0.75 que armé\n",
    "En cambio si primero sampleo y después genero negativos a partir de esa muestra positiva, voy a conservar la distribución.\n",
    "\n",
    "Después esta el HGsampler (o algo asi) que no entendí del todo bien que hace, pero sonaba bien?"
   ]
  },
  {
   "attachments": {},
   "cell_type": "markdown",
   "metadata": {},
   "source": [
    "Tome como num neighbors el tercer cuartil en la distribución de grado, para cada edge type consideré los enlaces correspondientes.\n",
    "\n",
    "Dado (src,edge_type,dst):\n",
    "Para cada tipo src y dst, tomo el tercer cuartil en la distribución de grado edge_type."
   ]
  },
  {
   "cell_type": "code",
   "execution_count": 5,
   "metadata": {},
   "outputs": [],
   "source": [
    "num_neighbors_per_type = {}\n",
    "deg_type = {\"pathway_protein\":\"degree_pp\",\"disease_disease\":\"degree_dd\",\"gda\":\"degree_gda\",\"ppi\":\"degree_pp\",\"form_complex\":\"degree_pp\"}\n",
    "for edge_type in train_data.edge_types:\n",
    "    dst_type = edge_type[2]\n",
    "    src_type = edge_type[0]\n",
    "    deg_column = deg_type[edge_type[1]]\n",
    "    num_src = tensor_df[(tensor_df.node_type == src_type) & (tensor_df[deg_column] != 0)][deg_column].describe()[\"75%\"].astype(int)\n",
    "    num_dst = tensor_df[(tensor_df.node_type == dst_type) & (tensor_df[deg_column] != 0)][deg_column].describe()[\"75%\"].astype(int)\n",
    "    num_neighbors_per_type[edge_type] = [num_src,num_dst]"
   ]
  },
  {
   "cell_type": "code",
   "execution_count": 6,
   "metadata": {},
   "outputs": [
    {
     "data": {
      "text/plain": [
       "{('disease', 'gda', 'gene_protein'): [4, 9],\n",
       " ('pathway', 'pathway_protein', 'gene_protein'): [24, 19],\n",
       " ('gene_protein', 'ppi', 'gene_protein'): [19, 19],\n",
       " ('gene_protein', 'gda', 'disease'): [9, 4],\n",
       " ('gene_protein', 'pathway_protein', 'pathway'): [19, 24],\n",
       " ('disease', 'disease_disease', 'disease'): [3, 3],\n",
       " ('gene_protein', 'form_complex', 'gene_protein'): [19, 19]}"
      ]
     },
     "execution_count": 6,
     "metadata": {},
     "output_type": "execute_result"
    }
   ],
   "source": [
    "num_neighbors_per_type"
   ]
  },
  {
   "cell_type": "code",
   "execution_count": 7,
   "metadata": {},
   "outputs": [],
   "source": [
    "from torch_geometric.loader import LinkNeighborLoader\n",
    "\n",
    "train_loader = LinkNeighborLoader(\n",
    "    data=train_data,\n",
    "    num_neighbors=num_neighbors_per_type,\n",
    "    edge_label_index=(pred_edge_type,train_data[pred_edge_type][\"edge_label_index\"]),\n",
    "    edge_label = train_data[pred_edge_type][\"edge_label\"],\n",
    "    replace=True,\n",
    "    batch_size=2048,\n",
    "    shuffle=True,\n",
    "    num_workers=8,\n",
    "    drop_last=True,\n",
    ")"
   ]
  },
  {
   "cell_type": "code",
   "execution_count": 8,
   "metadata": {},
   "outputs": [],
   "source": [
    "sampled_data = next(iter(train_loader))"
   ]
  },
  {
   "attachments": {},
   "cell_type": "markdown",
   "metadata": {},
   "source": [
    "Habría que ver que es e_id y todo eso ahora. Y como se lo paso al modelo."
   ]
  },
  {
   "cell_type": "code",
   "execution_count": 9,
   "metadata": {},
   "outputs": [
    {
     "data": {
      "text/plain": [
       "HeteroData(\n",
       "  \u001b[1mgene_protein\u001b[0m={\n",
       "    num_nodes=13288,\n",
       "    n_id=[13288]\n",
       "  },\n",
       "  \u001b[1mdisease\u001b[0m={\n",
       "    num_nodes=6306,\n",
       "    n_id=[6306]\n",
       "  },\n",
       "  \u001b[1mpathway\u001b[0m={\n",
       "    num_nodes=1734,\n",
       "    n_id=[1734]\n",
       "  },\n",
       "  \u001b[1m(disease, gda, gene_protein)\u001b[0m={\n",
       "    edge_index=[2, 38072],\n",
       "    adj_t=[13288, 6306, nnz=38072],\n",
       "    e_id=[38072]\n",
       "  },\n",
       "  \u001b[1m(pathway, pathway_protein, gene_protein)\u001b[0m={\n",
       "    edge_index=[2, 86524],\n",
       "    adj_t=[13288, 1734, nnz=86524],\n",
       "    e_id=[86524]\n",
       "  },\n",
       "  \u001b[1m(gene_protein, ppi, gene_protein)\u001b[0m={\n",
       "    edge_index=[2, 120004],\n",
       "    edge_label=[17608],\n",
       "    edge_label_index=[2, 17608],\n",
       "    adj_t=[13288, 13288, nnz=120004],\n",
       "    e_id=[120004]\n",
       "  },\n",
       "  \u001b[1m(gene_protein, gda, disease)\u001b[0m={\n",
       "    edge_index=[2, 14374],\n",
       "    edge_label=[2048],\n",
       "    edge_label_index=[2, 2048],\n",
       "    adj_t=[6306, 13288, nnz=14374],\n",
       "    e_id=[14374],\n",
       "    input_id=[2048]\n",
       "  },\n",
       "  \u001b[1m(gene_protein, pathway_protein, pathway)\u001b[0m={\n",
       "    edge_index=[2, 29784],\n",
       "    edge_label=[6823],\n",
       "    edge_label_index=[2, 6823],\n",
       "    adj_t=[1734, 13288, nnz=29784],\n",
       "    e_id=[29784]\n",
       "  },\n",
       "  \u001b[1m(disease, disease_disease, disease)\u001b[0m={\n",
       "    edge_index=[2, 5418],\n",
       "    edge_label=[2629],\n",
       "    edge_label_index=[2, 2629],\n",
       "    adj_t=[6306, 6306, nnz=5418],\n",
       "    e_id=[5418]\n",
       "  },\n",
       "  \u001b[1m(gene_protein, form_complex, gene_protein)\u001b[0m={\n",
       "    edge_index=[2, 14060],\n",
       "    edge_label=[301],\n",
       "    edge_label_index=[2, 301],\n",
       "    adj_t=[13288, 13288, nnz=14060],\n",
       "    e_id=[14060]\n",
       "  }\n",
       ")"
      ]
     },
     "execution_count": 9,
     "metadata": {},
     "output_type": "execute_result"
    }
   ],
   "source": [
    "sampled_data"
   ]
  }
 ],
 "metadata": {
  "kernelspec": {
   "display_name": "venv",
   "language": "python",
   "name": "python3"
  },
  "language_info": {
   "codemirror_mode": {
    "name": "ipython",
    "version": 3
   },
   "file_extension": ".py",
   "mimetype": "text/x-python",
   "name": "python",
   "nbconvert_exporter": "python",
   "pygments_lexer": "ipython3",
   "version": "3.10.6"
  },
  "orig_nbformat": 4
 },
 "nbformat": 4,
 "nbformat_minor": 2
}
